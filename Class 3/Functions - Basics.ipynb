{
 "cells": [
  {
   "cell_type": "markdown",
   "metadata": {
    "toc": true
   },
   "source": [
    "<h1>Table of Contents<span class=\"tocSkip\"></span></h1>\n",
    "<div class=\"toc\"><ul class=\"toc-item\"><li><span><a href=\"#Functions\" data-toc-modified-id=\"Functions-1\"><span class=\"toc-item-num\">1&nbsp;&nbsp;</span>Functions</a></span><ul class=\"toc-item\"><li><span><a href=\"#Built-in-functions\" data-toc-modified-id=\"Built-in-functions-1.1\"><span class=\"toc-item-num\">1.1&nbsp;&nbsp;</span>Built-in functions</a></span><ul class=\"toc-item\"><li><span><a href=\"#len,-sum,-max,-and-min\" data-toc-modified-id=\"len,-sum,-max,-and-min-1.1.1\"><span class=\"toc-item-num\">1.1.1&nbsp;&nbsp;</span><code>len</code>, <code>sum</code>, <code>max</code>, and <code>min</code></a></span></li><li><span><a href=\"#round\" data-toc-modified-id=\"round-1.1.2\"><span class=\"toc-item-num\">1.1.2&nbsp;&nbsp;</span><code>round</code></a></span></li><li><span><a href=\"#sorted\" data-toc-modified-id=\"sorted-1.1.3\"><span class=\"toc-item-num\">1.1.3&nbsp;&nbsp;</span><code>sorted</code></a></span></li></ul></li><li><span><a href=\"#Functions-from-Libraries\" data-toc-modified-id=\"Functions-from-Libraries-1.2\"><span class=\"toc-item-num\">1.2&nbsp;&nbsp;</span>Functions from Libraries</a></span><ul class=\"toc-item\"><li><span><a href=\"#math-functions\" data-toc-modified-id=\"math-functions-1.2.1\"><span class=\"toc-item-num\">1.2.1&nbsp;&nbsp;</span><code>math</code> functions</a></span></li><li><span><a href=\"#Exercise\" data-toc-modified-id=\"Exercise-1.2.2\"><span class=\"toc-item-num\">1.2.2&nbsp;&nbsp;</span>Exercise</a></span><ul class=\"toc-item\"><li><span><a href=\"#Solution\" data-toc-modified-id=\"Solution-1.2.2.1\"><span class=\"toc-item-num\">1.2.2.1&nbsp;&nbsp;</span>Solution</a></span></li></ul></li><li><span><a href=\"#random-functions\" data-toc-modified-id=\"random-functions-1.2.3\"><span class=\"toc-item-num\">1.2.3&nbsp;&nbsp;</span><code>random</code> functions</a></span></li><li><span><a href=\"#Exercise\" data-toc-modified-id=\"Exercise-1.2.4\"><span class=\"toc-item-num\">1.2.4&nbsp;&nbsp;</span>Exercise</a></span><ul class=\"toc-item\"><li><span><a href=\"#Solution\" data-toc-modified-id=\"Solution-1.2.4.1\"><span class=\"toc-item-num\">1.2.4.1&nbsp;&nbsp;</span>Solution</a></span></li></ul></li></ul></li></ul></li><li><span><a href=\"#User-Defined-Functions\" data-toc-modified-id=\"User-Defined-Functions-2\"><span class=\"toc-item-num\">2&nbsp;&nbsp;</span>User-Defined Functions</a></span><ul class=\"toc-item\"><li><span><a href=\"#Creating-User-Defined-Functions\" data-toc-modified-id=\"Creating-User-Defined-Functions-2.1\"><span class=\"toc-item-num\">2.1&nbsp;&nbsp;</span>Creating User Defined Functions</a></span></li><li><span><a href=\"#Example-1:-Square-a-number\" data-toc-modified-id=\"Example-1:-Square-a-number-2.2\"><span class=\"toc-item-num\">2.2&nbsp;&nbsp;</span>Example 1: Square a number</a></span></li><li><span><a href=\"#Example-2:-From-pounds-to-kilograms\" data-toc-modified-id=\"Example-2:-From-pounds-to-kilograms-2.3\"><span class=\"toc-item-num\">2.3&nbsp;&nbsp;</span>Example 2: From pounds to kilograms</a></span><ul class=\"toc-item\"><li><span><a href=\"#Attention:-Common-mistake,-print-instead-of-return\" data-toc-modified-id=\"Attention:-Common-mistake,-print-instead-of-return-2.3.1\"><span class=\"toc-item-num\">2.3.1&nbsp;&nbsp;</span>Attention: Common mistake, <code>print</code> instead of <code>return</code></a></span></li></ul></li><li><span><a href=\"#Example-3:-Meal-with-tip-and-tax\" data-toc-modified-id=\"Example-3:-Meal-with-tip-and-tax-2.4\"><span class=\"toc-item-num\">2.4&nbsp;&nbsp;</span>Example 3: Meal with tip and tax</a></span></li><li><span><a href=\"#Example-4:-Get-the-length-of-a-text-in-words\" data-toc-modified-id=\"Example-4:-Get-the-length-of-a-text-in-words-2.5\"><span class=\"toc-item-num\">2.5&nbsp;&nbsp;</span>Example 4: Get the length of a text in words</a></span></li><li><span><a href=\"#Exercise-1:-Check-if-a-number-is-within-a-range\" data-toc-modified-id=\"Exercise-1:-Check-if-a-number-is-within-a-range-2.6\"><span class=\"toc-item-num\">2.6&nbsp;&nbsp;</span>Exercise 1: Check if a number is within a range</a></span><ul class=\"toc-item\"><li><span><a href=\"#Solution\" data-toc-modified-id=\"Solution-2.6.1\"><span class=\"toc-item-num\">2.6.1&nbsp;&nbsp;</span>Solution</a></span></li></ul></li><li><span><a href=\"#Exercise-2:-Remove-duplicate-entries-from-a-list,-and-sort\" data-toc-modified-id=\"Exercise-2:-Remove-duplicate-entries-from-a-list,-and-sort-2.7\"><span class=\"toc-item-num\">2.7&nbsp;&nbsp;</span>Exercise 2: Remove duplicate entries from a list, and sort</a></span><ul class=\"toc-item\"><li><span><a href=\"#Solution\" data-toc-modified-id=\"Solution-2.7.1\"><span class=\"toc-item-num\">2.7.1&nbsp;&nbsp;</span>Solution</a></span></li></ul></li></ul></li><li><span><a href=\"#User-Defined-Functions:-Advanced-Topics\" data-toc-modified-id=\"User-Defined-Functions:-Advanced-Topics-3\"><span class=\"toc-item-num\">3&nbsp;&nbsp;</span>User-Defined Functions: Advanced Topics</a></span><ul class=\"toc-item\"><li><span><a href=\"#Meal-Example,-and-default-values-for-parameters\" data-toc-modified-id=\"Meal-Example,-and-default-values-for-parameters-3.1\"><span class=\"toc-item-num\">3.1&nbsp;&nbsp;</span>Meal Example, and default values for parameters</a></span></li><li><span><a href=\"#Meal-Example,-and-calling-the-name=value-convention-for-the-parameter\" data-toc-modified-id=\"Meal-Example,-and-calling-the-name=value-convention-for-the-parameter-3.2\"><span class=\"toc-item-num\">3.2&nbsp;&nbsp;</span>Meal Example, and calling the <code>name=value</code> convention for the parameter</a></span></li><li><span><a href=\"#Returning-multiple-values:-Examples-with-length-of-text-in-characters,-words,-sentences\" data-toc-modified-id=\"Returning-multiple-values:-Examples-with-length-of-text-in-characters,-words,-sentences-3.3\"><span class=\"toc-item-num\">3.3&nbsp;&nbsp;</span>Returning multiple values: Examples with length of text in characters, words, sentences</a></span><ul class=\"toc-item\"><li><span><a href=\"#Example-4:-Get-the-length-of-a-text-in-words\" data-toc-modified-id=\"Example-4:-Get-the-length-of-a-text-in-words-3.3.1\"><span class=\"toc-item-num\">3.3.1&nbsp;&nbsp;</span>Example 4: Get the length of a text in words</a></span><ul class=\"toc-item\"><li><span><a href=\"#Advanced:-Multiple-outputs\" data-toc-modified-id=\"Advanced:-Multiple-outputs-3.3.1.1\"><span class=\"toc-item-num\">3.3.1.1&nbsp;&nbsp;</span>Advanced: Multiple outputs</a></span></li></ul></li></ul></li><li><span><a href=\"#Returning-multiple-values:-Example-with-quadratic-function\" data-toc-modified-id=\"Returning-multiple-values:-Example-with-quadratic-function-3.4\"><span class=\"toc-item-num\">3.4&nbsp;&nbsp;</span>Returning multiple values: Example with quadratic function</a></span><ul class=\"toc-item\"><li><span><a href=\"#Example-5:-Solve-the-quadratic-equation\" data-toc-modified-id=\"Example-5:-Solve-the-quadratic-equation-3.4.1\"><span class=\"toc-item-num\">3.4.1&nbsp;&nbsp;</span>Example 5: Solve the quadratic equation</a></span><ul class=\"toc-item\"><li><span><a href=\"#Attention:-Common-mistake-1:-print-instead-of-return\" data-toc-modified-id=\"Attention:-Common-mistake-1:-print-instead-of-return-3.4.1.1\"><span class=\"toc-item-num\">3.4.1.1&nbsp;&nbsp;</span>Attention: Common mistake 1: <code>print</code> instead of <code>return</code></a></span></li></ul></li></ul></li><li><span><a href=\"#Functions-and-Loops:-Cleaning-up-a-string\" data-toc-modified-id=\"Functions-and-Loops:-Cleaning-up-a-string-3.5\"><span class=\"toc-item-num\">3.5&nbsp;&nbsp;</span>Functions and Loops: Cleaning up a string</a></span></li><li><span><a href=\"#Functions-and-Loops:--Generate-a-random-password-with-n-letters.-The-value-n-should-be-a-parameter.\" data-toc-modified-id=\"Functions-and-Loops:--Generate-a-random-password-with-n-letters.-The-value-n-should-be-a-parameter.-3.6\"><span class=\"toc-item-num\">3.6&nbsp;&nbsp;</span>Functions and Loops:  Generate a random password with <code>n</code> letters. The value <code>n</code> should be a parameter.</a></span></li><li><span><a href=\"#Variable-Scopes\" data-toc-modified-id=\"Variable-Scopes-3.7\"><span class=\"toc-item-num\">3.7&nbsp;&nbsp;</span>Variable Scopes</a></span></li></ul></li></ul></div>"
   ]
  },
  {
   "cell_type": "markdown",
   "metadata": {},
   "source": [
    "# Functions"
   ]
  },
  {
   "cell_type": "markdown",
   "metadata": {},
   "source": [
    "In programming, functions assign a name to a block of code, and allow us to execute a more complex set of instructions, without having to replicate the code and the corresponding logic again and again.\n",
    "\n"
   ]
  },
  {
   "cell_type": "markdown",
   "metadata": {},
   "source": [
    "## Built-in functions"
   ]
  },
  {
   "cell_type": "markdown",
   "metadata": {},
   "source": [
    "Python provides a set of functions that already built-in. You are already familiar with some functions:"
   ]
  },
  {
   "cell_type": "markdown",
   "metadata": {},
   "source": [
    "### `len`, `sum`, `max`, and `min`"
   ]
  },
  {
   "cell_type": "markdown",
   "metadata": {},
   "source": [
    "You have already encountered `len`, `sum`, `max`, and `min`."
   ]
  },
  {
   "cell_type": "code",
   "execution_count": null,
   "metadata": {},
   "outputs": [],
   "source": [
    "numbers = [3, 41, 12, 9, 74, 15]"
   ]
  },
  {
   "cell_type": "code",
   "execution_count": null,
   "metadata": {},
   "outputs": [],
   "source": [
    "# len() takes as a parameter a string (and returns its length in characters)\n",
    "# or a list/set/dictionary/... (and returns the number of elements)\n",
    "print(\"Length:\", len(numbers))"
   ]
  },
  {
   "cell_type": "code",
   "execution_count": null,
   "metadata": {},
   "outputs": [],
   "source": [
    "# max(sassasssssjajsksncnfja) / min() takes as a parameter a *list* and returns \n",
    "# the maximum or minimum element\n",
    "print(\"Max:\", max(numbers))\n",
    "print(\"Min:\", min(numbers))"
   ]
  },
  {
   "cell_type": "code",
   "execution_count": null,
   "metadata": {},
   "outputs": [],
   "source": [
    "# sum() gets as input a list of numbers and returns their sum\n",
    "print(\"Sum:\", sum(numbers))"
   ]
  },
  {
   "cell_type": "markdown",
   "metadata": {},
   "source": [
    "So, notice how a function works. It has **input** and **output**. In all the examples above, the input is a list of numbers (`numbers`).\n",
    "\n",
    "What is the output?\n",
    "* For `len()`, the output is a number corresponding to the length of the list.\n",
    "* For `max()` the output is a number corresponding to the maximum element of the list.\n",
    "* For `min()` the output is a number corresponding to the minimum element of the list.\n",
    "* For `sum()` the output is a number corresponding to the sum of all the elements in the list.\n",
    "\n"
   ]
  },
  {
   "cell_type": "markdown",
   "metadata": {},
   "source": [
    "The concept of input and output is very important: In a sense this is what a function does: Takes as input one or more values, and returns back an output. What happens inside the function is something that we do not need to worry about; we can treat the function as a black box."
   ]
  },
  {
   "cell_type": "markdown",
   "metadata": {},
   "source": [
    "### `round`\n",
    "\n",
    "Let's see another example: Consider the `round()` function.\n",
    "\n",
    "At its simplest form, rounds gets one input: a number. It returns an integer as the output, which is the integer closest to the input number (aka \"rounded\" number)"
   ]
  },
  {
   "cell_type": "code",
   "execution_count": null,
   "metadata": {},
   "outputs": [],
   "source": [
    "round( 4.6692 )"
   ]
  },
  {
   "cell_type": "markdown",
   "metadata": {},
   "source": [
    "The `round()` function can also take two inputs. The first input is the number, and the second input is the number of decimal digits that we want to keep. "
   ]
  },
  {
   "cell_type": "code",
   "execution_count": null,
   "metadata": {},
   "outputs": [],
   "source": [
    "round( 4.6692 , 2 )"
   ]
  },
  {
   "cell_type": "code",
   "execution_count": null,
   "metadata": {},
   "outputs": [],
   "source": [
    "round( 4.6692 , 0 )"
   ]
  },
  {
   "cell_type": "markdown",
   "metadata": {},
   "source": [
    "Notice the concept: Round accepts as input one or two values, and returns back as output a number. **Input** and **output**, focus on this part. "
   ]
  },
  {
   "cell_type": "code",
   "execution_count": null,
   "metadata": {},
   "outputs": [],
   "source": [
    "# And a few more examples"
   ]
  },
  {
   "cell_type": "code",
   "execution_count": null,
   "metadata": {},
   "outputs": [],
   "source": [
    "round( 867.5309, 1)"
   ]
  },
  {
   "cell_type": "code",
   "execution_count": null,
   "metadata": {},
   "outputs": [],
   "source": [
    "round( 867.5309, 0)"
   ]
  },
  {
   "cell_type": "code",
   "execution_count": null,
   "metadata": {},
   "outputs": [],
   "source": [
    "round( 867.5309, -1)"
   ]
  },
  {
   "cell_type": "markdown",
   "metadata": {},
   "source": [
    "### `sorted`"
   ]
  },
  {
   "cell_type": "markdown",
   "metadata": {},
   "source": [
    "Consider now the `sorted` function. This function takes as **input** as list, and returns as **output** the sorted version of the list. \n",
    "\n",
    "For example"
   ]
  },
  {
   "cell_type": "code",
   "execution_count": null,
   "metadata": {},
   "outputs": [],
   "source": [
    "numbers = [3, 41, 12, 9, 74, 15]"
   ]
  },
  {
   "cell_type": "code",
   "execution_count": null,
   "metadata": {},
   "outputs": [],
   "source": [
    "sorted(numbers)"
   ]
  },
  {
   "cell_type": "code",
   "execution_count": null,
   "metadata": {},
   "outputs": [],
   "source": [
    "names = ['George', 'James', 'Alex', 'Mary', 'Helen', 'Zoe']"
   ]
  },
  {
   "cell_type": "code",
   "execution_count": null,
   "metadata": {},
   "outputs": [],
   "source": [
    "sorted(names)"
   ]
  },
  {
   "cell_type": "markdown",
   "metadata": {},
   "source": [
    "So, notice that the function is not limited to retuning just a number. It may return *a list* of numbers. (In fact, it may return a string, or pretty much anything.)\n",
    "\n",
    "Notice also that we do not need to know *how* the function goes from input to output. We put as input an unsorted list, and get back a sorted one. We do not know what sorting technique was used. We only get back the result. This abstraction allow us to write more readable programs, by writing code at a higher level, without having to replicate all the details."
   ]
  },
  {
   "cell_type": "markdown",
   "metadata": {},
   "source": [
    "## Functions from Libraries\n",
    "\n"
   ]
  },
  {
   "cell_type": "markdown",
   "metadata": {},
   "source": [
    "We can also add more functions by `import`-ing libraries."
   ]
  },
  {
   "cell_type": "markdown",
   "metadata": {},
   "source": [
    "### `math` functions\n",
    "\n"
   ]
  },
  {
   "cell_type": "markdown",
   "metadata": {},
   "source": [
    " A common example is the `math` library."
   ]
  },
  {
   "cell_type": "code",
   "execution_count": null,
   "metadata": {},
   "outputs": [],
   "source": [
    "import math"
   ]
  },
  {
   "cell_type": "code",
   "execution_count": null,
   "metadata": {},
   "outputs": [],
   "source": [
    "# Square root\n",
    "math.sqrt(14641)"
   ]
  },
  {
   "cell_type": "code",
   "execution_count": null,
   "metadata": {},
   "outputs": [],
   "source": [
    "# Same as above, but with variables\n",
    "x = 14641\n",
    "y = math.sqrt(x)\n",
    "print(y)"
   ]
  },
  {
   "cell_type": "markdown",
   "metadata": {},
   "source": [
    "As we mentioned before, this function has an input (`x`) and an output (`y`), which is the square root of x. Again, we do not care how the square root is calculated, we only get back the outcome."
   ]
  },
  {
   "cell_type": "markdown",
   "metadata": {},
   "source": [
    "Here is another example, where we use the `math.gcd` function to find the _greatest common divisor_ of two numbers, `x` and `y`. (This is the largest number that divides exactly both `x` and `y`.) In this case, the function gets as input two numbers, x and y, and returns an integer as a result. And again, we do not need to know _how_ the function is computing the greatest common divisor, we just get back the result."
   ]
  },
  {
   "cell_type": "code",
   "execution_count": null,
   "metadata": {},
   "outputs": [],
   "source": [
    "x = 18\n",
    "y = 60\n",
    "math.gcd(x, y)"
   ]
  },
  {
   "cell_type": "code",
   "execution_count": null,
   "metadata": {},
   "outputs": [],
   "source": [
    "x = 49\n",
    "y = 56\n",
    "math.gcd(x, y)"
   ]
  },
  {
   "cell_type": "markdown",
   "metadata": {},
   "source": [
    "### Exercise"
   ]
  },
  {
   "cell_type": "markdown",
   "metadata": {},
   "source": [
    "Use the `math.sqrt` function to get the square root of the numbers:\n",
    "* 121\n",
    "* 12321\n",
    "* 1234321\n",
    "* 123454321"
   ]
  },
  {
   "cell_type": "code",
   "execution_count": null,
   "metadata": {},
   "outputs": [],
   "source": []
  },
  {
   "cell_type": "markdown",
   "metadata": {
    "solution2": "hidden",
    "solution2_first": true
   },
   "source": [
    "#### Solution"
   ]
  },
  {
   "cell_type": "code",
   "execution_count": null,
   "metadata": {
    "solution2": "hidden"
   },
   "outputs": [],
   "source": [
    "print(math.sqrt(121))\n",
    "print(math.sqrt(12321))\n",
    "print(math.sqrt(1234321))\n",
    "print(math.sqrt(123454321))\n"
   ]
  },
  {
   "cell_type": "markdown",
   "metadata": {},
   "source": [
    "### `random` functions"
   ]
  },
  {
   "cell_type": "markdown",
   "metadata": {},
   "source": [
    "Another commonly used library is the `random` library that returns random numbers."
   ]
  },
  {
   "cell_type": "code",
   "execution_count": null,
   "metadata": {},
   "outputs": [],
   "source": [
    "import random"
   ]
  },
  {
   "cell_type": "markdown",
   "metadata": {},
   "source": [
    "For example, the function `random.random()` will return back a random value from 0 to 1, which will be different every time."
   ]
  },
  {
   "cell_type": "code",
   "execution_count": null,
   "metadata": {},
   "outputs": [],
   "source": [
    "random.random()"
   ]
  },
  {
   "cell_type": "code",
   "execution_count": null,
   "metadata": {},
   "outputs": [],
   "source": [
    "# generate 10 random values\n",
    "for i in range(10):\n",
    "    x = random.random() # random.random() returns random values from 0 to 1\n",
    "    print(f\"The number is {x:.3f}\") # print the number with 3 decimal digits"
   ]
  },
  {
   "cell_type": "markdown",
   "metadata": {},
   "source": [
    "So, `random.random()` is a type of function that gets *zero*  inputs, and returns back an integer as the output."
   ]
  },
  {
   "cell_type": "markdown",
   "metadata": {},
   "source": [
    "Here is another function `random.choice(t)` that accepts as input a list of values, and picks one of them at random."
   ]
  },
  {
   "cell_type": "code",
   "execution_count": null,
   "metadata": {},
   "outputs": [],
   "source": [
    "t = [ 'Angela', 'Pamela', 'Sandra', 'Rita']\n",
    "random.choice(t)"
   ]
  },
  {
   "cell_type": "markdown",
   "metadata": {},
   "source": [
    "### Exercise\n",
    "\n",
    "* Create a list of 8 random integer numbers. (Hint: You can multiply `random.random()` by 100, and then use `round()` to get numbers between 0 and 100.)"
   ]
  },
  {
   "cell_type": "code",
   "execution_count": null,
   "metadata": {},
   "outputs": [],
   "source": []
  },
  {
   "cell_type": "markdown",
   "metadata": {
    "solution2": "hidden",
    "solution2_first": true
   },
   "source": [
    "#### Solution"
   ]
  },
  {
   "cell_type": "code",
   "execution_count": null,
   "metadata": {
    "solution2": "hidden"
   },
   "outputs": [],
   "source": [
    "# Using a for loop\n",
    "result = []  # the list where we will store the results\n",
    "for i in range(8):  # repeat the process 8 times\n",
    "    n = random.random()  # create a random number between 0 and 1\n",
    "    n = 100 * n  # multiply by 100, to get a random number between 0 and 100\n",
    "    n = round(n)  # get the rounded version, which gives back an integer\n",
    "    result.append(n)\n",
    "\n",
    "print(result)"
   ]
  },
  {
   "cell_type": "code",
   "execution_count": null,
   "metadata": {
    "solution2": "hidden"
   },
   "outputs": [],
   "source": [
    "# Using a list comprehension\n",
    "result = [round(100 * random.random()) for i in range(8)]\n",
    "print(result)"
   ]
  },
  {
   "cell_type": "markdown",
   "metadata": {},
   "source": [
    "# User-Defined Functions"
   ]
  },
  {
   "cell_type": "markdown",
   "metadata": {},
   "source": [
    "We will now learn how to write our own functions. \n",
    "\n",
    "Why do we want to do that?\n",
    "\n",
    "Because as programs become more complex, they start involving more and more steps. At some point, the code becomes very long, and it becomes difficult to understand what is going on. It is the equivalent of having a book without chapters, sections, or any form of structure. In fact, long code that is not using functions is often called \"spaghetti code\", because it is long and messy.\n",
    "\n",
    "So, once you start writing your code using functions, your program will start reading like a sequence of high-level steps, making your code much more readable. There are many other advantages, but at first, you will notice readability as the first key benefit.\n",
    "\n"
   ]
  },
  {
   "cell_type": "markdown",
   "metadata": {},
   "source": [
    "## Creating User Defined Functions\n"
   ]
  },
  {
   "cell_type": "markdown",
   "metadata": {},
   "source": [
    "To define a function in Python, we need the following:\n",
    "* Function definition in Python start with the `def` keyword\n",
    "* After `def` we put the name of the function\n",
    "* After the name of the function we put an opening parenthesis,  and\n",
    "* Inside the parentheses the names of zero or more input variables, separated by commas, followed by a closing parethesis, and\n",
    "* After the closing parentheses we have a colon `:`\n",
    "* Then we put a block of code with the actions for the function.\n",
    "* At the end of the function code, we have a `return` statement, followed by the output of the function"
   ]
  },
  {
   "cell_type": "markdown",
   "metadata": {},
   "source": [
    "Let's see a few examples"
   ]
  },
  {
   "cell_type": "markdown",
   "metadata": {},
   "source": [
    "## Example 1: Square a number"
   ]
  },
  {
   "cell_type": "markdown",
   "metadata": {},
   "source": [
    "We want to write a function that takes as input a number $x$ and returns back its square $x^2$. We will call the function `square`. So we write:"
   ]
  },
  {
   "cell_type": "code",
   "execution_count": null,
   "metadata": {},
   "outputs": [],
   "source": [
    "def square(x):\n",
    "    result = x*x\n",
    "    return result"
   ]
  },
  {
   "cell_type": "markdown",
   "metadata": {},
   "source": [
    "So, let's dissect the example above:\n",
    "\n",
    "* We start with the `def` keyword\n",
    "* After def we put the name of the function `square`\n",
    "* After the name of the function, `square` we have a pair of parentheses, with one input variable `x` inside\n",
    "* After the closing parentheses we have a colon `:`\n",
    "* Then we have our code that computes the square of x (`result = x*x`)\n",
    "* And at the end of the function code, we have a `return` statement that returns back the `result`"
   ]
  },
  {
   "cell_type": "markdown",
   "metadata": {},
   "source": [
    "Notice that nothing happens once you execute the cell above. To use the function, you need to call it. For example:"
   ]
  },
  {
   "cell_type": "code",
   "execution_count": null,
   "metadata": {},
   "outputs": [],
   "source": [
    "square(5)"
   ]
  },
  {
   "cell_type": "code",
   "execution_count": null,
   "metadata": {},
   "outputs": [],
   "source": [
    "square(40)"
   ]
  },
  {
   "cell_type": "code",
   "execution_count": null,
   "metadata": {},
   "outputs": [],
   "source": [
    "square(-1.2)"
   ]
  },
  {
   "cell_type": "code",
   "execution_count": null,
   "metadata": {},
   "outputs": [],
   "source": [
    "# notice that square function RETURNS a value that  we can store in variable y \n",
    "num = 3\n",
    "y = square(num) \n",
    "print(y)"
   ]
  },
  {
   "cell_type": "code",
   "execution_count": null,
   "metadata": {},
   "outputs": [],
   "source": [
    "for num in range(15):\n",
    "    y = square(num)\n",
    "    print(f\"The square of {num} is {y}\")"
   ]
  },
  {
   "cell_type": "markdown",
   "metadata": {},
   "source": [
    "_Note: If you try to execute the cell that use the function `square` but you have not executed the cell that contains the function definition, then you will get an error. In order to use a function, you first need to define it, and execute the corresponding code._"
   ]
  },
  {
   "cell_type": "markdown",
   "metadata": {},
   "source": [
    "## Example 2: From pounds to kilograms\n",
    "\n"
   ]
  },
  {
   "cell_type": "markdown",
   "metadata": {},
   "source": [
    "We want to write a function that converts weight from pounds to kilograms. The conversion is 1 pound = 0.453592 Kilograms.\n",
    "\n",
    "For example: Weight of 155 lbs is 70.30676 Kg"
   ]
  },
  {
   "cell_type": "markdown",
   "metadata": {},
   "source": [
    "Let's see first how we would write this as straightforward code, without a function:"
   ]
  },
  {
   "cell_type": "code",
   "execution_count": null,
   "metadata": {},
   "outputs": [],
   "source": [
    "weight_lbs = 155\n",
    "weight_kg = weight_lbs * 0.453592\n",
    "print(f\"{weight_lbs} lbs is {weight_kg} kgs\")"
   ]
  },
  {
   "cell_type": "markdown",
   "metadata": {},
   "source": [
    "And to avoid having a magic number, we may want to assign 0.453592 to a variable:"
   ]
  },
  {
   "cell_type": "code",
   "execution_count": null,
   "metadata": {},
   "outputs": [],
   "source": [
    "weight_lbs = 155\n",
    "kg_in_lb = 0.453592\n",
    "weight_kg = weight_lbs * kg_in_lb\n",
    "print(f\"{weight_lbs} lbs is {weight_kg} kgs\")"
   ]
  },
  {
   "cell_type": "markdown",
   "metadata": {},
   "source": [
    "Now, let's convert this into a function. We will call it `pounds_to_kg`.\n",
    "\n",
    "So lets see also what are the inputs and outputs: In this case it is simple, we have the weight in pounds as input, and we get as output the weight in kilograms."
   ]
  },
  {
   "cell_type": "code",
   "execution_count": null,
   "metadata": {},
   "outputs": [],
   "source": [
    "def pounds_to_kg(lbs):\n",
    "    kg_in_lb = 0.453592\n",
    "    kgs = lbs * kg_in_lb\n",
    "    return kgs"
   ]
  },
  {
   "cell_type": "markdown",
   "metadata": {},
   "source": [
    "And now that we have defined our function, we can use it:"
   ]
  },
  {
   "cell_type": "code",
   "execution_count": null,
   "metadata": {},
   "outputs": [],
   "source": [
    "weight_lbs = 155\n",
    "weight_kg = pounds_to_kg(weight_lbs)\n",
    "print(f\"{weight_lbs} lbs is {weight_kg} kgs\")"
   ]
  },
  {
   "cell_type": "markdown",
   "metadata": {},
   "source": [
    "Notice one thing: The `kg_in_lb = 0.453592` variable does not appear outside the function anymore. This is a simple example of abstraction: We do not need to care how the conversion happens, or what the calculation is anymore. We can simply use the function.\n",
    "\n",
    "Of course, in this example it is trivial, but as our code becomes more and more complex, hiding the details becomes more and more important"
   ]
  },
  {
   "cell_type": "markdown",
   "metadata": {},
   "source": [
    "### Attention: Common mistake, `print` instead of `return`"
   ]
  },
  {
   "cell_type": "markdown",
   "metadata": {},
   "source": [
    "Now, let's examine a common mistake. The code below takes the initial code, and fits it in a function."
   ]
  },
  {
   "cell_type": "code",
   "execution_count": null,
   "metadata": {},
   "outputs": [],
   "source": [
    "def pounds_to_kg(lbs):\n",
    "    kg_in_lb = 0.453592\n",
    "    weight_kg = lbs * kg_in_lb\n",
    "    print(f\"{lbs} lbs is {weight_kg} kgs\")"
   ]
  },
  {
   "cell_type": "markdown",
   "metadata": {},
   "source": [
    "What is the critical difference? The function above uses a `print` statement instead of a `return`. \n",
    "\n",
    "This is a very common mistake for beginners. It also takes a lot of time to overcome this, because the code \"works\", as we can see below."
   ]
  },
  {
   "cell_type": "code",
   "execution_count": null,
   "metadata": {},
   "outputs": [],
   "source": [
    "weight_lbs = 155\n",
    "pounds_to_kg(weight_lbs)"
   ]
  },
  {
   "cell_type": "markdown",
   "metadata": {},
   "source": [
    "However, see what happens if we change the code, and try to store the result of the function in a variable."
   ]
  },
  {
   "cell_type": "code",
   "execution_count": null,
   "metadata": {},
   "outputs": [],
   "source": [
    "weight_lbs = 155\n",
    "weight_kgs = pounds_to_kg(weight_lbs)\n",
    "print(f\"{weight_lbs} lbs is {weight_kgs} kgs\")"
   ]
  },
  {
   "cell_type": "markdown",
   "metadata": {},
   "source": [
    "Notice that the variable `weight_kgs` has the valune `None`. This happened because the function did not generate any output. **Printing is NOT a function output**. Only the `return` keyword generate the output for the function."
   ]
  },
  {
   "cell_type": "markdown",
   "metadata": {},
   "source": [
    "## Example 3: Meal with tip and tax"
   ]
  },
  {
   "cell_type": "markdown",
   "metadata": {},
   "source": [
    "Now let's revisit our example from the earlier sessions in the class: Compute the total cost of a meal. \n",
    "\n",
    "Suppose that we buy food for \\$30. We also need to pay the tax on top (which is 8.875\\% in NY), and put a tip, say 15\\%, on the pre-tax amount. The code for doing this calculation:"
   ]
  },
  {
   "cell_type": "code",
   "execution_count": null,
   "metadata": {},
   "outputs": [],
   "source": [
    "food = 30\n",
    "tax = 8.875/100\n",
    "tip = 15/100\n",
    "cost = food + food * tax + food * tip\n",
    "print(f\"The cost of the meal will be: ${cost}\")"
   ]
  },
  {
   "cell_type": "markdown",
   "metadata": {},
   "source": [
    "Now let's define a function called `meal_cost`. What are the inputs and outputs in this case?\n",
    "\n",
    "* Inputs: food cost, tax, tip\n",
    "* Output: Total cost\n",
    "\n"
   ]
  },
  {
   "cell_type": "code",
   "execution_count": null,
   "metadata": {},
   "outputs": [],
   "source": [
    "def meal_cost(food_cost, tax_rate, tip_perc):\n",
    "    total_cost = food_cost + food_cost * tax_rate + food * tip_perc\n",
    "    return total_cost"
   ]
  },
  {
   "cell_type": "code",
   "execution_count": null,
   "metadata": {},
   "outputs": [],
   "source": [
    "food = 30\n",
    "tax = 8.875/100\n",
    "tip = 15/100\n",
    "cost = meal_cost(food, tax, tip)\n",
    "print(f\"The cost of the meal will be: ${cost}\")"
   ]
  },
  {
   "cell_type": "markdown",
   "metadata": {},
   "source": [
    "Now, let's start making some changes. Say that we want to enter the tax as a percentage, and not as a small decimal. So we would like to have `tax = 8.875` instead of `tax = 8.875/100`. Similarly for the tip. We also want the cost to be rounded to two decimals"
   ]
  },
  {
   "cell_type": "code",
   "execution_count": null,
   "metadata": {},
   "outputs": [],
   "source": [
    "def meal_cost(food_cost, tax_rate, tip_perc):\n",
    "    total_cost = food_cost + food_cost * (tax_rate/100) + food_cost * (tip_perc/100)\n",
    "    total_cost = round(total_cost,2)\n",
    "    return total_cost"
   ]
  },
  {
   "cell_type": "code",
   "execution_count": null,
   "metadata": {},
   "outputs": [],
   "source": [
    "food = 30\n",
    "tax = 8.875\n",
    "tip = 15\n",
    "cost = meal_cost(food, tax, tip)\n",
    "print(f\"The cost of the meal will be: ${cost}\")"
   ]
  },
  {
   "cell_type": "markdown",
   "metadata": {},
   "source": [
    "## Example 4: Get the length of a text in words\n",
    "\n"
   ]
  },
  {
   "cell_type": "markdown",
   "metadata": {},
   "source": [
    "We will now write a non-math oriented function. We want a function that takes as input a piece of text, and returns the number of words in it. What is the length of the article in words? For simplicity we assume that words are separated by spaces."
   ]
  },
  {
   "cell_type": "code",
   "execution_count": null,
   "metadata": {},
   "outputs": [],
   "source": [
    "article = \"\"\"One person was believed to be missing after an oil rig storage platform exploded Sunday night on Lake Pontchartrain, just north and west of New Orleans. Seven people were taken to hospitals after the explosion, and three of them remained in critical condition Monday morning, Mike Guillot, the director of emergency medical services at East Jefferson General Hospital, said at a news conference. The other four were released. Sheriff Joe Lopinto of Jefferson Parish said at the news conference, We are fairly confident there is an eighth person, adding that search efforts were continuing, and the Coast Guard had contacted the family of the person. No fatalities had been reported as of Monday morning. The blast occurred shortly after seven pm near St Charles Parish and the city of Kenner. The platform is in unincorporated Jefferson Parish. Officials are still investigating the cause of the explosion, but the City of Kenner said on its Facebook page that authorities on the scene report that cleaning chemicals ignited on the surface of the oil rig platform.\"\"\"\n",
    "print(article)"
   ]
  },
  {
   "cell_type": "code",
   "execution_count": null,
   "metadata": {},
   "outputs": [],
   "source": [
    "words = article.split(\" \")\n",
    "print(words)"
   ]
  },
  {
   "cell_type": "code",
   "execution_count": null,
   "metadata": {},
   "outputs": [],
   "source": [
    "len_words = len(words)\n",
    "print(len_words)"
   ]
  },
  {
   "cell_type": "markdown",
   "metadata": {},
   "source": [
    "So, in this case, we have the input being the string variable that contains the text, and the output is a number."
   ]
  },
  {
   "cell_type": "code",
   "execution_count": null,
   "metadata": {},
   "outputs": [],
   "source": [
    "def article_length(text):\n",
    "    words = text.split(\" \")\n",
    "    length = len(words)\n",
    "    return length"
   ]
  },
  {
   "cell_type": "code",
   "execution_count": null,
   "metadata": {},
   "outputs": [],
   "source": [
    "len_words = article_length(article)\n",
    "print(f\"The article length is {len_words} words\")"
   ]
  },
  {
   "cell_type": "markdown",
   "metadata": {},
   "source": [
    "## Exercise 1: Check if a number is within a range\n"
   ]
  },
  {
   "cell_type": "markdown",
   "metadata": {},
   "source": [
    "\n",
    "Write a function `in_range` that checks if a number `n` is within a given range `(a ... b)` (inclusive on both ends) and returns `True` or `False`. The function takes `n`, `a`, and `b` as parameters.\n",
    "\n"
   ]
  },
  {
   "cell_type": "code",
   "execution_count": null,
   "metadata": {},
   "outputs": [],
   "source": [
    "# your code here"
   ]
  },
  {
   "cell_type": "markdown",
   "metadata": {
    "solution2": "shown",
    "solution2_first": true
   },
   "source": [
    "### Solution"
   ]
  },
  {
   "cell_type": "code",
   "execution_count": null,
   "metadata": {
    "solution2": "shown"
   },
   "outputs": [],
   "source": [
    "def in_range(n, a, b):\n",
    "    if n>=a and n <=b:\n",
    "        return True\n",
    "    else:\n",
    "        return False"
   ]
  },
  {
   "cell_type": "code",
   "execution_count": null,
   "metadata": {
    "solution2": "shown"
   },
   "outputs": [],
   "source": [
    "n = 10\n",
    "a = 5\n",
    "b = 15\n",
    "in_range(n, a, b)"
   ]
  },
  {
   "cell_type": "code",
   "execution_count": null,
   "metadata": {
    "solution2": "shown"
   },
   "outputs": [],
   "source": [
    "n = 2\n",
    "a = 5\n",
    "b = 15\n",
    "in_range(n, a, b)"
   ]
  },
  {
   "cell_type": "markdown",
   "metadata": {},
   "source": [
    "## Exercise 2: Remove duplicate entries from a list, and sort"
   ]
  },
  {
   "cell_type": "markdown",
   "metadata": {},
   "source": [
    "Write a `dedup` function that takes as input a list and returns back another list, with only unique elements and sorted. For example, if the input is `[1,2,5,5,5,3,3,3,3,4,5]` the returned list should be `[1, 2, 3, 4, 5]`. If the input is `['New York', 'New York',  'Paris', 'London', 'Paris']` the returned list should be `['London', 'New York', 'Paris']`."
   ]
  },
  {
   "cell_type": "code",
   "execution_count": null,
   "metadata": {},
   "outputs": [],
   "source": [
    "def dedup(input_list):\n",
    "    ... #your code here"
   ]
  },
  {
   "cell_type": "code",
   "execution_count": null,
   "metadata": {},
   "outputs": [],
   "source": [
    "# Running the code below should return [1, 2, 3, 4, 5]\n",
    "in_list = [1,2,5,5,5,3,3,3,3,4,5]\n",
    "dedup(in_list)"
   ]
  },
  {
   "cell_type": "code",
   "execution_count": null,
   "metadata": {},
   "outputs": [],
   "source": [
    "# Running the code below should return ['London', 'New York', 'Paris']\n",
    "in_list = ['New York', 'New York',  'Paris', 'London', 'Paris']\n",
    "dedup(in_list)"
   ]
  },
  {
   "cell_type": "markdown",
   "metadata": {
    "solution2": "shown",
    "solution2_first": true
   },
   "source": [
    "### Solution"
   ]
  },
  {
   "cell_type": "code",
   "execution_count": null,
   "metadata": {
    "solution2": "shown"
   },
   "outputs": [],
   "source": [
    "def dedup(input_list):\n",
    "    nodupes = set(input_list)\n",
    "    result = sorted(nodupes)\n",
    "    return result"
   ]
  },
  {
   "cell_type": "code",
   "execution_count": null,
   "metadata": {
    "solution2": "shown"
   },
   "outputs": [],
   "source": [
    "in_list = [1,2,5,5,5,3,3,3,3,4,5]\n",
    "dedup(in_list)"
   ]
  },
  {
   "cell_type": "code",
   "execution_count": null,
   "metadata": {
    "solution2": "shown"
   },
   "outputs": [],
   "source": [
    "in_list = ['New York', 'New York',  'Paris', 'London', 'Paris']\n",
    "dedup(in_list)"
   ]
  },
  {
   "cell_type": "markdown",
   "metadata": {},
   "source": [
    "# User-Defined Functions: Advanced Topics"
   ]
  },
  {
   "cell_type": "markdown",
   "metadata": {
    "heading_collapsed": true
   },
   "source": [
    "## Meal Example, and default values for parameters"
   ]
  },
  {
   "cell_type": "code",
   "execution_count": null,
   "metadata": {
    "hidden": true
   },
   "outputs": [],
   "source": [
    "#TODO (Advanced): Introduce the notion of adding default values\n",
    "def meal_cost(food_cost, tax_rate=8.875, tip_perc=15):\n",
    "    total_cost = food_cost + food_cost * (tax_rate/100) + food_cost * (tip_perc/100)\n",
    "    total_cost = round(total_cost,2)\n",
    "    return total_cost"
   ]
  },
  {
   "cell_type": "code",
   "execution_count": null,
   "metadata": {
    "hidden": true
   },
   "outputs": [],
   "source": [
    "food = 50\n",
    "cost = meal_cost(food)\n",
    "print(f\"The cost of the meal will be: ${cost}\")"
   ]
  },
  {
   "cell_type": "code",
   "execution_count": null,
   "metadata": {
    "hidden": true
   },
   "outputs": [],
   "source": [
    "food = 50\n",
    "tax = 8.875\n",
    "tip = 15\n",
    "cost = meal_cost(food, tax, tip)\n",
    "print(f\"The cost of the meal will be: ${cost}\")"
   ]
  },
  {
   "cell_type": "code",
   "execution_count": null,
   "metadata": {
    "hidden": true
   },
   "outputs": [],
   "source": [
    "food = 50\n",
    "tax = 8.875\n",
    "cost = meal_cost(food, tax)\n",
    "print(f\"The cost of the meal will be: ${cost}\")"
   ]
  },
  {
   "cell_type": "code",
   "execution_count": null,
   "metadata": {
    "hidden": true
   },
   "outputs": [],
   "source": [
    "food = 50\n",
    "tip = 20\n",
    "# THIS DOES NOT WORK. COMPARE WITH THE CODE BELOW\n",
    "# IF WE HAVE TWO PARAMETERS THE SECOND ONE IS ASSUMED TO BE TAX, NOT TIP \n",
    "cost = meal_cost(food, tip)\n",
    "print(f\"The cost of the meal will be: ${cost}\")"
   ]
  },
  {
   "cell_type": "markdown",
   "metadata": {},
   "source": [
    "## Meal Example, and calling the `name=value` convention for the parameter"
   ]
  },
  {
   "cell_type": "code",
   "execution_count": null,
   "metadata": {},
   "outputs": [],
   "source": [
    "food = 50\n",
    "tax = 8.875\n",
    "tip = 20\n",
    "cost = meal_cost(food, tax, tip)\n",
    "print(f\"The cost of the meal will be: ${cost}\")"
   ]
  },
  {
   "cell_type": "code",
   "execution_count": null,
   "metadata": {},
   "outputs": [],
   "source": [
    "#TODO: Introduce the notion of calling by naming the parameters\n",
    "cost = meal_cost(food_cost=30, tax_rate=8.875, tip_perc=15)\n",
    "print(f\"The cost of the meal will be: ${cost}\")"
   ]
  },
  {
   "cell_type": "markdown",
   "metadata": {},
   "source": [
    "## Returning multiple values: Examples with length of text in characters, words, sentences\n",
    "\n",
    "* Return tuple\n",
    "* Return dictionary"
   ]
  },
  {
   "cell_type": "markdown",
   "metadata": {},
   "source": [
    "### Example 4: Get the length of a text in words\n",
    "\n",
    "We will now write a non-math oriented function. We want a function that takes as input a piece of text, and returns the number of words in it. What is the length of the article in words? For simplicity we assume that words are separated by spaces."
   ]
  },
  {
   "cell_type": "code",
   "execution_count": null,
   "metadata": {},
   "outputs": [],
   "source": [
    "article = \"\"\"One person was believed to be missing after an oil rig storage platform exploded Sunday night on Lake Pontchartrain, just north and west of New Orleans. Seven people were taken to hospitals after the explosion, and three of them remained in critical condition Monday morning, Mike Guillot, the director of emergency medical services at East Jefferson General Hospital, said at a news conference. The other four were released. Sheriff Joe Lopinto of Jefferson Parish said at the news conference, We are fairly confident there is an eighth person, adding that search efforts were continuing, and the Coast Guard had contacted the family of the person. No fatalities had been reported as of Monday morning. The blast occurred shortly after seven pm near St Charles Parish and the city of Kenner. The platform is in unincorporated Jefferson Parish. Officials are still investigating the cause of the explosion, but the City of Kenner said on its Facebook page that authorities on the scene report that cleaning chemicals ignited on the surface of the oil rig platform.\"\"\"\n",
    "print(article)"
   ]
  },
  {
   "cell_type": "code",
   "execution_count": null,
   "metadata": {},
   "outputs": [],
   "source": [
    "words = article.split(\" \")\n",
    "print(words)"
   ]
  },
  {
   "cell_type": "code",
   "execution_count": null,
   "metadata": {},
   "outputs": [],
   "source": [
    "len_words = len(words)\n",
    "print(len_words)"
   ]
  },
  {
   "cell_type": "markdown",
   "metadata": {},
   "source": [
    "So, in this case, we have the input being the string variable that contains the text, and the output is a number."
   ]
  },
  {
   "cell_type": "code",
   "execution_count": null,
   "metadata": {},
   "outputs": [],
   "source": [
    "def article_length(text):\n",
    "    words = text.split(\" \")\n",
    "    length = len(words)\n",
    "    return length"
   ]
  },
  {
   "cell_type": "code",
   "execution_count": null,
   "metadata": {},
   "outputs": [],
   "source": [
    "len_words = article_length(article)\n",
    "print(f\"The article length is {len_words} words\")"
   ]
  },
  {
   "cell_type": "markdown",
   "metadata": {},
   "source": [
    "#### Advanced: Multiple outputs"
   ]
  },
  {
   "cell_type": "markdown",
   "metadata": {},
   "source": []
  },
  {
   "cell_type": "code",
   "execution_count": null,
   "metadata": {},
   "outputs": [],
   "source": [
    "# TODO: Return also the length in characters, and the length in sentences\n",
    "# Introduce the notion of multiple values in the output"
   ]
  },
  {
   "cell_type": "markdown",
   "metadata": {},
   "source": [
    "## Returning multiple values: Example with quadratic function"
   ]
  },
  {
   "cell_type": "markdown",
   "metadata": {},
   "source": [
    "### Example 5: Solve the quadratic equation"
   ]
  },
  {
   "cell_type": "markdown",
   "metadata": {},
   "source": [
    "Here is another example of a function, again math oriented, so that you remember your high school years. \n",
    "\n",
    "We want to solve the quadratic equation $ a*x^2 + b*x + c = 0$.\n",
    "\n",
    "Recall that the solutions of a quadratic equation $a \\cdot x^2+ b \\cdot x+c$ are:\n",
    "\n",
    "* $x_1 = \\frac{−b + \\sqrt{b^2 − 4 \\cdot a \\cdot c}}{ 2 \\cdot a}$ and $ x_2 = \\frac{−b - \\sqrt{b^2 − 4 \\cdot a \\cdot c}}{ 2 \\cdot a}$ when $b^2 − 4 \\cdot a \\cdot c > 0$.\n",
    "* $x = \\frac{−b}{ 2 \\cdot a}$ when $b^2 − 4 \\cdot a \\cdot c = 0$.\n",
    "* No solutions when $b^2 − 4 \\cdot a \\cdot c < 0$\n",
    "\n"
   ]
  },
  {
   "cell_type": "code",
   "execution_count": null,
   "metadata": {},
   "outputs": [],
   "source": [
    "import math\n",
    "a = 1\n",
    "b = -5.86\n",
    "c = 8.5408\n",
    "\n",
    "# Start solving\n",
    "D = b**2 - 4*a*c\n",
    "if D>0:\n",
    "    x1 = (-b + math.sqrt(D) ) /(2*a)\n",
    "    print(f\"Solution 1: {x1:.3f}\")\n",
    "    x2 = (-b - math.sqrt(D) )/(2*a)\n",
    "    print(f\"Solution 2: {x2:.3f}\")\n",
    "elif D==0:\n",
    "    x = -b/(2*a)\n",
    "    print(f\"Solution: {x:.3f}\")\n",
    "else:\n",
    "    print(f\"No Solution\")"
   ]
  },
  {
   "cell_type": "markdown",
   "metadata": {},
   "source": [
    "So, let's convert the code above into a function. Let's start by taking the code above and putting it in a function."
   ]
  },
  {
   "cell_type": "code",
   "execution_count": null,
   "metadata": {},
   "outputs": [],
   "source": [
    "# NOTE: This is an INCORRECT APPROACH: \n",
    "# Using PRINT instead of RETURN\n",
    "def solve_quadratic(a, b, c):\n",
    "    \n",
    "    D = b**2 - 4 * a * c\n",
    "    if D > 0:\n",
    "        x1 = (-b + math.sqrt(D) ) / (2 * a)\n",
    "        print(f\"Solution 1: {x1:.3f}\")\n",
    "        x2 = (-b - math.sqrt(D) ) / (2 * a)\n",
    "        print(f\"Solution 2: {x2:.3f}\")\n",
    "    elif D == 0:\n",
    "        x = -b / (2 * a)\n",
    "        print(f\"Solution: {x:.3f}\")\n",
    "    else:\n",
    "        print(f\"No Solution\")"
   ]
  },
  {
   "cell_type": "markdown",
   "metadata": {},
   "source": [
    "#### Attention: Common mistake 1: `print` instead of `return` "
   ]
  },
  {
   "cell_type": "markdown",
   "metadata": {},
   "source": [
    "The code above is a very common mistake for beginners. It is a tricky mistake because the program superficially seems to work fine."
   ]
  },
  {
   "cell_type": "code",
   "execution_count": null,
   "metadata": {},
   "outputs": [],
   "source": [
    "a = 1\n",
    "b = -5.86\n",
    "c = 8.5408\n",
    "solve_quadratic(a, b, c)"
   ]
  },
  {
   "cell_type": "code",
   "execution_count": null,
   "metadata": {},
   "outputs": [],
   "source": [
    "a = 1\n",
    "b = 2\n",
    "c = 1\n",
    "solve_quadratic(a, b, c)"
   ]
  },
  {
   "cell_type": "markdown",
   "metadata": {},
   "source": [
    "Notice though one issue: There is no output."
   ]
  },
  {
   "cell_type": "code",
   "execution_count": null,
   "metadata": {},
   "outputs": [],
   "source": [
    "a = 1\n",
    "b = 2\n",
    "c = 1\n",
    "result = solve_quadratic(a, b, c)\n",
    "print(\"The result is:\", result)"
   ]
  },
  {
   "cell_type": "markdown",
   "metadata": {},
   "source": [
    "So, what is the input and output in this case?\n",
    "\n",
    "For input, things are clear: We need the values for $a$, $b$, and $c$.\n",
    "\n",
    "For output? We may need to get back two, one, or no values. This is an example where we need to think before writing the code, and make a design decision. \n",
    "\n",
    "A common solution when we have situations with multiple possible outputs is to return a tuple, as we did above. "
   ]
  },
  {
   "cell_type": "code",
   "execution_count": null,
   "metadata": {},
   "outputs": [],
   "source": [
    "## COMMON MISTAKE 1: PRINT instead of RETURN"
   ]
  },
  {
   "cell_type": "code",
   "execution_count": null,
   "metadata": {},
   "outputs": [],
   "source": [
    "# Example of returning \"multivalued\" results using tuples/lists\n",
    "def solve_quadratic(a,b,c):\n",
    "    # We can even check that the value of the discriminant\n",
    "    # is positive before returning a result\n",
    "    discr = b**2 - 4*a*c\n",
    "    if discr < 0: # We will not compute \n",
    "        return None # \"None\" is a special value, meaning \"nothing\"\n",
    "    if discr == 0:\n",
    "        solution = -b / (2 * a)\n",
    "        return solution\n",
    "    if discr > 0:\n",
    "        solution1 = (-b + math.sqrt(D) ) / (2 * a)\n",
    "        solution2 = (-b - math.sqrt(D) ) / (2 * a)\n",
    "        # A function can return a list, tuple, dictionary, etc.\n",
    "        # The \"return\" value does not have to be a single value\n",
    "        return solution1, solution2\n",
    "\n",
    "solutions = solve_quadratic(a,b,c)\n",
    "print(\"Solutions:\", solutions )\n"
   ]
  },
  {
   "cell_type": "code",
   "execution_count": null,
   "metadata": {},
   "outputs": [],
   "source": [
    "## COMMON MISTAKE 2\n",
    "# Using multiple return statements\n",
    "# Why? After we execute the first return, \n",
    "# we do not execute anything below that\n",
    "def s1(a, b, c):\n",
    "    d = math.sqrt(b**2 - 4*a*c)\n",
    "    return (-b + d)/(2*a) # solution 1 \n",
    "    return (-b - d)/(2*a) # solution 2, BUT this will never be executed"
   ]
  },
  {
   "cell_type": "code",
   "execution_count": null,
   "metadata": {},
   "outputs": [],
   "source": []
  },
  {
   "cell_type": "markdown",
   "metadata": {},
   "source": [
    "## Functions and Loops: Cleaning up a string"
   ]
  },
  {
   "cell_type": "code",
   "execution_count": null,
   "metadata": {},
   "outputs": [],
   "source": [
    "# this function takes as input a phone (string variable)\n",
    "# and prints only its digits\n",
    "def clean(phone):\n",
    "    result = \"\"\n",
    "    digits = {\"0\",\"1\",\"2\",\"3\",\"4\",\"5\",\"6\",\"7\",\"8\",\"9\"}\n",
    "    for c in phone:\n",
    "        if c in digits:\n",
    "            result = result + c\n",
    "    return result        \n"
   ]
  },
  {
   "cell_type": "code",
   "execution_count": null,
   "metadata": {},
   "outputs": [],
   "source": []
  },
  {
   "cell_type": "code",
   "execution_count": null,
   "metadata": {},
   "outputs": [],
   "source": [
    "p = \"(800) 555-1214 Panos Phone number\"\n",
    "print(clean(p))"
   ]
  },
  {
   "cell_type": "code",
   "execution_count": null,
   "metadata": {},
   "outputs": [],
   "source": [
    "# this function takes as input a phone (string variable)\n",
    "# and prints only its digits\n",
    "def clean(phone):\n",
    "    # We initialize the result variable to be empty. \n",
    "    # We will append to this variable the digit characters \n",
    "    result = \"\"\n",
    "    # This is a set of digits (as **strings**) that will\n",
    "    # allow us to filter the characters\n",
    "    digits = {\"0\",\"1\",\"2\",\"3\",\"4\",\"5\",\"6\",\"7\",\"8\",\"9\"}\n",
    "    # We iterate over all the characters in the string \"phone\"\n",
    "    # which is a parameter of the function clean\n",
    "    for c in phone:\n",
    "        # We check if the character c is a digit\n",
    "        if c in digits:\n",
    "            # if it is, we append it to the result\n",
    "            result = result + c\n",
    "    # once we are done we return a string variable with the result\n",
    "    return result \n"
   ]
  },
  {
   "cell_type": "code",
   "execution_count": null,
   "metadata": {},
   "outputs": [],
   "source": [
    "# This is an alternative, one-line solution that uses a list \n",
    "# comprehension to create the list of acceptable characters, \n",
    "# and then uses the join command to concatenate all the \n",
    "# characters in the list into a string. Notice that we use \n",
    "# the empty string \"\" as the connector\n",
    "def clean_oneline(phone):\n",
    "    digits = {\"0\",\"1\",\"2\",\"3\",\"4\",\"5\",\"6\",\"7\",\"8\",\"9\"}\n",
    "    return \"\".join([c for c in phone if c in digits])"
   ]
  },
  {
   "cell_type": "code",
   "execution_count": null,
   "metadata": {},
   "outputs": [],
   "source": [
    "### Example: Random password"
   ]
  },
  {
   "cell_type": "markdown",
   "metadata": {},
   "source": [
    "## Functions and Loops:  Generate a random password with `n` letters. The value `n` should be a parameter."
   ]
  },
  {
   "cell_type": "code",
   "execution_count": null,
   "metadata": {},
   "outputs": [],
   "source": [
    "# This code generates one random letter\n",
    "import random\n",
    "import string\n",
    "random.choice(string.ascii_letters)\n"
   ]
  },
  {
   "cell_type": "markdown",
   "metadata": {},
   "source": [
    "## Variable Scopes"
   ]
  },
  {
   "cell_type": "code",
   "execution_count": null,
   "metadata": {},
   "outputs": [],
   "source": []
  },
  {
   "cell_type": "code",
   "execution_count": null,
   "metadata": {},
   "outputs": [],
   "source": []
  }
 ],
 "metadata": {
  "kernelspec": {
   "display_name": "Python 3",
   "language": "python",
   "name": "python3"
  },
  "language_info": {
   "codemirror_mode": {
    "name": "ipython",
    "version": 3
   },
   "file_extension": ".py",
   "mimetype": "text/x-python",
   "name": "python",
   "nbconvert_exporter": "python",
   "pygments_lexer": "ipython3",
   "version": "3.7.1"
  },
  "toc": {
   "base_numbering": 1,
   "nav_menu": {},
   "number_sections": true,
   "sideBar": true,
   "skip_h1_title": false,
   "title_cell": "Table of Contents",
   "title_sidebar": "Contents",
   "toc_cell": true,
   "toc_position": {},
   "toc_section_display": true,
   "toc_window_display": false
  }
 },
 "nbformat": 4,
 "nbformat_minor": 2
}
