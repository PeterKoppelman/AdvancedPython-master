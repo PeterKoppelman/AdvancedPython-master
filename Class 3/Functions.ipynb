{
 "cells": [
  {
   "cell_type": "markdown",
   "metadata": {
    "toc": true
   },
   "source": [
    "<h1>Table of Contents<span class=\"tocSkip\"></span></h1>\n",
    "<div class=\"toc\"><ul class=\"toc-item\"><li><span><a href=\"#isinstance-?\" data-toc-modified-id=\"isinstance-?-1\"><span class=\"toc-item-num\">1&nbsp;&nbsp;</span>isinstance ?</a></span></li><li><span><a href=\"#Simple-Functions\" data-toc-modified-id=\"Simple-Functions-2\"><span class=\"toc-item-num\">2&nbsp;&nbsp;</span>Simple Functions</a></span></li><li><span><a href=\"#Function-within-a-Function\" data-toc-modified-id=\"Function-within-a-Function-3\"><span class=\"toc-item-num\">3&nbsp;&nbsp;</span>Function within a Function</a></span></li><li><span><a href=\"#Conditional-Statements-within-Functions\" data-toc-modified-id=\"Conditional-Statements-within-Functions-4\"><span class=\"toc-item-num\">4&nbsp;&nbsp;</span>Conditional Statements within Functions</a></span></li><li><span><a href=\"#Arguments-vs-Parameters\" data-toc-modified-id=\"Arguments-vs-Parameters-5\"><span class=\"toc-item-num\">5&nbsp;&nbsp;</span>Arguments vs Parameters</a></span><ul class=\"toc-item\"><li><ul class=\"toc-item\"><li><span><a href=\"#Positional-Arguments\" data-toc-modified-id=\"Positional-Arguments-5.0.1\"><span class=\"toc-item-num\">5.0.1&nbsp;&nbsp;</span>Positional Arguments</a></span></li></ul></li></ul></li><li><span><a href=\"#Defining-Default-Values-(Positional-Arguments)\" data-toc-modified-id=\"Defining-Default-Values-(Positional-Arguments)-6\"><span class=\"toc-item-num\">6&nbsp;&nbsp;</span>Defining Default Values (Positional Arguments)</a></span></li><li><span><a href=\"#Named-Arguments\" data-toc-modified-id=\"Named-Arguments-7\"><span class=\"toc-item-num\">7&nbsp;&nbsp;</span>Named Arguments</a></span></li><li><span><a href=\"#Unpacking-Iterables\" data-toc-modified-id=\"Unpacking-Iterables-8\"><span class=\"toc-item-num\">8&nbsp;&nbsp;</span>Unpacking Iterables</a></span><ul class=\"toc-item\"><li><span><a href=\"#Unpacking-a-Tuple\" data-toc-modified-id=\"Unpacking-a-Tuple-8.1\"><span class=\"toc-item-num\">8.1&nbsp;&nbsp;</span>Unpacking a Tuple</a></span></li></ul></li><li><span><a href=\"#Our-Task:-Find-similar-company-names\" data-toc-modified-id=\"Our-Task:-Find-similar-company-names-9\"><span class=\"toc-item-num\">9&nbsp;&nbsp;</span>Our Task: Find similar company names</a></span><ul class=\"toc-item\"><li><span><a href=\"#Your-high-level-task\" data-toc-modified-id=\"Your-high-level-task-9.1\"><span class=\"toc-item-num\">9.1&nbsp;&nbsp;</span>Your high level task</a></span></li><li><span><a href=\"#Matching-Company-Names\" data-toc-modified-id=\"Matching-Company-Names-9.2\"><span class=\"toc-item-num\">9.2&nbsp;&nbsp;</span>Matching Company Names</a></span><ul class=\"toc-item\"><li><span><a href=\"#STEP-1:-Read-the-list-of-names-from-a-file-and-create-a-list-of-names\" data-toc-modified-id=\"STEP-1:-Read-the-list-of-names-from-a-file-and-create-a-list-of-names-9.2.1\"><span class=\"toc-item-num\">9.2.1&nbsp;&nbsp;</span>STEP 1: Read the list of names from a file and create a list of names</a></span></li><li><span><a href=\"#STEP-2:-Implement-the-similarity-function\" data-toc-modified-id=\"STEP-2:-Implement-the-similarity-function-9.2.2\"><span class=\"toc-item-num\">9.2.2&nbsp;&nbsp;</span>STEP 2: Implement the similarity function</a></span></li><li><span><a href=\"#Computing-the-similarity-between-two-strings\" data-toc-modified-id=\"Computing-the-similarity-between-two-strings-9.2.3\"><span class=\"toc-item-num\">9.2.3&nbsp;&nbsp;</span>Computing the similarity between two strings</a></span><ul class=\"toc-item\"><li><span><a href=\"#STEP-2.a:-Let's-figure-out-how-we-can-install-the-libraries...\" data-toc-modified-id=\"STEP-2.a:-Let's-figure-out-how-we-can-install-the-libraries...-9.2.3.1\"><span class=\"toc-item-num\">9.2.3.1&nbsp;&nbsp;</span>STEP 2.a: Let's figure out how we can install the libraries...</a></span></li><li><span><a href=\"#STEP-2.b:-Now-let's-test-our-similarity-functions-with-various-examples\" data-toc-modified-id=\"STEP-2.b:-Now-let's-test-our-similarity-functions-with-various-examples-9.2.3.2\"><span class=\"toc-item-num\">9.2.3.2&nbsp;&nbsp;</span>STEP 2.b: Now let's test our similarity functions with various examples</a></span></li><li><span><a href=\"#Ngrams\" data-toc-modified-id=\"Ngrams-9.2.3.3\"><span class=\"toc-item-num\">9.2.3.3&nbsp;&nbsp;</span>Ngrams</a></span></li><li><span><a href=\"#Task-1:-Create-a-function-that-takes-as-input-two-strings-and-returns-their-similarity\" data-toc-modified-id=\"Task-1:-Create-a-function-that-takes-as-input-two-strings-and-returns-their-similarity-9.2.3.4\"><span class=\"toc-item-num\">9.2.3.4&nbsp;&nbsp;</span>Task 1: Create a function that takes as input two strings and returns their similarity</a></span></li><li><span><a href=\"#Task-2:-Modify-the-functions-above-to-allow-for-various-similarity-calculation-methods.\" data-toc-modified-id=\"Task-2:-Modify-the-functions-above-to-allow-for-various-similarity-calculation-methods.-9.2.3.5\"><span class=\"toc-item-num\">9.2.3.5&nbsp;&nbsp;</span>Task 2: Modify the functions above to allow for various similarity calculation methods.</a></span></li></ul></li><li><span><a href=\"#STEP-3:-Compute-similarity-of-a-company-against-a-list-of-company-names\" data-toc-modified-id=\"STEP-3:-Compute-similarity-of-a-company-against-a-list-of-company-names-9.2.4\"><span class=\"toc-item-num\">9.2.4&nbsp;&nbsp;</span>STEP 3: Compute similarity of a company against a list of company names</a></span></li><li><span><a href=\"#Step-4:-Perform-the-similarity-computation-across-all-companies-in-the-dataset.\" data-toc-modified-id=\"Step-4:-Perform-the-similarity-computation-across-all-companies-in-the-dataset.-9.2.5\"><span class=\"toc-item-num\">9.2.5&nbsp;&nbsp;</span>Step 4: Perform the similarity computation across all companies in the dataset.</a></span></li></ul></li></ul></li></ul></div>"
   ]
  },
  {
   "cell_type": "markdown",
   "metadata": {},
   "source": [
    "# isinstance ?"
   ]
  },
  {
   "cell_type": "code",
   "execution_count": 2,
   "metadata": {
    "ExecuteTime": {
     "end_time": "2019-02-21T23:26:51.718457Z",
     "start_time": "2019-02-21T23:26:51.715024Z"
    }
   },
   "outputs": [],
   "source": [
    "items = [\"mike\", \"Phone\", 332.1, 330, 245.8, \"Pie\", \"Apple Pie\"]"
   ]
  },
  {
   "cell_type": "code",
   "execution_count": 3,
   "metadata": {
    "ExecuteTime": {
     "end_time": "2019-02-21T23:26:52.605249Z",
     "start_time": "2019-02-21T23:26:52.595742Z"
    }
   },
   "outputs": [
    {
     "data": {
      "text/plain": [
       "['mike', 'Phone', 332.1, 330, 245.8, 'Pie', 'Apple Pie']"
      ]
     },
     "execution_count": 3,
     "metadata": {},
     "output_type": "execute_result"
    }
   ],
   "source": [
    "items"
   ]
  },
  {
   "cell_type": "code",
   "execution_count": 4,
   "metadata": {
    "ExecuteTime": {
     "end_time": "2019-02-21T23:26:55.867502Z",
     "start_time": "2019-02-21T23:26:55.863668Z"
    }
   },
   "outputs": [
    {
     "data": {
      "text/plain": [
       "list"
      ]
     },
     "execution_count": 4,
     "metadata": {},
     "output_type": "execute_result"
    }
   ],
   "source": [
    "type(items)"
   ]
  },
  {
   "cell_type": "code",
   "execution_count": 5,
   "metadata": {
    "ExecuteTime": {
     "end_time": "2019-02-21T23:27:20.561713Z",
     "start_time": "2019-02-21T23:27:20.557571Z"
    }
   },
   "outputs": [
    {
     "data": {
      "text/plain": [
       "False"
      ]
     },
     "execution_count": 5,
     "metadata": {},
     "output_type": "execute_result"
    }
   ],
   "source": [
    "isinstance(123, float)"
   ]
  },
  {
   "cell_type": "code",
   "execution_count": 6,
   "metadata": {
    "ExecuteTime": {
     "end_time": "2019-02-21T23:27:34.281597Z",
     "start_time": "2019-02-21T23:27:34.275083Z"
    }
   },
   "outputs": [
    {
     "data": {
      "text/plain": [
       "True"
      ]
     },
     "execution_count": 6,
     "metadata": {},
     "output_type": "execute_result"
    }
   ],
   "source": [
    "isinstance(123.12, float)"
   ]
  },
  {
   "cell_type": "code",
   "execution_count": null,
   "metadata": {
    "ExecuteTime": {
     "end_time": "2019-02-21T19:59:15.969222Z",
     "start_time": "2019-02-21T19:59:15.879648Z"
    }
   },
   "outputs": [],
   "source": [
    "items.sort() # Will generate an error"
   ]
  },
  {
   "cell_type": "code",
   "execution_count": 7,
   "metadata": {
    "ExecuteTime": {
     "end_time": "2019-02-21T23:27:59.975195Z",
     "start_time": "2019-02-21T23:27:59.970959Z"
    }
   },
   "outputs": [
    {
     "data": {
      "text/plain": [
       "['abc', 'IBM', 'GS', 'SD', 'SNP', 'CITI', 'bbb']"
      ]
     },
     "execution_count": 7,
     "metadata": {},
     "output_type": "execute_result"
    }
   ],
   "source": [
    "str_items = [\"abc\", \"IBM\", \"GS\", \"SD\", \"SNP\", \"CITI\", \"bbb\"]\n",
    "str_items"
   ]
  },
  {
   "cell_type": "code",
   "execution_count": 8,
   "metadata": {
    "ExecuteTime": {
     "end_time": "2019-02-21T23:28:01.433334Z",
     "start_time": "2019-02-21T23:28:01.428074Z"
    }
   },
   "outputs": [
    {
     "data": {
      "text/plain": [
       "['abc', 'IBM', 'GS', 'SD', 'SNP', 'CITI', 'bbb']"
      ]
     },
     "execution_count": 8,
     "metadata": {},
     "output_type": "execute_result"
    }
   ],
   "source": [
    "str_items"
   ]
  },
  {
   "cell_type": "code",
   "execution_count": 9,
   "metadata": {
    "ExecuteTime": {
     "end_time": "2019-02-21T23:28:02.363009Z",
     "start_time": "2019-02-21T23:28:02.360035Z"
    }
   },
   "outputs": [],
   "source": [
    "str_items.sort()"
   ]
  },
  {
   "cell_type": "code",
   "execution_count": 10,
   "metadata": {
    "ExecuteTime": {
     "end_time": "2019-02-21T23:28:03.591906Z",
     "start_time": "2019-02-21T23:28:03.588007Z"
    }
   },
   "outputs": [
    {
     "data": {
      "text/plain": [
       "['CITI', 'GS', 'IBM', 'SD', 'SNP', 'abc', 'bbb']"
      ]
     },
     "execution_count": 10,
     "metadata": {},
     "output_type": "execute_result"
    }
   ],
   "source": [
    "str_items"
   ]
  },
  {
   "cell_type": "code",
   "execution_count": null,
   "metadata": {
    "ExecuteTime": {
     "end_time": "2019-02-21T19:59:34.878448Z",
     "start_time": "2019-02-21T19:59:34.874295Z"
    }
   },
   "outputs": [],
   "source": [
    "str_items.sort(key = str.lower)\n",
    "str_items"
   ]
  },
  {
   "cell_type": "code",
   "execution_count": null,
   "metadata": {
    "ExecuteTime": {
     "end_time": "2019-02-21T19:59:35.037753Z",
     "start_time": "2019-02-21T19:59:35.033343Z"
    }
   },
   "outputs": [],
   "source": [
    "str_items.sort(key = str.lower, reverse = True)\n",
    "str_items"
   ]
  },
  {
   "cell_type": "code",
   "execution_count": null,
   "metadata": {
    "ExecuteTime": {
     "end_time": "2019-02-21T19:59:35.170832Z",
     "start_time": "2019-02-21T19:59:35.166357Z"
    }
   },
   "outputs": [],
   "source": [
    "new_items = sorted(str_items)\n",
    "new_items"
   ]
  },
  {
   "cell_type": "code",
   "execution_count": null,
   "metadata": {
    "ExecuteTime": {
     "end_time": "2019-02-21T19:59:35.330948Z",
     "start_time": "2019-02-21T19:59:35.324175Z"
    }
   },
   "outputs": [],
   "source": [
    "new_items = sorted(str_items, key = str.lower, reverse = True)\n",
    "new_items"
   ]
  },
  {
   "cell_type": "code",
   "execution_count": null,
   "metadata": {
    "ExecuteTime": {
     "end_time": "2019-02-21T19:59:35.484209Z",
     "start_time": "2019-02-21T19:59:35.480370Z"
    }
   },
   "outputs": [],
   "source": [
    "int_items = [123,23,224,252,98973,7809234,623]\n",
    "int_items"
   ]
  },
  {
   "cell_type": "code",
   "execution_count": null,
   "metadata": {
    "ExecuteTime": {
     "end_time": "2019-02-21T19:59:35.647872Z",
     "start_time": "2019-02-21T19:59:35.644871Z"
    }
   },
   "outputs": [],
   "source": [
    "int_items.sort()"
   ]
  },
  {
   "cell_type": "code",
   "execution_count": null,
   "metadata": {
    "ExecuteTime": {
     "end_time": "2019-02-21T19:59:35.800225Z",
     "start_time": "2019-02-21T19:59:35.796285Z"
    }
   },
   "outputs": [],
   "source": [
    "int_items"
   ]
  },
  {
   "cell_type": "code",
   "execution_count": null,
   "metadata": {
    "ExecuteTime": {
     "end_time": "2019-02-21T19:59:35.963765Z",
     "start_time": "2019-02-21T19:59:35.959128Z"
    }
   },
   "outputs": [],
   "source": [
    "new_items = sorted(int_items, reverse = True)\n",
    "new_items"
   ]
  },
  {
   "cell_type": "code",
   "execution_count": null,
   "metadata": {
    "ExecuteTime": {
     "end_time": "2019-02-21T19:59:36.121125Z",
     "start_time": "2019-02-21T19:59:36.117143Z"
    }
   },
   "outputs": [],
   "source": [
    "new_items = sorted(int_items)\n",
    "new_items"
   ]
  },
  {
   "cell_type": "code",
   "execution_count": null,
   "metadata": {
    "ExecuteTime": {
     "end_time": "2019-02-21T19:59:36.274749Z",
     "start_time": "2019-02-21T19:59:36.271108Z"
    }
   },
   "outputs": [],
   "source": [
    "new_items = sorted(int_items, reverse = True)\n",
    "new_items"
   ]
  },
  {
   "cell_type": "code",
   "execution_count": null,
   "metadata": {
    "ExecuteTime": {
     "end_time": "2019-02-21T19:59:36.431244Z",
     "start_time": "2019-02-21T19:59:36.427070Z"
    }
   },
   "outputs": [],
   "source": [
    "sum(new_items)"
   ]
  },
  {
   "cell_type": "code",
   "execution_count": null,
   "metadata": {
    "ExecuteTime": {
     "end_time": "2019-02-21T19:59:36.587663Z",
     "start_time": "2019-02-21T19:59:36.583753Z"
    }
   },
   "outputs": [],
   "source": [
    "len(new_items)"
   ]
  },
  {
   "cell_type": "code",
   "execution_count": null,
   "metadata": {
    "ExecuteTime": {
     "end_time": "2019-02-21T19:59:36.746714Z",
     "start_time": "2019-02-21T19:59:36.742564Z"
    }
   },
   "outputs": [],
   "source": [
    "sum(int_items)"
   ]
  },
  {
   "cell_type": "code",
   "execution_count": null,
   "metadata": {
    "ExecuteTime": {
     "end_time": "2019-02-21T19:59:36.901667Z",
     "start_time": "2019-02-21T19:59:36.897506Z"
    }
   },
   "outputs": [],
   "source": [
    "int_items == new_items"
   ]
  },
  {
   "cell_type": "code",
   "execution_count": null,
   "metadata": {
    "ExecuteTime": {
     "end_time": "2019-02-21T19:59:37.064879Z",
     "start_time": "2019-02-21T19:59:37.059366Z"
    }
   },
   "outputs": [],
   "source": [
    "sum(int_items) == sum(new_items)"
   ]
  },
  {
   "cell_type": "code",
   "execution_count": null,
   "metadata": {
    "ExecuteTime": {
     "end_time": "2019-02-21T19:59:37.217030Z",
     "start_time": "2019-02-21T19:59:37.212486Z"
    }
   },
   "outputs": [],
   "source": [
    "str_items"
   ]
  },
  {
   "cell_type": "code",
   "execution_count": 12,
   "metadata": {
    "ExecuteTime": {
     "end_time": "2019-02-21T23:31:40.851258Z",
     "start_time": "2019-02-21T23:31:40.846187Z"
    }
   },
   "outputs": [
    {
     "data": {
      "text/plain": [
       "['abc', 'IBM', 'GS', 'SD', 'SNP', 'CITI', 'bbb', 22, 3.14159, 33, 44, 99.99999]"
      ]
     },
     "execution_count": 12,
     "metadata": {},
     "output_type": "execute_result"
    }
   ],
   "source": [
    "str_items = [\"abc\", \"IBM\", \"GS\", \"SD\", \"SNP\", \"CITI\", \"bbb\", 22, 3.14159, 33,44,99.99999]\n",
    "str_items"
   ]
  },
  {
   "cell_type": "code",
   "execution_count": 13,
   "metadata": {
    "ExecuteTime": {
     "end_time": "2019-02-21T23:31:41.985058Z",
     "start_time": "2019-02-21T23:31:41.979820Z"
    }
   },
   "outputs": [
    {
     "name": "stdout",
     "output_type": "stream",
     "text": [
      "(['abc', 'IBM', 'GS', 'SD', 'SNP', 'CITI', 'bbb'], [22, 3.14159, 33, 44, 99.99999])\n"
     ]
    }
   ],
   "source": [
    "def parse_lists(abc):\n",
    "    str_list_items = []\n",
    "    num_list_items = []\n",
    "    for i in abc:\n",
    "        if isinstance(i, float) or isinstance(i, int):\n",
    "            num_list_items.append(i)\n",
    "        elif isinstance(i, str):\n",
    "            str_list_items.append(i)\n",
    "        else:\n",
    "            pass\n",
    "        \n",
    "    return str_list_items, num_list_items\n",
    "\n",
    "print(parse_lists(str_items))"
   ]
  },
  {
   "cell_type": "code",
   "execution_count": null,
   "metadata": {
    "ExecuteTime": {
     "end_time": "2019-02-21T19:59:37.716802Z",
     "start_time": "2019-02-21T19:59:37.711830Z"
    }
   },
   "outputs": [],
   "source": [
    "def my_sum(num_list):\n",
    "    total = 0\n",
    "    for i in num_list:\n",
    "        if isinstance(i, float) or isinstance(i, int):\n",
    "            total += i\n",
    "    return total"
   ]
  },
  {
   "cell_type": "code",
   "execution_count": null,
   "metadata": {
    "ExecuteTime": {
     "end_time": "2019-02-21T19:59:37.899642Z",
     "start_time": "2019-02-21T19:59:37.893237Z"
    }
   },
   "outputs": [],
   "source": [
    "my_sum(str_items)"
   ]
  },
  {
   "cell_type": "code",
   "execution_count": null,
   "metadata": {
    "ExecuteTime": {
     "end_time": "2019-02-21T19:59:38.051362Z",
     "start_time": "2019-02-21T19:59:38.048338Z"
    }
   },
   "outputs": [],
   "source": [
    "def my_avg(my_num_list):\n",
    "    the_sum = my_sum(my_num_list)\n",
    "    num_of_items = len(my_num_list)\n",
    "    return the_sum / (num_of_items * 1.0)"
   ]
  },
  {
   "cell_type": "code",
   "execution_count": null,
   "metadata": {
    "ExecuteTime": {
     "end_time": "2019-02-21T19:59:38.233347Z",
     "start_time": "2019-02-21T19:59:38.227162Z"
    }
   },
   "outputs": [],
   "source": [
    "my_avg(str_items)"
   ]
  },
  {
   "cell_type": "code",
   "execution_count": null,
   "metadata": {
    "ExecuteTime": {
     "end_time": "2019-02-21T19:59:38.387448Z",
     "start_time": "2019-02-21T19:59:38.383882Z"
    }
   },
   "outputs": [],
   "source": [
    "str_items = [\"IBM\", \"GS\", \"SD\", \"SNP\", \"CITI\", 22, 3.14159, 33,44,99.99999]"
   ]
  },
  {
   "cell_type": "code",
   "execution_count": null,
   "metadata": {
    "ExecuteTime": {
     "end_time": "2019-02-21T19:59:38.569768Z",
     "start_time": "2019-02-21T19:59:38.564233Z"
    }
   },
   "outputs": [],
   "source": [
    "def parse_lists(abc):\n",
    "    str_list_items = []\n",
    "    num_list_items = []\n",
    "    for i in abc:\n",
    "        if isinstance(i, float) or isinstance(i, int):\n",
    "            num_list_items.append(i)\n",
    "        elif isinstance(i, str):\n",
    "            str_list_items.append(i)\n",
    "        else:\n",
    "            pass\n",
    "        \n",
    "    return str_list_items, num_list_items\n",
    "\n",
    "print(parse_lists(str_items))"
   ]
  },
  {
   "cell_type": "code",
   "execution_count": 14,
   "metadata": {
    "ExecuteTime": {
     "end_time": "2019-02-21T23:32:42.345850Z",
     "start_time": "2019-02-21T23:32:42.340796Z"
    }
   },
   "outputs": [],
   "source": [
    "def ticker_extract(list_name):\n",
    "    all_tickers = []\n",
    "    all_prices = []\n",
    "    for i in list_name:\n",
    "        if isinstance(i, int) or isinstance(i, float):\n",
    "            all_prices.append(i)\n",
    "        elif isinstance(i, str):\n",
    "            all_tickers.append(i)\n",
    "        else:\n",
    "            pass\n",
    "        \n",
    "    return all_tickers, all_prices\n",
    "    "
   ]
  },
  {
   "cell_type": "code",
   "execution_count": 15,
   "metadata": {
    "ExecuteTime": {
     "end_time": "2019-02-21T23:32:43.402644Z",
     "start_time": "2019-02-21T23:32:43.398152Z"
    }
   },
   "outputs": [
    {
     "data": {
      "text/plain": [
       "(['abc', 'IBM', 'GS', 'SD', 'SNP', 'CITI', 'bbb'],\n",
       " [22, 3.14159, 33, 44, 99.99999])"
      ]
     },
     "execution_count": 15,
     "metadata": {},
     "output_type": "execute_result"
    }
   ],
   "source": [
    "ticker_extract(str_items)"
   ]
  },
  {
   "cell_type": "code",
   "execution_count": 16,
   "metadata": {
    "ExecuteTime": {
     "end_time": "2019-02-21T23:32:49.605185Z",
     "start_time": "2019-02-21T23:32:49.512271Z"
    }
   },
   "outputs": [
    {
     "ename": "NameError",
     "evalue": "name 'all_prices' is not defined",
     "output_type": "error",
     "traceback": [
      "\u001b[0;31m---------------------------------------------------------------------------\u001b[0m",
      "\u001b[0;31mNameError\u001b[0m                                 Traceback (most recent call last)",
      "\u001b[0;32m<ipython-input-16-7e54327f2b1f>\u001b[0m in \u001b[0;36m<module>\u001b[0;34m\u001b[0m\n\u001b[0;32m----> 1\u001b[0;31m \u001b[0mall_prices\u001b[0m\u001b[0;34m\u001b[0m\u001b[0;34m\u001b[0m\u001b[0m\n\u001b[0m",
      "\u001b[0;31mNameError\u001b[0m: name 'all_prices' is not defined"
     ]
    }
   ],
   "source": [
    "all_prices"
   ]
  },
  {
   "cell_type": "code",
   "execution_count": 17,
   "metadata": {
    "ExecuteTime": {
     "end_time": "2019-02-21T23:32:52.029968Z",
     "start_time": "2019-02-21T23:32:52.027082Z"
    }
   },
   "outputs": [
    {
     "name": "stdout",
     "output_type": "stream",
     "text": [
      "(['abc', 'IBM', 'GS', 'SD', 'SNP', 'CITI', 'bbb'], [22, 3.14159, 33, 44, 99.99999])\n"
     ]
    }
   ],
   "source": [
    "print(ticker_extract(str_items))"
   ]
  },
  {
   "cell_type": "code",
   "execution_count": 18,
   "metadata": {
    "ExecuteTime": {
     "end_time": "2019-02-21T23:32:53.909244Z",
     "start_time": "2019-02-21T23:32:53.905358Z"
    }
   },
   "outputs": [],
   "source": [
    "a =ticker_extract(str_items)[1]"
   ]
  },
  {
   "cell_type": "markdown",
   "metadata": {},
   "source": [
    "# Simple Functions"
   ]
  },
  {
   "cell_type": "code",
   "execution_count": 47,
   "metadata": {
    "ExecuteTime": {
     "end_time": "2019-02-21T23:47:05.727919Z",
     "start_time": "2019-02-21T23:47:05.725481Z"
    }
   },
   "outputs": [],
   "source": [
    "def simple():\n",
    "    print(\"Hello World!\")"
   ]
  },
  {
   "cell_type": "code",
   "execution_count": 48,
   "metadata": {
    "ExecuteTime": {
     "end_time": "2019-02-21T23:47:07.961567Z",
     "start_time": "2019-02-21T23:47:07.958078Z"
    }
   },
   "outputs": [
    {
     "name": "stdout",
     "output_type": "stream",
     "text": [
      "Hello World!\n"
     ]
    }
   ],
   "source": [
    "simple()"
   ]
  },
  {
   "cell_type": "code",
   "execution_count": 49,
   "metadata": {
    "ExecuteTime": {
     "end_time": "2019-02-21T23:47:08.139582Z",
     "start_time": "2019-02-21T23:47:08.137323Z"
    }
   },
   "outputs": [],
   "source": [
    "def plus_ten(a):\n",
    "    return a + 10"
   ]
  },
  {
   "cell_type": "code",
   "execution_count": 25,
   "metadata": {
    "ExecuteTime": {
     "end_time": "2019-02-21T23:36:09.276243Z",
     "start_time": "2019-02-21T23:36:09.269749Z"
    }
   },
   "outputs": [
    {
     "data": {
      "text/plain": [
       "20"
      ]
     },
     "execution_count": 25,
     "metadata": {},
     "output_type": "execute_result"
    }
   ],
   "source": [
    "plus_ten(10)"
   ]
  },
  {
   "cell_type": "code",
   "execution_count": 26,
   "metadata": {
    "ExecuteTime": {
     "end_time": "2019-02-21T23:36:09.880972Z",
     "start_time": "2019-02-21T23:36:09.876234Z"
    }
   },
   "outputs": [
    {
     "data": {
      "text/plain": [
       "15"
      ]
     },
     "execution_count": 26,
     "metadata": {},
     "output_type": "execute_result"
    }
   ],
   "source": [
    "plus_ten(5)"
   ]
  },
  {
   "cell_type": "code",
   "execution_count": 27,
   "metadata": {
    "ExecuteTime": {
     "end_time": "2019-02-21T23:36:11.420962Z",
     "start_time": "2019-02-21T23:36:11.418149Z"
    }
   },
   "outputs": [],
   "source": [
    "def plus_ten(a):\n",
    "    result = a + 10\n",
    "    return result"
   ]
  },
  {
   "cell_type": "code",
   "execution_count": 28,
   "metadata": {
    "ExecuteTime": {
     "end_time": "2019-02-21T23:36:17.839284Z",
     "start_time": "2019-02-21T23:36:17.833549Z"
    }
   },
   "outputs": [
    {
     "data": {
      "text/plain": [
       "15"
      ]
     },
     "execution_count": 28,
     "metadata": {},
     "output_type": "execute_result"
    }
   ],
   "source": [
    "plus_ten(5)"
   ]
  },
  {
   "cell_type": "code",
   "execution_count": 29,
   "metadata": {
    "ExecuteTime": {
     "end_time": "2019-02-21T23:36:18.480902Z",
     "start_time": "2019-02-21T23:36:18.476762Z"
    }
   },
   "outputs": [
    {
     "data": {
      "text/plain": [
       "9"
      ]
     },
     "execution_count": 29,
     "metadata": {},
     "output_type": "execute_result"
    }
   ],
   "source": [
    "plus_ten(-1)"
   ]
  },
  {
   "cell_type": "markdown",
   "metadata": {},
   "source": [
    "# Function within a Function"
   ]
  },
  {
   "cell_type": "code",
   "execution_count": 30,
   "metadata": {
    "ExecuteTime": {
     "end_time": "2019-02-21T23:36:49.532274Z",
     "start_time": "2019-02-21T23:36:49.529227Z"
    }
   },
   "outputs": [],
   "source": [
    "def wage(w_hours):\n",
    "    return w_hours * 25"
   ]
  },
  {
   "cell_type": "code",
   "execution_count": 31,
   "metadata": {
    "ExecuteTime": {
     "end_time": "2019-02-21T23:37:26.327625Z",
     "start_time": "2019-02-21T23:37:26.324111Z"
    }
   },
   "outputs": [
    {
     "data": {
      "text/plain": [
       "250"
      ]
     },
     "execution_count": 31,
     "metadata": {},
     "output_type": "execute_result"
    }
   ],
   "source": [
    "wage(10)"
   ]
  },
  {
   "cell_type": "code",
   "execution_count": 32,
   "metadata": {
    "ExecuteTime": {
     "end_time": "2019-02-21T23:37:58.743512Z",
     "start_time": "2019-02-21T23:37:58.740126Z"
    }
   },
   "outputs": [],
   "source": [
    "def with_bonus(w_hours):\n",
    "    return wage(w_hours) + 50"
   ]
  },
  {
   "cell_type": "code",
   "execution_count": 33,
   "metadata": {
    "ExecuteTime": {
     "end_time": "2019-02-21T23:37:59.462616Z",
     "start_time": "2019-02-21T23:37:59.458999Z"
    }
   },
   "outputs": [
    {
     "data": {
      "text/plain": [
       "250"
      ]
     },
     "execution_count": 33,
     "metadata": {},
     "output_type": "execute_result"
    }
   ],
   "source": [
    "wage(10)"
   ]
  },
  {
   "cell_type": "code",
   "execution_count": 34,
   "metadata": {
    "ExecuteTime": {
     "end_time": "2019-02-21T23:38:01.192128Z",
     "start_time": "2019-02-21T23:38:01.187733Z"
    }
   },
   "outputs": [
    {
     "data": {
      "text/plain": [
       "300"
      ]
     },
     "execution_count": 34,
     "metadata": {},
     "output_type": "execute_result"
    }
   ],
   "source": [
    "with_bonus(10)"
   ]
  },
  {
   "cell_type": "markdown",
   "metadata": {},
   "source": [
    "# Conditional Statements within Functions"
   ]
  },
  {
   "cell_type": "code",
   "execution_count": 36,
   "metadata": {
    "ExecuteTime": {
     "end_time": "2019-02-21T23:42:35.399076Z",
     "start_time": "2019-02-21T23:42:35.395817Z"
    }
   },
   "outputs": [],
   "source": [
    "def add(m):\n",
    "    if m >= 100:\n",
    "        m = m + 10 # Or m += 10\n",
    "        return m\n",
    "    else:\n",
    "        return \"Save more.\""
   ]
  },
  {
   "cell_type": "code",
   "execution_count": 37,
   "metadata": {
    "ExecuteTime": {
     "end_time": "2019-02-21T23:42:36.907212Z",
     "start_time": "2019-02-21T23:42:36.902730Z"
    }
   },
   "outputs": [
    {
     "data": {
      "text/plain": [
       "'Save more.'"
      ]
     },
     "execution_count": 37,
     "metadata": {},
     "output_type": "execute_result"
    }
   ],
   "source": [
    "add(90)"
   ]
  },
  {
   "cell_type": "code",
   "execution_count": 38,
   "metadata": {
    "ExecuteTime": {
     "end_time": "2019-02-21T23:42:40.500719Z",
     "start_time": "2019-02-21T23:42:40.496057Z"
    },
    "scrolled": true
   },
   "outputs": [
    {
     "data": {
      "text/plain": [
       "110"
      ]
     },
     "execution_count": 38,
     "metadata": {},
     "output_type": "execute_result"
    }
   ],
   "source": [
    "add(100)"
   ]
  },
  {
   "cell_type": "markdown",
   "metadata": {},
   "source": [
    "# Arguments vs Parameters"
   ]
  },
  {
   "cell_type": "markdown",
   "metadata": {},
   "source": [
    "<b>What is the difference between arguments and parameters? </b>"
   ]
  },
  {
   "cell_type": "markdown",
   "metadata": {},
   "source": [
    "### Positional Arguments"
   ]
  },
  {
   "cell_type": "code",
   "execution_count": 43,
   "metadata": {
    "ExecuteTime": {
     "end_time": "2019-02-21T23:45:01.944150Z",
     "start_time": "2019-02-21T23:45:01.940978Z"
    }
   },
   "outputs": [],
   "source": [
    "def my_func(a,b,c):\n",
    "    print(\"a={0}, b={1}, c={2}\".format(a,b,c))"
   ]
  },
  {
   "cell_type": "code",
   "execution_count": 44,
   "metadata": {
    "ExecuteTime": {
     "end_time": "2019-02-21T23:45:02.462781Z",
     "start_time": "2019-02-21T23:45:02.458795Z"
    },
    "scrolled": true
   },
   "outputs": [
    {
     "name": "stdout",
     "output_type": "stream",
     "text": [
      "a=10, b=20, c=30\n"
     ]
    }
   ],
   "source": [
    "my_func(10,20,30)"
   ]
  },
  {
   "cell_type": "markdown",
   "metadata": {},
   "source": [
    "Another Function Now:"
   ]
  },
  {
   "cell_type": "code",
   "execution_count": 45,
   "metadata": {
    "ExecuteTime": {
     "end_time": "2019-02-21T23:45:11.692740Z",
     "start_time": "2019-02-21T23:45:11.689911Z"
    }
   },
   "outputs": [],
   "source": [
    "def my_func2(a,b):\n",
    "    return a + b"
   ]
  },
  {
   "cell_type": "code",
   "execution_count": 46,
   "metadata": {
    "ExecuteTime": {
     "end_time": "2019-02-21T23:45:19.342211Z",
     "start_time": "2019-02-21T23:45:19.338490Z"
    }
   },
   "outputs": [
    {
     "data": {
      "text/plain": [
       "30"
      ]
     },
     "execution_count": 46,
     "metadata": {},
     "output_type": "execute_result"
    }
   ],
   "source": [
    "my_func2(10,20)"
   ]
  },
  {
   "cell_type": "markdown",
   "metadata": {},
   "source": [
    "In these examples, a,b,c...,n etc are the parameters of the functions (my_func, my_func2 etc). \n",
    "When the functions are called, the values of a,b,c,...,n are arguments.\n",
    "\n",
    "This is a minor detail, and shouldn't really change the way you code, but helps with precision of terminology when communicating with someone."
   ]
  },
  {
   "cell_type": "markdown",
   "metadata": {},
   "source": [
    "  # Defining Default Values (Positional Arguments)"
   ]
  },
  {
   "cell_type": "code",
   "execution_count": 50,
   "metadata": {
    "ExecuteTime": {
     "end_time": "2019-02-21T23:48:58.521963Z",
     "start_time": "2019-02-21T23:48:58.517861Z"
    }
   },
   "outputs": [],
   "source": [
    "def my_func(a, b=20, c=30):\n",
    "    print(\"a={0}, b={1}, c={2}\".format(a, b, c))"
   ]
  },
  {
   "cell_type": "code",
   "execution_count": 51,
   "metadata": {
    "ExecuteTime": {
     "end_time": "2019-02-21T23:49:06.571277Z",
     "start_time": "2019-02-21T23:49:06.568314Z"
    }
   },
   "outputs": [
    {
     "name": "stdout",
     "output_type": "stream",
     "text": [
      "a=10, b=20, c=30\n"
     ]
    }
   ],
   "source": [
    "my_func(10)"
   ]
  },
  {
   "cell_type": "code",
   "execution_count": 52,
   "metadata": {
    "ExecuteTime": {
     "end_time": "2019-02-21T23:49:19.059939Z",
     "start_time": "2019-02-21T23:49:19.056843Z"
    }
   },
   "outputs": [
    {
     "name": "stdout",
     "output_type": "stream",
     "text": [
      "a=100, b=200, c=300\n"
     ]
    }
   ],
   "source": [
    "my_func(100,200,300)"
   ]
  },
  {
   "cell_type": "markdown",
   "metadata": {},
   "source": [
    "In this case, the values (or parameters) for b and c have already been defined. However, there is a caveat:"
   ]
  },
  {
   "cell_type": "code",
   "execution_count": 59,
   "metadata": {
    "ExecuteTime": {
     "end_time": "2019-02-21T23:52:37.313472Z",
     "start_time": "2019-02-21T23:52:37.310357Z"
    }
   },
   "outputs": [],
   "source": [
    "def my_func_again(a,b, c = 30):\n",
    "    print(a,b,c)"
   ]
  },
  {
   "cell_type": "code",
   "execution_count": 60,
   "metadata": {
    "ExecuteTime": {
     "end_time": "2019-02-21T23:53:06.713971Z",
     "start_time": "2019-02-21T23:53:06.708801Z"
    }
   },
   "outputs": [
    {
     "name": "stdout",
     "output_type": "stream",
     "text": [
      "100 200 300\n"
     ]
    }
   ],
   "source": [
    "my_func_again(100, 200, 300)"
   ]
  },
  {
   "cell_type": "markdown",
   "metadata": {},
   "source": [
    "The above function gives an error. Can you guess why?"
   ]
  },
  {
   "cell_type": "markdown",
   "metadata": {},
   "source": [
    "Once a parameter has been given a default value, all following parameters must be assigned a default value as well. Else, errors like the one above will be generated."
   ]
  },
  {
   "cell_type": "code",
   "execution_count": 61,
   "metadata": {
    "ExecuteTime": {
     "end_time": "2019-02-21T23:53:20.154351Z",
     "start_time": "2019-02-21T23:53:20.151146Z"
    }
   },
   "outputs": [],
   "source": [
    "def my_func_again(a,b = 10, c = 50):\n",
    "    print(a,b,c)"
   ]
  },
  {
   "cell_type": "code",
   "execution_count": 62,
   "metadata": {
    "ExecuteTime": {
     "end_time": "2019-02-21T23:53:31.037829Z",
     "start_time": "2019-02-21T23:53:31.034840Z"
    }
   },
   "outputs": [
    {
     "name": "stdout",
     "output_type": "stream",
     "text": [
      "100 10 50\n"
     ]
    }
   ],
   "source": [
    "my_func_again(100)"
   ]
  },
  {
   "cell_type": "code",
   "execution_count": 63,
   "metadata": {
    "ExecuteTime": {
     "end_time": "2019-02-21T23:53:33.502188Z",
     "start_time": "2019-02-21T23:53:33.498761Z"
    },
    "scrolled": true
   },
   "outputs": [
    {
     "name": "stdout",
     "output_type": "stream",
     "text": [
      "100 3.14 50\n"
     ]
    }
   ],
   "source": [
    "my_func_again(100,3.14)"
   ]
  },
  {
   "cell_type": "markdown",
   "metadata": {},
   "source": [
    "Since paramater 'a' does not have a default value, we must specify it."
   ]
  },
  {
   "cell_type": "markdown",
   "metadata": {},
   "source": [
    "# Named Arguments\n",
    "\n",
    "This is similar to above - But with a minor difference. With named arguments, the position of the argument doesn't matter, only the name matters. Examples below:"
   ]
  },
  {
   "cell_type": "code",
   "execution_count": 64,
   "metadata": {
    "ExecuteTime": {
     "end_time": "2019-02-21T23:56:00.577988Z",
     "start_time": "2019-02-21T23:56:00.573755Z"
    }
   },
   "outputs": [],
   "source": [
    "def my_func(a , b = 10, c = 50):\n",
    "    print(a,b,c)"
   ]
  },
  {
   "cell_type": "code",
   "execution_count": 65,
   "metadata": {
    "ExecuteTime": {
     "end_time": "2019-02-21T23:56:01.422590Z",
     "start_time": "2019-02-21T23:56:01.419651Z"
    }
   },
   "outputs": [
    {
     "name": "stdout",
     "output_type": "stream",
     "text": [
      "1 10 50\n"
     ]
    }
   ],
   "source": [
    "my_func(1)"
   ]
  },
  {
   "cell_type": "code",
   "execution_count": 66,
   "metadata": {
    "ExecuteTime": {
     "end_time": "2019-02-21T23:56:14.137924Z",
     "start_time": "2019-02-21T23:56:14.133533Z"
    }
   },
   "outputs": [
    {
     "name": "stdout",
     "output_type": "stream",
     "text": [
      "1 2 3\n"
     ]
    }
   ],
   "source": [
    "my_func(1,2,3)"
   ]
  },
  {
   "cell_type": "code",
   "execution_count": 67,
   "metadata": {
    "ExecuteTime": {
     "end_time": "2019-02-21T23:56:25.983454Z",
     "start_time": "2019-02-21T23:56:25.979637Z"
    }
   },
   "outputs": [
    {
     "name": "stdout",
     "output_type": "stream",
     "text": [
      "1 2 10\n"
     ]
    }
   ],
   "source": [
    "my_func(1, c= 10, b = 2)"
   ]
  },
  {
   "cell_type": "markdown",
   "metadata": {},
   "source": [
    "Let us go in deeper. Look at the function below. In how many ways can we provide the values needed?"
   ]
  },
  {
   "cell_type": "code",
   "execution_count": 68,
   "metadata": {
    "ExecuteTime": {
     "end_time": "2019-02-22T00:00:48.360415Z",
     "start_time": "2019-02-22T00:00:48.355765Z"
    }
   },
   "outputs": [],
   "source": [
    "from math import sqrt\n",
    "\n",
    "def polynomial_func(a,b,c):\n",
    "    x1 = -c / (2 * b**2)\n",
    "    x2 = sqrt(b**2 - 2*a*b)/(2*a)\n",
    "\n",
    "    return (x1 + x2), (x1 - x2)"
   ]
  },
  {
   "cell_type": "markdown",
   "metadata": {},
   "source": [
    "<b> Method 1</b>\n",
    "\n",
    "By providing positional values."
   ]
  },
  {
   "cell_type": "code",
   "execution_count": 69,
   "metadata": {
    "ExecuteTime": {
     "end_time": "2019-02-22T00:01:23.834126Z",
     "start_time": "2019-02-22T00:01:23.829166Z"
    }
   },
   "outputs": [
    {
     "data": {
      "text/plain": [
       "(-0.0375, -0.0375)"
      ]
     },
     "execution_count": 69,
     "metadata": {},
     "output_type": "execute_result"
    }
   ],
   "source": [
    "polynomial_func(10,20,30)"
   ]
  },
  {
   "cell_type": "markdown",
   "metadata": {},
   "source": [
    "<b>Method 2</b>\n",
    "\n",
    "By providing Named Arguments"
   ]
  },
  {
   "cell_type": "code",
   "execution_count": 71,
   "metadata": {
    "ExecuteTime": {
     "end_time": "2019-02-22T00:02:57.314191Z",
     "start_time": "2019-02-22T00:02:57.309704Z"
    }
   },
   "outputs": [
    {
     "data": {
      "text/plain": [
       "(-0.0375, -0.0375)"
      ]
     },
     "execution_count": 71,
     "metadata": {},
     "output_type": "execute_result"
    }
   ],
   "source": [
    "polynomial_func(c = 30, b = 20, a = 10)"
   ]
  },
  {
   "cell_type": "markdown",
   "metadata": {},
   "source": [
    "We can improve this further by leaving notes in Docstrings."
   ]
  },
  {
   "cell_type": "code",
   "execution_count": 78,
   "metadata": {
    "ExecuteTime": {
     "end_time": "2019-02-22T00:06:57.490653Z",
     "start_time": "2019-02-22T00:06:57.486345Z"
    }
   },
   "outputs": [],
   "source": [
    "from math import sqrt\n",
    "\n",
    "def polynomial_func(a,b,c):\n",
    "    \"\"\"\n",
    "    In this function, \n",
    "    \"a\" is from observations from Machine 1, \n",
    "    \"b\" is from observations from Machine 2,\n",
    "    \"c\" is from observations from Machine 3.\n",
    "    # This is also possible\n",
    "    \n",
    "    \"\"\"\n",
    "    x1 = -c / (2 * b**2)\n",
    "    x2 = sqrt(b**2 - 2*a*b)/(2*a)\n",
    "\n",
    "    return (x1 + x2), (x1 - x2)"
   ]
  },
  {
   "cell_type": "code",
   "execution_count": 79,
   "metadata": {
    "ExecuteTime": {
     "end_time": "2019-02-22T00:06:58.257216Z",
     "start_time": "2019-02-22T00:06:58.254154Z"
    }
   },
   "outputs": [
    {
     "name": "stdout",
     "output_type": "stream",
     "text": [
      "Help on function polynomial_func in module __main__:\n",
      "\n",
      "polynomial_func(a, b, c)\n",
      "    In this function, \n",
      "    \"a\" is from observations from Machine 1, \n",
      "    \"b\" is from observations from Machine 2,\n",
      "    \"c\" is from observations from Machine 3.\n",
      "    # This is also possible\n",
      "\n"
     ]
    }
   ],
   "source": [
    "help(polynomial_func)"
   ]
  },
  {
   "cell_type": "markdown",
   "metadata": {},
   "source": [
    "# Unpacking Iterables\n",
    "\n",
    "First, remember the structure of Tuples."
   ]
  },
  {
   "cell_type": "code",
   "execution_count": 84,
   "metadata": {
    "ExecuteTime": {
     "end_time": "2019-02-22T00:11:18.233642Z",
     "start_time": "2019-02-22T00:11:18.229315Z"
    }
   },
   "outputs": [
    {
     "data": {
      "text/plain": [
       "tuple"
      ]
     },
     "execution_count": 84,
     "metadata": {},
     "output_type": "execute_result"
    }
   ],
   "source": [
    "a = 1,2,3\n",
    "\n",
    "type(a)"
   ]
  },
  {
   "cell_type": "code",
   "execution_count": 85,
   "metadata": {
    "ExecuteTime": {
     "end_time": "2019-02-22T00:11:38.681131Z",
     "start_time": "2019-02-22T00:11:38.677130Z"
    }
   },
   "outputs": [
    {
     "data": {
      "text/plain": [
       "tuple"
      ]
     },
     "execution_count": 85,
     "metadata": {},
     "output_type": "execute_result"
    }
   ],
   "source": [
    "a = (1,2,3)\n",
    "type(a)"
   ]
  },
  {
   "cell_type": "markdown",
   "metadata": {},
   "source": [
    "As we had discussed previously, it's the comma that creates a Tuple, not the parantheses. Although when creating an iterable tuple, we need to distinguish the tuple from merely another value."
   ]
  },
  {
   "cell_type": "code",
   "execution_count": 88,
   "metadata": {
    "ExecuteTime": {
     "end_time": "2019-02-22T00:14:06.501036Z",
     "start_time": "2019-02-22T00:14:06.497012Z"
    }
   },
   "outputs": [
    {
     "data": {
      "text/plain": [
       "int"
      ]
     },
     "execution_count": 88,
     "metadata": {},
     "output_type": "execute_result"
    }
   ],
   "source": [
    "a = (1)\n",
    "type(a)"
   ]
  },
  {
   "cell_type": "code",
   "execution_count": 89,
   "metadata": {
    "ExecuteTime": {
     "end_time": "2019-02-22T00:14:18.877823Z",
     "start_time": "2019-02-22T00:14:18.873898Z"
    }
   },
   "outputs": [
    {
     "data": {
      "text/plain": [
       "tuple"
      ]
     },
     "execution_count": 89,
     "metadata": {},
     "output_type": "execute_result"
    }
   ],
   "source": [
    "a = (1,)\n",
    "type(a)"
   ]
  },
  {
   "cell_type": "code",
   "execution_count": 90,
   "metadata": {
    "ExecuteTime": {
     "end_time": "2019-02-22T00:14:25.067887Z",
     "start_time": "2019-02-22T00:14:25.063925Z"
    }
   },
   "outputs": [
    {
     "data": {
      "text/plain": [
       "tuple"
      ]
     },
     "execution_count": 90,
     "metadata": {},
     "output_type": "execute_result"
    }
   ],
   "source": [
    "a = 1,\n",
    "type(a)"
   ]
  },
  {
   "cell_type": "code",
   "execution_count": 91,
   "metadata": {
    "ExecuteTime": {
     "end_time": "2019-02-22T00:15:55.773237Z",
     "start_time": "2019-02-22T00:15:55.768662Z"
    }
   },
   "outputs": [
    {
     "data": {
      "text/plain": [
       "tuple"
      ]
     },
     "execution_count": 91,
     "metadata": {},
     "output_type": "execute_result"
    }
   ],
   "source": [
    "l = ['GS', 'IBM', 'BRK.B']\n",
    "a = tuple([l]) # A tuple constructor\n",
    "type(a)"
   ]
  },
  {
   "cell_type": "markdown",
   "metadata": {},
   "source": [
    "## Unpacking a Tuple"
   ]
  },
  {
   "cell_type": "code",
   "execution_count": 101,
   "metadata": {
    "ExecuteTime": {
     "end_time": "2019-02-22T00:23:50.248128Z",
     "start_time": "2019-02-22T00:23:50.244744Z"
    }
   },
   "outputs": [],
   "source": [
    "list1 = [1,2,3,4]\n",
    "# this lines PACKS values \n",
    "# into variable\n",
    "details = (\"BRK.B\", 202.4, \"Fin Services\")   \n",
    "  \n",
    "# this lines UNPACKS values \n",
    "# of variable a \n",
    "(ticker, price, category) = details"
   ]
  },
  {
   "cell_type": "code",
   "execution_count": 102,
   "metadata": {
    "ExecuteTime": {
     "end_time": "2019-02-22T00:24:16.241596Z",
     "start_time": "2019-02-22T00:24:16.238670Z"
    }
   },
   "outputs": [],
   "source": [
    "details1 = (\"BRK.B\", 202.4, \"Fin Services\")   "
   ]
  },
  {
   "cell_type": "code",
   "execution_count": 103,
   "metadata": {
    "ExecuteTime": {
     "end_time": "2019-02-22T00:24:20.661766Z",
     "start_time": "2019-02-22T00:24:20.657603Z"
    }
   },
   "outputs": [
    {
     "data": {
      "text/plain": [
       "('BRK.B', 202.4, 'Fin Services')"
      ]
     },
     "execution_count": 103,
     "metadata": {},
     "output_type": "execute_result"
    }
   ],
   "source": [
    "details1"
   ]
  },
  {
   "cell_type": "code",
   "execution_count": 106,
   "metadata": {
    "ExecuteTime": {
     "end_time": "2019-02-22T00:25:29.789048Z",
     "start_time": "2019-02-22T00:25:29.785770Z"
    }
   },
   "outputs": [
    {
     "name": "stdout",
     "output_type": "stream",
     "text": [
      "202.4\n"
     ]
    }
   ],
   "source": [
    "(ticker, price, category) = details1\n",
    "print(details1[1])"
   ]
  },
  {
   "cell_type": "code",
   "execution_count": 107,
   "metadata": {
    "ExecuteTime": {
     "end_time": "2019-02-22T00:25:34.609072Z",
     "start_time": "2019-02-22T00:25:34.606052Z"
    }
   },
   "outputs": [
    {
     "name": "stdout",
     "output_type": "stream",
     "text": [
      "BRK.B\n"
     ]
    }
   ],
   "source": [
    "print(ticker)"
   ]
  },
  {
   "cell_type": "code",
   "execution_count": null,
   "metadata": {
    "ExecuteTime": {
     "end_time": "2019-02-21T20:11:12.093532Z",
     "start_time": "2019-02-21T20:11:12.090307Z"
    },
    "scrolled": true
   },
   "outputs": [],
   "source": [
    "print(price)"
   ]
  },
  {
   "cell_type": "markdown",
   "metadata": {},
   "source": [
    "Minor digression - on why Tuples are preferable over lists in some cases."
   ]
  },
  {
   "cell_type": "code",
   "execution_count": 108,
   "metadata": {
    "ExecuteTime": {
     "end_time": "2019-02-22T00:27:51.056969Z",
     "start_time": "2019-02-22T00:27:51.051385Z"
    },
    "scrolled": true
   },
   "outputs": [
    {
     "name": "stdout",
     "output_type": "stream",
     "text": [
      "The size of list_a is 144 bytes\n",
      "The size of tup_a is 128 bytes\n"
     ]
    }
   ],
   "source": [
    "import sys\n",
    "\n",
    "list_a = [1,2,3,4,5,6,7,8,9,10]\n",
    "tup_a = (1,2,3,4,5,6,7,8,9,10)\n",
    "print(\"The size of list_a is\", sys.getsizeof(list_a), \"bytes\")\n",
    "print(\"The size of tup_a is\", sys.getsizeof(tup_a), \"bytes\")"
   ]
  },
  {
   "cell_type": "markdown",
   "metadata": {},
   "source": [
    "# Our Task: Find similar company names\n",
    "\n",
    "Now that we have completed our Python Primer, let's try to complete a real task, while at the same time trying to practice loops, iterations, and other Python functionality that we studied.\n",
    "\n",
    "## Your high level task\n",
    "\n",
    "You are given a list of names. You know that the same entity in the list has different representations. You want to find duplicate companies in the data.\n",
    "\n",
    "As a concrete example, open the file under `data/restaurant-names.txt`. This contains a list of restaurant names, extracted from the [NYC Restaurant inspection data set](https://data.cityofnewyork.us/Health/DOHMH-New-York-City-Restaurant-Inspection-Results/xx67-kt59/data) (available online). The Department of Health has been doing a decent, but not perfect, job in recording the company names. Therefore, the same restaurant appears under different names. **Your task is to find \"almost duplicate\" entries in order to decide whether they correspond to the same business.**\n"
   ]
  },
  {
   "cell_type": "code",
   "execution_count": 109,
   "metadata": {
    "ExecuteTime": {
     "end_time": "2019-02-22T01:09:39.916453Z",
     "start_time": "2019-02-22T01:09:39.790868Z"
    }
   },
   "outputs": [
    {
     "name": "stdout",
     "output_type": "stream",
     "text": [
      "#1 GARDEN CHINESE\r\n",
      "#1 ME. NICK'S\r\n",
      "#1 SABOR LATINO RESTAURANT\r\n",
      "$1.25 PIZZA\r\n",
      "''U'' LIKE CHINESE RESTAURANT\r\n",
      "''W'' CAFE\r\n",
      "'WICHCRAFT\r\n",
      "(LEWIS DRUG STORE) LOCANDA VINI E OLII\r\n",
      "(LIBRARY)  FOUR & TWENTY BLACKBIRDS\r\n",
      "(PUBLIC FARE) 81ST STREET AND CENTRAL PARK WEST (DELACORTE THEATRE)\r\n"
     ]
    }
   ],
   "source": [
    "!head -10 ./data/restaurant-names.txt"
   ]
  },
  {
   "cell_type": "code",
   "execution_count": 110,
   "metadata": {
    "ExecuteTime": {
     "end_time": "2019-02-22T01:09:57.903701Z",
     "start_time": "2019-02-22T01:09:57.784382Z"
    }
   },
   "outputs": [
    {
     "name": "stdout",
     "output_type": "stream",
     "text": [
      "ZUTTO\r\n",
      "ZUZU RAMEN\r\n",
      "ZYMI BAR & GRILL\r\n",
      "ZZ CLAM BAR\r\n",
      "ZZ'S PIZZA & GRILL\r\n"
     ]
    }
   ],
   "source": [
    "!tail -5 ./data/restaurant-names.txt"
   ]
  },
  {
   "cell_type": "markdown",
   "metadata": {},
   "source": [
    "## Matching Company Names\n",
    "\n",
    "Quite often, in our data, we have entries represented as strings that refer to the same entity but have different string representations (e.g., McDonald's vs McDonalds vs McDonald‎). We want to write code that will help in the task of finding such similar entries in our data.\n",
    "\n",
    "Our task can be broken in the following tasks:\n",
    "* **Step 1**: Read the data from a file into a list of strings in memory. We have a data set under the `data` folder: The list of unique restaurant names from the NYC Restaurant Inspection dataset (`data/restaurant-names.txt`). We need to write Python code that will read th file and return a list of strings that are the company names.\n",
    "* **Step 2**: We will then need to figure out how to compare two strings and find their similarity. For that, we will write a function that takes as input **two** strings, and returns back their similarities. We will explore multiple ways of writing that function, using various library functions.\n",
    "* **Step 3**: We will need to write a function that takes as input a company name, and returns back a list of matching company names, together with their similarity. Ideally, we would like to also sort the list based on the similarity (highest similarity metrics on top). As part of our learning process, we will use the _list comprehension_ approach to create the list. We will also use tuples as the elements of the list, so that the list contain elements such as `[(\"McDonalds\", 0.88), (\"McDonald's\", 0.81),....]`.\n",
    "* **Step 4**: In the final step, we will just perform the similarity computation across all companies in the dataset."
   ]
  },
  {
   "cell_type": "markdown",
   "metadata": {},
   "source": [
    "### STEP 1: Read the list of names from a file and create a list of names"
   ]
  },
  {
   "cell_type": "code",
   "execution_count": 111,
   "metadata": {
    "ExecuteTime": {
     "end_time": "2019-02-22T01:15:31.194279Z",
     "start_time": "2019-02-22T01:15:31.180020Z"
    }
   },
   "outputs": [],
   "source": [
    "# STEP 1: Read the list of names from a file and create a list of names\n",
    "filename = './data/restaurant-names.txt'\n",
    "\n",
    "# We open the filename for reading\n",
    "f = open(filename, 'r')\n",
    "# Read the file into memory\n",
    "content = f.read()\n",
    "# Content is a big string, with one restaurant per line\n",
    "# so we split it into lines and create a list with the restaurant names\n",
    "restaurants = content.split('\\n')"
   ]
  },
  {
   "cell_type": "code",
   "execution_count": 112,
   "metadata": {
    "ExecuteTime": {
     "end_time": "2019-02-22T01:16:12.305232Z",
     "start_time": "2019-02-22T01:16:12.300076Z"
    }
   },
   "outputs": [
    {
     "data": {
      "text/plain": [
       "20444"
      ]
     },
     "execution_count": 112,
     "metadata": {},
     "output_type": "execute_result"
    }
   ],
   "source": [
    "len(restaurants)"
   ]
  },
  {
   "cell_type": "code",
   "execution_count": 113,
   "metadata": {
    "ExecuteTime": {
     "end_time": "2019-02-22T01:21:58.076728Z",
     "start_time": "2019-02-22T01:21:58.064074Z"
    },
    "collapsed": true
   },
   "outputs": [
    {
     "data": {
      "text/plain": [
       "['#1 GARDEN CHINESE',\n",
       " \"#1 ME. NICK'S\",\n",
       " '#1 SABOR LATINO RESTAURANT',\n",
       " '$1.25 PIZZA',\n",
       " \"''U'' LIKE CHINESE RESTAURANT\",\n",
       " \"''W'' CAFE\",\n",
       " \"'WICHCRAFT\",\n",
       " '(LEWIS DRUG STORE) LOCANDA VINI E OLII',\n",
       " '(LIBRARY)  FOUR & TWENTY BLACKBIRDS',\n",
       " '(PUBLIC FARE) 81ST STREET AND CENTRAL PARK WEST (DELACORTE THEATRE)',\n",
       " \"/ L'ECOLE\",\n",
       " '002 MERCURY TACOS LLC',\n",
       " '1 2 3 BURGER SHOT BEER',\n",
       " '1 BANANA QUEEN',\n",
       " '1 BUEN SABOR',\n",
       " '1 DARBAR',\n",
       " '1 EAST 66TH STREET KITCHEN',\n",
       " '1 OAK',\n",
       " '1 OR 8',\n",
       " '1 STOP PATTY SHOP',\n",
       " '1.5 GALBI CORP',\n",
       " '10 DEVOE',\n",
       " '10 POINTS KTV',\n",
       " '100 FUN',\n",
       " '100% PATACON CACHAPA YAROA',\n",
       " '100% SMOOTHIES & EMPANADAS',\n",
       " '1001 NIGHTS',\n",
       " '1001 NIGHTS CAFE',\n",
       " '1005 CATERING',\n",
       " '101 CAFE',\n",
       " '101 DELI',\n",
       " '101 RESTAURANT AND BAR',\n",
       " '102 NOODLES TOWN RESTAURANT',\n",
       " '1020 BAR',\n",
       " '1028 BAR & RESTAURANT EL SALVADORENO ',\n",
       " '104-01 FOSTER AVENUE COFFEE SHOP(UPS)',\n",
       " '1061 CATERING LLC',\n",
       " '107 WEST RESTAURANT',\n",
       " '108 FAST FOOD CORP',\n",
       " '108 LOUNGE - CLUB 108',\n",
       " '1081 FULTON',\n",
       " '10TH AVENUE COOKSHOP',\n",
       " '10TH AVENUE PIZZA & CAFE',\n",
       " '11 STREET CAFE',\n",
       " '111 RESTAURANT',\n",
       " '1174 FULTON CUISINE, HALAL FOOD',\n",
       " '12 CHAIRS',\n",
       " '12 CHAIRS CAFE',\n",
       " '12 CORAZONES RESTAURANT & BAR',\n",
       " '12 CORNERS',\n",
       " '12 CORNERS COFFEE INC',\n",
       " '12 STREET ALE HOUSE',\n",
       " '120 BAY CAFE',\n",
       " '1200 MILES',\n",
       " '121 FULTON STREET',\n",
       " '123 NIKKO',\n",
       " '124 COFFEE SHOP',\n",
       " '128 DUMPLING HOUSE',\n",
       " '12TH STREET BAR & GRILL',\n",
       " '137 BAR & GRILL',\n",
       " '1380 BRONX RIVER CAFE CORP',\n",
       " '149 STEAM FISH CORP.',\n",
       " '14TH STREET PIZZA BAGEL CAFE',\n",
       " '15 CENTRAL PARK WEST RESTAURANT',\n",
       " '15 EAST RESTAURANT',\n",
       " '15 FLAVORS',\n",
       " '15 FLAVORS ',\n",
       " '15 ST CAFE',\n",
       " '156 TEX BAR AND LOUNGE',\n",
       " '16 HANDLES',\n",
       " '16 HANDLES FROZEN YOGURT',\n",
       " '16 HANDLES MIDWOOD',\n",
       " '1617-A NATIONAL BAKERY',\n",
       " '162 EB CORP BAKERY',\n",
       " '168 ASUKA SUSHI',\n",
       " '168 BOWERY HOLDING LLC',\n",
       " '168 HI TEA',\n",
       " '168 TEA LLC',\n",
       " '169 BAR',\n",
       " '16TH AVENUE GLATT',\n",
       " '1734 VICTORY BOULEVARD,INC.',\n",
       " '18 BAKERY',\n",
       " '18 CHINESE CUISINE',\n",
       " '18 EAST GUNHILL PIZZA',\n",
       " '18 HIPOT',\n",
       " '18 RESTAURANT',\n",
       " '18 STARS KITCHEN',\n",
       " '181 ST CARIDAD RESTAURANT',\n",
       " '1818 SEAFOOD RESTAURANT',\n",
       " '187 YANG GARDEN',\n",
       " '188 FAST FOOD INC',\n",
       " '19 CAFE',\n",
       " '1962 SOGONGDONG SONTOFU',\n",
       " '19A EMPIRE RESTAURANT',\n",
       " '1A STORE INC',\n",
       " '1ST AVENUE GOURMET',\n",
       " '1ST BASE CONCESSION STAND',\n",
       " '1ST MAMA RESTAURANT',\n",
       " '1ST STOP',\n",
       " '2 BROS',\n",
       " '2 BROS PIZZA',\n",
       " '2 BROTHERS RESTAURANT',\n",
       " '2 CHILL',\n",
       " '2 DUCK GOOSE',\n",
       " '2 IN 1 RESTAURANT',\n",
       " '2 PALMITAS MEXICAN DELI',\n",
       " '200 FIFTH AVENUE RESTAURANT & SPORTS BAR',\n",
       " '200 ORCHARD BAR',\n",
       " '201 BAR AND RESTAURANT',\n",
       " '2013 BROOKLYN RESTAURANT',\n",
       " '203 LENA INC',\n",
       " '2058 DELI AND GROCERY',\n",
       " '21 BAR',\n",
       " '21 CLUB',\n",
       " '21 SHANGHAI HOUSE',\n",
       " '21+ LOUNGE.',\n",
       " '211 NEW TACO GRILL',\n",
       " '212 SHAWARMA GRILL',\n",
       " '212 STEAKHOUSE',\n",
       " '216 GOOD JOY CHINESE RESTAURANT',\n",
       " '218 RESTAURANT',\n",
       " '22 THAI CUISINE',\n",
       " '224TH CORNER RESTAURANT & BAKERY',\n",
       " '229 LINDEN RESTAURANT',\n",
       " '230 FIFTH',\n",
       " '232 WILLIS AVENUE FOODS, LLC',\n",
       " '234 CHINA CITY',\n",
       " '2419 CHINA STAR RESTAURANT',\n",
       " '241ST CAFE RESTAURANT',\n",
       " '2432 PEKING HOUSE INC',\n",
       " '2460 LUCKY GARDEN',\n",
       " '248 HOSPITALITY GROUP LLC',\n",
       " '25TH DELI',\n",
       " '26 SEATS',\n",
       " '2647 DOUBLE DRAGON CHINESE RESTAURANT',\n",
       " '27 SHENG WANG NOODLE SHOP',\n",
       " '27 SHINJUKU SUSHI INC',\n",
       " '27 SPORTS BAR & CAFE',\n",
       " \"28 MR. MING'S CAFFE\",\n",
       " '28 NOODLES',\n",
       " '286 PIZZA PLACE INC',\n",
       " '29TH STREET HOTEL ACQUISITION LLC',\n",
       " '2A',\n",
       " '2FL',\n",
       " '2ND AVE BLUE 9 BURGER',\n",
       " '2ND AVENUE DELI',\n",
       " '3 ALARM',\n",
       " \"3 D'S LEGACY SALAD & GRILL\",\n",
       " '3 DELI & GRILL',\n",
       " '3 ESQUINAS RESTAURANT',\n",
       " '3 GUYS',\n",
       " '3 GUYS RESTURANT',\n",
       " '3 IN 1 FS&H JAMAICAN RESTAURANT',\n",
       " '3 IN 1 KITCHEN',\n",
       " '3 MOUNTS',\n",
       " '3 ROOTS',\n",
       " '3 SHEETS SALOON',\n",
       " \"3 SISTERS' & SHANTA'S RESTAURANT & BAKERY\",\n",
       " '3 STAR JUICE CENTER',\n",
       " '3 WAY RESTAURANT',\n",
       " '3-J RESTAURANT AND PIZZA',\n",
       " '301 CAFE JUICE AND SMOOTHIES',\n",
       " '310 - EXELSIOR',\n",
       " '318 - TWO BOOTS',\n",
       " '31ST AVENUE GYRO.',\n",
       " '32 DEGREE FROYO LOUNGE',\n",
       " '33 GOURMET',\n",
       " '337 - BURGERS & DOGS',\n",
       " '3463 JUICES FOR LIFE LLC',\n",
       " '35 DUET',\n",
       " '36-02 DITMARS COFFEE CORP.',\n",
       " '360 LOUNGE',\n",
       " '36TH AVE COFFEE SHOP',\n",
       " '374 DELI',\n",
       " '38 DELI',\n",
       " '388 CAFE & DELI',\n",
       " '38TH STREET DINER',\n",
       " '39 COFFEE SHOP',\n",
       " '39 KARAOKE',\n",
       " '395 GOURMET AND GROCERY',\n",
       " '3E TASTE OF THAI',\n",
       " '3RD & 7',\n",
       " '40/40 CLUB',\n",
       " '40/40 CLUB BAR',\n",
       " '401 LUCKY STAR RESTAURANT',\n",
       " '40TH ROAD LUNCH BOX',\n",
       " '414 HOTEL',\n",
       " '414 LATINO RESTAURANT SPORTS BAR',\n",
       " '42ND STREET PIZZA DINER',\n",
       " \"44 & X HELL'S KITCHEN\",\n",
       " '44 1/2 CAFE',\n",
       " '44 SW RISTORANTE & BAR',\n",
       " '444 MADISON COFFEE SHOP',\n",
       " '44TH STREET MINAR',\n",
       " '44TH STREET PIZZA',\n",
       " '456 RESTAURANT',\n",
       " '4618 BAKERY',\n",
       " '46TH ST STATION HOUSE',\n",
       " '49 GROVE',\n",
       " '4D',\n",
       " '4TH DOWN',\n",
       " '4TH FLOOR CAFE',\n",
       " '5 AVENUE ASIAN TASTE',\n",
       " '5 BORO BURGER',\n",
       " '5 BURRO CAFE',\n",
       " '5 DE MAYO',\n",
       " '5 ESTRELLA BAKERY',\n",
       " '5 NAPKIN BURGER',\n",
       " '5 STAR CHEESE STEAK AND PIZZA',\n",
       " '5 STAR CHEESESTEAK AND PIZZA',\n",
       " '5 STAR VILLAGE CAFE',\n",
       " '5 TH & VINE',\n",
       " '502 BAR LOUNGE',\n",
       " '502 HUDSON BAGEL CORP',\n",
       " '508 RESTAURANT AND BAR',\n",
       " '510 11ST BAR',\n",
       " '51ST BAKERY AND CAFE',\n",
       " '525 LEX RESTAURANT & BAR',\n",
       " '52ND SUSHI',\n",
       " '54 BELOW',\n",
       " '55 BAR',\n",
       " '55 DELI & GRILL INC',\n",
       " '55 THOMAS CAFE',\n",
       " '555 VIVACAFE',\n",
       " '556 EL CAFE INTERNATIONAL',\n",
       " \"57'S ALL AMERICAN GRILL\",\n",
       " '59 CHINA',\n",
       " '59E59 BAR',\n",
       " '5BAR KARAOKE',\n",
       " '5IVE STEAK',\n",
       " '5TH AVENUE BAGELTIQUE CAFE',\n",
       " '5TH AVENUE EMPIRE CAFE',\n",
       " '61 LOCAL',\n",
       " '620 ON CATON',\n",
       " '624 KAM HAI CHINESE FOOD',\n",
       " '6321 YUAN BAO',\n",
       " \"652 LIN'S GARDEN\",\n",
       " '658 KINGS DELI',\n",
       " '66 HOPE CAFE',\n",
       " '66 PRINCE RESTAURANT',\n",
       " '66TH STREET DONUTS LLC',\n",
       " '67 BURGER',\n",
       " '67 ORANGE STREET',\n",
       " '67 RESTAURANT',\n",
       " '678 AURORA CATERING INC',\n",
       " '68 DELI CANAL STORE',\n",
       " '68 JAY STREET BAR',\n",
       " '68 MEI MEI BAKERY',\n",
       " '69 BAR LOUNGE',\n",
       " '69 BAYARD RESTAURANT',\n",
       " '69 COFFEE SHOP',\n",
       " '69 PIZZERIA',\n",
       " '696 GOURMET DELI',\n",
       " '6B',\n",
       " '7 GRAMS CAFFE',\n",
       " '7 GREEN & GRAIN',\n",
       " '7 SPICES',\n",
       " '7 STARS',\n",
       " '7 TACOS MEXICAN CUISINE CORP',\n",
       " '706 BAR',\n",
       " '71 IRVING PLACE',\n",
       " '718 HOOKAH LOUNGE',\n",
       " '718 LOUNGE',\n",
       " '718 LOUNGE & TAPAS',\n",
       " '729 BAR & GRILL',\n",
       " '72ND STREET BAGEL',\n",
       " '739 FRANKLIN BAR & LOUNGE',\n",
       " '76/BEERS OF BROOKLYN',\n",
       " '765 FOOD MARKET',\n",
       " '773 LOUNGE',\n",
       " '777 THEATER BAR',\n",
       " '7B BAR',\n",
       " '7TH AVENUE DONUT SHOP',\n",
       " '7TH FLOOR CAFE',\n",
       " '7TH MANSION KTV',\n",
       " '8 DRAGON & PHOENIX CHINESE RESTAURANT',\n",
       " '8 PAET RIO',\n",
       " '80 RIVERSIDE CAFE',\n",
       " '805 ZHENG YUAN BAO GOURMET',\n",
       " '809 GRILL & BAR RESTAURANT',\n",
       " '809 PERFECT DELI.',\n",
       " '8090 TAI WANESE',\n",
       " '810 DELI & CAFE',\n",
       " '829 BAR RESTAURANT',\n",
       " '83 1/2',\n",
       " '83 KIEN TUONG RESTAURANT',\n",
       " '833 ANNADALE ROAD CORP.',\n",
       " '85 BROAD CAFE',\n",
       " '85 CHINESE RESTAURANT',\n",
       " '86 BAKERY',\n",
       " '86 BEST BAKERY',\n",
       " '86 NOODLES',\n",
       " '86 SEAFOOD CHINESE RESTAURANT',\n",
       " '86 SUPERSTAR INC',\n",
       " '876 BAR LOUNGE CORP',\n",
       " '876 MARKET DELI',\n",
       " '88 CAFE',\n",
       " '88 CANTEEN',\n",
       " '88 CHINESE RESTAURANT',\n",
       " '88 DEGREES',\n",
       " '88 PALACE RESTAURANT',\n",
       " '888 KITCHEN',\n",
       " '8TH STREET WINECELLAR',\n",
       " '9 & 8 CAFE',\n",
       " '900 PARK',\n",
       " '9024/CATERING BY MICHAEL SCHICK INC.',\n",
       " '904 LUPITA RESTAURANT CORP',\n",
       " '940 FLUSHING LOUNGE/ARANCINI BROS',\n",
       " '95 SOUTH',\n",
       " '96 SOUTH PARK',\n",
       " '983 BUSHWICK LIVING ROOM',\n",
       " '99 CENT BEST PIZZA 5AVE INC',\n",
       " '99 CENT EXPRESS PIZZA',\n",
       " '99 CENT FRESH PIZZA',\n",
       " '99 CENT FRESH PIZZA VILLA CAFE',\n",
       " '99 CENT PIZZA',\n",
       " '99 CENTS BEST & FRESH PIZZA INC.',\n",
       " '99 CENTS FRESH HOT PIZZA',\n",
       " '99 CENTS FRESH SLICE PIZZA',\n",
       " '99 CENTS MEGA PIZZA',\n",
       " '99 FAVOR TASTE',\n",
       " '99 FRESH PIZZA',\n",
       " '99 MILES TO PHILLY',\n",
       " '99C FRESH PIZZA',\n",
       " '99¢ FAMOUS PIZZA',\n",
       " '99¢ HOT PIZZA',\n",
       " '9A KITCHEN & LOUNGE',\n",
       " '9TH AVE SALOON',\n",
       " '9TH STREET LUNCHEONETTE',\n",
       " '@ THE SQUARE(STARBUCKS)',\n",
       " '@NINE',\n",
       " 'A & A BAKE SHOP',\n",
       " 'A & B DELI & CATERING',\n",
       " 'A & C COFFEE SHOP AND PIZZERIA',\n",
       " 'A & C GUYANA BAKERY & RESTAURANT',\n",
       " 'A & C KITCHEN',\n",
       " 'A & J DELI FISH',\n",
       " 'A & K TACOS',\n",
       " 'A & M PIZZA',\n",
       " 'A & S CATERERS',\n",
       " 'A & S PIZZERIA',\n",
       " 'A A CARIDAD RESTAURANT',\n",
       " 'A ASO SUSHI',\n",
       " 'A CAFE',\n",
       " 'A CASA FOX',\n",
       " 'A CHIBAN',\n",
       " 'A DOG AND DUCK',\n",
       " 'A K  US GROUP',\n",
       " 'A LA SAIGON',\n",
       " 'A LE BAGUETTE/ CAFE OLYMPIA',\n",
       " 'A LOVE FOR CAKES',\n",
       " 'A MARINO RESTAURANT',\n",
       " 'A PLATE OF SOUL',\n",
       " 'A PLUS EXPRESS/CHINESE RESTAURANT',\n",
       " 'A PLUS PIZZA OF NY INC',\n",
       " 'A PLUS THAI PLACE',\n",
       " 'A SALT & BATTERY',\n",
       " 'A SAN FUZHOU RESTAURANT',\n",
       " 'A SLICE OF NEW YORK',\n",
       " 'A SPICE LANE',\n",
       " 'A SUSHI',\n",
       " 'A TASTE OF CHINA NO 1 CHINESE FOOD',\n",
       " 'A TASTE OF SEA FOOD',\n",
       " 'A TASTE OF SHANGHAI RESTAURANT',\n",
       " 'A TO Z CATERING',\n",
       " 'A VOCE',\n",
       " 'A WAI LOU RESTAURANT',\n",
       " 'A&A GOURMET',\n",
       " 'A&E NETWORKS',\n",
       " 'A&E TENOCHTITLAN DELI & TAQUERIA',\n",
       " 'A&L PIZZA RESTAURANT',\n",
       " 'A&M WESTINDIES AMERICAN RESTAURANT',\n",
       " 'A&P ROTI & PASTRY SHOP',\n",
       " 'A&R HOT BAGELS',\n",
       " 'A+ CHINESE RESTAURANT',\n",
       " 'A+ LOLLIPOP',\n",
       " 'A-1 PIZZA SHOP',\n",
       " 'A-12 SUSHI & RAMEN',\n",
       " 'A-JIAO SICHUAN CUISINE',\n",
       " 'A-ROMA BAKERY',\n",
       " 'A-TOWN BUFFALO WINGS',\n",
       " 'A-WAH RESTAURANT',\n",
       " 'A. A. CARIDAD RESTAURANT',\n",
       " 'A. CHURRASQUEIRA RESTAURANT',\n",
       " 'A. KAWAII JAPANESE RESTAURANT',\n",
       " 'A.G KITCHEN',\n",
       " 'A.I.G.CHARTIS',\n",
       " 'A.J. PIZZERIA',\n",
       " 'A.K.A. RESTAURANT',\n",
       " \"A.R'S TAVERN\",\n",
       " 'A.W.O.L. ALL WALKS OF LIFE',\n",
       " 'A1 OCHA SUSHI',\n",
       " \"AA ADMIRAL'S CLUB LOUNGE\",\n",
       " 'AA CHINESE RESTURANT',\n",
       " 'AA ICHIBAN SUSHI',\n",
       " 'AA JING',\n",
       " 'AAA BURRITO MARIACHI',\n",
       " 'AAA CARIDAD',\n",
       " 'AAA ICHIBAN SUSHI',\n",
       " 'AAA KENNEDY FRIED CHICKEN',\n",
       " 'AAHELI',\n",
       " 'AAMANNS-COPENHGEN',\n",
       " 'AANCHAL INDIAN RESTAURANT & BAR',\n",
       " 'AANGAN',\n",
       " 'AARONS CHINESE & THAI RESTAURANT',\n",
       " 'AB BIAGI',\n",
       " 'AB HALAL RESTAURANT',\n",
       " 'ABA ASIAN FUSION CUISINE AVE',\n",
       " 'ABA TURKISH RESTAURANT',\n",
       " 'ABACE SUSHI',\n",
       " 'ABACKY POTLUCK',\n",
       " 'ABALEH',\n",
       " 'ABBOCCATO RISTORANTE',\n",
       " 'ABBY CHINESE RESTAURANT',\n",
       " 'ABC BAKERY',\n",
       " 'ABC BEER CO.',\n",
       " 'ABC COCINA',\n",
       " 'ABC KITCHEN',\n",
       " 'ABDULLAH SWEETS AND RESTAURANT',\n",
       " 'ABECA SUSHI',\n",
       " \"ABEGALE'S \",\n",
       " 'ABI JAPANESE RESTAURANT',\n",
       " 'ABIDE BROOKLYN PITA',\n",
       " \"ABIGAEL'S BROOKLYN\",\n",
       " \"ABIGAEL'S ON BROADWAY\",\n",
       " 'ABILENE',\n",
       " 'ABIR HALAL RESTAURANT',\n",
       " \"ABITINO'S PIZZA\",\n",
       " 'ABOTTEGA',\n",
       " 'ABOU BAKERY',\n",
       " 'ABOVE ALLEN',\n",
       " 'ABOVE BALLROOM',\n",
       " 'ABOVE ROOFTOP',\n",
       " 'ABRACO',\n",
       " 'ABRAHAM JOSHUA HESCHEL SCHOOL',\n",
       " 'ABSOLUTE BAGELS',\n",
       " 'ABSOLUTE COFFEE',\n",
       " 'ABSOLUTE THAI RESTAURANT',\n",
       " 'ABU DHABI LOUNGE',\n",
       " \"ABU'S HOMESTYLE BAKERY\",\n",
       " 'ABUMI SUSHI',\n",
       " 'ABURI SUSHI',\n",
       " 'ABURIYA KINNOSUKE',\n",
       " 'ABV',\n",
       " 'ABYSSINIA ETHIOPIAN RESTAURANT',\n",
       " 'ACADEMIA BARILLA RESTAURANTS',\n",
       " 'ACADEMIA COFFEE',\n",
       " 'ACADEMY RESTAURAUNT',\n",
       " 'ACAPELLA GOURMET PIZZA & RESTAURANT CORP',\n",
       " 'ACAPPELLA RESTAURANT',\n",
       " 'ACAPULCO',\n",
       " 'ACAPULCO BAR RESTAURANT',\n",
       " 'ACAPULCO DELI & RESTAURANT',\n",
       " 'ACCCORD ASIAN CUISINE',\n",
       " 'ACCRA RESTAURANT',\n",
       " 'ACE BAGEL & ROLL',\n",
       " 'ACE BAR',\n",
       " 'ACE HOT BAGEL & DELI',\n",
       " 'ACE PIZZA',\n",
       " 'ACELUCK THAI',\n",
       " \"ACEY DUCEY'S\",\n",
       " 'ACHILLES HEEL',\n",
       " 'ACME BAR & GRILL',\n",
       " 'ACOSTA RESTAURANT',\n",
       " 'ACQUA',\n",
       " 'ACQUA RESTAURANT',\n",
       " 'ACQUA SANTA',\n",
       " 'ACQUISTA FOOD SERVICE II INC.',\n",
       " 'ACQUISTA TRATTORIA',\n",
       " 'ACQUOLINA CATERING',\n",
       " 'ACTION BURGER',\n",
       " 'ACTIVE HEALTH',\n",
       " 'ACUARIO CAFE',\n",
       " 'ADAM CHINESE COTTAGE',\n",
       " 'ADAM KOSHARY & GRILL',\n",
       " 'ADANA GRILL',\n",
       " 'ADAR LOUNGE',\n",
       " 'ADAYA AFRICAN AMERICAN RESTAURANT',\n",
       " \"ADDEO'S RIVERDALE PIZZERIA\",\n",
       " \"ADELINA'S\",\n",
       " 'ADELLA',\n",
       " 'ADEN RESTAURANT',\n",
       " 'ADIRONDACK',\n",
       " 'ADMIRALS CLUB CONC C',\n",
       " 'ADOBE BLUES',\n",
       " 'ADONAI DELI GROCERY INC',\n",
       " 'ADORO LEI ',\n",
       " 'ADP INNOVATIONS LAB',\n",
       " 'ADRIA HOTEL',\n",
       " \"ADRIAN & ROCKY'S CATERERS\",\n",
       " 'ADRIATIC RESTAURANT PIZZERIA BAR',\n",
       " \"ADRIENNE'S PIZZA BAR\",\n",
       " 'ADVENTURES AMUSEMENT PARK',\n",
       " 'ADVENTURES AMUSEMENTS PARK',\n",
       " 'ADYAR ANANDA BHAVAN',\n",
       " 'AEGEA GYROS AND PIZZA',\n",
       " 'AENOS PIZZA',\n",
       " 'AERONUOVA',\n",
       " 'AFGAN KEBAB AND GRILL',\n",
       " 'AFGHAN KEBAB HOUSE',\n",
       " 'AFGHAN KEBAB HOUSE #1',\n",
       " 'AFGHAN KEBOB HOUSE',\n",
       " 'AFRICAN AMERICAN BEST FOOD',\n",
       " 'AFRICAN LAST STOP',\n",
       " 'AFRICAN MAQUIS LA PLANTATION',\n",
       " 'AFRICAN MARKET (BABOON CAFE)',\n",
       " 'AFRICAN TERRACE',\n",
       " 'AFRICANA RESTAURANT',\n",
       " 'AFRIKIKO GARDEN',\n",
       " 'AFTER 8',\n",
       " \"AFTERNOONE'S RESTAURANT\",\n",
       " 'AGAINST THE GRAIN',\n",
       " 'AGAVE',\n",
       " 'AGAVE DELI GROCERY',\n",
       " 'AGAVE MEXICAN & AMERICAN GRILL',\n",
       " 'AGED',\n",
       " 'AGEHA JAPANESE FUSION',\n",
       " 'AGNANTI CAFE',\n",
       " 'AGNANTI RESTAURANT',\n",
       " 'AGODA ASIAN CUISINE',\n",
       " 'AGORA TAVERNA',\n",
       " 'AGORA TURKISH RESTAURANT',\n",
       " 'AGOZAR',\n",
       " 'AGRA HEIGHTS',\n",
       " 'AGRA KING RESTAURANT',\n",
       " 'AGRA RESTAURANT',\n",
       " 'AGRA TAJ MAHAL',\n",
       " 'AGREEN RANCHO MEXICAN RESTAURANT',\n",
       " 'AGUA FRESCA- TAPAS BAR EL KALLEJON',\n",
       " 'AGUA ROJA BAR & LOUNGE',\n",
       " 'AH YAH SUH NICE',\n",
       " 'AH! CHIHUAHUA',\n",
       " 'AH2 ICE TEA',\n",
       " 'AHANA JAPANESE FUSION CUISINE INC',\n",
       " 'AHI SUSHI',\n",
       " \"AHMANI'S JUS JUICE & HEALTH KITCHEN\",\n",
       " 'AHOME EATERY',\n",
       " 'AHUACHAPAN',\n",
       " 'AI FIORI',\n",
       " 'AI ZHEN FOO CHOW RESTAURANT',\n",
       " \"AI'S SUSHI JAPANESE RESTAURANT\",\n",
       " 'AIDA CHIMPBAY',\n",
       " 'AIG 31ST FLOOR CAFE',\n",
       " 'AIKO SUSHI JAPANESE RESTAURANT (JINSHU SUSHI)',\n",
       " 'AILEY BOUTIQUE',\n",
       " 'AINSWORTH PARK',\n",
       " 'AIR BAR/ NY DELI/ TIM HORTONS',\n",
       " 'AIR FRANCE LOUNGE',\n",
       " 'AIR INDIA LOUNGE',\n",
       " 'AIRPORT DELI',\n",
       " 'AIRSPACE LOUNGE',\n",
       " 'AIRWAYS PIZZA & GYRO RESTAURANT',\n",
       " 'AITA RESTAURANT',\n",
       " 'AJ PIZZERIA',\n",
       " \"AJ'S HOMEMADE GOURMET ITALIAN ICE & ICE CREAM\",\n",
       " 'AJANTA INDIA',\n",
       " 'AJI 18',\n",
       " 'AJI SUSHI',\n",
       " 'AJI SUSHI HOUSE',\n",
       " 'AJISAI',\n",
       " 'AJISAI JAPANESE RESTAURANT',\n",
       " 'AJISEN RAMEN',\n",
       " 'AKA 99 CENTS FRESH PIZZA',\n",
       " 'AKA MY HOUSE',\n",
       " 'AKA SUSHI JAPANESE RESTAURANT',\n",
       " 'AKAL BAKERY INC',\n",
       " 'AKAMI SUSHI',\n",
       " 'AKARU SUSHI',\n",
       " 'AKDENIZ',\n",
       " 'AKI 39 JAPANESE CUISINE',\n",
       " 'AKI JAPANESE CUISINE',\n",
       " 'AKI SUSHI',\n",
       " 'AKI SUSHI & GRILL',\n",
       " 'AKI SUSHI WEST',\n",
       " 'AKIMOTO SUSHI',\n",
       " 'AKIN GUMP',\n",
       " 'AKINA SUSHI',\n",
       " 'AKIRA JAPANESE CUISINE',\n",
       " 'AKIYAMA JAPANESE RESTAURANT',\n",
       " 'AKO ASIAN FUSION',\n",
       " 'AKO JAPANESE RESTAURANT',\n",
       " 'AKSARAY TURKISH CAFE AND RESTAURANT',\n",
       " 'AKURA SUSHI',\n",
       " 'AKWAABA RESTAURANT',\n",
       " 'AL BUSTAN RESTAURANT',\n",
       " 'AL CHOLO BAKERY',\n",
       " 'AL DENTE PIZZERIA',\n",
       " 'AL DI LA',\n",
       " 'AL FORNO',\n",
       " 'AL GOLDEN LION DELI',\n",
       " 'AL HIRSCHFELD THEATRE',\n",
       " 'AL HORNO LEAN MEXICAN',\n",
       " 'AL HORNO LEAN MEXICAN KITCHEN INC',\n",
       " 'AL NAIMAT RESTAURANT & SWEETS',\n",
       " 'AL SAFA',\n",
       " \"AL'S DELI\",\n",
       " 'AL-ARAF HALAL FRIED CHICKEN AND FROZEN DELIGHTS',\n",
       " 'AL-DENTE',\n",
       " 'AL-MEHRAN RESTAURANT',\n",
       " 'AL-RAHAMANIA RESTAURANT AND CATERING',\n",
       " 'ALA TURKA',\n",
       " 'ALACHI MASALA INDIAN RESTAURANT',\n",
       " 'ALADDIN',\n",
       " 'ALADDIN GRILL',\n",
       " 'ALADDIN HOOKAH LOUNGE & BAR INC',\n",
       " 'ALAMEDA',\n",
       " 'ALARCON DELI INC',\n",
       " 'ALASKA BAR',\n",
       " 'ALBA BAR CAFE',\n",
       " 'ALBA PIZZA',\n",
       " \"ALBA'S PIZZA\",\n",
       " 'ALBANY MANOR',\n",
       " 'ALBELLA RISTORANTE & BAR',\n",
       " \"ALBERT'S COFFEE SHOP\",\n",
       " \"ALBERTO'S\",\n",
       " 'ALCALA RESTAURANT',\n",
       " 'ALCHEMY',\n",
       " 'ALDEA RESTAURANT',\n",
       " 'ALDER',\n",
       " \"ALDO'S II PIZZA AND RESTAURANT\",\n",
       " 'ALE HOUSE CITY ISLAND',\n",
       " 'ALEEF COFFEE HOUSE',\n",
       " 'ALEGRE DESPERTAR',\n",
       " 'ALEMBI CAFE',\n",
       " 'ALEO',\n",
       " 'ALEPPO SLIDER',\n",
       " 'ALEWIFE',\n",
       " 'ALEX CAFE & DELI',\n",
       " 'ALEX LUNCHEONETTE',\n",
       " 'ALEX STEAK HOUSE BAR & CAFE',\n",
       " \"ALEX'S KITCHEN\",\n",
       " 'ALEXANDRA',\n",
       " 'ALFANOOSE',\n",
       " \"ALFIE'S\",\n",
       " \"ALFIE'S PIZZA\",\n",
       " \"ALFIE'S PLACE\",\n",
       " \"ALFONSO'S BAR\",\n",
       " \"ALFONSO'S PASTRY SHOPPE\",\n",
       " 'ALFREDO 100',\n",
       " 'ALGONQUIN HOTEL',\n",
       " 'ALHPA RESTAURANT',\n",
       " 'ALI BABA',\n",
       " 'ALI BABA RESTAURANT',\n",
       " \"ALI BABA'S\",\n",
       " \"ALI'S ROTI SHOP\",\n",
       " \"ALI'S TRINIDAD ROTI SHOP\",\n",
       " 'ALIADA',\n",
       " 'ALIBABA',\n",
       " 'ALIBABA EXPRESS',\n",
       " 'ALIBABA GRILL',\n",
       " 'ALIBI CLUB',\n",
       " \"ALICE'S ARBOR\",\n",
       " \"ALICE'S CAFE\",\n",
       " \"ALICE'S INT'L CAFE\",\n",
       " \"ALICE'S PALACE\",\n",
       " \"ALICE'S TEA CUP\",\n",
       " 'ALICES',\n",
       " 'ALICES TEA CUP CHAPTER 2',\n",
       " 'ALIDORO',\n",
       " 'ALIMENTOS SALUDABLES - MEXICAN GRILL',\n",
       " 'ALIOTTA BAKE SHOP',\n",
       " 'ALITALIA - COMPAGNIA AEREA ITALIANA',\n",
       " 'ALITALIA PIZZA RESTAURANT',\n",
       " 'ALKOURA RESTAURANT',\n",
       " 'ALL ABOUT FOOD',\n",
       " 'ALL ABOUT INDIAN FOOD',\n",
       " 'ALL AMERICAN COFFEE SHOP',\n",
       " 'ALL AMERICAN DELI',\n",
       " 'ALL NATIONS',\n",
       " 'ALL STAR PIZZA',\n",
       " \"ALL'ONDA\",\n",
       " 'ALLADIN',\n",
       " \"ALLAN'S BAKERY\",\n",
       " 'ALLELUIA CHINESE RESTAURANT',\n",
       " 'ALLEN RESTAURANT',\n",
       " 'ALLERTON DINER',\n",
       " 'ALLEY CAT',\n",
       " 'ALLEY POND DRIVING RANGE',\n",
       " 'ALLIANCE CAPITAL',\n",
       " 'ALLIANZ CAFETERIA',\n",
       " 'ALLIGATOR LOUNGE',\n",
       " 'ALLORO',\n",
       " 'ALLSWELL',\n",
       " 'ALLURE',\n",
       " 'ALMA',\n",
       " 'ALMADIRA',\n",
       " 'ALMANAC',\n",
       " 'ALMANDO RESTAURANT INC',\n",
       " 'ALMAR',\n",
       " 'ALMASRY RESTAURANT',\n",
       " 'ALMAYASS',\n",
       " 'ALMAZ RESTAURANT',\n",
       " 'ALMOND',\n",
       " 'ALMONDINE',\n",
       " 'ALNOOR HALAL DELI',\n",
       " 'ALOBAR RESTAURANT',\n",
       " 'ALOFT HARLEM WXYZ REFUEL',\n",
       " 'ALOFT NEW YORK BROOKLYN/BROOKLYN TERRACE',\n",
       " 'ALOR CAFE',\n",
       " 'ALOR PASTA',\n",
       " \"ALOYSIA'S LOUNGE\",\n",
       " 'ALPHA BAKERY',\n",
       " 'ALPHA DONUTS',\n",
       " 'ALPHA FUSION',\n",
       " 'ALPHABET LOUNGE',\n",
       " 'ALPHAVILLE',\n",
       " 'ALPINE CINEMAS',\n",
       " 'ALPINE FOOD TRADERS CORP',\n",
       " 'ALSHAM PASTRIES',\n",
       " 'ALT - A LITTLE TASTE',\n",
       " 'ALTA',\n",
       " 'ALTESI RISTORANTE',\n",
       " \"ALTON'S PIZZA & DELI\",\n",
       " 'ALTUS CAFE',\n",
       " 'ALWAYS HAPPY FOOD LLC',\n",
       " 'ALYSHIA ALEEM COFFEE SHOP',\n",
       " 'AM',\n",
       " 'AM PLANNING GROUP LTD',\n",
       " 'AM THAI BISTRO',\n",
       " 'AMADEUS',\n",
       " 'AMALI',\n",
       " 'AMAN RESTAURANT',\n",
       " \"AMANDA'S KITCHEN\",\n",
       " 'AMANECER LATINO RESTAURANT',\n",
       " 'AMARACHI PRIME',\n",
       " 'AMARANTH',\n",
       " 'AMARANTO',\n",
       " 'AMARETTO ESPRESSO BAR',\n",
       " 'AMARIN CAFE',\n",
       " 'AMARONE RESTAURANT',\n",
       " 'AMARU',\n",
       " 'AMAZE',\n",
       " 'AMAZE FUSION LOUNGE',\n",
       " 'AMAZING 66 RESTAURANT',\n",
       " 'AMAZON CAFE',\n",
       " 'AMBAR',\n",
       " 'AMBASSADOR DINER',\n",
       " 'AMBASSADOR DINING ROOM  AT SARATOGA FAMILY INN',\n",
       " 'AMBASSADOR FOOD SERVICES',\n",
       " 'AMBASSADOR THEATRE',\n",
       " 'AMBER',\n",
       " 'AMBER STEAK HOUSE',\n",
       " 'AMBER VILLAGE  SUSHI AND THAI',\n",
       " 'AMBIANCE EXPRESS',\n",
       " 'AMBROSE HALL',\n",
       " 'AMBROSIA',\n",
       " \"AMBROSINO'S II\",\n",
       " 'AMBROSINOS PIZZERIA',\n",
       " \"AMBY'S RESTAURANT\",\n",
       " 'AMC EMPIRE 25 THEATRES',\n",
       " 'AMC KINGS VILLAGE 7 MAIN LEVEL',\n",
       " 'AMC LOEWS VILLAGE 7 (3RD FL CONCESSION)',\n",
       " 'AMC ORPHEUM 7',\n",
       " 'AMC THEATERS 34TH STREET - MAIN CONCESSION',\n",
       " 'AMC THEATRES (LOWES)  34TH STREET - AUXILLIARY CONCESSION',\n",
       " 'AMC THEATRES 19TH STREET EAST',\n",
       " 'AMC THEATRES 84TH STREET',\n",
       " 'AMC THEATRES BAY PLAZA',\n",
       " 'AMC THEATRES EMPIRE 25',\n",
       " 'AMC THEATRES FRESH MEADOWS 7',\n",
       " 'AMC THEATRES LINCOLN SQUARE',\n",
       " 'AMC THEATRES MAGIC JOHNSON HARLEM 9',\n",
       " 'AMC/LOWES THEATRES KIPS BAY',\n",
       " 'AMCOOK FUSION SUSHI & ASIAN CUISINE',\n",
       " \"AMELIA'S RESTAURANT\",\n",
       " 'AMELIE',\n",
       " 'AMELIO RUSSO CIVIC',\n",
       " 'AMERADA HESS EXPRESS CAFE',\n",
       " 'AMERICA GOURMET FOOD',\n",
       " 'AMERICAN & LATIN CUISINE',\n",
       " 'AMERICAN AIRLINES ADMIRALS CLUB',\n",
       " 'AMERICAN AIRLINES EMPLOYEE CAFETERIA',\n",
       " 'AMERICAN AIRLINES THEATER',\n",
       " 'AMERICAN BAR',\n",
       " 'AMERICAN CHEEZ',\n",
       " 'AMERICAN COFFEE SHOP',\n",
       " 'AMERICAN CUT',\n",
       " 'AMERICAN EXPRESS',\n",
       " 'AMERICAN FLATBREAD TRIBECA HEARTH',\n",
       " 'AMERICAN GIRL CAFE',\n",
       " \"AMERICAN HERO & SUB'S\",\n",
       " 'AMERICAN HERO EXPRESS',\n",
       " 'AMERICAN LANGUAGE COMMUNICATION CENTER CAFETERIA',\n",
       " 'AMERICAN LEGION VETERANS POST',\n",
       " 'AMERICAN MUSEUM OF NATURAL HISTORY FOOD COURT',\n",
       " 'AMERICAN MUSEUM OF THE MOVING IMAGE',\n",
       " 'AMERICAN RETRO BAR & GRILL',\n",
       " 'AMERICAN TABLE CAFE AND BAR',\n",
       " 'AMERICAN TURNERS NEW YORK',\n",
       " 'AMERICAN WHISKEY',\n",
       " 'AMERICAS BURGER AND WRAPS',\n",
       " 'AMERICAS RESTORANTE',\n",
       " 'AMERICO FOOD MARKET',\n",
       " 'AMERIVENTS CATERING ',\n",
       " 'AMF 34 AVENUE LANES',\n",
       " 'AMICI 36',\n",
       " 'AMICI BAKERY',\n",
       " 'AMICI BAR',\n",
       " 'AMICI BRICK OVEN PIZZA',\n",
       " 'AMICI CAFE',\n",
       " 'AMICI II',\n",
       " 'AMICI PIZZA AND PASTA',\n",
       " 'AMICI PIZZERIA',\n",
       " 'AMIGOS MEXICAN BAR & RESTAURANT',\n",
       " 'AMIGOS RESTAURANT, INC',\n",
       " 'AMINA THAI',\n",
       " \"AMIR'S\",\n",
       " \"AMIRA'S\",\n",
       " 'AMITY HALL',\n",
       " 'AMLA CUISINE OF INDIA',\n",
       " 'AMMA',\n",
       " 'AMMOS ESTIATORIO',\n",
       " 'AMNON KOSHER PIZZA',\n",
       " 'AMOR BAKERY NO 2',\n",
       " 'AMOR CUBANO',\n",
       " 'AMOR KARAOKE & BAR',\n",
       " 'AMORE PIZZERIA & RESTAURANT',\n",
       " 'AMORINA',\n",
       " 'AMORINO',\n",
       " 'AMPLE HILLS CREAMERY',\n",
       " 'AMSTERDAM ALE HOUSE',\n",
       " 'AMSTERDAM BILLIARDS',\n",
       " 'AMSTERDAM BURGER CO.',\n",
       " 'AMSTERDAM GOURMET',\n",
       " 'AMSTERDAM RESTAURANT & TAPAS LOUNGE',\n",
       " 'AMSTERDAM SOCIAL',\n",
       " 'AMSTERDAM TAVERN',\n",
       " 'AMURA JAPANESE RESTAURANT',\n",
       " 'AMUSE WINE BAR',\n",
       " \"AMY & CATHY'S CHINESE RESTAURANT\",\n",
       " \"AMY RUTH'S RESTAURANT\",\n",
       " \"AMY'S BREAD\",\n",
       " \"AMY'S CAFE AND BAKERY\",\n",
       " \"AMY'S RESTAURANT\",\n",
       " 'AN BEAL BOCHT CAFE',\n",
       " 'AN CHOI',\n",
       " \"ANA'S BAKERY & CAFE\",\n",
       " \"ANA'S PASTRY SHOP CORP.\",\n",
       " 'ANABLE BASIN SAILING',\n",
       " 'ANAIAH RESTAURANT',\n",
       " 'ANALOGUE',\n",
       " 'ANARKALI INDIAN FOOD',\n",
       " 'ANASSA TAVERNA',\n",
       " 'ANATOLIA MEDITERRANEAN CUISINE',\n",
       " 'ANATOLIAN GYRO RESTAURANT',\n",
       " 'ANCHOR',\n",
       " 'ANCHOR COFFEE',\n",
       " 'ANCHOR INN',\n",
       " 'ANCHOR WINEBAR LLC',\n",
       " 'ANDALUCIA BAR & LOUNGE',\n",
       " 'ANDAMAN THAI BISTRO',\n",
       " 'ANDANADA',\n",
       " 'ANDAZ',\n",
       " 'ANDAZ FIFTH AVENUE',\n",
       " 'ANDIAMO CAFE',\n",
       " \"ANDRE'S CAFE\",\n",
       " \"ANDRE'S HUNGARIAN\",\n",
       " \"ANDRE'S HUNGARIAN STRUDELS & PASTRIES\",\n",
       " \"ANDRE'S PIZZA\",\n",
       " \"ANDREA'S CHICKEN\",\n",
       " \"ANDREA'S RESTAURANT (JG DELICIOUS FOOD)\",\n",
       " 'ANDRES CARNE DE TRES',\n",
       " \"ANDREW & FRANK'S DELI\",\n",
       " \"ANDREW'S COFFEE SHOP\",\n",
       " \"ANDREW'S DINER\",\n",
       " \"ANDREW'S PIZZERIA\",\n",
       " 'ANDREWS COFFEE SHOP',\n",
       " 'ANDY BOY MEXICAN RESTAURANT',\n",
       " \"ANDY'S CAFE\",\n",
       " \"ANDY'S CAFETERIA\",\n",
       " \"ANDY'S CAFETERIA (HPD BUILDING)\",\n",
       " \"ANDY'S DELI\",\n",
       " \"ANDY'S RESTAURAUNT\",\n",
       " \"ANDY'S TERIYAKI & TACO\",\n",
       " 'ANEJO',\n",
       " 'ANEJO TRIBECA',\n",
       " 'ANELLA',\n",
       " 'ANESIS CAFE',\n",
       " 'ANFORA',\n",
       " 'ANGEBIENVENDIA',\n",
       " 'ANGEL CANDY STORE',\n",
       " 'ANGEL FLAKES PATTIES',\n",
       " \"ANGEL'S 1 BAKERY\",\n",
       " \"ANGEL'S GRILL\",\n",
       " 'ANGELA CAKE',\n",
       " 'ANGELA RESTAURANT OF NY',\n",
       " \"ANGELA'S BAKERY\",\n",
       " \"ANGELA'S PIZZERIA\",\n",
       " \"ANGELA'S ROCK AND ROLL DELI\",\n",
       " \"ANGELA'S TACO\",\n",
       " 'ANGELICA KITCHEN',\n",
       " 'ANGELICA PIZZERIA',\n",
       " \"ANGELICA'S BAKERY\",\n",
       " 'ANGELIKA FILM CENTER',\n",
       " 'ANGELINA',\n",
       " 'ANGELINA GOURMET FOODS',\n",
       " \"ANGELINA'S PANINI BAR\",\n",
       " \"ANGELINA'S RISTORANTE\",\n",
       " 'ANGELINAS PIZZA',\n",
       " 'ANGELITA RESTAURANT',\n",
       " \"ANGELO & AL'S PIZZERIA\",\n",
       " 'ANGELO BELLINI',\n",
       " 'ANGELO GORDON & COMPANY',\n",
       " 'ANGELO OF MULBERRY ST.',\n",
       " \"ANGELO'S DELI\",\n",
       " \"ANGELO'S PIZZA\",\n",
       " \"ANGELO'S PIZZA RESTAURANT\",\n",
       " \"ANGELO'S PIZZERIA\",\n",
       " \"ANGELO'S PIZZERIA & B B Q\",\n",
       " \"ANGELO'S PIZZERIA/MIMMO'S RESTAURANT\",\n",
       " 'ANGELOS DELI RESTAURANT',\n",
       " 'ANGELOS PIZZA & DELI',\n",
       " \"ANGIE'S BREAKFAST SPOT\",\n",
       " \"ANGIE'S CAFE PIZZA\",\n",
       " 'ANGLERS CLUB OF NEW YORK',\n",
       " 'ANGRY WADES',\n",
       " 'ANGUS CLUB STEAKHOUSE',\n",
       " 'ANI PIZZA',\n",
       " 'ANI SUSHI',\n",
       " \"ANIL'S ROTI SHOP\",\n",
       " \"ANITA'S LUNCHEONETTE\",\n",
       " \"ANITA'S ROTI SHOP LLC.\",\n",
       " 'ANJAPPAR CHETTINAD SOUTH INDIAN CUISINE',\n",
       " 'ANKA GRILL',\n",
       " \"ANN & TONY'S RESTAURANT\",\n",
       " 'ANN STREET HOTEL LLC',\n",
       " 'ANN TAYLOR',\n",
       " 'ANNA MARIA PIZZA PASTA',\n",
       " \"ANNA'S CAFE\",\n",
       " 'ANNABEL',\n",
       " 'ANNADALE TERRACE',\n",
       " 'ANNAM BRAHAM RESTAURANT',\n",
       " 'ANNELIES PASTRIES',\n",
       " 'ANNIE 88 EXPRESS',\n",
       " \"ANNIE CHAN'S RESTAURANT\",\n",
       " \"ANNIE MOORE'S RESTAURANT\",\n",
       " \"ANNIE'S KITCHEN\",\n",
       " 'ANNIES FIRST WOK RESTAURANT',\n",
       " 'ANOPOLI FAMILY RESTAURANT',\n",
       " 'ANOTHEROOM',\n",
       " 'ANTALIA TURKISH CUISINE',\n",
       " 'ANTEK RESTAURANT',\n",
       " \"ANTHI'S GREEK FOOD\",\n",
       " \"ANTHONY & JOE'S PIZZA\",\n",
       " 'ANTHONY AND SON PANNINI SHOPPE',\n",
       " 'ANTHONY CAFE',\n",
       " \"ANTHONY'S\",\n",
       " \"ANTHONY'S PIZZA\",\n",
       " \"ANTHONY'S PLACE\",\n",
       " \"ANTHONY'S RESTAURANT & PIZZERIA\",\n",
       " 'ANTIBES BISTRO',\n",
       " 'ANTICA BOTTEGA DEL VINO',\n",
       " 'ANTICA PESA',\n",
       " 'ANTICA TRATTORIA',\n",
       " 'ANTIKA PIZZERIA',\n",
       " 'ANTILLANA PIZZERIA',\n",
       " 'ANTINORI RISTORANTE',\n",
       " 'ANTIOCH MISSIONARY CHURCH',\n",
       " 'ANTIQUE  BAKERY & CAFE',\n",
       " 'ANTIQUE CAFE & BAKERY III INC',\n",
       " 'ANTIQUE GARAGE',\n",
       " 'ANTIVARI PIZZA',\n",
       " 'ANTLER BEER & WINE DISPENSARY',\n",
       " 'ANTOJITOS',\n",
       " 'ANTOJITOS DELI FOOD',\n",
       " 'ANTOJITOS ECUATORIANOS',\n",
       " 'ANTOJITOS MEXICANOS',\n",
       " 'ANTOJITOS RETAURANT',\n",
       " \"ANTONIO'S\",\n",
       " \"ANTONIO'S PIZZA\",\n",
       " \"ANTONIO'S PIZZERIA\",\n",
       " \"ANTONIO'S RESTAURANT\",\n",
       " \"ANTONIO'S TRATTORIA\",\n",
       " \"ANTONIONI'S\",\n",
       " 'ANTONUCCI',\n",
       " \"ANTUN'S\",\n",
       " 'ANYWAY CAFE',\n",
       " 'ANYWAY CAFE BAR',\n",
       " 'AO FENG RESTAURANT',\n",
       " 'AOA BAR & GRILL',\n",
       " 'AOYAMA SUSHI',\n",
       " 'AOYU SUSHI',\n",
       " 'AP CAFE',\n",
       " 'APANI',\n",
       " 'APERION PRODUCTION',\n",
       " 'APERITIF BAYSIDE LLC',\n",
       " 'APERITIVO DI PALMA',\n",
       " 'APERITIVO PIZZA BAR',\n",
       " 'APERTURE',\n",
       " 'APHRODITES SWEETS',\n",
       " 'APICIUS PIZZA',\n",
       " 'APIZZ RESTAURANT',\n",
       " 'APNAR PHARMACY',\n",
       " 'APOLLO BAKERY',\n",
       " 'APOLLO THEATRE CONCESSIONS',\n",
       " 'APOLO RESTAURANT',\n",
       " 'APOTHEKE',\n",
       " 'APPETITE NYC LLC',\n",
       " 'APPETITO RESTAURANT',\n",
       " 'APPLE GARDEN',\n",
       " ...]"
      ]
     },
     "execution_count": 113,
     "metadata": {},
     "output_type": "execute_result"
    }
   ],
   "source": [
    "restaurants"
   ]
  },
  {
   "cell_type": "markdown",
   "metadata": {},
   "source": [
    "### STEP 2: Implement the similarity function"
   ]
  },
  {
   "cell_type": "markdown",
   "metadata": {},
   "source": [
    "### Computing the similarity between two strings\n",
    "\n",
    "There are many ways that we can calculate the similarity between two strings. For our case, we will focus on a few similarity metrics that already have implementations in Python. \n",
    "\n",
    "##### Some commonly used similarity metrics\n",
    "\n",
    "* [Sequence matching](https://docs.python.org/3.6/library/difflib.html) (part of standard Python) ([example](http://stackoverflow.com/questions/17388213/find-the-similarity-percent-between-two-strings))\n",
    "* [Edit distance](https://en.wikipedia.org/wiki/Edit_distance) ([Python Jellyfish Library](https://github.com/jamesturk/jellyfish))\n",
    "* [N-gram distance](http://pythonhosted.org/ngram/tutorial.html#comparing-and-searching-strings)\n",
    "\n",
    "\n",
    "#### STEP 2.a: Let's figure out how we can install the libraries..."
   ]
  },
  {
   "cell_type": "code",
   "execution_count": null,
   "metadata": {},
   "outputs": [],
   "source": [
    "# Edit distance\n",
    "!sudo pip3 install -U jellyfish"
   ]
  },
  {
   "cell_type": "code",
   "execution_count": null,
   "metadata": {},
   "outputs": [],
   "source": [
    "# Ngram\n",
    "!sudo pip3 install -U ngram"
   ]
  },
  {
   "cell_type": "code",
   "execution_count": null,
   "metadata": {},
   "outputs": [],
   "source": [
    "pip3 install jellyfish\n",
    "pip3 install ngram"
   ]
  },
  {
   "cell_type": "markdown",
   "metadata": {},
   "source": [
    "#### STEP 2.b: Now let's test our similarity functions with various examples\n",
    "\n",
    "Once we have installed the necessary libraries for our project, we proceed to `import` them and test the functions."
   ]
  },
  {
   "cell_type": "code",
   "execution_count": 114,
   "metadata": {
    "ExecuteTime": {
     "end_time": "2019-02-22T01:28:28.701908Z",
     "start_time": "2019-02-22T01:28:28.694644Z"
    }
   },
   "outputs": [],
   "source": [
    "import jellyfish"
   ]
  },
  {
   "cell_type": "markdown",
   "metadata": {},
   "source": [
    "##### Edit Distance\n",
    "\n",
    "From Wikipedia:\n",
    "\n",
    "The [edit distance](https://en.wikipedia.org/wiki/Edit_distance) _ is a way of quantifying how dissimilar two strings (e.g., words) are to one another by counting the minimum number of operations required to transform one string into the other._. \n",
    "\n",
    "The Levenshtein distance between \"kitten\" and \"sitting\" is 3. A minimal edit script that transforms the former into the latter is:\n",
    "\n",
    "* kitten → sitten (substitution of \"s\" for \"k\")\n",
    "* sitten → sittin (substitution of \"i\" for \"e\")\n",
    "* sittin → sitting (insertion of \"g\" at the end)."
   ]
  },
  {
   "cell_type": "code",
   "execution_count": 118,
   "metadata": {
    "ExecuteTime": {
     "end_time": "2019-02-22T01:31:38.949464Z",
     "start_time": "2019-02-22T01:31:38.944904Z"
    }
   },
   "outputs": [
    {
     "data": {
      "text/plain": [
       "8"
      ]
     },
     "execution_count": 118,
     "metadata": {},
     "output_type": "execute_result"
    }
   ],
   "source": [
    "jellyfish.levenshtein_distance('Starbucks', 'Peet\\s')"
   ]
  },
  {
   "cell_type": "markdown",
   "metadata": {},
   "source": [
    "Let's try a few more examples"
   ]
  },
  {
   "cell_type": "code",
   "execution_count": 119,
   "metadata": {
    "ExecuteTime": {
     "end_time": "2019-02-22T01:32:23.143381Z",
     "start_time": "2019-02-22T01:32:23.138601Z"
    }
   },
   "outputs": [
    {
     "data": {
      "text/plain": [
       "1"
      ]
     },
     "execution_count": 119,
     "metadata": {},
     "output_type": "execute_result"
    }
   ],
   "source": [
    "jellyfish.levenshtein_distance('Prasant', 'Prashant')"
   ]
  },
  {
   "cell_type": "code",
   "execution_count": 120,
   "metadata": {
    "ExecuteTime": {
     "end_time": "2019-02-22T01:32:32.514481Z",
     "start_time": "2019-02-22T01:32:32.510442Z"
    }
   },
   "outputs": [
    {
     "data": {
      "text/plain": [
       "1"
      ]
     },
     "execution_count": 120,
     "metadata": {},
     "output_type": "execute_result"
    }
   ],
   "source": [
    "jellyfish.levenshtein_distance('Starbucks', 'Starbacks')"
   ]
  },
  {
   "cell_type": "code",
   "execution_count": 121,
   "metadata": {
    "ExecuteTime": {
     "end_time": "2019-02-22T01:33:10.032161Z",
     "start_time": "2019-02-22T01:33:10.024115Z"
    }
   },
   "outputs": [
    {
     "data": {
      "text/plain": [
       "1"
      ]
     },
     "execution_count": 121,
     "metadata": {},
     "output_type": "execute_result"
    }
   ],
   "source": [
    "jellyfish.levenshtein_distance('Starbucks', 'Starbuck')"
   ]
  },
  {
   "cell_type": "code",
   "execution_count": 122,
   "metadata": {
    "ExecuteTime": {
     "end_time": "2019-02-22T01:33:11.251505Z",
     "start_time": "2019-02-22T01:33:11.246712Z"
    }
   },
   "outputs": [
    {
     "data": {
      "text/plain": [
       "8"
      ]
     },
     "execution_count": 122,
     "metadata": {},
     "output_type": "execute_result"
    }
   ],
   "source": [
    "jellyfish.levenshtein_distance('Starbucks', 'Wendys')"
   ]
  },
  {
   "cell_type": "markdown",
   "metadata": {},
   "source": [
    "##### Demerau Levenshtein distance\n",
    "\n",
    "The Demerau Levenshtein distance also allows for  transposition of two adjacent characters."
   ]
  },
  {
   "cell_type": "code",
   "execution_count": 123,
   "metadata": {
    "ExecuteTime": {
     "end_time": "2019-02-22T01:33:26.132297Z",
     "start_time": "2019-02-22T01:33:26.126051Z"
    }
   },
   "outputs": [
    {
     "data": {
      "text/plain": [
       "1"
      ]
     },
     "execution_count": 123,
     "metadata": {},
     "output_type": "execute_result"
    }
   ],
   "source": [
    "jellyfish.levenshtein_distance('Prasant', 'Prashant')"
   ]
  },
  {
   "cell_type": "code",
   "execution_count": 124,
   "metadata": {
    "ExecuteTime": {
     "end_time": "2019-02-22T01:33:28.206434Z",
     "start_time": "2019-02-22T01:33:28.202169Z"
    }
   },
   "outputs": [
    {
     "data": {
      "text/plain": [
       "1"
      ]
     },
     "execution_count": 124,
     "metadata": {},
     "output_type": "execute_result"
    }
   ],
   "source": [
    "jellyfish.damerau_levenshtein_distance('Prasant', 'Prashant')"
   ]
  },
  {
   "cell_type": "code",
   "execution_count": 125,
   "metadata": {
    "ExecuteTime": {
     "end_time": "2019-02-22T01:33:33.569413Z",
     "start_time": "2019-02-22T01:33:33.565453Z"
    }
   },
   "outputs": [
    {
     "data": {
      "text/plain": [
       "1"
      ]
     },
     "execution_count": 125,
     "metadata": {},
     "output_type": "execute_result"
    }
   ],
   "source": [
    "jellyfish.damerau_levenshtein_distance('Starbucks', 'Starbucsk')"
   ]
  },
  {
   "cell_type": "code",
   "execution_count": 127,
   "metadata": {
    "ExecuteTime": {
     "end_time": "2019-02-22T01:34:54.935463Z",
     "start_time": "2019-02-22T01:34:54.930613Z"
    }
   },
   "outputs": [
    {
     "data": {
      "text/plain": [
       "1"
      ]
     },
     "execution_count": 127,
     "metadata": {},
     "output_type": "execute_result"
    }
   ],
   "source": [
    "jellyfish.levenshtein_distance('Starbucks', 'starbucks')"
   ]
  },
  {
   "cell_type": "markdown",
   "metadata": {},
   "source": [
    "###### Jaro–Winkler distance\n",
    "\n",
    "[Jaro–Winkler distance](https://en.wikipedia.org/wiki/Jaro%E2%80%93Winkler_distance) is a string metric for measuring the edit distance between two sequences. Informally, the **Jaro** distance between two words is the minimum number of single-character transpositions required to change one word into the other; the **Jaro–Winkler** distance  gives more favourable ratings to strings that match from the beginning.\n"
   ]
  },
  {
   "cell_type": "code",
   "execution_count": 131,
   "metadata": {
    "ExecuteTime": {
     "end_time": "2019-02-22T01:37:50.336589Z",
     "start_time": "2019-02-22T01:37:50.331882Z"
    }
   },
   "outputs": [
    {
     "data": {
      "text/plain": [
       "0.9259259259259259"
      ]
     },
     "execution_count": 131,
     "metadata": {},
     "output_type": "execute_result"
    }
   ],
   "source": [
    "jellyfish.jaro_winkler('Starbucks', 'starbucks')"
   ]
  },
  {
   "cell_type": "code",
   "execution_count": 129,
   "metadata": {
    "ExecuteTime": {
     "end_time": "2019-02-22T01:37:29.958271Z",
     "start_time": "2019-02-22T01:37:29.954345Z"
    }
   },
   "outputs": [
    {
     "data": {
      "text/plain": [
       "0.7037037037037037"
      ]
     },
     "execution_count": 129,
     "metadata": {},
     "output_type": "execute_result"
    }
   ],
   "source": [
    "jellyfish.jaro_winkler('Starbucks', 'Milwbucks')"
   ]
  },
  {
   "cell_type": "markdown",
   "metadata": {},
   "source": [
    "##### Soundex\n",
    "\n",
    "[Soundex](https://en.wikipedia.org/wiki/Soundex) is a phonetic algorithm for indexing names by sound, as pronounced in English. The goal is for homophones to be encoded to the same representation so that they can be matched despite minor differences in spelling. \n",
    "\n",
    "Using this algorithm, both \"Robert\" and \"Rupert\" return the same string \"R163\" while \"Rubin\" yields \"R150\". \"Ashcraft\" and \"Ashcroft\" both yield \"A261\". \"Tymczak\" yields \"T522\" not \"T520\" (the chars 'z' and 'k' in the name are coded as 2 twice since a vowel lies in between them). \"Pfister\" yields \"P236\" not \"P123\" (the first two letters have the same number and are coded once as 'P')."
   ]
  },
  {
   "cell_type": "code",
   "execution_count": 134,
   "metadata": {
    "ExecuteTime": {
     "end_time": "2019-02-22T01:41:30.865547Z",
     "start_time": "2019-02-22T01:41:30.860301Z"
    }
   },
   "outputs": [
    {
     "data": {
      "text/plain": [
       "'R163'"
      ]
     },
     "execution_count": 134,
     "metadata": {},
     "output_type": "execute_result"
    }
   ],
   "source": [
    "jellyfish.soundex('Robert')"
   ]
  },
  {
   "cell_type": "code",
   "execution_count": 135,
   "metadata": {
    "ExecuteTime": {
     "end_time": "2019-02-22T01:41:36.216236Z",
     "start_time": "2019-02-22T01:41:36.209606Z"
    }
   },
   "outputs": [
    {
     "data": {
      "text/plain": [
       "'R163'"
      ]
     },
     "execution_count": 135,
     "metadata": {},
     "output_type": "execute_result"
    }
   ],
   "source": [
    "jellyfish.soundex('Rupert')"
   ]
  },
  {
   "cell_type": "code",
   "execution_count": 136,
   "metadata": {
    "ExecuteTime": {
     "end_time": "2019-02-22T01:41:37.691600Z",
     "start_time": "2019-02-22T01:41:37.687225Z"
    }
   },
   "outputs": [
    {
     "data": {
      "text/plain": [
       "'A226'"
      ]
     },
     "execution_count": 136,
     "metadata": {},
     "output_type": "execute_result"
    }
   ],
   "source": [
    "jellyfish.soundex('Ashcroft')"
   ]
  },
  {
   "cell_type": "code",
   "execution_count": 137,
   "metadata": {
    "ExecuteTime": {
     "end_time": "2019-02-22T01:41:38.422317Z",
     "start_time": "2019-02-22T01:41:38.418232Z"
    }
   },
   "outputs": [
    {
     "data": {
      "text/plain": [
       "'A226'"
      ]
     },
     "execution_count": 137,
     "metadata": {},
     "output_type": "execute_result"
    }
   ],
   "source": [
    "jellyfish.soundex('Ashcraft')"
   ]
  },
  {
   "cell_type": "code",
   "execution_count": 138,
   "metadata": {
    "ExecuteTime": {
     "end_time": "2019-02-22T01:41:55.616874Z",
     "start_time": "2019-02-22T01:41:55.612924Z"
    }
   },
   "outputs": [
    {
     "data": {
      "text/plain": [
       "'P131'"
      ]
     },
     "execution_count": 138,
     "metadata": {},
     "output_type": "execute_result"
    }
   ],
   "source": [
    "jellyfish.soundex('Papadopoylis')"
   ]
  },
  {
   "cell_type": "code",
   "execution_count": 139,
   "metadata": {
    "ExecuteTime": {
     "end_time": "2019-02-22T01:41:56.512917Z",
     "start_time": "2019-02-22T01:41:56.508878Z"
    }
   },
   "outputs": [
    {
     "data": {
      "text/plain": [
       "'P131'"
      ]
     },
     "execution_count": 139,
     "metadata": {},
     "output_type": "execute_result"
    }
   ],
   "source": [
    "jellyfish.soundex('Papadopoulos')"
   ]
  },
  {
   "cell_type": "markdown",
   "metadata": {},
   "source": [
    "#### Ngrams\n",
    "\n",
    "With the n-gram similarity score, we split the word into sequences of n consecutive characters (n-grams) and then compare the sets of n-grams between the two words. For example, the name \"Apples\" has the following 2-grams: \"Ap\", \"pl\", \"es\". (We can also add \"#A\" and \"s#\" if we want to capture the prefix and suffixes.) Strings that share a large number of q-grams are often similar."
   ]
  },
  {
   "cell_type": "code",
   "execution_count": 140,
   "metadata": {
    "ExecuteTime": {
     "end_time": "2019-02-22T01:47:00.030821Z",
     "start_time": "2019-02-22T01:47:00.024826Z"
    }
   },
   "outputs": [],
   "source": [
    "import ngram"
   ]
  },
  {
   "cell_type": "code",
   "execution_count": 145,
   "metadata": {
    "ExecuteTime": {
     "end_time": "2019-02-22T01:48:10.036091Z",
     "start_time": "2019-02-22T01:48:10.031764Z"
    }
   },
   "outputs": [
    {
     "data": {
      "text/plain": [
       "0.7"
      ]
     },
     "execution_count": 145,
     "metadata": {},
     "output_type": "execute_result"
    }
   ],
   "source": [
    "ngram.NGram.compare('Prasant', 'Prashant',N=2)"
   ]
  },
  {
   "cell_type": "code",
   "execution_count": 146,
   "metadata": {
    "ExecuteTime": {
     "end_time": "2019-02-22T01:48:20.672643Z",
     "start_time": "2019-02-22T01:48:20.668600Z"
    }
   },
   "outputs": [
    {
     "data": {
      "text/plain": [
       "0.875"
      ]
     },
     "execution_count": 146,
     "metadata": {},
     "output_type": "execute_result"
    }
   ],
   "source": [
    "ngram.NGram.compare('Prasant', 'Prashant',N=1)"
   ]
  },
  {
   "cell_type": "code",
   "execution_count": 147,
   "metadata": {
    "ExecuteTime": {
     "end_time": "2019-02-22T01:48:31.401023Z",
     "start_time": "2019-02-22T01:48:31.395935Z"
    }
   },
   "outputs": [
    {
     "data": {
      "text/plain": [
       "0.8571428571428571"
      ]
     },
     "execution_count": 147,
     "metadata": {},
     "output_type": "execute_result"
    }
   ],
   "source": [
    "ngram.NGram.compare('New York University','New York Universty',N=2)"
   ]
  },
  {
   "cell_type": "code",
   "execution_count": 148,
   "metadata": {
    "ExecuteTime": {
     "end_time": "2019-02-22T01:49:15.408332Z",
     "start_time": "2019-02-22T01:49:15.403474Z"
    }
   },
   "outputs": [
    {
     "data": {
      "text/plain": [
       "0.8636363636363636"
      ]
     },
     "execution_count": 148,
     "metadata": {},
     "output_type": "execute_result"
    }
   ],
   "source": [
    "ngram.NGram.compare('New York University','University of New York',N=1)"
   ]
  },
  {
   "cell_type": "code",
   "execution_count": 149,
   "metadata": {
    "ExecuteTime": {
     "end_time": "2019-02-22T01:49:39.381636Z",
     "start_time": "2019-02-22T01:49:39.377048Z"
    }
   },
   "outputs": [
    {
     "data": {
      "text/plain": [
       "0.3"
      ]
     },
     "execution_count": 149,
     "metadata": {},
     "output_type": "execute_result"
    }
   ],
   "source": [
    "ngram.NGram.compare('New York University','Columbia Universty',N=2)"
   ]
  },
  {
   "cell_type": "markdown",
   "metadata": {},
   "source": [
    "#### Task 1: Create a function that takes as input two strings and returns their similarity\n",
    "\n",
    "Given the experience with the metrics above, we want now to create a function that takes as input a string and returns their similarity. Our key requirement is for the similarity metric to be between 0 and 1, with 0 meaning no similarity, and 1 corresponding to identical strings. Some of the similarity functions above would fit right in, others will need some work. "
   ]
  },
  {
   "cell_type": "code",
   "execution_count": 153,
   "metadata": {
    "ExecuteTime": {
     "end_time": "2019-02-22T01:51:37.411183Z",
     "start_time": "2019-02-22T01:51:37.406605Z"
    }
   },
   "outputs": [
    {
     "name": "stdout",
     "output_type": "stream",
     "text": [
      "0.6842105263157895\n",
      "0.28\n"
     ]
    }
   ],
   "source": [
    "# For n-gram similarity it is very simple, we just return the result\n",
    "import ngram\n",
    "def computeSimilarity_ngram(str1, str2):\n",
    "    similarity = ngram.NGram.compare(str1,str2,N=1)\n",
    "    return similarity\n",
    "\n",
    "print(computeSimilarity_ngram(\"New York University\", \"New York Univ\"))\n",
    "print(computeSimilarity_ngram(\"New York University\", \"Columbia Univ\"))"
   ]
  },
  {
   "cell_type": "code",
   "execution_count": 155,
   "metadata": {
    "ExecuteTime": {
     "end_time": "2019-02-22T01:52:21.971945Z",
     "start_time": "2019-02-22T01:52:21.964792Z"
    }
   },
   "outputs": [
    {
     "name": "stdout",
     "output_type": "stream",
     "text": [
      "0.6842105263157895\n",
      "0.26315789473684215\n"
     ]
    }
   ],
   "source": [
    "# For edit distance\n",
    "import jellyfish\n",
    "def computeSimilarity_editdistance(str1, str2):\n",
    "    # Compute the maximum length of the two strings, to normalize our distance\n",
    "    maxlength = max( len(str1), len(str2))\n",
    "    # Compute the edit distance between two strings\n",
    "    distance = jellyfish.levenshtein_distance(str1, str2)\n",
    "    similarity = 1 - distance/maxlength\n",
    "    return similarity\n",
    "\n",
    "print(computeSimilarity_editdistance(\"New York University\", \"New York Univ\")\n",
    ")\n",
    "print(computeSimilarity_editdistance(\"New York University\", \"Columbia Univ\"))"
   ]
  },
  {
   "cell_type": "code",
   "execution_count": 156,
   "metadata": {
    "ExecuteTime": {
     "end_time": "2019-02-22T01:52:58.301635Z",
     "start_time": "2019-02-22T01:52:58.296066Z"
    }
   },
   "outputs": [
    {
     "data": {
      "text/plain": [
       "1.0"
      ]
     },
     "execution_count": 156,
     "metadata": {},
     "output_type": "execute_result"
    }
   ],
   "source": [
    "# For soundex\n",
    "import jellyfish\n",
    "def computeSimilarity_soundex(str1, str2):\n",
    "    soundex1 = jellyfish.soundex(str1)\n",
    "    soundex2 = jellyfish.soundex(str2)\n",
    "    if soundex1 == soundex2:\n",
    "        return 1.0\n",
    "    else: \n",
    "        return 0.0\n",
    "    \n",
    "computeSimilarity_soundex(\"New York University\", \"New York Univ\")"
   ]
  },
  {
   "cell_type": "markdown",
   "metadata": {},
   "source": [
    "#### Task 2: Modify the functions above to allow for various similarity calculation methods.\n",
    "\n",
    "We will now up our game, and return back the results of the comparison using various methods. The `method` parameter defines the metric that we will use"
   ]
  },
  {
   "cell_type": "code",
   "execution_count": null,
   "metadata": {
    "ExecuteTime": {
     "end_time": "2019-02-21T21:26:26.924706Z",
     "start_time": "2019-02-21T21:26:26.920657Z"
    }
   },
   "outputs": [],
   "source": [
    "def computeSimilarity(str1, str2, method):\n",
    "    if method == 'ngram3':\n",
    "        return computeSimilarity_ngram(str1, str2)\n",
    "    elif method == 'edit_distance':\n",
    "        return computeSimilarity_editdistance(str1, str2)\n",
    "    elif method == 'soundex':\n",
    "        return computeSimilarity_soundex(str1, str2)\n",
    "    else:\n",
    "        return \"Method not supported\""
   ]
  },
  {
   "cell_type": "code",
   "execution_count": null,
   "metadata": {
    "ExecuteTime": {
     "end_time": "2019-02-21T21:26:28.922056Z",
     "start_time": "2019-02-21T21:26:28.917864Z"
    }
   },
   "outputs": [],
   "source": [
    "computeSimilarity(\"New York University\", \"New York Univ\", 'ngram3')"
   ]
  },
  {
   "cell_type": "code",
   "execution_count": null,
   "metadata": {
    "ExecuteTime": {
     "end_time": "2019-02-21T21:26:32.207234Z",
     "start_time": "2019-02-21T21:26:32.202819Z"
    }
   },
   "outputs": [],
   "source": [
    "computeSimilarity(\"New York University\", \"New York Univ\", 'edit_distance')"
   ]
  },
  {
   "cell_type": "code",
   "execution_count": 159,
   "metadata": {
    "ExecuteTime": {
     "end_time": "2019-02-22T01:56:28.625977Z",
     "start_time": "2019-02-22T01:56:28.620709Z"
    }
   },
   "outputs": [],
   "source": [
    "# Most of the time we are going to compute all similarity metrics\n",
    "# and return back a dictionary with all the metrics\n",
    "def computeSimilarity(str1, str2):\n",
    "    results = {\n",
    "        'ngram': computeSimilarity_ngram(str1, str2),\n",
    "        'edit_distance' : computeSimilarity_editdistance(str1, str2),\n",
    "        'soundex': computeSimilarity_soundex(str1, str2) \n",
    "    }\n",
    "    results['average'] = sum(results.values()) / len(results)\n",
    "    return results"
   ]
  },
  {
   "cell_type": "code",
   "execution_count": 160,
   "metadata": {
    "ExecuteTime": {
     "end_time": "2019-02-22T01:56:29.393128Z",
     "start_time": "2019-02-22T01:56:29.389277Z"
    }
   },
   "outputs": [
    {
     "data": {
      "text/plain": [
       "{'ngram': 0.6842105263157895,\n",
       " 'edit_distance': 0.6842105263157895,\n",
       " 'soundex': 1.0,\n",
       " 'average': 0.7894736842105262}"
      ]
     },
     "execution_count": 160,
     "metadata": {},
     "output_type": "execute_result"
    }
   ],
   "source": [
    "computeSimilarity(\"New York University\", \"New York Univ\")"
   ]
  },
  {
   "cell_type": "markdown",
   "metadata": {},
   "source": [
    "### STEP 3: Compute similarity of a company against a list of company names"
   ]
  },
  {
   "cell_type": "markdown",
   "metadata": {},
   "source": [
    "We now create a function that accepts a company name and a list of companies, and computes their similarity. This part will get us to exercise our for-loops, and also illustrate how we can use lists and tuples."
   ]
  },
  {
   "cell_type": "markdown",
   "metadata": {},
   "source": [
    "**Sorting a list of tuples**:_This part is a little bit advanced for now, so I will just give the code below. (Solution taken from http://stackoverflow.com/questions/3121979/how-to-sort-list-tuple-of-lists-tuples). Here is a small example below, which we will reuse in our function:_"
   ]
  },
  {
   "cell_type": "code",
   "execution_count": null,
   "metadata": {
    "ExecuteTime": {
     "end_time": "2019-02-21T21:27:06.052202Z",
     "start_time": "2019-02-21T21:27:06.044095Z"
    }
   },
   "outputs": [],
   "source": [
    "data = [(\"Prasant\",0.5), (\"Gavin\",0.6), (\"Erlich\", 0.4)]\n",
    "data.sort(key=lambda tupl: tupl[1], reverse=True)  # sorts in place, in descending order, based on the second element of the tuple\n",
    "print(data)"
   ]
  },
  {
   "cell_type": "code",
   "execution_count": 161,
   "metadata": {
    "ExecuteTime": {
     "end_time": "2019-02-22T01:56:45.174367Z",
     "start_time": "2019-02-22T01:56:45.168976Z"
    }
   },
   "outputs": [],
   "source": [
    "# STEP 3: We now create a function that accepts a company name\n",
    "# and a list of companies, and computes their similarity\n",
    "# We have a 'top' parameter (by default set to be 5)\n",
    "# that restricts the results to only the most similar \n",
    "# string pairs. We also define a parameter \"method\" that defines \n",
    "# what is the similarity method that we want to use. We also define a \n",
    "# similarity threshold for keeping only results with sufficient similarity\n",
    "\n",
    "def companySimilarity(query, companyList, top = 5, method = 'average', sim_threshold = 0.25):\n",
    "    # We will use a list to store the similar matches\n",
    "    results = []\n",
    "\n",
    "    # Go through all the restaurants\n",
    "    for c in companyList:\n",
    "        # We compute the similarities (all metrics)\n",
    "        # between the string \"query\" and the string \"c\"\n",
    "        # which is the variable that iterates over the list \"companyList\"\n",
    "        similarities = computeSimilarity(query, c)\n",
    "        # If the ngram similarity is above 0.25\n",
    "        if similarities[method]>sim_threshold:\n",
    "            # Add in results the matching restaurant name r\n",
    "            # and the similarity\n",
    "            results.append( (c, similarities[method]) )\n",
    "        # ALTERNATIVELY, we can average all similarities\n",
    "        # and r\n",
    "\n",
    "    # This list contains the matches. The list contains a list\n",
    "    # of tuples (company name, similarity)\n",
    "    # We sort in decreasing order of similarity\n",
    "    results.sort(key=lambda tupl: tupl[1], reverse=True)\n",
    "    \n",
    "    # We return only the top results\n",
    "    return results[:top]    "
   ]
  },
  {
   "cell_type": "code",
   "execution_count": 162,
   "metadata": {
    "ExecuteTime": {
     "end_time": "2019-02-22T01:56:49.179440Z",
     "start_time": "2019-02-22T01:56:48.481220Z"
    }
   },
   "outputs": [
    {
     "data": {
      "text/plain": [
       "[('MCDONALDS', 0.9),\n",
       " ('MC DONALDS', 0.8181818181818182),\n",
       " (\"MCDONALD'S\", 0.8181818181818182),\n",
       " ('MCDONALD', 0.8),\n",
       " (\"MC DONALD'S\", 0.75)]"
      ]
     },
     "execution_count": 162,
     "metadata": {},
     "output_type": "execute_result"
    }
   ],
   "source": [
    "query = 'MACDONALDS'\n",
    "companySimilarity(query, restaurants, \n",
    "                  top = 5, method = 'ngram', sim_threshold = 0.25)\n"
   ]
  },
  {
   "cell_type": "code",
   "execution_count": 163,
   "metadata": {
    "ExecuteTime": {
     "end_time": "2019-02-22T01:57:02.558200Z",
     "start_time": "2019-02-22T01:57:01.849912Z"
    }
   },
   "outputs": [
    {
     "data": {
      "text/plain": [
       "[('MCDONALDS', 0.9333333333333332),\n",
       " ('MC DONALDS', 0.8727272727272727),\n",
       " (\"MCDONALD'S\", 0.8727272727272727),\n",
       " ('MCDONALD', 0.8666666666666667),\n",
       " (\"MC DONALD'S\", 0.8257575757575758)]"
      ]
     },
     "execution_count": 163,
     "metadata": {},
     "output_type": "execute_result"
    }
   ],
   "source": [
    "query = 'MACDONALDS'\n",
    "companySimilarity(query, restaurants, \n",
    "                  top = 5, method = 'average', sim_threshold = 0.25)\n"
   ]
  },
  {
   "cell_type": "code",
   "execution_count": 164,
   "metadata": {
    "ExecuteTime": {
     "end_time": "2019-02-22T01:57:08.693808Z",
     "start_time": "2019-02-22T01:57:08.021104Z"
    }
   },
   "outputs": [
    {
     "data": {
      "text/plain": [
       "[('STARBUCKS', 1.0),\n",
       " ('STARBUCKS 22420', 0.6),\n",
       " ('TURKISS', 0.6),\n",
       " ('LUCKY STAR', 0.5833333333333334),\n",
       " ('SURF SHACK', 0.5833333333333334)]"
      ]
     },
     "execution_count": 164,
     "metadata": {},
     "output_type": "execute_result"
    }
   ],
   "source": [
    "query = 'STARBUCKS'\n",
    "companySimilarity(query, restaurants, \n",
    "                  top = 5, method = 'ngram', sim_threshold = 0.25)\n"
   ]
  },
  {
   "cell_type": "code",
   "execution_count": 165,
   "metadata": {
    "ExecuteTime": {
     "end_time": "2019-02-22T01:57:13.764825Z",
     "start_time": "2019-02-22T01:57:13.096815Z"
    }
   },
   "outputs": [
    {
     "data": {
      "text/plain": [
       "[('STARBUCKS', 1.0),\n",
       " ('STARBUCKS 22420', 0.7333333333333334),\n",
       " ('STARBUCKS COFFEE', 0.7083333333333334),\n",
       " ('STARBUCKS # 14840', 0.6862745098039215),\n",
       " ('STARBUCKS COFFEE#7462', 0.6190476190476191),\n",
       " ('STARBUCKS COFFEE #3438', 0.6060606060606061),\n",
       " ('STARBUCKS COFFEE #7344', 0.6060606060606061),\n",
       " ('STARBUCKS COFFEE #7358', 0.6060606060606061),\n",
       " ('STARBUCKS COFFEE #7416', 0.6060606060606061),\n",
       " ('STARBUCKS COFFEE #7682', 0.6060606060606061),\n",
       " ('STARBUCKS COFFEE #7826', 0.6060606060606061),\n",
       " ('STARBUCKS COFFEE #9282', 0.6060606060606061),\n",
       " ('STARBUCKS COFFEE #9722', 0.6060606060606061),\n",
       " ('STARBUCKS COFFEE# 7426', 0.6060606060606061),\n",
       " ('STARBUCKS (STORE 16628)', 0.5942028985507246),\n",
       " ('STARBUCKS COFFEE # 7463', 0.5942028985507246),\n",
       " ('STARBUCKS COFFEE # 7540', 0.5942028985507246),\n",
       " ('STARBUCKS COFFEE #14240', 0.5942028985507246),\n",
       " ('STARBUCKS COFFEE #18509', 0.5942028985507246),\n",
       " ('STARBUCKS COFFEE #20679', 0.5942028985507246)]"
      ]
     },
     "execution_count": 165,
     "metadata": {},
     "output_type": "execute_result"
    }
   ],
   "source": [
    "query = 'STARBUCKS'\n",
    "companySimilarity(query, restaurants, \n",
    "                  top = 20, method = 'average', sim_threshold = 0.25)\n"
   ]
  },
  {
   "cell_type": "markdown",
   "metadata": {},
   "source": [
    "### Step 4: Perform the similarity computation across all companies in the dataset."
   ]
  },
  {
   "cell_type": "code",
   "execution_count": null,
   "metadata": {
    "ExecuteTime": {
     "end_time": "2019-02-21T21:29:48.747835Z",
     "start_time": "2019-02-21T21:29:48.744742Z"
    }
   },
   "outputs": [],
   "source": [
    "# STEP 4: We are almost done. We now just go through all the companies in the list\n",
    "# and we call the companySimilarity function that computes the similar company names\n",
    "# for all the companies in the list. We store the results in a dictionary, with the \n",
    "# key being the company name, and the value being a \"list of tuples\" with the \n",
    "# similar company names and the corresponding similarity value.\n"
   ]
  },
  {
   "cell_type": "code",
   "execution_count": null,
   "metadata": {
    "ExecuteTime": {
     "end_time": "2019-02-21T21:30:19.547704Z",
     "start_time": "2019-02-21T21:29:52.120637Z"
    }
   },
   "outputs": [],
   "source": [
    "matches = 0 \n",
    "for q in restaurants:\n",
    "    results = companySimilarity(q, restaurants, \n",
    "                  top = 5, method = 'average', sim_threshold = 0.5)\n",
    "    # We will print only non-identical matches (remember the top\n",
    "    # match is  the restaurant matching with itself)\n",
    "    if (len(results)>1):\n",
    "        print(q, \"===>\", results[1:])\n",
    "        print(\"\\n\")\n",
    "        matches = matches + 1\n",
    "    if matches > 10:\n",
    "        break # stop after finding 10 restaurants with matches"
   ]
  },
  {
   "cell_type": "code",
   "execution_count": null,
   "metadata": {
    "ExecuteTime": {
     "end_time": "2019-02-21T21:30:55.794300Z",
     "start_time": "2019-02-21T21:30:29.718123Z"
    }
   },
   "outputs": [],
   "source": [
    "matches = 0\n",
    "\n",
    "for q in restaurants:\n",
    "    results = companySimilarity(q, restaurants, \n",
    "                  top = 5, method = 'average', sim_threshold = 0.5)\n",
    "    # We will print only non-identical matches (remember the top\n",
    "    # match is  the restaurant matching with itself)\n",
    "    if (len(results)>1):\n",
    "        for r in results[1:]:\n",
    "            print(f\"{q}\\t{r[0]}\\t{r[1]}\")\n",
    "            matches = matches + 1\n",
    "    if matches>10: \n",
    "        break # We stop after 10 matches "
   ]
  },
  {
   "cell_type": "code",
   "execution_count": null,
   "metadata": {},
   "outputs": [],
   "source": []
  }
 ],
 "metadata": {
  "kernelspec": {
   "display_name": "Python 3",
   "language": "python",
   "name": "python3"
  },
  "language_info": {
   "codemirror_mode": {
    "name": "ipython",
    "version": 3
   },
   "file_extension": ".py",
   "mimetype": "text/x-python",
   "name": "python",
   "nbconvert_exporter": "python",
   "pygments_lexer": "ipython3",
   "version": "3.7.1"
  },
  "toc": {
   "base_numbering": 1,
   "nav_menu": {},
   "number_sections": true,
   "sideBar": true,
   "skip_h1_title": false,
   "title_cell": "Table of Contents",
   "title_sidebar": "Contents",
   "toc_cell": true,
   "toc_position": {},
   "toc_section_display": true,
   "toc_window_display": false
  }
 },
 "nbformat": 4,
 "nbformat_minor": 2
}
