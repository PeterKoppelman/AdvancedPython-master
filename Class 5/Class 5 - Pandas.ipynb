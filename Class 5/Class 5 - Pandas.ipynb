{
 "cells": [
  {
   "cell_type": "markdown",
   "metadata": {
    "toc": "true"
   },
   "source": [
    "<h1>Table of Contents<span class=\"tocSkip\"></span></h1>\n",
    "<div class=\"toc\"><ul class=\"toc-item\"><li><span><a href=\"#Pandas:-Introduction\" data-toc-modified-id=\"Pandas:-Introduction-1\"><span class=\"toc-item-num\">1&nbsp;&nbsp;</span>Pandas: Introduction</a></span><ul class=\"toc-item\"><li><span><a href=\"#Importing-Libraries\" data-toc-modified-id=\"Importing-Libraries-1.1\"><span class=\"toc-item-num\">1.1&nbsp;&nbsp;</span>Importing Libraries</a></span></li></ul></li><li><span><a href=\"#Data-Structures\" data-toc-modified-id=\"Data-Structures-2\"><span class=\"toc-item-num\">2&nbsp;&nbsp;</span>Data Structures</a></span><ul class=\"toc-item\"><li><span><a href=\"#Series\" data-toc-modified-id=\"Series-2.1\"><span class=\"toc-item-num\">2.1&nbsp;&nbsp;</span>Series</a></span><ul class=\"toc-item\"><li><span><a href=\"#Mini-Project\" data-toc-modified-id=\"Mini-Project-2.1.1\"><span class=\"toc-item-num\">2.1.1&nbsp;&nbsp;</span>Mini-Project</a></span></li></ul></li><li><span><a href=\"#DataFrames\" data-toc-modified-id=\"DataFrames-2.2\"><span class=\"toc-item-num\">2.2&nbsp;&nbsp;</span>DataFrames</a></span></li></ul></li><li><span><a href=\"#Indexing-and-Selection\" data-toc-modified-id=\"Indexing-and-Selection-3\"><span class=\"toc-item-num\">3&nbsp;&nbsp;</span>Indexing and Selection</a></span><ul class=\"toc-item\"><li><span><a href=\"#Selecting-Columns\" data-toc-modified-id=\"Selecting-Columns-3.1\"><span class=\"toc-item-num\">3.1&nbsp;&nbsp;</span>Selecting Columns</a></span></li><li><span><a href=\"#Using-loc-and-iloc\" data-toc-modified-id=\"Using-loc-and-iloc-3.2\"><span class=\"toc-item-num\">3.2&nbsp;&nbsp;</span>Using <code>loc</code> and <code>iloc</code></a></span></li><li><span><a href=\"#Conditional-Selection\" data-toc-modified-id=\"Conditional-Selection-3.3\"><span class=\"toc-item-num\">3.3&nbsp;&nbsp;</span>Conditional Selection</a></span></li><li><span><a href=\"#Creating-New-Columns\" data-toc-modified-id=\"Creating-New-Columns-3.4\"><span class=\"toc-item-num\">3.4&nbsp;&nbsp;</span>Creating New Columns</a></span></li><li><span><a href=\"#Removing-Columns\" data-toc-modified-id=\"Removing-Columns-3.5\"><span class=\"toc-item-num\">3.5&nbsp;&nbsp;</span>Removing Columns</a></span></li><li><span><a href=\"#Dataframe-from-a-Dictionry\" data-toc-modified-id=\"Dataframe-from-a-Dictionry-3.6\"><span class=\"toc-item-num\">3.6&nbsp;&nbsp;</span>Dataframe from a Dictionry</a></span></li><li><span><a href=\"#Exercise\" data-toc-modified-id=\"Exercise-3.7\"><span class=\"toc-item-num\">3.7&nbsp;&nbsp;</span>Exercise</a></span></li></ul></li><li><span><a href=\"#Handling-Missing-Data\" data-toc-modified-id=\"Handling-Missing-Data-4\"><span class=\"toc-item-num\">4&nbsp;&nbsp;</span>Handling Missing Data</a></span><ul class=\"toc-item\"><li><ul class=\"toc-item\"><li><span><a href=\"#What-is-Missing-Data?\" data-toc-modified-id=\"What-is-Missing-Data?-4.0.1\"><span class=\"toc-item-num\">4.0.1&nbsp;&nbsp;</span>What is Missing Data?</a></span></li></ul></li><li><span><a href=\"#Imputation\" data-toc-modified-id=\"Imputation-4.1\"><span class=\"toc-item-num\">4.1&nbsp;&nbsp;</span>Imputation</a></span></li><li><span><a href=\"#Interpolation\" data-toc-modified-id=\"Interpolation-4.2\"><span class=\"toc-item-num\">4.2&nbsp;&nbsp;</span>Interpolation</a></span></li><li><span><a href=\"#A-Quick-Detour-into-some-Data-Viz\" data-toc-modified-id=\"A-Quick-Detour-into-some-Data-Viz-4.3\"><span class=\"toc-item-num\">4.3&nbsp;&nbsp;</span>A Quick Detour into some Data Viz</a></span></li></ul></li><li><span><a href=\"#Merge,-Join,-Concatenate\" data-toc-modified-id=\"Merge,-Join,-Concatenate-5\"><span class=\"toc-item-num\">5&nbsp;&nbsp;</span>Merge, Join, Concatenate</a></span><ul class=\"toc-item\"><li><span><a href=\"#Merge\" data-toc-modified-id=\"Merge-5.1\"><span class=\"toc-item-num\">5.1&nbsp;&nbsp;</span>Merge</a></span></li><li><span><a href=\"#Join\" data-toc-modified-id=\"Join-5.2\"><span class=\"toc-item-num\">5.2&nbsp;&nbsp;</span>Join</a></span></li><li><span><a href=\"#Concatenate\" data-toc-modified-id=\"Concatenate-5.3\"><span class=\"toc-item-num\">5.3&nbsp;&nbsp;</span>Concatenate</a></span></li></ul></li><li><span><a href=\"#Grouping,-a.k.a.-split-apply-combine\" data-toc-modified-id=\"Grouping,-a.k.a.-split-apply-combine-6\"><span class=\"toc-item-num\">6&nbsp;&nbsp;</span>Grouping, a.k.a. split-apply-combine</a></span><ul class=\"toc-item\"><li><span><a href=\"#Apply\" data-toc-modified-id=\"Apply-6.1\"><span class=\"toc-item-num\">6.1&nbsp;&nbsp;</span>Apply</a></span></li><li><span><a href=\"#Map\" data-toc-modified-id=\"Map-6.2\"><span class=\"toc-item-num\">6.2&nbsp;&nbsp;</span>Map</a></span></li><li><span><a href=\"#ApplyMap\" data-toc-modified-id=\"ApplyMap-6.3\"><span class=\"toc-item-num\">6.3&nbsp;&nbsp;</span>ApplyMap</a></span></li></ul></li><li><span><a href=\"#Pivot-Tables\" data-toc-modified-id=\"Pivot-Tables-7\"><span class=\"toc-item-num\">7&nbsp;&nbsp;</span>Pivot Tables</a></span><ul class=\"toc-item\"><li><span><a href=\"#Sales-Reports\" data-toc-modified-id=\"Sales-Reports-7.1\"><span class=\"toc-item-num\">7.1&nbsp;&nbsp;</span>Sales Reports</a></span></li><li><span><a href=\"#Tips\" data-toc-modified-id=\"Tips-7.2\"><span class=\"toc-item-num\">7.2&nbsp;&nbsp;</span>Tips</a></span></li><li><span><a href=\"#Bada-Bing!\" data-toc-modified-id=\"Bada-Bing!-7.3\"><span class=\"toc-item-num\">7.3&nbsp;&nbsp;</span>Bada Bing!</a></span></li></ul></li><li><span><a href=\"#Basic-Statistical-Operations/Explorations\" data-toc-modified-id=\"Basic-Statistical-Operations/Explorations-8\"><span class=\"toc-item-num\">8&nbsp;&nbsp;</span>Basic Statistical Operations/Explorations</a></span></li></ul></div>"
   ]
  },
  {
   "cell_type": "markdown",
   "metadata": {
    "nbpresent": {
     "id": "ff702860-d5b4-4028-8c32-108351446ba9"
    }
   },
   "source": [
    "# Pandas: Introduction\n",
    "**Pandas** is Python's library for dealing with structured or tabular data. It's main contributor, Wes McKinney was inspired by R's `data.frame`, and implemented it for Python. <br>\n",
    "It combines the speed of NumPy with the ease of SQL, as per Wes, and I completely agree with that.\n",
    "If you have used R, and the dplyr package, you know how easy it is to manipulate data with it. \n",
    "\n",
    "We will be learning about various methods to deal with data, and occasionally we will make things a little challenging so as to replicate/mimic real world conditions. And while at it, we will throw in visualisations using Matplotlib too! The best way to learn is to write code yourself, but don't worry if you don't understand all of it in the first go. And of course, feel free to take a step back and revisit [Lesson 10](10.Visualise_This-Tutorial01.ipynb).\n",
    "\n",
    "By the end of it, we should have dealt with about a few case studies, which should be an excellent start for your portfolio.\n",
    "\n",
    "We will cover at the very least the following topic:\n",
    "* Indexing and Selection\n",
    "* Creating new columns\n",
    "* Renaming\n",
    "* Grouping\n",
    "* Handling missing values\n",
    "* Merge, join\n",
    "* map(), apply(), applymap()\n",
    "* Pivot Tables\n",
    "* Basic statistics\n",
    "* Plots (throughout the exercise)\n",
    "\n",
    "I say \"at the very least\" because in my opinion, this is the bare minimum you should know to handle data science problems 'in the wild', as in, problems that aren't toy problems, and the kind that data scientists deal with every day."
   ]
  },
  {
   "cell_type": "markdown",
   "metadata": {
    "nbpresent": {
     "id": "cb51d48e-fa5a-41d6-8ce1-9c5be742a1eb"
    }
   },
   "source": [
    "## Importing Libraries\n",
    "As usual, we begin by importing our libraries. Just as with NumPy, where we import it as `np`, we will import the pandas library as `pd`. It's just convention, and you're free to import it as `chuck_norris`, `really_long_name_for_reason_in_particular` or just plain and simple, `pd`."
   ]
  },
  {
   "cell_type": "code",
   "execution_count": 1,
   "metadata": {
    "ExecuteTime": {
     "end_time": "2019-03-01T01:37:05.764220Z",
     "start_time": "2019-03-01T01:37:05.386923Z"
    },
    "nbpresent": {
     "id": "911fc495-29c6-4d7f-bd9f-6f9573e818fd"
    }
   },
   "outputs": [],
   "source": [
    "import pandas as pd\n",
    "import numpy as np\n",
    "%matplotlib inline\n",
    "import matplotlib.pyplot as plt"
   ]
  },
  {
   "cell_type": "markdown",
   "metadata": {
    "nbpresent": {
     "id": "132a40d8-5246-4e6a-8ace-a52b558a903d"
    }
   },
   "source": [
    "# Data Structures"
   ]
  },
  {
   "cell_type": "markdown",
   "metadata": {
    "nbpresent": {
     "id": "079af998-bfec-4d9e-b2cb-5ade6443e663"
    }
   },
   "source": [
    "There are three fundamental data structures supported by Pandas:<br>\n",
    "* **Series**: a one-dimensional labeled array capable of holding any data type (integers, strings, floating point numbers, Python objects, etc.). For those coming from an R background, Series is much like a Vector.\n",
    "* **DataFrame**: a 2-dimensional labeled data structure with columns of potentially different types.\n",
    "* **Panel**: also called longitudinal data or cross-sectional time series data, is data where multiple cases (people, firms, countries etc) were observed at two or more time periods. This is rarely used though, and I personally haven't come across this except for some Econometrics courses I had taken in my undergraduate years."
   ]
  },
  {
   "cell_type": "markdown",
   "metadata": {
    "nbpresent": {
     "id": "d4f8cc0a-d63f-442a-88fe-5fe77d466944"
    }
   },
   "source": [
    "## Series\n",
    "\n",
    "The basic format to creat a series is:<br>\n",
    "`series_a = pd.Series(data, index = index_name)`\n",
    "\n",
    "\n",
    "The default value for the index is 1,2,3,4....and so on, and doesn't not need to be specified, except in the case of scalars."
   ]
  },
  {
   "cell_type": "code",
   "execution_count": 2,
   "metadata": {
    "ExecuteTime": {
     "end_time": "2019-03-01T01:38:28.335478Z",
     "start_time": "2019-03-01T01:38:28.328386Z"
    },
    "nbpresent": {
     "id": "122560b6-7790-4b52-acce-9508a76d55cf"
    }
   },
   "outputs": [
    {
     "data": {
      "text/plain": [
       "0    1\n",
       "1    2\n",
       "2    3\n",
       "3    4\n",
       "4    5\n",
       "dtype: int64"
      ]
     },
     "execution_count": 2,
     "metadata": {},
     "output_type": "execute_result"
    }
   ],
   "source": [
    "import pandas as pd\n",
    "\n",
    "# From Scalar Values\n",
    "series_1 = pd.Series([1,2,3,4,5])\n",
    "series_1"
   ]
  },
  {
   "cell_type": "markdown",
   "metadata": {
    "nbpresent": {
     "id": "a8ab869b-df63-4207-ac3d-76367c60b639"
    }
   },
   "source": [
    "Notice the 0,1,2,3... on the left side? That's called the Index. It starts from 0, but you can rename it."
   ]
  },
  {
   "cell_type": "code",
   "execution_count": 3,
   "metadata": {
    "ExecuteTime": {
     "end_time": "2019-03-01T01:39:32.577292Z",
     "start_time": "2019-03-01T01:39:32.571903Z"
    },
    "nbpresent": {
     "id": "79573862-7a9b-4574-9f0a-b650fcd44a13"
    },
    "scrolled": true
   },
   "outputs": [
    {
     "data": {
      "text/plain": [
       "Mon    1\n",
       "Tue    2\n",
       "Wed    3\n",
       "Thu    4\n",
       "Fri    5\n",
       "dtype: int64"
      ]
     },
     "execution_count": 3,
     "metadata": {},
     "output_type": "execute_result"
    }
   ],
   "source": [
    "series_1 = pd.Series([1,2,3,4,5], index = ['Mon','Tue','Wed','Thu','Fri'])\n",
    "series_1"
   ]
  },
  {
   "cell_type": "code",
   "execution_count": 4,
   "metadata": {
    "ExecuteTime": {
     "end_time": "2019-03-01T01:39:43.092941Z",
     "start_time": "2019-03-01T01:39:43.086163Z"
    },
    "nbpresent": {
     "id": "bd275eec-72b1-4a7e-a9a4-1c35f7b0fddd"
    }
   },
   "outputs": [
    {
     "data": {
      "text/plain": [
       "a    1.0\n",
       "b    1.0\n",
       "c    1.0\n",
       "d    1.0\n",
       "e    1.0\n",
       "dtype: float64"
      ]
     },
     "execution_count": 4,
     "metadata": {},
     "output_type": "execute_result"
    }
   ],
   "source": [
    "series_2 = pd.Series(1.0, index = ['a','b','c','d','e'])\n",
    "series_2"
   ]
  },
  {
   "cell_type": "code",
   "execution_count": 5,
   "metadata": {
    "ExecuteTime": {
     "end_time": "2019-03-01T01:40:15.145386Z",
     "start_time": "2019-03-01T01:40:15.139151Z"
    },
    "nbpresent": {
     "id": "cb7303d4-8afa-4972-93d4-5ca8d3e709dc"
    }
   },
   "outputs": [
    {
     "data": {
      "text/plain": [
       "0    0.496714\n",
       "1   -0.138264\n",
       "2    0.647689\n",
       "3    1.523030\n",
       "4   -0.234153\n",
       "dtype: float64"
      ]
     },
     "execution_count": 5,
     "metadata": {},
     "output_type": "execute_result"
    }
   ],
   "source": [
    "import pandas as pd\n",
    "import numpy as np\n",
    "\n",
    "# From an array\n",
    "\n",
    "# Just copy this for now, we'll cover the 'seed' in DataFrames\n",
    "np.random.seed(42) \n",
    "\n",
    "series_3 = pd.Series(np.random.randn(5))\n",
    "series_3"
   ]
  },
  {
   "cell_type": "code",
   "execution_count": 6,
   "metadata": {
    "ExecuteTime": {
     "end_time": "2019-03-01T01:40:37.075371Z",
     "start_time": "2019-03-01T01:40:37.067600Z"
    },
    "nbpresent": {
     "id": "9a972e37-cbe4-4561-8b8e-0df8ada434b5"
    }
   },
   "outputs": [
    {
     "data": {
      "text/plain": [
       "a    0.496714\n",
       "b   -0.138264\n",
       "c    0.647689\n",
       "d    1.523030\n",
       "e   -0.234153\n",
       "dtype: float64"
      ]
     },
     "execution_count": 6,
     "metadata": {},
     "output_type": "execute_result"
    }
   ],
   "source": [
    "np.random.seed(42)\n",
    "series_3 = pd.Series(np.random.randn(5), index = ['a','b','c','d','e'])\n",
    "series_3"
   ]
  },
  {
   "cell_type": "code",
   "execution_count": 7,
   "metadata": {
    "ExecuteTime": {
     "end_time": "2019-03-01T01:41:07.714224Z",
     "start_time": "2019-03-01T01:41:07.706717Z"
    },
    "nbpresent": {
     "id": "ee1dfb47-f023-439f-b3b3-ad29ce12a4c5"
    }
   },
   "outputs": [
    {
     "data": {
      "text/plain": [
       "a    0.496714\n",
       "b   -0.138264\n",
       "c    0.647689\n",
       "d    1.523030\n",
       "e   -0.234153\n",
       "dtype: float64"
      ]
     },
     "execution_count": 7,
     "metadata": {},
     "output_type": "execute_result"
    }
   ],
   "source": [
    "np.random.seed(42)\n",
    "ind_1 = ['a','b','c','d','e']\n",
    "series_3 = pd.Series(np.random.randn(5), index = ind_1)\n",
    "series_3"
   ]
  },
  {
   "cell_type": "code",
   "execution_count": 8,
   "metadata": {
    "ExecuteTime": {
     "end_time": "2019-03-01T01:41:15.391968Z",
     "start_time": "2019-03-01T01:41:15.385054Z"
    },
    "nbpresent": {
     "id": "f2186795-b8ac-46fb-8791-b7fd168d9b53"
    }
   },
   "outputs": [
    {
     "data": {
      "text/plain": [
       "a    1\n",
       "b    2\n",
       "c    3\n",
       "d    4\n",
       "e    5\n",
       "dtype: int64"
      ]
     },
     "execution_count": 8,
     "metadata": {},
     "output_type": "execute_result"
    }
   ],
   "source": [
    "series_4 = pd.Series([1, 2, 3, 4, 5], index=['a', 'b', 'c', 'd', 'e'])\n",
    "series_4"
   ]
  },
  {
   "cell_type": "markdown",
   "metadata": {
    "nbpresent": {
     "id": "7da8442e-dcc6-402d-85b6-63ceafc8656f"
    }
   },
   "source": [
    "We can subset and get values from the series."
   ]
  },
  {
   "cell_type": "code",
   "execution_count": 9,
   "metadata": {
    "ExecuteTime": {
     "end_time": "2019-03-01T01:41:53.733340Z",
     "start_time": "2019-03-01T01:41:53.727804Z"
    },
    "nbpresent": {
     "id": "0cec665f-780d-461c-becf-c2b5cdeb36aa"
    }
   },
   "outputs": [
    {
     "data": {
      "text/plain": [
       "True"
      ]
     },
     "execution_count": 9,
     "metadata": {},
     "output_type": "execute_result"
    }
   ],
   "source": [
    "series_4['a'] == series_4[0]"
   ]
  },
  {
   "cell_type": "code",
   "execution_count": 10,
   "metadata": {
    "ExecuteTime": {
     "end_time": "2019-03-01T01:42:13.360924Z",
     "start_time": "2019-03-01T01:42:13.356006Z"
    },
    "nbpresent": {
     "id": "240965c7-6827-4f1d-b8fa-584e7c2b30c4"
    }
   },
   "outputs": [
    {
     "data": {
      "text/plain": [
       "d    4\n",
       "e    5\n",
       "dtype: int64"
      ]
     },
     "execution_count": 10,
     "metadata": {},
     "output_type": "execute_result"
    }
   ],
   "source": [
    "series_4[series_4>3]"
   ]
  },
  {
   "cell_type": "code",
   "execution_count": 11,
   "metadata": {
    "ExecuteTime": {
     "end_time": "2019-03-01T01:42:40.645219Z",
     "start_time": "2019-03-01T01:42:40.636128Z"
    },
    "nbpresent": {
     "id": "8dd88349-1f8e-41c0-8ecc-7c09dc800411"
    }
   },
   "outputs": [
    {
     "data": {
      "text/plain": [
       "b    2\n",
       "d    4\n",
       "dtype: int64"
      ]
     },
     "execution_count": 11,
     "metadata": {},
     "output_type": "execute_result"
    }
   ],
   "source": [
    "series_4[series_4%2==0]"
   ]
  },
  {
   "cell_type": "code",
   "execution_count": 12,
   "metadata": {
    "ExecuteTime": {
     "end_time": "2019-03-01T01:42:59.121783Z",
     "start_time": "2019-03-01T01:42:59.117041Z"
    },
    "nbpresent": {
     "id": "47749c9f-f970-4c2b-9bdb-c2785c24077b"
    }
   },
   "outputs": [
    {
     "data": {
      "text/plain": [
       "HP     1\n",
       "GS     2\n",
       "IBM    3\n",
       "AA     4\n",
       "FB     5\n",
       "dtype: int64"
      ]
     },
     "execution_count": 12,
     "metadata": {},
     "output_type": "execute_result"
    }
   ],
   "source": [
    "series_5 = pd.Series([1,2,3,4,5], index = ['HP', 'GS', 'IBM', 'AA', 'FB'])\n",
    "series_5"
   ]
  },
  {
   "cell_type": "code",
   "execution_count": 13,
   "metadata": {
    "ExecuteTime": {
     "end_time": "2019-03-01T01:43:06.823145Z",
     "start_time": "2019-03-01T01:43:06.818988Z"
    },
    "nbpresent": {
     "id": "164278f2-d27d-4a30-8564-f57ef704dd6a"
    }
   },
   "outputs": [
    {
     "data": {
      "text/plain": [
       "3"
      ]
     },
     "execution_count": 13,
     "metadata": {},
     "output_type": "execute_result"
    }
   ],
   "source": [
    "series_5['IBM']"
   ]
  },
  {
   "cell_type": "code",
   "execution_count": 14,
   "metadata": {
    "ExecuteTime": {
     "end_time": "2019-03-01T01:43:19.583675Z",
     "start_time": "2019-03-01T01:43:19.575014Z"
    },
    "nbpresent": {
     "id": "c542935f-2ed0-4a67-8346-52b3958ca93a"
    }
   },
   "outputs": [
    {
     "data": {
      "text/plain": [
       "HP     1\n",
       "IBM    3\n",
       "FB     5\n",
       "dtype: int64"
      ]
     },
     "execution_count": 14,
     "metadata": {},
     "output_type": "execute_result"
    }
   ],
   "source": [
    "tech_pf1 = series_5[['HP', 'IBM', 'FB']]\n",
    "tech_pf1"
   ]
  },
  {
   "cell_type": "code",
   "execution_count": 15,
   "metadata": {
    "ExecuteTime": {
     "end_time": "2019-03-01T01:43:28.626622Z",
     "start_time": "2019-03-01T01:43:28.620753Z"
    },
    "nbpresent": {
     "id": "74f45e15-5ae6-4f1b-ae68-20ac7616f707"
    }
   },
   "outputs": [
    {
     "data": {
      "text/plain": [
       "Gavin      50\n",
       "Russ      100\n",
       "Erlich    150\n",
       "dtype: int64"
      ]
     },
     "execution_count": 15,
     "metadata": {},
     "output_type": "execute_result"
    }
   ],
   "source": [
    "# From a Dictionary\n",
    "dict_01 = {'Gavin' : 50, 'Russ' : 100, 'Erlich' : 150}\n",
    "series_6 = pd.Series(dict_01)\n",
    "series_6"
   ]
  },
  {
   "cell_type": "code",
   "execution_count": 16,
   "metadata": {
    "ExecuteTime": {
     "end_time": "2019-03-01T01:43:58.586151Z",
     "start_time": "2019-03-01T01:43:58.579068Z"
    },
    "nbpresent": {
     "id": "a580fcff-74d6-493b-8d50-0218c77707c1"
    }
   },
   "outputs": [
    {
     "data": {
      "text/plain": [
       "Gavin      50.0\n",
       "Russ      100.0\n",
       "Erlich    150.0\n",
       "Peter       NaN\n",
       "dtype: float64"
      ]
     },
     "execution_count": 16,
     "metadata": {},
     "output_type": "execute_result"
    }
   ],
   "source": [
    "# Reordering the previous series\n",
    "index = ['Gavin', 'Russ', 'Erlich', 'Peter']\n",
    "series_7 = pd.Series(dict_01, index=index)\n",
    "series_7"
   ]
  },
  {
   "cell_type": "markdown",
   "metadata": {
    "nbpresent": {
     "id": "08a0e148-1e6c-413e-a025-03d02da11df1"
    }
   },
   "source": [
    "Notice the NaN, which stands for Not a Number. We will be dealing with it extensively when working with DataFrames. It is an indicator for missing or corrupted data. Here's how we test for it."
   ]
  },
  {
   "cell_type": "code",
   "execution_count": 17,
   "metadata": {
    "ExecuteTime": {
     "end_time": "2019-03-01T01:45:14.269892Z",
     "start_time": "2019-03-01T01:45:14.264160Z"
    },
    "nbpresent": {
     "id": "2653432a-364c-4202-9a5a-10ddbbe854f3"
    },
    "scrolled": true
   },
   "outputs": [
    {
     "data": {
      "text/plain": [
       "Gavin     False\n",
       "Russ      False\n",
       "Erlich    False\n",
       "Peter      True\n",
       "dtype: bool"
      ]
     },
     "execution_count": 17,
     "metadata": {},
     "output_type": "execute_result"
    }
   ],
   "source": [
    "pd.isnull(series_7)"
   ]
  },
  {
   "cell_type": "markdown",
   "metadata": {
    "nbpresent": {
     "id": "0ad65efe-58fb-4e20-871e-f461b08ebd5c"
    }
   },
   "source": [
    "And here's a nice discussion on the topic from our friends at [StackOverflow](http://stackoverflow.com/questions/17534106/what-is-the-difference-between-nan-and-none)."
   ]
  },
  {
   "cell_type": "code",
   "execution_count": 18,
   "metadata": {
    "ExecuteTime": {
     "end_time": "2019-03-01T01:45:30.608104Z",
     "start_time": "2019-03-01T01:45:30.600687Z"
    },
    "nbpresent": {
     "id": "75ed364f-c2cb-4446-8a50-7a4dfcd7d601"
    },
    "scrolled": true
   },
   "outputs": [
    {
     "data": {
      "text/plain": [
       "Erlich    300.0\n",
       "Gavin     100.0\n",
       "Peter       NaN\n",
       "Russ      200.0\n",
       "dtype: float64"
      ]
     },
     "execution_count": 18,
     "metadata": {},
     "output_type": "execute_result"
    }
   ],
   "source": [
    "# Pandas is very smart, and aligns the series for mathematical operations\n",
    "series_6 + series_7"
   ]
  },
  {
   "cell_type": "code",
   "execution_count": 21,
   "metadata": {
    "ExecuteTime": {
     "end_time": "2019-03-01T01:46:05.834415Z",
     "start_time": "2019-03-01T01:46:05.829660Z"
    },
    "nbpresent": {
     "id": "32221652-1bfc-4091-badb-9879463a17dd"
    }
   },
   "outputs": [
    {
     "data": {
      "text/plain": [
       "People\n",
       "Gavin      50.0\n",
       "Russ      100.0\n",
       "Erlich    150.0\n",
       "Peter       NaN\n",
       "Name: SV, dtype: float64"
      ]
     },
     "execution_count": 21,
     "metadata": {},
     "output_type": "execute_result"
    }
   ],
   "source": [
    "# Renaming an Index\n",
    "series_7.index.name = \"People\"\n",
    "series_7"
   ]
  },
  {
   "cell_type": "code",
   "execution_count": 20,
   "metadata": {
    "ExecuteTime": {
     "end_time": "2019-03-01T01:45:59.614458Z",
     "start_time": "2019-03-01T01:45:59.609652Z"
    },
    "nbpresent": {
     "id": "4fc33cb2-9a8f-4ef3-b359-0f625ec32fb8"
    }
   },
   "outputs": [
    {
     "data": {
      "text/plain": [
       "Names\n",
       "Gavin      50.0\n",
       "Russ      100.0\n",
       "Erlich    150.0\n",
       "Peter       NaN\n",
       "Name: SV, dtype: float64"
      ]
     },
     "execution_count": 20,
     "metadata": {},
     "output_type": "execute_result"
    }
   ],
   "source": [
    "# Naming a Series\n",
    "series_7.name = \"SV\"\n",
    "series_7"
   ]
  },
  {
   "cell_type": "markdown",
   "metadata": {
    "nbpresent": {
     "id": "f5e9e3b3-abd6-4e24-96e7-a2560587631f"
    }
   },
   "source": [
    "### Mini-Project"
   ]
  },
  {
   "cell_type": "code",
   "execution_count": 22,
   "metadata": {
    "ExecuteTime": {
     "end_time": "2019-03-01T01:46:22.987349Z",
     "start_time": "2019-03-01T01:46:22.981539Z"
    },
    "nbpresent": {
     "id": "c3bdfa01-5f90-4d5d-a688-441c57689b0f"
    }
   },
   "outputs": [
    {
     "data": {
      "text/plain": [
       "Messi      20\n",
       "Neymar     19\n",
       "Zlatan     21\n",
       "Ronaldo    24\n",
       "N’Gog       1\n",
       "dtype: int64"
      ]
     },
     "execution_count": 22,
     "metadata": {},
     "output_type": "execute_result"
    }
   ],
   "source": [
    "goals = pd.Series([20,19,21,24,1], index = [\"Messi\", \"Neymar\", \"Zlatan\", \"Ronaldo\", \"N’Gog\"])\n",
    "goals"
   ]
  },
  {
   "cell_type": "code",
   "execution_count": 23,
   "metadata": {
    "ExecuteTime": {
     "end_time": "2019-03-01T01:46:23.280207Z",
     "start_time": "2019-03-01T01:46:23.275412Z"
    },
    "nbpresent": {
     "id": "7de97fa8-78c0-494f-86ac-41c1d3637919"
    },
    "scrolled": true
   },
   "outputs": [
    {
     "data": {
      "text/plain": [
       "Neymar    19\n",
       "N’Gog      1\n",
       "dtype: int64"
      ]
     },
     "execution_count": 23,
     "metadata": {},
     "output_type": "execute_result"
    }
   ],
   "source": [
    "# Who scored less than 20 goals?\n",
    "goals[goals<20]"
   ]
  },
  {
   "cell_type": "code",
   "execution_count": 24,
   "metadata": {
    "ExecuteTime": {
     "end_time": "2019-03-01T01:46:23.583896Z",
     "start_time": "2019-03-01T01:46:23.579530Z"
    },
    "nbpresent": {
     "id": "17b36360-ee87-4353-a91b-886e4b6b9e21"
    }
   },
   "outputs": [
    {
     "data": {
      "text/plain": [
       "17.0"
      ]
     },
     "execution_count": 24,
     "metadata": {},
     "output_type": "execute_result"
    }
   ],
   "source": [
    "# What is the average number of goals scored?\n",
    "goals.mean()"
   ]
  },
  {
   "cell_type": "code",
   "execution_count": 25,
   "metadata": {
    "ExecuteTime": {
     "end_time": "2019-03-01T01:46:24.052611Z",
     "start_time": "2019-03-01T01:46:24.047543Z"
    },
    "nbpresent": {
     "id": "56c33dc4-29c4-465f-a36d-19d8958847af"
    }
   },
   "outputs": [
    {
     "data": {
      "text/plain": [
       "20.0"
      ]
     },
     "execution_count": 25,
     "metadata": {},
     "output_type": "execute_result"
    }
   ],
   "source": [
    "# What is the median number of goals scored?\n",
    "goals.median()"
   ]
  },
  {
   "cell_type": "code",
   "execution_count": 26,
   "metadata": {
    "ExecuteTime": {
     "end_time": "2019-03-01T01:46:24.757378Z",
     "start_time": "2019-03-01T01:46:24.753904Z"
    },
    "nbpresent": {
     "id": "987f3103-c382-4c68-ab5f-d391ed91b75c"
    }
   },
   "outputs": [
    {
     "name": "stdout",
     "output_type": "stream",
     "text": [
      "23\n"
     ]
    }
   ],
   "source": [
    "# What is the range of goals scored? (Range = Max - Min)\n",
    "goals_range = goals.max() - goals.min()\n",
    "print(goals_range)"
   ]
  },
  {
   "cell_type": "code",
   "execution_count": 27,
   "metadata": {
    "ExecuteTime": {
     "end_time": "2019-03-01T01:46:25.749764Z",
     "start_time": "2019-03-01T01:46:25.744750Z"
    },
    "nbpresent": {
     "id": "e2732095-7141-4778-908e-4dfb00bceb9d"
    }
   },
   "outputs": [],
   "source": [
    "%matplotlib inline\n",
    "import matplotlib.pyplot as plt\n",
    "\n",
    "plt.rcParams[\"figure.figsize\"] = (15,7)"
   ]
  },
  {
   "cell_type": "code",
   "execution_count": 28,
   "metadata": {
    "ExecuteTime": {
     "end_time": "2019-03-01T01:46:26.632303Z",
     "start_time": "2019-03-01T01:46:26.358861Z"
    },
    "nbpresent": {
     "id": "a0832597-1d1b-45f9-8f48-8dde7733310e"
    }
   },
   "outputs": [
    {
     "data": {
      "text/plain": [
       "<matplotlib.axes._subplots.AxesSubplot at 0x10fc10780>"
      ]
     },
     "execution_count": 28,
     "metadata": {},
     "output_type": "execute_result"
    },
    {
     "data": {
      "image/png": "[encoded data removed]",
      "text/plain": [
       "<Figure size 1080x504 with 1 Axes>"
      ]
     },
     "metadata": {
      "needs_background": "light"
     },
     "output_type": "display_data"
    }
   ],
   "source": [
    "# Plot the goals in a bar chart\n",
    "goals.plot(kind = \"bar\")"
   ]
  },
  {
   "cell_type": "code",
   "execution_count": 29,
   "metadata": {
    "ExecuteTime": {
     "end_time": "2019-03-01T01:46:27.265915Z",
     "start_time": "2019-03-01T01:46:26.994660Z"
    },
    "nbpresent": {
     "id": "40391191-ba04-4374-9279-699e4c435449"
    }
   },
   "outputs": [
    {
     "data": {
      "text/plain": [
       "<matplotlib.axes._subplots.AxesSubplot at 0x111f02d30>"
      ]
     },
     "execution_count": 29,
     "metadata": {},
     "output_type": "execute_result"
    },
    {
     "data": {
      "image/png": "[encoded data removed]",
      "text/plain": [
       "<Figure size 1080x504 with 1 Axes>"
      ]
     },
     "metadata": {
      "needs_background": "light"
     },
     "output_type": "display_data"
    }
   ],
   "source": [
    "# Let's beautify that a little\n",
    "goals.plot(kind = \"barh\", title = \"Goal Scorers\")"
   ]
  },
  {
   "cell_type": "markdown",
   "metadata": {
    "nbpresent": {
     "id": "027c1e32-ad4a-4d3e-a35a-607c2860ea0c"
    }
   },
   "source": [
    "Read more about these [here](http://pandas.pydata.org/pandas-docs/stable/generated/pandas.Series.plot.html). "
   ]
  },
  {
   "cell_type": "markdown",
   "metadata": {
    "nbpresent": {
     "id": "38add6cf-1e97-4d59-a0d6-30759d5e8c35"
    }
   },
   "source": [
    "## DataFrames"
   ]
  },
  {
   "cell_type": "markdown",
   "metadata": {
    "nbpresent": {
     "id": "bb19c42d-7c11-476d-9218-613425fa08ed"
    }
   },
   "source": [
    "DataFrames is in many respects, the real Pandas. Usually, if you're using Pandas, it will be to use DataFrames.<br>\n",
    "We will begin with creating DataFrames, and the usual indexing and selection mechanisms. In reality, you will probably never have to 'create' a DataFrame, but practice these skills here to get comfortable with heirarchies, indices and selections. Then we will move on to reading data from multiple formats, including spreadsheets, JSON files and API endpoints.\n",
    "\n",
    "By the way, during these examples, we will always set seed first when generating random numbers. If you're coming from R, this is the same as `set.seed()`. In Python, we use the `random.seed` statement from numpy, which you can read about [here](https://docs.scipy.org/doc/numpy/reference/generated/numpy.random.seed.html). You can set it to any number you like, and I usually set it to 42 just out of habit, but there's not to say you can't set it to an arbitrary number like 27 or 2012. Use the same numbers as this notebook though to replicate the results. Also note that we need to mention it in every cell that we want the results replicated. \n",
    "\n",
    "You will see later about how this is good practice especially when sharing your work with other members of the team - they will be able to reproduce your work on their machines due to the pseudo-random number that is generated algorithmically."
   ]
  },
  {
   "cell_type": "code",
   "execution_count": 30,
   "metadata": {
    "ExecuteTime": {
     "end_time": "2019-03-01T01:47:23.918082Z",
     "start_time": "2019-03-01T01:47:23.915523Z"
    },
    "nbpresent": {
     "id": "fb009875-af26-4d32-8f5e-e2633e661b09"
    }
   },
   "outputs": [],
   "source": [
    "import pandas as pd\n",
    "import numpy as np"
   ]
  },
  {
   "cell_type": "code",
   "execution_count": 31,
   "metadata": {
    "ExecuteTime": {
     "end_time": "2019-03-01T01:47:29.178301Z",
     "start_time": "2019-03-01T01:47:29.173452Z"
    },
    "nbpresent": {
     "id": "2750e9c3-3097-43b1-bffd-e47c29cb37c6"
    },
    "scrolled": true
   },
   "outputs": [
    {
     "name": "stdout",
     "output_type": "stream",
     "text": [
      "(4, 4)\n",
      "16\n",
      "[[ 40  40  75  95]\n",
      " [ 80  85 120 130]\n",
      " [155 160 165 170]\n",
      " [200 245 250 260]]\n"
     ]
    }
   ],
   "source": [
    "# Let's start with a standard array\n",
    "arr1 = np.array([[40,40,75,95],[80,85,120,130],\n",
    "                 [155,160,165,170],[200,245,250,260]])\n",
    "print(arr1.shape)\n",
    "print(arr1.size)\n",
    "print(arr1)"
   ]
  },
  {
   "cell_type": "code",
   "execution_count": 33,
   "metadata": {
    "ExecuteTime": {
     "end_time": "2019-03-01T01:48:42.307693Z",
     "start_time": "2019-03-01T01:48:42.298174Z"
    },
    "nbpresent": {
     "id": "b6e15cac-eb0b-45cd-b4dd-3b40c23cd59d"
    }
   },
   "outputs": [
    {
     "data": {
      "text/html": [
       "<div>\n",
       "<style scoped>\n",
       "    .dataframe tbody tr th:only-of-type {\n",
       "        vertical-align: middle;\n",
       "    }\n",
       "\n",
       "    .dataframe tbody tr th {\n",
       "        vertical-align: top;\n",
       "    }\n",
       "\n",
       "    .dataframe thead th {\n",
       "        text-align: right;\n",
       "    }\n",
       "</style>\n",
       "<table border=\"1\" class=\"dataframe\">\n",
       "  <thead>\n",
       "    <tr style=\"text-align: right;\">\n",
       "      <th></th>\n",
       "      <th>Jan</th>\n",
       "      <th>Feb</th>\n",
       "      <th>Mar</th>\n",
       "      <th>Apr</th>\n",
       "    </tr>\n",
       "  </thead>\n",
       "  <tbody>\n",
       "    <tr>\n",
       "      <th>Peter</th>\n",
       "      <td>40</td>\n",
       "      <td>40</td>\n",
       "      <td>75</td>\n",
       "      <td>95</td>\n",
       "    </tr>\n",
       "    <tr>\n",
       "      <th>Clarke</th>\n",
       "      <td>80</td>\n",
       "      <td>85</td>\n",
       "      <td>120</td>\n",
       "      <td>130</td>\n",
       "    </tr>\n",
       "    <tr>\n",
       "      <th>Bruce</th>\n",
       "      <td>155</td>\n",
       "      <td>160</td>\n",
       "      <td>165</td>\n",
       "      <td>170</td>\n",
       "    </tr>\n",
       "    <tr>\n",
       "      <th>Tony</th>\n",
       "      <td>200</td>\n",
       "      <td>245</td>\n",
       "      <td>250</td>\n",
       "      <td>260</td>\n",
       "    </tr>\n",
       "  </tbody>\n",
       "</table>\n",
       "</div>"
      ],
      "text/plain": [
       "        Jan  Feb  Mar  Apr\n",
       "Peter    40   40   75   95\n",
       "Clarke   80   85  120  130\n",
       "Bruce   155  160  165  170\n",
       "Tony    200  245  250  260"
      ]
     },
     "execution_count": 33,
     "metadata": {},
     "output_type": "execute_result"
    }
   ],
   "source": [
    "# It is quite common to assign a dataframe the name 'df', although you can\n",
    "# use a relevant name, such baseball_stats or book_sales\n",
    "# It's always good to use context driven names - you should code expecting\n",
    "# someone else to read it a few months down the line\n",
    "\n",
    "df = pd.DataFrame(arr1, index = \"Peter,Clarke,Bruce,Tony\".split(\",\"), \n",
    "                  columns = \"Jan,Feb,Mar,Apr\".split(\",\"))\n",
    "df"
   ]
  },
  {
   "cell_type": "markdown",
   "metadata": {
    "nbpresent": {
     "id": "2ccb1972-71b1-44b2-b60a-89fbe3671a48"
    }
   },
   "source": [
    "# Indexing and Selection"
   ]
  },
  {
   "cell_type": "markdown",
   "metadata": {},
   "source": [
    "## Selecting Columns"
   ]
  },
  {
   "cell_type": "code",
   "execution_count": 34,
   "metadata": {
    "ExecuteTime": {
     "end_time": "2019-03-01T01:48:55.373048Z",
     "start_time": "2019-03-01T01:48:55.363575Z"
    },
    "scrolled": true
   },
   "outputs": [
    {
     "data": {
      "text/html": [
       "<div>\n",
       "<style scoped>\n",
       "    .dataframe tbody tr th:only-of-type {\n",
       "        vertical-align: middle;\n",
       "    }\n",
       "\n",
       "    .dataframe tbody tr th {\n",
       "        vertical-align: top;\n",
       "    }\n",
       "\n",
       "    .dataframe thead th {\n",
       "        text-align: right;\n",
       "    }\n",
       "</style>\n",
       "<table border=\"1\" class=\"dataframe\">\n",
       "  <thead>\n",
       "    <tr style=\"text-align: right;\">\n",
       "      <th></th>\n",
       "      <th>Jan</th>\n",
       "      <th>Feb</th>\n",
       "      <th>Mar</th>\n",
       "      <th>Apr</th>\n",
       "    </tr>\n",
       "  </thead>\n",
       "  <tbody>\n",
       "    <tr>\n",
       "      <th>Peter</th>\n",
       "      <td>40</td>\n",
       "      <td>40</td>\n",
       "      <td>75</td>\n",
       "      <td>95</td>\n",
       "    </tr>\n",
       "    <tr>\n",
       "      <th>Clarke</th>\n",
       "      <td>80</td>\n",
       "      <td>85</td>\n",
       "      <td>120</td>\n",
       "      <td>130</td>\n",
       "    </tr>\n",
       "    <tr>\n",
       "      <th>Bruce</th>\n",
       "      <td>155</td>\n",
       "      <td>160</td>\n",
       "      <td>165</td>\n",
       "      <td>170</td>\n",
       "    </tr>\n",
       "    <tr>\n",
       "      <th>Tony</th>\n",
       "      <td>200</td>\n",
       "      <td>245</td>\n",
       "      <td>250</td>\n",
       "      <td>260</td>\n",
       "    </tr>\n",
       "  </tbody>\n",
       "</table>\n",
       "</div>"
      ],
      "text/plain": [
       "        Jan  Feb  Mar  Apr\n",
       "Peter    40   40   75   95\n",
       "Clarke   80   85  120  130\n",
       "Bruce   155  160  165  170\n",
       "Tony    200  245  250  260"
      ]
     },
     "execution_count": 34,
     "metadata": {},
     "output_type": "execute_result"
    }
   ],
   "source": [
    "df = pd.DataFrame(arr1, index = \"Peter,Clarke,Bruce,Tony\".split(\",\"), \n",
    "                  columns = \"Jan,Feb,Mar,Apr\".split(\",\"))\n",
    "df"
   ]
  },
  {
   "cell_type": "code",
   "execution_count": 35,
   "metadata": {
    "ExecuteTime": {
     "end_time": "2019-03-01T01:49:07.039512Z",
     "start_time": "2019-03-01T01:49:07.031280Z"
    },
    "nbpresent": {
     "id": "9cdcdb8a-a465-4c53-a364-6f2de7b6fd7c"
    }
   },
   "outputs": [
    {
     "data": {
      "text/html": [
       "<div>\n",
       "<style scoped>\n",
       "    .dataframe tbody tr th:only-of-type {\n",
       "        vertical-align: middle;\n",
       "    }\n",
       "\n",
       "    .dataframe tbody tr th {\n",
       "        vertical-align: top;\n",
       "    }\n",
       "\n",
       "    .dataframe thead th {\n",
       "        text-align: right;\n",
       "    }\n",
       "</style>\n",
       "<table border=\"1\" class=\"dataframe\">\n",
       "  <thead>\n",
       "    <tr style=\"text-align: right;\">\n",
       "      <th></th>\n",
       "      <th>Jan</th>\n",
       "    </tr>\n",
       "  </thead>\n",
       "  <tbody>\n",
       "    <tr>\n",
       "      <th>Peter</th>\n",
       "      <td>40</td>\n",
       "    </tr>\n",
       "    <tr>\n",
       "      <th>Clarke</th>\n",
       "      <td>80</td>\n",
       "    </tr>\n",
       "    <tr>\n",
       "      <th>Bruce</th>\n",
       "      <td>155</td>\n",
       "    </tr>\n",
       "    <tr>\n",
       "      <th>Tony</th>\n",
       "      <td>200</td>\n",
       "    </tr>\n",
       "  </tbody>\n",
       "</table>\n",
       "</div>"
      ],
      "text/plain": [
       "        Jan\n",
       "Peter    40\n",
       "Clarke   80\n",
       "Bruce   155\n",
       "Tony    200"
      ]
     },
     "execution_count": 35,
     "metadata": {},
     "output_type": "execute_result"
    }
   ],
   "source": [
    "# Selecting columns\n",
    "df[['Jan']]"
   ]
  },
  {
   "cell_type": "code",
   "execution_count": 36,
   "metadata": {
    "ExecuteTime": {
     "end_time": "2019-03-01T01:49:13.689137Z",
     "start_time": "2019-03-01T01:49:13.681605Z"
    },
    "nbpresent": {
     "id": "8268cc6a-5a31-43ec-b97c-d50bac3e1d50"
    }
   },
   "outputs": [
    {
     "data": {
      "text/html": [
       "<div>\n",
       "<style scoped>\n",
       "    .dataframe tbody tr th:only-of-type {\n",
       "        vertical-align: middle;\n",
       "    }\n",
       "\n",
       "    .dataframe tbody tr th {\n",
       "        vertical-align: top;\n",
       "    }\n",
       "\n",
       "    .dataframe thead th {\n",
       "        text-align: right;\n",
       "    }\n",
       "</style>\n",
       "<table border=\"1\" class=\"dataframe\">\n",
       "  <thead>\n",
       "    <tr style=\"text-align: right;\">\n",
       "      <th></th>\n",
       "      <th>Jan</th>\n",
       "      <th>Feb</th>\n",
       "    </tr>\n",
       "  </thead>\n",
       "  <tbody>\n",
       "    <tr>\n",
       "      <th>Peter</th>\n",
       "      <td>40</td>\n",
       "      <td>40</td>\n",
       "    </tr>\n",
       "    <tr>\n",
       "      <th>Clarke</th>\n",
       "      <td>80</td>\n",
       "      <td>85</td>\n",
       "    </tr>\n",
       "    <tr>\n",
       "      <th>Bruce</th>\n",
       "      <td>155</td>\n",
       "      <td>160</td>\n",
       "    </tr>\n",
       "    <tr>\n",
       "      <th>Tony</th>\n",
       "      <td>200</td>\n",
       "      <td>245</td>\n",
       "    </tr>\n",
       "  </tbody>\n",
       "</table>\n",
       "</div>"
      ],
      "text/plain": [
       "        Jan  Feb\n",
       "Peter    40   40\n",
       "Clarke   80   85\n",
       "Bruce   155  160\n",
       "Tony    200  245"
      ]
     },
     "execution_count": 36,
     "metadata": {},
     "output_type": "execute_result"
    }
   ],
   "source": [
    "df[['Jan','Feb']]"
   ]
  },
  {
   "cell_type": "code",
   "execution_count": 37,
   "metadata": {
    "ExecuteTime": {
     "end_time": "2019-03-01T01:49:22.438349Z",
     "start_time": "2019-03-01T01:49:22.429999Z"
    }
   },
   "outputs": [
    {
     "data": {
      "text/html": [
       "<div>\n",
       "<style scoped>\n",
       "    .dataframe tbody tr th:only-of-type {\n",
       "        vertical-align: middle;\n",
       "    }\n",
       "\n",
       "    .dataframe tbody tr th {\n",
       "        vertical-align: top;\n",
       "    }\n",
       "\n",
       "    .dataframe thead th {\n",
       "        text-align: right;\n",
       "    }\n",
       "</style>\n",
       "<table border=\"1\" class=\"dataframe\">\n",
       "  <thead>\n",
       "    <tr style=\"text-align: right;\">\n",
       "      <th></th>\n",
       "      <th>Mar</th>\n",
       "      <th>Jan</th>\n",
       "    </tr>\n",
       "  </thead>\n",
       "  <tbody>\n",
       "    <tr>\n",
       "      <th>Peter</th>\n",
       "      <td>75</td>\n",
       "      <td>40</td>\n",
       "    </tr>\n",
       "    <tr>\n",
       "      <th>Clarke</th>\n",
       "      <td>120</td>\n",
       "      <td>80</td>\n",
       "    </tr>\n",
       "    <tr>\n",
       "      <th>Bruce</th>\n",
       "      <td>165</td>\n",
       "      <td>155</td>\n",
       "    </tr>\n",
       "    <tr>\n",
       "      <th>Tony</th>\n",
       "      <td>250</td>\n",
       "      <td>200</td>\n",
       "    </tr>\n",
       "  </tbody>\n",
       "</table>\n",
       "</div>"
      ],
      "text/plain": [
       "        Mar  Jan\n",
       "Peter    75   40\n",
       "Clarke  120   80\n",
       "Bruce   165  155\n",
       "Tony    250  200"
      ]
     },
     "execution_count": 37,
     "metadata": {},
     "output_type": "execute_result"
    }
   ],
   "source": [
    "df[['Mar','Jan']]"
   ]
  },
  {
   "cell_type": "markdown",
   "metadata": {
    "nbpresent": {
     "id": "d6f34412-fa57-4f77-9d76-dee9cf9fc00a"
    }
   },
   "source": [
    "It's interesting to note that the offical Pandas [documentation](http://pandas.pydata.org/pandas-docs/version/0.18.1/generated/pandas.DataFrame.html) refers to DataFrames as:\n",
    "> Can be thought of as a dict-like container for Series objects.\n",
    "\n",
    "You can access it as a Series as below:"
   ]
  },
  {
   "cell_type": "code",
   "execution_count": 38,
   "metadata": {
    "ExecuteTime": {
     "end_time": "2019-03-01T01:49:24.254607Z",
     "start_time": "2019-03-01T01:49:24.250050Z"
    },
    "nbpresent": {
     "id": "38c334bf-3534-4cfb-9059-038d642e3f0c"
    }
   },
   "outputs": [
    {
     "data": {
      "text/plain": [
       "Peter      40\n",
       "Clarke     80\n",
       "Bruce     155\n",
       "Tony      200\n",
       "Name: Jan, dtype: int64"
      ]
     },
     "execution_count": 38,
     "metadata": {},
     "output_type": "execute_result"
    }
   ],
   "source": [
    "df['Jan']"
   ]
  },
  {
   "cell_type": "code",
   "execution_count": 39,
   "metadata": {
    "ExecuteTime": {
     "end_time": "2019-03-01T01:49:25.700959Z",
     "start_time": "2019-03-01T01:49:25.696029Z"
    },
    "nbpresent": {
     "id": "3e15520e-d866-4916-94bc-d8c245e80df0"
    }
   },
   "outputs": [
    {
     "name": "stdout",
     "output_type": "stream",
     "text": [
      "Series: <class 'pandas.core.series.Series'>\n",
      "DataFrame: <class 'pandas.core.frame.DataFrame'>\n"
     ]
    }
   ],
   "source": [
    "print('Series:', type(df['Jan']))\n",
    "print('DataFrame:',type(df[['Jan']]))"
   ]
  },
  {
   "cell_type": "markdown",
   "metadata": {
    "nbpresent": {
     "id": "cbf62ad3-d8ff-4a4a-8f07-4d9e81b6877c"
    }
   },
   "source": [
    "## Using `loc` and `iloc`"
   ]
  },
  {
   "cell_type": "code",
   "execution_count": 40,
   "metadata": {
    "ExecuteTime": {
     "end_time": "2019-03-01T01:49:50.066517Z",
     "start_time": "2019-03-01T01:49:50.057263Z"
    },
    "nbpresent": {
     "id": "be3c9ffb-5f5e-41b1-8bf2-67a3953850cf"
    }
   },
   "outputs": [
    {
     "data": {
      "text/html": [
       "<div>\n",
       "<style scoped>\n",
       "    .dataframe tbody tr th:only-of-type {\n",
       "        vertical-align: middle;\n",
       "    }\n",
       "\n",
       "    .dataframe tbody tr th {\n",
       "        vertical-align: top;\n",
       "    }\n",
       "\n",
       "    .dataframe thead th {\n",
       "        text-align: right;\n",
       "    }\n",
       "</style>\n",
       "<table border=\"1\" class=\"dataframe\">\n",
       "  <thead>\n",
       "    <tr style=\"text-align: right;\">\n",
       "      <th></th>\n",
       "      <th>Jan</th>\n",
       "      <th>Feb</th>\n",
       "      <th>Mar</th>\n",
       "      <th>Apr</th>\n",
       "    </tr>\n",
       "  </thead>\n",
       "  <tbody>\n",
       "    <tr>\n",
       "      <th>Peter</th>\n",
       "      <td>40</td>\n",
       "      <td>40</td>\n",
       "      <td>75</td>\n",
       "      <td>95</td>\n",
       "    </tr>\n",
       "    <tr>\n",
       "      <th>Clarke</th>\n",
       "      <td>80</td>\n",
       "      <td>85</td>\n",
       "      <td>120</td>\n",
       "      <td>130</td>\n",
       "    </tr>\n",
       "    <tr>\n",
       "      <th>Bruce</th>\n",
       "      <td>155</td>\n",
       "      <td>160</td>\n",
       "      <td>165</td>\n",
       "      <td>170</td>\n",
       "    </tr>\n",
       "    <tr>\n",
       "      <th>Tony</th>\n",
       "      <td>200</td>\n",
       "      <td>245</td>\n",
       "      <td>250</td>\n",
       "      <td>260</td>\n",
       "    </tr>\n",
       "  </tbody>\n",
       "</table>\n",
       "</div>"
      ],
      "text/plain": [
       "        Jan  Feb  Mar  Apr\n",
       "Peter    40   40   75   95\n",
       "Clarke   80   85  120  130\n",
       "Bruce   155  160  165  170\n",
       "Tony    200  245  250  260"
      ]
     },
     "execution_count": 40,
     "metadata": {},
     "output_type": "execute_result"
    }
   ],
   "source": [
    "df = pd.DataFrame(arr1, index = \"Peter,Clarke,Bruce,Tony\".split(\",\"), \n",
    "                  columns = \"Jan,Feb,Mar,Apr\".split(\",\"))\n",
    "df"
   ]
  },
  {
   "cell_type": "code",
   "execution_count": 41,
   "metadata": {
    "ExecuteTime": {
     "end_time": "2019-03-01T01:49:59.572934Z",
     "start_time": "2019-03-01T01:49:59.563167Z"
    },
    "nbpresent": {
     "id": "43ad91f2-2ce4-4cde-aaa8-a309e11d8a27"
    }
   },
   "outputs": [
    {
     "data": {
      "text/html": [
       "<div>\n",
       "<style scoped>\n",
       "    .dataframe tbody tr th:only-of-type {\n",
       "        vertical-align: middle;\n",
       "    }\n",
       "\n",
       "    .dataframe tbody tr th {\n",
       "        vertical-align: top;\n",
       "    }\n",
       "\n",
       "    .dataframe thead th {\n",
       "        text-align: right;\n",
       "    }\n",
       "</style>\n",
       "<table border=\"1\" class=\"dataframe\">\n",
       "  <thead>\n",
       "    <tr style=\"text-align: right;\">\n",
       "      <th></th>\n",
       "      <th>Jan</th>\n",
       "      <th>Feb</th>\n",
       "      <th>Mar</th>\n",
       "      <th>Apr</th>\n",
       "    </tr>\n",
       "  </thead>\n",
       "  <tbody>\n",
       "    <tr>\n",
       "      <th>Tony</th>\n",
       "      <td>200</td>\n",
       "      <td>245</td>\n",
       "      <td>250</td>\n",
       "      <td>260</td>\n",
       "    </tr>\n",
       "  </tbody>\n",
       "</table>\n",
       "</div>"
      ],
      "text/plain": [
       "      Jan  Feb  Mar  Apr\n",
       "Tony  200  245  250  260"
      ]
     },
     "execution_count": 41,
     "metadata": {},
     "output_type": "execute_result"
    }
   ],
   "source": [
    "# For selecting by Label\n",
    "df.loc[['Tony']]"
   ]
  },
  {
   "cell_type": "code",
   "execution_count": 42,
   "metadata": {
    "ExecuteTime": {
     "end_time": "2019-03-01T01:50:18.952284Z",
     "start_time": "2019-03-01T01:50:18.943877Z"
    },
    "nbpresent": {
     "id": "e7565a1a-ee8e-4867-a78e-b5eefcbbb56b"
    }
   },
   "outputs": [
    {
     "data": {
      "text/html": [
       "<div>\n",
       "<style scoped>\n",
       "    .dataframe tbody tr th:only-of-type {\n",
       "        vertical-align: middle;\n",
       "    }\n",
       "\n",
       "    .dataframe tbody tr th {\n",
       "        vertical-align: top;\n",
       "    }\n",
       "\n",
       "    .dataframe thead th {\n",
       "        text-align: right;\n",
       "    }\n",
       "</style>\n",
       "<table border=\"1\" class=\"dataframe\">\n",
       "  <thead>\n",
       "    <tr style=\"text-align: right;\">\n",
       "      <th></th>\n",
       "      <th>Jan</th>\n",
       "      <th>Feb</th>\n",
       "      <th>Mar</th>\n",
       "      <th>Apr</th>\n",
       "    </tr>\n",
       "  </thead>\n",
       "  <tbody>\n",
       "    <tr>\n",
       "      <th>Peter</th>\n",
       "      <td>40</td>\n",
       "      <td>40</td>\n",
       "      <td>75</td>\n",
       "      <td>95</td>\n",
       "    </tr>\n",
       "    <tr>\n",
       "      <th>Bruce</th>\n",
       "      <td>155</td>\n",
       "      <td>160</td>\n",
       "      <td>165</td>\n",
       "      <td>170</td>\n",
       "    </tr>\n",
       "  </tbody>\n",
       "</table>\n",
       "</div>"
      ],
      "text/plain": [
       "       Jan  Feb  Mar  Apr\n",
       "Peter   40   40   75   95\n",
       "Bruce  155  160  165  170"
      ]
     },
     "execution_count": 42,
     "metadata": {},
     "output_type": "execute_result"
    }
   ],
   "source": [
    "df.loc[['Peter','Bruce']]"
   ]
  },
  {
   "cell_type": "code",
   "execution_count": 43,
   "metadata": {
    "ExecuteTime": {
     "end_time": "2019-03-01T01:50:32.393819Z",
     "start_time": "2019-03-01T01:50:32.385269Z"
    },
    "nbpresent": {
     "id": "5659864e-2653-4aa8-8a08-58f73c809ac5"
    }
   },
   "outputs": [
    {
     "data": {
      "text/html": [
       "<div>\n",
       "<style scoped>\n",
       "    .dataframe tbody tr th:only-of-type {\n",
       "        vertical-align: middle;\n",
       "    }\n",
       "\n",
       "    .dataframe tbody tr th {\n",
       "        vertical-align: top;\n",
       "    }\n",
       "\n",
       "    .dataframe thead th {\n",
       "        text-align: right;\n",
       "    }\n",
       "</style>\n",
       "<table border=\"1\" class=\"dataframe\">\n",
       "  <thead>\n",
       "    <tr style=\"text-align: right;\">\n",
       "      <th></th>\n",
       "      <th>Jan</th>\n",
       "      <th>Feb</th>\n",
       "    </tr>\n",
       "  </thead>\n",
       "  <tbody>\n",
       "    <tr>\n",
       "      <th>Peter</th>\n",
       "      <td>40</td>\n",
       "      <td>40</td>\n",
       "    </tr>\n",
       "    <tr>\n",
       "      <th>Bruce</th>\n",
       "      <td>155</td>\n",
       "      <td>160</td>\n",
       "    </tr>\n",
       "  </tbody>\n",
       "</table>\n",
       "</div>"
      ],
      "text/plain": [
       "       Jan  Feb\n",
       "Peter   40   40\n",
       "Bruce  155  160"
      ]
     },
     "execution_count": 43,
     "metadata": {},
     "output_type": "execute_result"
    }
   ],
   "source": [
    "df.loc[['Peter','Bruce'],['Jan','Feb']]"
   ]
  },
  {
   "cell_type": "code",
   "execution_count": 44,
   "metadata": {
    "ExecuteTime": {
     "end_time": "2019-03-01T01:50:45.107780Z",
     "start_time": "2019-03-01T01:50:45.098696Z"
    },
    "nbpresent": {
     "id": "7941b52a-5691-426f-b3cb-f9940a9b9324"
    }
   },
   "outputs": [
    {
     "data": {
      "text/html": [
       "<div>\n",
       "<style scoped>\n",
       "    .dataframe tbody tr th:only-of-type {\n",
       "        vertical-align: middle;\n",
       "    }\n",
       "\n",
       "    .dataframe tbody tr th {\n",
       "        vertical-align: top;\n",
       "    }\n",
       "\n",
       "    .dataframe thead th {\n",
       "        text-align: right;\n",
       "    }\n",
       "</style>\n",
       "<table border=\"1\" class=\"dataframe\">\n",
       "  <thead>\n",
       "    <tr style=\"text-align: right;\">\n",
       "      <th></th>\n",
       "      <th>Jan</th>\n",
       "      <th>Feb</th>\n",
       "      <th>Mar</th>\n",
       "      <th>Apr</th>\n",
       "    </tr>\n",
       "  </thead>\n",
       "  <tbody>\n",
       "    <tr>\n",
       "      <th>Peter</th>\n",
       "      <td>40</td>\n",
       "      <td>40</td>\n",
       "      <td>75</td>\n",
       "      <td>95</td>\n",
       "    </tr>\n",
       "  </tbody>\n",
       "</table>\n",
       "</div>"
      ],
      "text/plain": [
       "       Jan  Feb  Mar  Apr\n",
       "Peter   40   40   75   95"
      ]
     },
     "execution_count": 44,
     "metadata": {},
     "output_type": "execute_result"
    }
   ],
   "source": [
    "# All of Peter's data\n",
    "df.loc[[\"Peter\"]][:]"
   ]
  },
  {
   "cell_type": "code",
   "execution_count": 45,
   "metadata": {
    "ExecuteTime": {
     "end_time": "2019-03-01T01:50:58.742833Z",
     "start_time": "2019-03-01T01:50:58.736799Z"
    }
   },
   "outputs": [
    {
     "data": {
      "text/plain": [
       "Jan    40\n",
       "Feb    40\n",
       "Mar    75\n",
       "Apr    95\n",
       "Name: Peter, dtype: int64"
      ]
     },
     "execution_count": 45,
     "metadata": {},
     "output_type": "execute_result"
    }
   ],
   "source": [
    "df.loc[\"Peter\"][:]"
   ]
  },
  {
   "cell_type": "code",
   "execution_count": 47,
   "metadata": {
    "ExecuteTime": {
     "end_time": "2019-03-01T01:53:02.907446Z",
     "start_time": "2019-03-01T01:53:02.898381Z"
    }
   },
   "outputs": [
    {
     "data": {
      "text/html": [
       "<div>\n",
       "<style scoped>\n",
       "    .dataframe tbody tr th:only-of-type {\n",
       "        vertical-align: middle;\n",
       "    }\n",
       "\n",
       "    .dataframe tbody tr th {\n",
       "        vertical-align: top;\n",
       "    }\n",
       "\n",
       "    .dataframe thead th {\n",
       "        text-align: right;\n",
       "    }\n",
       "</style>\n",
       "<table border=\"1\" class=\"dataframe\">\n",
       "  <thead>\n",
       "    <tr style=\"text-align: right;\">\n",
       "      <th></th>\n",
       "      <th>Jan</th>\n",
       "      <th>Feb</th>\n",
       "      <th>Mar</th>\n",
       "      <th>Apr</th>\n",
       "    </tr>\n",
       "  </thead>\n",
       "  <tbody>\n",
       "    <tr>\n",
       "      <th>Peter</th>\n",
       "      <td>40</td>\n",
       "      <td>40</td>\n",
       "      <td>75</td>\n",
       "      <td>95</td>\n",
       "    </tr>\n",
       "    <tr>\n",
       "      <th>Clarke</th>\n",
       "      <td>80</td>\n",
       "      <td>85</td>\n",
       "      <td>120</td>\n",
       "      <td>130</td>\n",
       "    </tr>\n",
       "    <tr>\n",
       "      <th>Bruce</th>\n",
       "      <td>155</td>\n",
       "      <td>160</td>\n",
       "      <td>165</td>\n",
       "      <td>170</td>\n",
       "    </tr>\n",
       "    <tr>\n",
       "      <th>Tony</th>\n",
       "      <td>200</td>\n",
       "      <td>245</td>\n",
       "      <td>250</td>\n",
       "      <td>260</td>\n",
       "    </tr>\n",
       "  </tbody>\n",
       "</table>\n",
       "</div>"
      ],
      "text/plain": [
       "        Jan  Feb  Mar  Apr\n",
       "Peter    40   40   75   95\n",
       "Clarke   80   85  120  130\n",
       "Bruce   155  160  165  170\n",
       "Tony    200  245  250  260"
      ]
     },
     "execution_count": 47,
     "metadata": {},
     "output_type": "execute_result"
    }
   ],
   "source": [
    "df"
   ]
  },
  {
   "cell_type": "code",
   "execution_count": 50,
   "metadata": {
    "ExecuteTime": {
     "end_time": "2019-03-01T01:53:45.125801Z",
     "start_time": "2019-03-01T01:53:45.116970Z"
    },
    "nbpresent": {
     "id": "aa429ed3-b2af-48bd-baf5-366fea7881ed"
    }
   },
   "outputs": [
    {
     "data": {
      "text/html": [
       "<div>\n",
       "<style scoped>\n",
       "    .dataframe tbody tr th:only-of-type {\n",
       "        vertical-align: middle;\n",
       "    }\n",
       "\n",
       "    .dataframe tbody tr th {\n",
       "        vertical-align: top;\n",
       "    }\n",
       "\n",
       "    .dataframe thead th {\n",
       "        text-align: right;\n",
       "    }\n",
       "</style>\n",
       "<table border=\"1\" class=\"dataframe\">\n",
       "  <thead>\n",
       "    <tr style=\"text-align: right;\">\n",
       "      <th></th>\n",
       "      <th>Jan</th>\n",
       "      <th>Feb</th>\n",
       "      <th>Mar</th>\n",
       "      <th>Apr</th>\n",
       "    </tr>\n",
       "  </thead>\n",
       "  <tbody>\n",
       "    <tr>\n",
       "      <th>Peter</th>\n",
       "      <td>40</td>\n",
       "      <td>40</td>\n",
       "      <td>75</td>\n",
       "      <td>95</td>\n",
       "    </tr>\n",
       "  </tbody>\n",
       "</table>\n",
       "</div>"
      ],
      "text/plain": [
       "       Jan  Feb  Mar  Apr\n",
       "Peter   40   40   75   95"
      ]
     },
     "execution_count": 50,
     "metadata": {},
     "output_type": "execute_result"
    }
   ],
   "source": [
    "# Integer-location based indexing for selection by position\n",
    "# Note how this returns a Dataframe\n",
    "df.iloc[[0]]"
   ]
  },
  {
   "cell_type": "code",
   "execution_count": 51,
   "metadata": {
    "ExecuteTime": {
     "end_time": "2019-03-01T01:53:52.899183Z",
     "start_time": "2019-03-01T01:53:52.893671Z"
    },
    "nbpresent": {
     "id": "70cf4e0b-4ecf-45bc-8ff5-b554de88f4c7"
    }
   },
   "outputs": [
    {
     "data": {
      "text/plain": [
       "Jan    40\n",
       "Feb    40\n",
       "Mar    75\n",
       "Apr    95\n",
       "Name: Peter, dtype: int64"
      ]
     },
     "execution_count": 51,
     "metadata": {},
     "output_type": "execute_result"
    }
   ],
   "source": [
    "# and this returns a Series\n",
    "df.iloc[0]"
   ]
  },
  {
   "cell_type": "code",
   "execution_count": 52,
   "metadata": {
    "ExecuteTime": {
     "end_time": "2019-03-01T01:55:05.621609Z",
     "start_time": "2019-03-01T01:55:05.614373Z"
    },
    "nbpresent": {
     "id": "4d17f54c-9824-4629-8985-05cc409a7b03"
    }
   },
   "outputs": [
    {
     "data": {
      "text/html": [
       "<div>\n",
       "<style scoped>\n",
       "    .dataframe tbody tr th:only-of-type {\n",
       "        vertical-align: middle;\n",
       "    }\n",
       "\n",
       "    .dataframe tbody tr th {\n",
       "        vertical-align: top;\n",
       "    }\n",
       "\n",
       "    .dataframe thead th {\n",
       "        text-align: right;\n",
       "    }\n",
       "</style>\n",
       "<table border=\"1\" class=\"dataframe\">\n",
       "  <thead>\n",
       "    <tr style=\"text-align: right;\">\n",
       "      <th></th>\n",
       "      <th>Feb</th>\n",
       "    </tr>\n",
       "  </thead>\n",
       "  <tbody>\n",
       "    <tr>\n",
       "      <th>Peter</th>\n",
       "      <td>40</td>\n",
       "    </tr>\n",
       "  </tbody>\n",
       "</table>\n",
       "</div>"
      ],
      "text/plain": [
       "       Feb\n",
       "Peter   40"
      ]
     },
     "execution_count": 52,
     "metadata": {},
     "output_type": "execute_result"
    }
   ],
   "source": [
    "# Narrowing down further\n",
    "df.iloc[[0],[1]]"
   ]
  },
  {
   "cell_type": "code",
   "execution_count": 53,
   "metadata": {
    "ExecuteTime": {
     "end_time": "2019-03-01T01:55:18.850157Z",
     "start_time": "2019-03-01T01:55:18.842312Z"
    },
    "nbpresent": {
     "id": "b4e45340-31dd-41e7-8fe2-a350d4f8c8d0"
    }
   },
   "outputs": [
    {
     "data": {
      "text/html": [
       "<div>\n",
       "<style scoped>\n",
       "    .dataframe tbody tr th:only-of-type {\n",
       "        vertical-align: middle;\n",
       "    }\n",
       "\n",
       "    .dataframe tbody tr th {\n",
       "        vertical-align: top;\n",
       "    }\n",
       "\n",
       "    .dataframe thead th {\n",
       "        text-align: right;\n",
       "    }\n",
       "</style>\n",
       "<table border=\"1\" class=\"dataframe\">\n",
       "  <thead>\n",
       "    <tr style=\"text-align: right;\">\n",
       "      <th></th>\n",
       "      <th>Jan</th>\n",
       "      <th>Feb</th>\n",
       "      <th>Mar</th>\n",
       "      <th>Apr</th>\n",
       "    </tr>\n",
       "  </thead>\n",
       "  <tbody>\n",
       "    <tr>\n",
       "      <th>Peter</th>\n",
       "      <td>40</td>\n",
       "      <td>40</td>\n",
       "      <td>75</td>\n",
       "      <td>95</td>\n",
       "    </tr>\n",
       "    <tr>\n",
       "      <th>Bruce</th>\n",
       "      <td>155</td>\n",
       "      <td>160</td>\n",
       "      <td>165</td>\n",
       "      <td>170</td>\n",
       "    </tr>\n",
       "  </tbody>\n",
       "</table>\n",
       "</div>"
      ],
      "text/plain": [
       "       Jan  Feb  Mar  Apr\n",
       "Peter   40   40   75   95\n",
       "Bruce  155  160  165  170"
      ]
     },
     "execution_count": 53,
     "metadata": {},
     "output_type": "execute_result"
    }
   ],
   "source": [
    "# Replicating the results from our use of the loc statement\n",
    "df.iloc[[0,2]]"
   ]
  },
  {
   "cell_type": "code",
   "execution_count": 55,
   "metadata": {
    "ExecuteTime": {
     "end_time": "2019-03-01T01:56:20.455942Z",
     "start_time": "2019-03-01T01:56:20.447882Z"
    }
   },
   "outputs": [
    {
     "data": {
      "text/html": [
       "<div>\n",
       "<style scoped>\n",
       "    .dataframe tbody tr th:only-of-type {\n",
       "        vertical-align: middle;\n",
       "    }\n",
       "\n",
       "    .dataframe tbody tr th {\n",
       "        vertical-align: top;\n",
       "    }\n",
       "\n",
       "    .dataframe thead th {\n",
       "        text-align: right;\n",
       "    }\n",
       "</style>\n",
       "<table border=\"1\" class=\"dataframe\">\n",
       "  <thead>\n",
       "    <tr style=\"text-align: right;\">\n",
       "      <th></th>\n",
       "      <th>Jan</th>\n",
       "      <th>Feb</th>\n",
       "      <th>Mar</th>\n",
       "      <th>Apr</th>\n",
       "    </tr>\n",
       "  </thead>\n",
       "  <tbody>\n",
       "    <tr>\n",
       "      <th>Peter</th>\n",
       "      <td>40</td>\n",
       "      <td>40</td>\n",
       "      <td>75</td>\n",
       "      <td>95</td>\n",
       "    </tr>\n",
       "    <tr>\n",
       "      <th>Clarke</th>\n",
       "      <td>80</td>\n",
       "      <td>85</td>\n",
       "      <td>120</td>\n",
       "      <td>130</td>\n",
       "    </tr>\n",
       "    <tr>\n",
       "      <th>Bruce</th>\n",
       "      <td>155</td>\n",
       "      <td>160</td>\n",
       "      <td>165</td>\n",
       "      <td>170</td>\n",
       "    </tr>\n",
       "    <tr>\n",
       "      <th>Tony</th>\n",
       "      <td>200</td>\n",
       "      <td>245</td>\n",
       "      <td>250</td>\n",
       "      <td>260</td>\n",
       "    </tr>\n",
       "  </tbody>\n",
       "</table>\n",
       "</div>"
      ],
      "text/plain": [
       "        Jan  Feb  Mar  Apr\n",
       "Peter    40   40   75   95\n",
       "Clarke   80   85  120  130\n",
       "Bruce   155  160  165  170\n",
       "Tony    200  245  250  260"
      ]
     },
     "execution_count": 55,
     "metadata": {},
     "output_type": "execute_result"
    }
   ],
   "source": [
    "df"
   ]
  },
  {
   "cell_type": "code",
   "execution_count": 54,
   "metadata": {
    "ExecuteTime": {
     "end_time": "2019-03-01T01:55:55.818521Z",
     "start_time": "2019-03-01T01:55:55.810101Z"
    },
    "nbpresent": {
     "id": "f9c639ef-dca6-4e2d-a6ce-5e1994ee5e77"
    }
   },
   "outputs": [
    {
     "data": {
      "text/html": [
       "<div>\n",
       "<style scoped>\n",
       "    .dataframe tbody tr th:only-of-type {\n",
       "        vertical-align: middle;\n",
       "    }\n",
       "\n",
       "    .dataframe tbody tr th {\n",
       "        vertical-align: top;\n",
       "    }\n",
       "\n",
       "    .dataframe thead th {\n",
       "        text-align: right;\n",
       "    }\n",
       "</style>\n",
       "<table border=\"1\" class=\"dataframe\">\n",
       "  <thead>\n",
       "    <tr style=\"text-align: right;\">\n",
       "      <th></th>\n",
       "      <th>Jan</th>\n",
       "      <th>Apr</th>\n",
       "    </tr>\n",
       "  </thead>\n",
       "  <tbody>\n",
       "    <tr>\n",
       "      <th>Peter</th>\n",
       "      <td>40</td>\n",
       "      <td>95</td>\n",
       "    </tr>\n",
       "    <tr>\n",
       "      <th>Bruce</th>\n",
       "      <td>155</td>\n",
       "      <td>170</td>\n",
       "    </tr>\n",
       "  </tbody>\n",
       "</table>\n",
       "</div>"
      ],
      "text/plain": [
       "       Jan  Apr\n",
       "Peter   40   95\n",
       "Bruce  155  170"
      ]
     },
     "execution_count": 54,
     "metadata": {},
     "output_type": "execute_result"
    }
   ],
   "source": [
    "# Compare to df.loc[['Peter','Bruce'],['A','D']]\n",
    "df.iloc[[0,2],[0,3]]"
   ]
  },
  {
   "cell_type": "markdown",
   "metadata": {
    "nbpresent": {
     "id": "b097dce8-6ae2-431f-a16a-cbcc64ac980d"
    }
   },
   "source": [
    "## Conditional Selection\n",
    "While exploring data sets, one often has to use conditional selection. Or this could be true for creating subsets to work."
   ]
  },
  {
   "cell_type": "code",
   "execution_count": 56,
   "metadata": {
    "ExecuteTime": {
     "end_time": "2019-03-01T01:57:59.433455Z",
     "start_time": "2019-03-01T01:57:59.425182Z"
    },
    "nbpresent": {
     "id": "430b5458-c659-4708-8ad0-e99bd5a80d7b"
    }
   },
   "outputs": [
    {
     "data": {
      "text/html": [
       "<div>\n",
       "<style scoped>\n",
       "    .dataframe tbody tr th:only-of-type {\n",
       "        vertical-align: middle;\n",
       "    }\n",
       "\n",
       "    .dataframe tbody tr th {\n",
       "        vertical-align: top;\n",
       "    }\n",
       "\n",
       "    .dataframe thead th {\n",
       "        text-align: right;\n",
       "    }\n",
       "</style>\n",
       "<table border=\"1\" class=\"dataframe\">\n",
       "  <thead>\n",
       "    <tr style=\"text-align: right;\">\n",
       "      <th></th>\n",
       "      <th>Jan</th>\n",
       "      <th>Feb</th>\n",
       "      <th>Mar</th>\n",
       "      <th>Apr</th>\n",
       "    </tr>\n",
       "  </thead>\n",
       "  <tbody>\n",
       "    <tr>\n",
       "      <th>Peter</th>\n",
       "      <td>40</td>\n",
       "      <td>40</td>\n",
       "      <td>75</td>\n",
       "      <td>95</td>\n",
       "    </tr>\n",
       "    <tr>\n",
       "      <th>Clarke</th>\n",
       "      <td>80</td>\n",
       "      <td>85</td>\n",
       "      <td>120</td>\n",
       "      <td>130</td>\n",
       "    </tr>\n",
       "    <tr>\n",
       "      <th>Bruce</th>\n",
       "      <td>155</td>\n",
       "      <td>160</td>\n",
       "      <td>165</td>\n",
       "      <td>170</td>\n",
       "    </tr>\n",
       "    <tr>\n",
       "      <th>Tony</th>\n",
       "      <td>200</td>\n",
       "      <td>245</td>\n",
       "      <td>250</td>\n",
       "      <td>260</td>\n",
       "    </tr>\n",
       "  </tbody>\n",
       "</table>\n",
       "</div>"
      ],
      "text/plain": [
       "        Jan  Feb  Mar  Apr\n",
       "Peter    40   40   75   95\n",
       "Clarke   80   85  120  130\n",
       "Bruce   155  160  165  170\n",
       "Tony    200  245  250  260"
      ]
     },
     "execution_count": 56,
     "metadata": {},
     "output_type": "execute_result"
    }
   ],
   "source": [
    "df"
   ]
  },
  {
   "cell_type": "code",
   "execution_count": 57,
   "metadata": {
    "ExecuteTime": {
     "end_time": "2019-03-01T01:58:07.225648Z",
     "start_time": "2019-03-01T01:58:07.214407Z"
    },
    "nbpresent": {
     "id": "fd681d14-473b-48ef-9ab7-712dd83c2b35"
    }
   },
   "outputs": [
    {
     "data": {
      "text/html": [
       "<div>\n",
       "<style scoped>\n",
       "    .dataframe tbody tr th:only-of-type {\n",
       "        vertical-align: middle;\n",
       "    }\n",
       "\n",
       "    .dataframe tbody tr th {\n",
       "        vertical-align: top;\n",
       "    }\n",
       "\n",
       "    .dataframe thead th {\n",
       "        text-align: right;\n",
       "    }\n",
       "</style>\n",
       "<table border=\"1\" class=\"dataframe\">\n",
       "  <thead>\n",
       "    <tr style=\"text-align: right;\">\n",
       "      <th></th>\n",
       "      <th>Jan</th>\n",
       "      <th>Feb</th>\n",
       "      <th>Mar</th>\n",
       "      <th>Apr</th>\n",
       "    </tr>\n",
       "  </thead>\n",
       "  <tbody>\n",
       "    <tr>\n",
       "      <th>Peter</th>\n",
       "      <td>40.0</td>\n",
       "      <td>40.0</td>\n",
       "      <td>NaN</td>\n",
       "      <td>NaN</td>\n",
       "    </tr>\n",
       "    <tr>\n",
       "      <th>Clarke</th>\n",
       "      <td>80.0</td>\n",
       "      <td>NaN</td>\n",
       "      <td>120.0</td>\n",
       "      <td>130.0</td>\n",
       "    </tr>\n",
       "    <tr>\n",
       "      <th>Bruce</th>\n",
       "      <td>NaN</td>\n",
       "      <td>160.0</td>\n",
       "      <td>NaN</td>\n",
       "      <td>170.0</td>\n",
       "    </tr>\n",
       "    <tr>\n",
       "      <th>Tony</th>\n",
       "      <td>200.0</td>\n",
       "      <td>NaN</td>\n",
       "      <td>250.0</td>\n",
       "      <td>260.0</td>\n",
       "    </tr>\n",
       "  </tbody>\n",
       "</table>\n",
       "</div>"
      ],
      "text/plain": [
       "          Jan    Feb    Mar    Apr\n",
       "Peter    40.0   40.0    NaN    NaN\n",
       "Clarke   80.0    NaN  120.0  130.0\n",
       "Bruce     NaN  160.0    NaN  170.0\n",
       "Tony    200.0    NaN  250.0  260.0"
      ]
     },
     "execution_count": 57,
     "metadata": {},
     "output_type": "execute_result"
    }
   ],
   "source": [
    "df[df%2 == 0]"
   ]
  },
  {
   "cell_type": "code",
   "execution_count": 58,
   "metadata": {
    "ExecuteTime": {
     "end_time": "2019-03-01T01:59:02.442566Z",
     "start_time": "2019-03-01T01:59:02.432395Z"
    },
    "nbpresent": {
     "id": "95fe5e87-a829-476e-8a47-cb0e48676081"
    }
   },
   "outputs": [
    {
     "data": {
      "text/html": [
       "<div>\n",
       "<style scoped>\n",
       "    .dataframe tbody tr th:only-of-type {\n",
       "        vertical-align: middle;\n",
       "    }\n",
       "\n",
       "    .dataframe tbody tr th {\n",
       "        vertical-align: top;\n",
       "    }\n",
       "\n",
       "    .dataframe thead th {\n",
       "        text-align: right;\n",
       "    }\n",
       "</style>\n",
       "<table border=\"1\" class=\"dataframe\">\n",
       "  <thead>\n",
       "    <tr style=\"text-align: right;\">\n",
       "      <th></th>\n",
       "      <th>Jan</th>\n",
       "      <th>Feb</th>\n",
       "      <th>Mar</th>\n",
       "      <th>Apr</th>\n",
       "    </tr>\n",
       "  </thead>\n",
       "  <tbody>\n",
       "    <tr>\n",
       "      <th>Peter</th>\n",
       "      <td>True</td>\n",
       "      <td>True</td>\n",
       "      <td>False</td>\n",
       "      <td>False</td>\n",
       "    </tr>\n",
       "    <tr>\n",
       "      <th>Clarke</th>\n",
       "      <td>True</td>\n",
       "      <td>False</td>\n",
       "      <td>True</td>\n",
       "      <td>True</td>\n",
       "    </tr>\n",
       "    <tr>\n",
       "      <th>Bruce</th>\n",
       "      <td>False</td>\n",
       "      <td>True</td>\n",
       "      <td>False</td>\n",
       "      <td>True</td>\n",
       "    </tr>\n",
       "    <tr>\n",
       "      <th>Tony</th>\n",
       "      <td>True</td>\n",
       "      <td>False</td>\n",
       "      <td>True</td>\n",
       "      <td>True</td>\n",
       "    </tr>\n",
       "  </tbody>\n",
       "</table>\n",
       "</div>"
      ],
      "text/plain": [
       "          Jan    Feb    Mar    Apr\n",
       "Peter    True   True  False  False\n",
       "Clarke   True  False   True   True\n",
       "Bruce   False   True  False   True\n",
       "Tony     True  False   True   True"
      ]
     },
     "execution_count": 58,
     "metadata": {},
     "output_type": "execute_result"
    }
   ],
   "source": [
    "df%2 == 0"
   ]
  },
  {
   "cell_type": "code",
   "execution_count": 59,
   "metadata": {
    "ExecuteTime": {
     "end_time": "2019-03-01T01:59:03.076902Z",
     "start_time": "2019-03-01T01:59:03.068345Z"
    },
    "nbpresent": {
     "id": "bf7ccfaa-a7af-4eb1-894d-7a8d24c81325"
    }
   },
   "outputs": [
    {
     "data": {
      "text/html": [
       "<div>\n",
       "<style scoped>\n",
       "    .dataframe tbody tr th:only-of-type {\n",
       "        vertical-align: middle;\n",
       "    }\n",
       "\n",
       "    .dataframe tbody tr th {\n",
       "        vertical-align: top;\n",
       "    }\n",
       "\n",
       "    .dataframe thead th {\n",
       "        text-align: right;\n",
       "    }\n",
       "</style>\n",
       "<table border=\"1\" class=\"dataframe\">\n",
       "  <thead>\n",
       "    <tr style=\"text-align: right;\">\n",
       "      <th></th>\n",
       "      <th>Jan</th>\n",
       "      <th>Feb</th>\n",
       "      <th>Mar</th>\n",
       "      <th>Apr</th>\n",
       "    </tr>\n",
       "  </thead>\n",
       "  <tbody>\n",
       "    <tr>\n",
       "      <th>Peter</th>\n",
       "      <td>True</td>\n",
       "      <td>True</td>\n",
       "      <td>True</td>\n",
       "      <td>True</td>\n",
       "    </tr>\n",
       "    <tr>\n",
       "      <th>Clarke</th>\n",
       "      <td>True</td>\n",
       "      <td>True</td>\n",
       "      <td>False</td>\n",
       "      <td>False</td>\n",
       "    </tr>\n",
       "    <tr>\n",
       "      <th>Bruce</th>\n",
       "      <td>False</td>\n",
       "      <td>False</td>\n",
       "      <td>False</td>\n",
       "      <td>False</td>\n",
       "    </tr>\n",
       "    <tr>\n",
       "      <th>Tony</th>\n",
       "      <td>False</td>\n",
       "      <td>False</td>\n",
       "      <td>False</td>\n",
       "      <td>False</td>\n",
       "    </tr>\n",
       "  </tbody>\n",
       "</table>\n",
       "</div>"
      ],
      "text/plain": [
       "          Jan    Feb    Mar    Apr\n",
       "Peter    True   True   True   True\n",
       "Clarke   True   True  False  False\n",
       "Bruce   False  False  False  False\n",
       "Tony    False  False  False  False"
      ]
     },
     "execution_count": 59,
     "metadata": {},
     "output_type": "execute_result"
    }
   ],
   "source": [
    "df < 100"
   ]
  },
  {
   "cell_type": "code",
   "execution_count": 60,
   "metadata": {
    "ExecuteTime": {
     "end_time": "2019-03-01T01:59:13.835186Z",
     "start_time": "2019-03-01T01:59:13.824319Z"
    },
    "nbpresent": {
     "id": "901f2b42-a597-4e4b-9b24-da5159c08e31"
    }
   },
   "outputs": [
    {
     "data": {
      "text/html": [
       "<div>\n",
       "<style scoped>\n",
       "    .dataframe tbody tr th:only-of-type {\n",
       "        vertical-align: middle;\n",
       "    }\n",
       "\n",
       "    .dataframe tbody tr th {\n",
       "        vertical-align: top;\n",
       "    }\n",
       "\n",
       "    .dataframe thead th {\n",
       "        text-align: right;\n",
       "    }\n",
       "</style>\n",
       "<table border=\"1\" class=\"dataframe\">\n",
       "  <thead>\n",
       "    <tr style=\"text-align: right;\">\n",
       "      <th></th>\n",
       "      <th>Jan</th>\n",
       "      <th>Feb</th>\n",
       "      <th>Mar</th>\n",
       "      <th>Apr</th>\n",
       "    </tr>\n",
       "  </thead>\n",
       "  <tbody>\n",
       "    <tr>\n",
       "      <th>Peter</th>\n",
       "      <td>40.0</td>\n",
       "      <td>40.0</td>\n",
       "      <td>75.0</td>\n",
       "      <td>95.0</td>\n",
       "    </tr>\n",
       "    <tr>\n",
       "      <th>Clarke</th>\n",
       "      <td>80.0</td>\n",
       "      <td>85.0</td>\n",
       "      <td>NaN</td>\n",
       "      <td>NaN</td>\n",
       "    </tr>\n",
       "    <tr>\n",
       "      <th>Bruce</th>\n",
       "      <td>NaN</td>\n",
       "      <td>NaN</td>\n",
       "      <td>NaN</td>\n",
       "      <td>NaN</td>\n",
       "    </tr>\n",
       "    <tr>\n",
       "      <th>Tony</th>\n",
       "      <td>NaN</td>\n",
       "      <td>NaN</td>\n",
       "      <td>NaN</td>\n",
       "      <td>NaN</td>\n",
       "    </tr>\n",
       "  </tbody>\n",
       "</table>\n",
       "</div>"
      ],
      "text/plain": [
       "         Jan   Feb   Mar   Apr\n",
       "Peter   40.0  40.0  75.0  95.0\n",
       "Clarke  80.0  85.0   NaN   NaN\n",
       "Bruce    NaN   NaN   NaN   NaN\n",
       "Tony     NaN   NaN   NaN   NaN"
      ]
     },
     "execution_count": 60,
     "metadata": {},
     "output_type": "execute_result"
    }
   ],
   "source": [
    "df[df<100]"
   ]
  },
  {
   "cell_type": "code",
   "execution_count": 61,
   "metadata": {
    "ExecuteTime": {
     "end_time": "2019-03-01T01:59:23.925989Z",
     "start_time": "2019-03-01T01:59:23.918875Z"
    },
    "nbpresent": {
     "id": "d5fac765-e07c-484f-af3f-ce2abd108e9c"
    }
   },
   "outputs": [
    {
     "data": {
      "text/html": [
       "<div>\n",
       "<style scoped>\n",
       "    .dataframe tbody tr th:only-of-type {\n",
       "        vertical-align: middle;\n",
       "    }\n",
       "\n",
       "    .dataframe tbody tr th {\n",
       "        vertical-align: top;\n",
       "    }\n",
       "\n",
       "    .dataframe thead th {\n",
       "        text-align: right;\n",
       "    }\n",
       "</style>\n",
       "<table border=\"1\" class=\"dataframe\">\n",
       "  <thead>\n",
       "    <tr style=\"text-align: right;\">\n",
       "      <th></th>\n",
       "      <th>Jan</th>\n",
       "      <th>Feb</th>\n",
       "      <th>Mar</th>\n",
       "      <th>Apr</th>\n",
       "    </tr>\n",
       "  </thead>\n",
       "  <tbody>\n",
       "    <tr>\n",
       "      <th>Peter</th>\n",
       "      <td>40</td>\n",
       "      <td>40</td>\n",
       "      <td>75</td>\n",
       "      <td>95</td>\n",
       "    </tr>\n",
       "    <tr>\n",
       "      <th>Clarke</th>\n",
       "      <td>80</td>\n",
       "      <td>85</td>\n",
       "      <td>120</td>\n",
       "      <td>130</td>\n",
       "    </tr>\n",
       "    <tr>\n",
       "      <th>Bruce</th>\n",
       "      <td>155</td>\n",
       "      <td>160</td>\n",
       "      <td>165</td>\n",
       "      <td>170</td>\n",
       "    </tr>\n",
       "    <tr>\n",
       "      <th>Tony</th>\n",
       "      <td>200</td>\n",
       "      <td>245</td>\n",
       "      <td>250</td>\n",
       "      <td>260</td>\n",
       "    </tr>\n",
       "  </tbody>\n",
       "</table>\n",
       "</div>"
      ],
      "text/plain": [
       "        Jan  Feb  Mar  Apr\n",
       "Peter    40   40   75   95\n",
       "Clarke   80   85  120  130\n",
       "Bruce   155  160  165  170\n",
       "Tony    200  245  250  260"
      ]
     },
     "execution_count": 61,
     "metadata": {},
     "output_type": "execute_result"
    }
   ],
   "source": [
    "df"
   ]
  },
  {
   "cell_type": "code",
   "execution_count": 62,
   "metadata": {
    "ExecuteTime": {
     "end_time": "2019-03-01T01:59:25.444394Z",
     "start_time": "2019-03-01T01:59:25.437178Z"
    },
    "nbpresent": {
     "id": "5094aff1-f064-4ae2-b542-e48e9650cbfc"
    }
   },
   "outputs": [
    {
     "data": {
      "text/html": [
       "<div>\n",
       "<style scoped>\n",
       "    .dataframe tbody tr th:only-of-type {\n",
       "        vertical-align: middle;\n",
       "    }\n",
       "\n",
       "    .dataframe tbody tr th {\n",
       "        vertical-align: top;\n",
       "    }\n",
       "\n",
       "    .dataframe thead th {\n",
       "        text-align: right;\n",
       "    }\n",
       "</style>\n",
       "<table border=\"1\" class=\"dataframe\">\n",
       "  <thead>\n",
       "    <tr style=\"text-align: right;\">\n",
       "      <th></th>\n",
       "      <th>Apr</th>\n",
       "    </tr>\n",
       "  </thead>\n",
       "  <tbody>\n",
       "    <tr>\n",
       "      <th>Bruce</th>\n",
       "      <td>170</td>\n",
       "    </tr>\n",
       "    <tr>\n",
       "      <th>Tony</th>\n",
       "      <td>260</td>\n",
       "    </tr>\n",
       "  </tbody>\n",
       "</table>\n",
       "</div>"
      ],
      "text/plain": [
       "       Apr\n",
       "Bruce  170\n",
       "Tony   260"
      ]
     },
     "execution_count": 62,
     "metadata": {},
     "output_type": "execute_result"
    }
   ],
   "source": [
    "df[df['Jan']>100][['Apr']]"
   ]
  },
  {
   "cell_type": "code",
   "execution_count": 64,
   "metadata": {
    "ExecuteTime": {
     "end_time": "2019-03-01T01:59:41.424900Z",
     "start_time": "2019-03-01T01:59:41.414583Z"
    },
    "nbpresent": {
     "id": "f40c4ad1-87a0-4ae1-9730-0353fd4a27b7"
    }
   },
   "outputs": [
    {
     "data": {
      "text/html": [
       "<div>\n",
       "<style scoped>\n",
       "    .dataframe tbody tr th:only-of-type {\n",
       "        vertical-align: middle;\n",
       "    }\n",
       "\n",
       "    .dataframe tbody tr th {\n",
       "        vertical-align: top;\n",
       "    }\n",
       "\n",
       "    .dataframe thead th {\n",
       "        text-align: right;\n",
       "    }\n",
       "</style>\n",
       "<table border=\"1\" class=\"dataframe\">\n",
       "  <thead>\n",
       "    <tr style=\"text-align: right;\">\n",
       "      <th></th>\n",
       "      <th>Feb</th>\n",
       "      <th>Apr</th>\n",
       "    </tr>\n",
       "  </thead>\n",
       "  <tbody>\n",
       "    <tr>\n",
       "      <th>Peter</th>\n",
       "      <td>40</td>\n",
       "      <td>95</td>\n",
       "    </tr>\n",
       "    <tr>\n",
       "      <th>Clarke</th>\n",
       "      <td>85</td>\n",
       "      <td>130</td>\n",
       "    </tr>\n",
       "  </tbody>\n",
       "</table>\n",
       "</div>"
      ],
      "text/plain": [
       "        Feb  Apr\n",
       "Peter    40   95\n",
       "Clarke   85  130"
      ]
     },
     "execution_count": 64,
     "metadata": {},
     "output_type": "execute_result"
    }
   ],
   "source": [
    "df[df['Jan']<100][['Feb','Apr']]"
   ]
  },
  {
   "cell_type": "code",
   "execution_count": 65,
   "metadata": {
    "ExecuteTime": {
     "end_time": "2019-03-01T01:59:46.200179Z",
     "start_time": "2019-03-01T01:59:46.190708Z"
    },
    "nbpresent": {
     "id": "0859d563-0a93-4a4d-bf5c-78079a3e4563"
    }
   },
   "outputs": [
    {
     "data": {
      "text/html": [
       "<div>\n",
       "<style scoped>\n",
       "    .dataframe tbody tr th:only-of-type {\n",
       "        vertical-align: middle;\n",
       "    }\n",
       "\n",
       "    .dataframe tbody tr th {\n",
       "        vertical-align: top;\n",
       "    }\n",
       "\n",
       "    .dataframe thead th {\n",
       "        text-align: right;\n",
       "    }\n",
       "</style>\n",
       "<table border=\"1\" class=\"dataframe\">\n",
       "  <thead>\n",
       "    <tr style=\"text-align: right;\">\n",
       "      <th></th>\n",
       "      <th>Jan</th>\n",
       "      <th>Feb</th>\n",
       "      <th>Mar</th>\n",
       "      <th>Apr</th>\n",
       "    </tr>\n",
       "  </thead>\n",
       "  <tbody>\n",
       "    <tr>\n",
       "      <th>Clarke</th>\n",
       "      <td>80</td>\n",
       "      <td>85</td>\n",
       "      <td>120</td>\n",
       "      <td>130</td>\n",
       "    </tr>\n",
       "    <tr>\n",
       "      <th>Bruce</th>\n",
       "      <td>155</td>\n",
       "      <td>160</td>\n",
       "      <td>165</td>\n",
       "      <td>170</td>\n",
       "    </tr>\n",
       "    <tr>\n",
       "      <th>Tony</th>\n",
       "      <td>200</td>\n",
       "      <td>245</td>\n",
       "      <td>250</td>\n",
       "      <td>260</td>\n",
       "    </tr>\n",
       "  </tbody>\n",
       "</table>\n",
       "</div>"
      ],
      "text/plain": [
       "        Jan  Feb  Mar  Apr\n",
       "Clarke   80   85  120  130\n",
       "Bruce   155  160  165  170\n",
       "Tony    200  245  250  260"
      ]
     },
     "execution_count": 65,
     "metadata": {},
     "output_type": "execute_result"
    }
   ],
   "source": [
    "# Using multiple conditions\n",
    "df[(df['Jan'] >= 80) & (df['Mar']>100)]"
   ]
  },
  {
   "cell_type": "markdown",
   "metadata": {
    "nbpresent": {
     "id": "99cf1f76-7169-473b-8c8f-260018d73905"
    }
   },
   "source": [
    "Did you notice that we used `&` instead of `and`? When using Pandas, we have to use the symbol, not the word. Here's a [StackOverflow discussion](http://stackoverflow.com/questions/21415661/logic-operator-for-boolean-indexing-in-pandas) on this."
   ]
  },
  {
   "cell_type": "markdown",
   "metadata": {
    "nbpresent": {
     "id": "b83bdc5b-7393-4503-a871-cf405563ed67"
    }
   },
   "source": [
    "## Creating New Columns"
   ]
  },
  {
   "cell_type": "code",
   "execution_count": 66,
   "metadata": {
    "ExecuteTime": {
     "end_time": "2019-03-01T02:00:07.436393Z",
     "start_time": "2019-03-01T02:00:07.427339Z"
    },
    "nbpresent": {
     "id": "3ef906d6-aaa3-4df4-92b0-912b769ec69c"
    }
   },
   "outputs": [
    {
     "data": {
      "text/html": [
       "<div>\n",
       "<style scoped>\n",
       "    .dataframe tbody tr th:only-of-type {\n",
       "        vertical-align: middle;\n",
       "    }\n",
       "\n",
       "    .dataframe tbody tr th {\n",
       "        vertical-align: top;\n",
       "    }\n",
       "\n",
       "    .dataframe thead th {\n",
       "        text-align: right;\n",
       "    }\n",
       "</style>\n",
       "<table border=\"1\" class=\"dataframe\">\n",
       "  <thead>\n",
       "    <tr style=\"text-align: right;\">\n",
       "      <th></th>\n",
       "      <th>Jan</th>\n",
       "      <th>Feb</th>\n",
       "      <th>Mar</th>\n",
       "      <th>Apr</th>\n",
       "    </tr>\n",
       "  </thead>\n",
       "  <tbody>\n",
       "    <tr>\n",
       "      <th>Peter</th>\n",
       "      <td>40</td>\n",
       "      <td>40</td>\n",
       "      <td>75</td>\n",
       "      <td>95</td>\n",
       "    </tr>\n",
       "    <tr>\n",
       "      <th>Clarke</th>\n",
       "      <td>80</td>\n",
       "      <td>85</td>\n",
       "      <td>120</td>\n",
       "      <td>130</td>\n",
       "    </tr>\n",
       "    <tr>\n",
       "      <th>Bruce</th>\n",
       "      <td>155</td>\n",
       "      <td>160</td>\n",
       "      <td>165</td>\n",
       "      <td>170</td>\n",
       "    </tr>\n",
       "    <tr>\n",
       "      <th>Tony</th>\n",
       "      <td>200</td>\n",
       "      <td>245</td>\n",
       "      <td>250</td>\n",
       "      <td>260</td>\n",
       "    </tr>\n",
       "  </tbody>\n",
       "</table>\n",
       "</div>"
      ],
      "text/plain": [
       "        Jan  Feb  Mar  Apr\n",
       "Peter    40   40   75   95\n",
       "Clarke   80   85  120  130\n",
       "Bruce   155  160  165  170\n",
       "Tony    200  245  250  260"
      ]
     },
     "execution_count": 66,
     "metadata": {},
     "output_type": "execute_result"
    }
   ],
   "source": [
    "df = pd.DataFrame(arr1, index = \"Peter,Clarke,Bruce,Tony\".split(\",\"), columns = \"Jan,Feb,Mar,Apr\".split(\",\"))\n",
    "df"
   ]
  },
  {
   "cell_type": "code",
   "execution_count": 67,
   "metadata": {
    "ExecuteTime": {
     "end_time": "2019-03-01T02:00:20.729886Z",
     "start_time": "2019-03-01T02:00:20.720305Z"
    },
    "nbpresent": {
     "id": "8765693f-d7b7-41e6-a7b4-260653458d51"
    },
    "scrolled": true
   },
   "outputs": [
    {
     "data": {
      "text/html": [
       "<div>\n",
       "<style scoped>\n",
       "    .dataframe tbody tr th:only-of-type {\n",
       "        vertical-align: middle;\n",
       "    }\n",
       "\n",
       "    .dataframe tbody tr th {\n",
       "        vertical-align: top;\n",
       "    }\n",
       "\n",
       "    .dataframe thead th {\n",
       "        text-align: right;\n",
       "    }\n",
       "</style>\n",
       "<table border=\"1\" class=\"dataframe\">\n",
       "  <thead>\n",
       "    <tr style=\"text-align: right;\">\n",
       "      <th></th>\n",
       "      <th>Jan</th>\n",
       "      <th>Feb</th>\n",
       "      <th>Mar</th>\n",
       "      <th>Apr</th>\n",
       "      <th>Dec</th>\n",
       "    </tr>\n",
       "  </thead>\n",
       "  <tbody>\n",
       "    <tr>\n",
       "      <th>Peter</th>\n",
       "      <td>40</td>\n",
       "      <td>40</td>\n",
       "      <td>75</td>\n",
       "      <td>95</td>\n",
       "      <td>115</td>\n",
       "    </tr>\n",
       "    <tr>\n",
       "      <th>Clarke</th>\n",
       "      <td>80</td>\n",
       "      <td>85</td>\n",
       "      <td>120</td>\n",
       "      <td>130</td>\n",
       "      <td>200</td>\n",
       "    </tr>\n",
       "    <tr>\n",
       "      <th>Bruce</th>\n",
       "      <td>155</td>\n",
       "      <td>160</td>\n",
       "      <td>165</td>\n",
       "      <td>170</td>\n",
       "      <td>320</td>\n",
       "    </tr>\n",
       "    <tr>\n",
       "      <th>Tony</th>\n",
       "      <td>200</td>\n",
       "      <td>245</td>\n",
       "      <td>250</td>\n",
       "      <td>260</td>\n",
       "      <td>450</td>\n",
       "    </tr>\n",
       "  </tbody>\n",
       "</table>\n",
       "</div>"
      ],
      "text/plain": [
       "        Jan  Feb  Mar  Apr  Dec\n",
       "Peter    40   40   75   95  115\n",
       "Clarke   80   85  120  130  200\n",
       "Bruce   155  160  165  170  320\n",
       "Tony    200  245  250  260  450"
      ]
     },
     "execution_count": 67,
     "metadata": {},
     "output_type": "execute_result"
    }
   ],
   "source": [
    "df[\"Dec\"] = df[\"Jan\"] + df[\"Mar\"]\n",
    "df"
   ]
  },
  {
   "cell_type": "markdown",
   "metadata": {
    "nbpresent": {
     "id": "7af77f7f-efa8-410d-ade5-a6c42f315bbd"
    }
   },
   "source": [
    "## Removing Columns\n",
    "While fundamentally adding and removing columns ought to be similar operations, there are a few differences. Let's see if you can figure it out."
   ]
  },
  {
   "cell_type": "code",
   "execution_count": 69,
   "metadata": {
    "ExecuteTime": {
     "end_time": "2019-03-01T02:01:33.462282Z",
     "start_time": "2019-03-01T02:01:33.454258Z"
    }
   },
   "outputs": [
    {
     "data": {
      "text/html": [
       "<div>\n",
       "<style scoped>\n",
       "    .dataframe tbody tr th:only-of-type {\n",
       "        vertical-align: middle;\n",
       "    }\n",
       "\n",
       "    .dataframe tbody tr th {\n",
       "        vertical-align: top;\n",
       "    }\n",
       "\n",
       "    .dataframe thead th {\n",
       "        text-align: right;\n",
       "    }\n",
       "</style>\n",
       "<table border=\"1\" class=\"dataframe\">\n",
       "  <thead>\n",
       "    <tr style=\"text-align: right;\">\n",
       "      <th></th>\n",
       "      <th>Jan</th>\n",
       "      <th>Feb</th>\n",
       "      <th>Mar</th>\n",
       "      <th>Apr</th>\n",
       "      <th>Dec</th>\n",
       "    </tr>\n",
       "  </thead>\n",
       "  <tbody>\n",
       "    <tr>\n",
       "      <th>Peter</th>\n",
       "      <td>40</td>\n",
       "      <td>40</td>\n",
       "      <td>75</td>\n",
       "      <td>95</td>\n",
       "      <td>115</td>\n",
       "    </tr>\n",
       "    <tr>\n",
       "      <th>Clarke</th>\n",
       "      <td>80</td>\n",
       "      <td>85</td>\n",
       "      <td>120</td>\n",
       "      <td>130</td>\n",
       "      <td>200</td>\n",
       "    </tr>\n",
       "    <tr>\n",
       "      <th>Bruce</th>\n",
       "      <td>155</td>\n",
       "      <td>160</td>\n",
       "      <td>165</td>\n",
       "      <td>170</td>\n",
       "      <td>320</td>\n",
       "    </tr>\n",
       "    <tr>\n",
       "      <th>Tony</th>\n",
       "      <td>200</td>\n",
       "      <td>245</td>\n",
       "      <td>250</td>\n",
       "      <td>260</td>\n",
       "      <td>450</td>\n",
       "    </tr>\n",
       "  </tbody>\n",
       "</table>\n",
       "</div>"
      ],
      "text/plain": [
       "        Jan  Feb  Mar  Apr  Dec\n",
       "Peter    40   40   75   95  115\n",
       "Clarke   80   85  120  130  200\n",
       "Bruce   155  160  165  170  320\n",
       "Tony    200  245  250  260  450"
      ]
     },
     "execution_count": 69,
     "metadata": {},
     "output_type": "execute_result"
    }
   ],
   "source": [
    "df"
   ]
  },
  {
   "cell_type": "code",
   "execution_count": 73,
   "metadata": {
    "ExecuteTime": {
     "end_time": "2019-03-01T02:02:38.153963Z",
     "start_time": "2019-03-01T02:02:38.146174Z"
    },
    "nbpresent": {
     "id": "853eead7-afe3-4094-a645-d318f2062fb2"
    }
   },
   "outputs": [
    {
     "data": {
      "text/html": [
       "<div>\n",
       "<style scoped>\n",
       "    .dataframe tbody tr th:only-of-type {\n",
       "        vertical-align: middle;\n",
       "    }\n",
       "\n",
       "    .dataframe tbody tr th {\n",
       "        vertical-align: top;\n",
       "    }\n",
       "\n",
       "    .dataframe thead th {\n",
       "        text-align: right;\n",
       "    }\n",
       "</style>\n",
       "<table border=\"1\" class=\"dataframe\">\n",
       "  <thead>\n",
       "    <tr style=\"text-align: right;\">\n",
       "      <th></th>\n",
       "      <th>Jan</th>\n",
       "      <th>Feb</th>\n",
       "      <th>Mar</th>\n",
       "      <th>Apr</th>\n",
       "    </tr>\n",
       "  </thead>\n",
       "  <tbody>\n",
       "    <tr>\n",
       "      <th>Peter</th>\n",
       "      <td>40</td>\n",
       "      <td>40</td>\n",
       "      <td>75</td>\n",
       "      <td>95</td>\n",
       "    </tr>\n",
       "    <tr>\n",
       "      <th>Clarke</th>\n",
       "      <td>80</td>\n",
       "      <td>85</td>\n",
       "      <td>120</td>\n",
       "      <td>130</td>\n",
       "    </tr>\n",
       "    <tr>\n",
       "      <th>Bruce</th>\n",
       "      <td>155</td>\n",
       "      <td>160</td>\n",
       "      <td>165</td>\n",
       "      <td>170</td>\n",
       "    </tr>\n",
       "    <tr>\n",
       "      <th>Tony</th>\n",
       "      <td>200</td>\n",
       "      <td>245</td>\n",
       "      <td>250</td>\n",
       "      <td>260</td>\n",
       "    </tr>\n",
       "  </tbody>\n",
       "</table>\n",
       "</div>"
      ],
      "text/plain": [
       "        Jan  Feb  Mar  Apr\n",
       "Peter    40   40   75   95\n",
       "Clarke   80   85  120  130\n",
       "Bruce   155  160  165  170\n",
       "Tony    200  245  250  260"
      ]
     },
     "execution_count": 73,
     "metadata": {},
     "output_type": "execute_result"
    }
   ],
   "source": [
    "df.drop('Dec', axis = 1)"
   ]
  },
  {
   "cell_type": "markdown",
   "metadata": {
    "nbpresent": {
     "id": "ad5fbdc7-cedc-461d-8dd9-183a7527faaa"
    }
   },
   "source": [
    "First, we had to mention the `axis`. 0 is for rows, 1 is for columns."
   ]
  },
  {
   "cell_type": "code",
   "execution_count": 74,
   "metadata": {
    "ExecuteTime": {
     "end_time": "2019-03-01T02:03:16.273663Z",
     "start_time": "2019-03-01T02:03:16.265358Z"
    },
    "nbpresent": {
     "id": "3561b385-f876-4756-9c44-fc3c04dc64c9"
    }
   },
   "outputs": [
    {
     "data": {
      "text/html": [
       "<div>\n",
       "<style scoped>\n",
       "    .dataframe tbody tr th:only-of-type {\n",
       "        vertical-align: middle;\n",
       "    }\n",
       "\n",
       "    .dataframe tbody tr th {\n",
       "        vertical-align: top;\n",
       "    }\n",
       "\n",
       "    .dataframe thead th {\n",
       "        text-align: right;\n",
       "    }\n",
       "</style>\n",
       "<table border=\"1\" class=\"dataframe\">\n",
       "  <thead>\n",
       "    <tr style=\"text-align: right;\">\n",
       "      <th></th>\n",
       "      <th>Jan</th>\n",
       "      <th>Feb</th>\n",
       "      <th>Mar</th>\n",
       "      <th>Apr</th>\n",
       "      <th>Dec</th>\n",
       "    </tr>\n",
       "  </thead>\n",
       "  <tbody>\n",
       "    <tr>\n",
       "      <th>Peter</th>\n",
       "      <td>40</td>\n",
       "      <td>40</td>\n",
       "      <td>75</td>\n",
       "      <td>95</td>\n",
       "      <td>115</td>\n",
       "    </tr>\n",
       "    <tr>\n",
       "      <th>Clarke</th>\n",
       "      <td>80</td>\n",
       "      <td>85</td>\n",
       "      <td>120</td>\n",
       "      <td>130</td>\n",
       "      <td>200</td>\n",
       "    </tr>\n",
       "    <tr>\n",
       "      <th>Bruce</th>\n",
       "      <td>155</td>\n",
       "      <td>160</td>\n",
       "      <td>165</td>\n",
       "      <td>170</td>\n",
       "      <td>320</td>\n",
       "    </tr>\n",
       "    <tr>\n",
       "      <th>Tony</th>\n",
       "      <td>200</td>\n",
       "      <td>245</td>\n",
       "      <td>250</td>\n",
       "      <td>260</td>\n",
       "      <td>450</td>\n",
       "    </tr>\n",
       "  </tbody>\n",
       "</table>\n",
       "</div>"
      ],
      "text/plain": [
       "        Jan  Feb  Mar  Apr  Dec\n",
       "Peter    40   40   75   95  115\n",
       "Clarke   80   85  120  130  200\n",
       "Bruce   155  160  165  170  320\n",
       "Tony    200  245  250  260  450"
      ]
     },
     "execution_count": 74,
     "metadata": {},
     "output_type": "execute_result"
    }
   ],
   "source": [
    "df"
   ]
  },
  {
   "cell_type": "markdown",
   "metadata": {
    "nbpresent": {
     "id": "9fc14b38-24ca-4e97-be13-df770b0620ce"
    }
   },
   "source": [
    "Why is 'Dec' still there? Here lies the difference - while removing columns, we have to specify that the operation should be `inplace`. Read about it in the [official documentation](http://pandas.pydata.org/pandas-docs/version/0.17.0/generated/pandas.DataFrame.drop.html). "
   ]
  },
  {
   "cell_type": "code",
   "execution_count": 75,
   "metadata": {
    "ExecuteTime": {
     "end_time": "2019-03-01T02:03:45.736536Z",
     "start_time": "2019-03-01T02:03:45.726400Z"
    },
    "nbpresent": {
     "id": "5f1de393-7b1a-44d2-96d6-c59e20c987b6"
    }
   },
   "outputs": [
    {
     "data": {
      "text/html": [
       "<div>\n",
       "<style scoped>\n",
       "    .dataframe tbody tr th:only-of-type {\n",
       "        vertical-align: middle;\n",
       "    }\n",
       "\n",
       "    .dataframe tbody tr th {\n",
       "        vertical-align: top;\n",
       "    }\n",
       "\n",
       "    .dataframe thead th {\n",
       "        text-align: right;\n",
       "    }\n",
       "</style>\n",
       "<table border=\"1\" class=\"dataframe\">\n",
       "  <thead>\n",
       "    <tr style=\"text-align: right;\">\n",
       "      <th></th>\n",
       "      <th>Jan</th>\n",
       "      <th>Feb</th>\n",
       "      <th>Mar</th>\n",
       "      <th>Apr</th>\n",
       "    </tr>\n",
       "  </thead>\n",
       "  <tbody>\n",
       "    <tr>\n",
       "      <th>Peter</th>\n",
       "      <td>40</td>\n",
       "      <td>40</td>\n",
       "      <td>75</td>\n",
       "      <td>95</td>\n",
       "    </tr>\n",
       "    <tr>\n",
       "      <th>Clarke</th>\n",
       "      <td>80</td>\n",
       "      <td>85</td>\n",
       "      <td>120</td>\n",
       "      <td>130</td>\n",
       "    </tr>\n",
       "    <tr>\n",
       "      <th>Bruce</th>\n",
       "      <td>155</td>\n",
       "      <td>160</td>\n",
       "      <td>165</td>\n",
       "      <td>170</td>\n",
       "    </tr>\n",
       "    <tr>\n",
       "      <th>Tony</th>\n",
       "      <td>200</td>\n",
       "      <td>245</td>\n",
       "      <td>250</td>\n",
       "      <td>260</td>\n",
       "    </tr>\n",
       "  </tbody>\n",
       "</table>\n",
       "</div>"
      ],
      "text/plain": [
       "        Jan  Feb  Mar  Apr\n",
       "Peter    40   40   75   95\n",
       "Clarke   80   85  120  130\n",
       "Bruce   155  160  165  170\n",
       "Tony    200  245  250  260"
      ]
     },
     "execution_count": 75,
     "metadata": {},
     "output_type": "execute_result"
    }
   ],
   "source": [
    "df.drop('Dec', axis = 1, inplace = True)\n",
    "df"
   ]
  },
  {
   "cell_type": "markdown",
   "metadata": {
    "nbpresent": {
     "id": "ceb4f5ac-1db7-4038-a682-56f312a0f468"
    }
   },
   "source": [
    "And just for the sake of completion, let's temporarily kick out Tony from the table. Temporary, since it's not `inplace`."
   ]
  },
  {
   "cell_type": "code",
   "execution_count": 76,
   "metadata": {
    "ExecuteTime": {
     "end_time": "2019-03-01T02:03:54.403314Z",
     "start_time": "2019-03-01T02:03:54.394282Z"
    },
    "nbpresent": {
     "id": "4d5596ac-2fd9-4162-9fcf-231d9de18fe8"
    }
   },
   "outputs": [
    {
     "data": {
      "text/html": [
       "<div>\n",
       "<style scoped>\n",
       "    .dataframe tbody tr th:only-of-type {\n",
       "        vertical-align: middle;\n",
       "    }\n",
       "\n",
       "    .dataframe tbody tr th {\n",
       "        vertical-align: top;\n",
       "    }\n",
       "\n",
       "    .dataframe thead th {\n",
       "        text-align: right;\n",
       "    }\n",
       "</style>\n",
       "<table border=\"1\" class=\"dataframe\">\n",
       "  <thead>\n",
       "    <tr style=\"text-align: right;\">\n",
       "      <th></th>\n",
       "      <th>Jan</th>\n",
       "      <th>Feb</th>\n",
       "      <th>Mar</th>\n",
       "      <th>Apr</th>\n",
       "    </tr>\n",
       "  </thead>\n",
       "  <tbody>\n",
       "    <tr>\n",
       "      <th>Peter</th>\n",
       "      <td>40</td>\n",
       "      <td>40</td>\n",
       "      <td>75</td>\n",
       "      <td>95</td>\n",
       "    </tr>\n",
       "    <tr>\n",
       "      <th>Clarke</th>\n",
       "      <td>80</td>\n",
       "      <td>85</td>\n",
       "      <td>120</td>\n",
       "      <td>130</td>\n",
       "    </tr>\n",
       "    <tr>\n",
       "      <th>Bruce</th>\n",
       "      <td>155</td>\n",
       "      <td>160</td>\n",
       "      <td>165</td>\n",
       "      <td>170</td>\n",
       "    </tr>\n",
       "  </tbody>\n",
       "</table>\n",
       "</div>"
      ],
      "text/plain": [
       "        Jan  Feb  Mar  Apr\n",
       "Peter    40   40   75   95\n",
       "Clarke   80   85  120  130\n",
       "Bruce   155  160  165  170"
      ]
     },
     "execution_count": 76,
     "metadata": {},
     "output_type": "execute_result"
    }
   ],
   "source": [
    "df.drop('Tony', axis = 0)"
   ]
  },
  {
   "cell_type": "code",
   "execution_count": 77,
   "metadata": {
    "ExecuteTime": {
     "end_time": "2019-03-01T02:04:01.157664Z",
     "start_time": "2019-03-01T02:04:01.148804Z"
    },
    "nbpresent": {
     "id": "94fc4310-7648-49a0-b495-c8efbfb4ebdb"
    },
    "scrolled": true
   },
   "outputs": [
    {
     "data": {
      "text/html": [
       "<div>\n",
       "<style scoped>\n",
       "    .dataframe tbody tr th:only-of-type {\n",
       "        vertical-align: middle;\n",
       "    }\n",
       "\n",
       "    .dataframe tbody tr th {\n",
       "        vertical-align: top;\n",
       "    }\n",
       "\n",
       "    .dataframe thead th {\n",
       "        text-align: right;\n",
       "    }\n",
       "</style>\n",
       "<table border=\"1\" class=\"dataframe\">\n",
       "  <thead>\n",
       "    <tr style=\"text-align: right;\">\n",
       "      <th></th>\n",
       "      <th>January</th>\n",
       "      <th>Feb</th>\n",
       "      <th>Mar</th>\n",
       "      <th>Apr</th>\n",
       "    </tr>\n",
       "  </thead>\n",
       "  <tbody>\n",
       "    <tr>\n",
       "      <th>Peter</th>\n",
       "      <td>40</td>\n",
       "      <td>40</td>\n",
       "      <td>75</td>\n",
       "      <td>95</td>\n",
       "    </tr>\n",
       "    <tr>\n",
       "      <th>Clarke</th>\n",
       "      <td>80</td>\n",
       "      <td>85</td>\n",
       "      <td>120</td>\n",
       "      <td>130</td>\n",
       "    </tr>\n",
       "    <tr>\n",
       "      <th>Bruce</th>\n",
       "      <td>155</td>\n",
       "      <td>160</td>\n",
       "      <td>165</td>\n",
       "      <td>170</td>\n",
       "    </tr>\n",
       "    <tr>\n",
       "      <th>Tony</th>\n",
       "      <td>200</td>\n",
       "      <td>245</td>\n",
       "      <td>250</td>\n",
       "      <td>260</td>\n",
       "    </tr>\n",
       "  </tbody>\n",
       "</table>\n",
       "</div>"
      ],
      "text/plain": [
       "        January  Feb  Mar  Apr\n",
       "Peter        40   40   75   95\n",
       "Clarke       80   85  120  130\n",
       "Bruce       155  160  165  170\n",
       "Tony        200  245  250  260"
      ]
     },
     "execution_count": 77,
     "metadata": {},
     "output_type": "execute_result"
    }
   ],
   "source": [
    "# Renaming Columns\n",
    "df.rename(columns={'Jan': 'January'}, inplace=True)\n",
    "df"
   ]
  },
  {
   "cell_type": "code",
   "execution_count": 78,
   "metadata": {
    "ExecuteTime": {
     "end_time": "2019-03-01T02:04:24.293881Z",
     "start_time": "2019-03-01T02:04:24.283465Z"
    },
    "nbpresent": {
     "id": "4f0059c2-d133-4eee-b6ef-93b48e6b3423"
    }
   },
   "outputs": [
    {
     "data": {
      "text/html": [
       "<div>\n",
       "<style scoped>\n",
       "    .dataframe tbody tr th:only-of-type {\n",
       "        vertical-align: middle;\n",
       "    }\n",
       "\n",
       "    .dataframe tbody tr th {\n",
       "        vertical-align: top;\n",
       "    }\n",
       "\n",
       "    .dataframe thead th {\n",
       "        text-align: right;\n",
       "    }\n",
       "</style>\n",
       "<table border=\"1\" class=\"dataframe\">\n",
       "  <thead>\n",
       "    <tr style=\"text-align: right;\">\n",
       "      <th></th>\n",
       "      <th>January</th>\n",
       "      <th>February</th>\n",
       "      <th>March</th>\n",
       "      <th>April</th>\n",
       "    </tr>\n",
       "  </thead>\n",
       "  <tbody>\n",
       "    <tr>\n",
       "      <th>Peter</th>\n",
       "      <td>40</td>\n",
       "      <td>40</td>\n",
       "      <td>75</td>\n",
       "      <td>95</td>\n",
       "    </tr>\n",
       "    <tr>\n",
       "      <th>Clarke</th>\n",
       "      <td>80</td>\n",
       "      <td>85</td>\n",
       "      <td>120</td>\n",
       "      <td>130</td>\n",
       "    </tr>\n",
       "    <tr>\n",
       "      <th>Bruce</th>\n",
       "      <td>155</td>\n",
       "      <td>160</td>\n",
       "      <td>165</td>\n",
       "      <td>170</td>\n",
       "    </tr>\n",
       "    <tr>\n",
       "      <th>Tony</th>\n",
       "      <td>200</td>\n",
       "      <td>245</td>\n",
       "      <td>250</td>\n",
       "      <td>260</td>\n",
       "    </tr>\n",
       "  </tbody>\n",
       "</table>\n",
       "</div>"
      ],
      "text/plain": [
       "        January  February  March  April\n",
       "Peter        40        40     75     95\n",
       "Clarke       80        85    120    130\n",
       "Bruce       155       160    165    170\n",
       "Tony        200       245    250    260"
      ]
     },
     "execution_count": 78,
     "metadata": {},
     "output_type": "execute_result"
    }
   ],
   "source": [
    "df.rename(columns={'Feb': 'February', 'Mar': 'March', 'Apr': 'April'}, inplace=True)\n",
    "df"
   ]
  },
  {
   "cell_type": "markdown",
   "metadata": {
    "nbpresent": {
     "id": "18912969-322d-4ad3-b70b-743b3dfb6c53"
    }
   },
   "source": [
    "## Dataframe from a Dictionry\n",
    "\n",
    "Let's create a new dataframe from a dictionary, and then apply some of the selection techniques we just learnt."
   ]
  },
  {
   "cell_type": "code",
   "execution_count": null,
   "metadata": {
    "nbpresent": {
     "id": "9dccca1b-019f-4f92-9e47-c00703b69b9c"
    }
   },
   "outputs": [],
   "source": [
    "dict1 = {'first_name': ['Erlich', 'Richard', \"Dinesh\", 'Gilfoyle', 'Nelson'],\n",
    "         'second_name': ['Bachman', 'Hendricks', np.nan, np.nan, 'Bighetti'],\n",
    "        'occupation': ['Investor', 'Entrepreneur', 'Coder', 'Coder', 'Bench Warmer'],\n",
    "        'age': [40, 30, 28, 29, 28]}\n",
    "df = pd.DataFrame(dict1, columns = ['first_name', 'second_name','occupation', 'age'])\n",
    "df"
   ]
  },
  {
   "cell_type": "code",
   "execution_count": null,
   "metadata": {
    "nbpresent": {
     "id": "aa8b2bba-22ad-4ecf-b825-412762f0ad30"
    }
   },
   "outputs": [],
   "source": [
    "# Who is under 30 years of age?\n",
    "df[df[\"age\"]<30]"
   ]
  },
  {
   "cell_type": "code",
   "execution_count": null,
   "metadata": {
    "nbpresent": {
     "id": "fb2b081c-45fa-400b-8613-045f1e1e73d9"
    }
   },
   "outputs": [],
   "source": [
    "# Who are the coders?\n",
    "df[df[\"occupation\"] == \"Coder\"]"
   ]
  },
  {
   "cell_type": "code",
   "execution_count": null,
   "metadata": {
    "nbpresent": {
     "id": "e33e650c-e343-4769-a15e-6b70cff9ed32"
    }
   },
   "outputs": [],
   "source": [
    "# Multiple Conditions : Coders, below 30\n",
    "# Not that conditions are Booleans, as shown below\n",
    "coders = df[\"occupation\"] == \"Coder\"\n",
    "und_30 = df[\"age\"]<30\n",
    "df[coders & und_30]"
   ]
  },
  {
   "cell_type": "code",
   "execution_count": null,
   "metadata": {
    "nbpresent": {
     "id": "6d4343d4-2619-4cc6-b577-684bc1fe4014"
    }
   },
   "outputs": [],
   "source": [
    "df[df[\"second_name\"].notnull()]"
   ]
  },
  {
   "cell_type": "markdown",
   "metadata": {
    "nbpresent": {
     "id": "dd25fd3f-44ce-4037-840c-86fdf96a4aaf"
    }
   },
   "source": [
    "## Exercise"
   ]
  },
  {
   "cell_type": "code",
   "execution_count": null,
   "metadata": {
    "nbpresent": {
     "id": "c14c3399-d9b0-4600-a63d-ac66efe9b74b"
    },
    "scrolled": true
   },
   "outputs": [],
   "source": [
    "np.random.seed(42)\n",
    "np.random.randn(4,4)"
   ]
  },
  {
   "cell_type": "code",
   "execution_count": null,
   "metadata": {
    "nbpresent": {
     "id": "e480ed11-1409-40e7-a620-f2d5c5fd4ced"
    }
   },
   "outputs": [],
   "source": [
    "np.random.seed(42)\n",
    "df = pd.DataFrame(np.random.randn(4,4), index = \"Peter,Clarke,Bruce,Tony\".split(\",\"), columns = \"Jan,Feb,Mar,Apr\".split(\",\"))\n",
    "df"
   ]
  },
  {
   "cell_type": "code",
   "execution_count": null,
   "metadata": {
    "nbpresent": {
     "id": "a2690ea0-c771-4922-9a7b-16b2045e4a22"
    }
   },
   "outputs": [],
   "source": [
    "# Who scored greater than 0 in Apr?\n",
    "df[df>0][[\"Apr\"]]"
   ]
  },
  {
   "cell_type": "code",
   "execution_count": null,
   "metadata": {
    "collapsed": true,
    "nbpresent": {
     "id": "1aceb83c-24da-420a-a7d1-be678130ca99"
    }
   },
   "outputs": [],
   "source": [
    "# Who scored below 0 in March?\n"
   ]
  },
  {
   "cell_type": "code",
   "execution_count": null,
   "metadata": {
    "collapsed": true,
    "nbpresent": {
     "id": "2af0b6ac-0bac-4921-afd2-7b079d30f1cd"
    }
   },
   "outputs": [],
   "source": [
    "# In which month/months did Clarke score above 0?\n"
   ]
  },
  {
   "cell_type": "code",
   "execution_count": null,
   "metadata": {
    "collapsed": true,
    "nbpresent": {
     "id": "089db10e-2db4-4205-81ae-15b50d4f8867"
    }
   },
   "outputs": [],
   "source": [
    "# Find the highest scores for each month \n",
    "# Hint: .max()\n"
   ]
  },
  {
   "cell_type": "code",
   "execution_count": null,
   "metadata": {
    "collapsed": true,
    "nbpresent": {
     "id": "c1f8d6db-992c-4d38-b764-35433e00942e"
    }
   },
   "outputs": [],
   "source": [
    "# Find the lowest scores for each month\n"
   ]
  },
  {
   "cell_type": "code",
   "execution_count": null,
   "metadata": {
    "collapsed": true,
    "nbpresent": {
     "id": "4de06592-8a53-4939-8858-c3418932d319"
    }
   },
   "outputs": [],
   "source": [
    "# Plot the higest score for each month in a bar graph\n"
   ]
  },
  {
   "cell_type": "markdown",
   "metadata": {
    "nbpresent": {
     "id": "603c388b-bc15-4c56-9d07-b2f47660ddf7"
    }
   },
   "source": [
    "# Handling Missing Data"
   ]
  },
  {
   "cell_type": "markdown",
   "metadata": {
    "nbpresent": {
     "id": "e69c5511-2b15-436a-8685-23147a7bbc3e"
    }
   },
   "source": [
    "Pay special attention to this section. If needed, spend some extra time to cover all the relevant techniques. <br>\n",
    "Never in my experience have I come across a 100% clean data set \"in the wild\". What that means is that of course you will find that most data sets that you train with to be complete, but real world data is messy and incomplete. \n",
    "Even when working with high quality, financial data from exchanges, they might often have missing data points. The less said about unstructured data like text, the better. \n",
    "\n",
    "**TL/DR**: If you're going to fight Mike Tyson, don't train to fight Mr Bean.\n",
    "<img src=\"images/bean_box.jpg\">"
   ]
  },
  {
   "cell_type": "markdown",
   "metadata": {
    "nbpresent": {
     "id": "17e14165-cd17-4211-96ba-515593a8656f"
    }
   },
   "source": [
    "### What is Missing Data?\n",
    "Data can be missing because:\n",
    "* It was never captured\n",
    "* The data does not exist\n",
    "* It was captured but got corrupted\n",
    "\n",
    "In Pandas, missing data will be represented as `None` or `NaN`."
   ]
  },
  {
   "cell_type": "code",
   "execution_count": null,
   "metadata": {
    "nbpresent": {
     "id": "f6df925b-1bbb-4a86-8545-0d9486ff7558"
    }
   },
   "outputs": [],
   "source": [
    "df = pd.DataFrame({'NYC':[3,np.nan,7,9,6],\n",
    "                  'SF':[4,3,8,7,15],\n",
    "                  'CHI':[4,np.nan,np.nan,14,6],\n",
    "                  'MIA':[3, 9,12,8,9]}, index = ['Mon','Tue','Wed','Thu','Fri'])\n",
    "df"
   ]
  },
  {
   "cell_type": "markdown",
   "metadata": {
    "nbpresent": {
     "id": "7a064d90-951c-43f4-88f5-ec11e2b490da"
    }
   },
   "source": [
    "First thing we can do is drop rows with missing values with the `dropna()` function. By default, rows are dropped, but you can change this to columns as well."
   ]
  },
  {
   "cell_type": "code",
   "execution_count": null,
   "metadata": {
    "nbpresent": {
     "id": "26bc276d-5226-4a3f-9a55-212c4f7b28d9"
    }
   },
   "outputs": [],
   "source": [
    "df.dropna()"
   ]
  },
  {
   "cell_type": "code",
   "execution_count": null,
   "metadata": {
    "nbpresent": {
     "id": "61a2770e-7d51-4045-90c0-dc46a0e00594"
    }
   },
   "outputs": [],
   "source": [
    "df.dropna(axis = 0)"
   ]
  },
  {
   "cell_type": "code",
   "execution_count": null,
   "metadata": {
    "nbpresent": {
     "id": "6a363285-750c-4494-90f4-f485a43d9d09"
    }
   },
   "outputs": [],
   "source": [
    "df.dropna(axis = 1)"
   ]
  },
  {
   "cell_type": "markdown",
   "metadata": {
    "nbpresent": {
     "id": "5b2a66fb-fe90-4844-b3c7-8c81cf07e518"
    }
   },
   "source": [
    "While this can be helpful in some ways, if your dataset is small, you are losing a significant portion of your data.\n",
    "For example, if 100 rows out of 1 million rows have missing data, that's negligible, and can potentially be thrown away. What if you have 10 out of 85 rows with incorrect, unusable or missing data?"
   ]
  },
  {
   "cell_type": "code",
   "execution_count": null,
   "metadata": {
    "collapsed": true,
    "nbpresent": {
     "id": "f88836f9-7b1a-4db6-970b-f8253dc103e7"
    }
   },
   "outputs": [],
   "source": [
    "df2 = df.copy()"
   ]
  },
  {
   "cell_type": "code",
   "execution_count": null,
   "metadata": {},
   "outputs": [],
   "source": [
    "df2"
   ]
  },
  {
   "cell_type": "code",
   "execution_count": null,
   "metadata": {
    "nbpresent": {
     "id": "f58ee987-1e64-44ef-b379-41e8875f6843"
    }
   },
   "outputs": [],
   "source": [
    "df2.mean()"
   ]
  },
  {
   "cell_type": "code",
   "execution_count": null,
   "metadata": {
    "nbpresent": {
     "id": "3e4ed6d6-6d56-4533-9734-3b2810b3fee7"
    }
   },
   "outputs": [],
   "source": [
    "# Are these really the means though?\n",
    "df"
   ]
  },
  {
   "cell_type": "code",
   "execution_count": null,
   "metadata": {
    "nbpresent": {
     "id": "6d520b8e-79df-405f-8e9f-ab0cd0ad4757"
    }
   },
   "outputs": [],
   "source": [
    "mean = df2['SF'].mean()\n",
    "mean"
   ]
  },
  {
   "cell_type": "markdown",
   "metadata": {
    "nbpresent": {
     "id": "68809483-8283-4adb-9454-80f8d16a221c"
    }
   },
   "source": [
    "## Imputation\n",
    "Using the `fillna` function, we can replace missing values. "
   ]
  },
  {
   "cell_type": "code",
   "execution_count": null,
   "metadata": {},
   "outputs": [],
   "source": [
    "df = pd.DataFrame({'NYC':[3,np.nan,7,9,6],\n",
    "                  'SF':[4,3,8,7,15],\n",
    "                  'CHI':[4,np.nan,np.nan,14,6],\n",
    "                  'MIA':[3, 9,12,8,9]}, index = ['Mon','Tue','Wed','Thu','Fri'])\n",
    "df"
   ]
  },
  {
   "cell_type": "code",
   "execution_count": null,
   "metadata": {},
   "outputs": [],
   "source": [
    "df.mean()"
   ]
  },
  {
   "cell_type": "code",
   "execution_count": null,
   "metadata": {
    "nbpresent": {
     "id": "65283336-23e1-4bc8-a47f-bdf6c3193c67"
    }
   },
   "outputs": [],
   "source": [
    "df.fillna(value = df.mean(), inplace = True)\n",
    "df"
   ]
  },
  {
   "cell_type": "code",
   "execution_count": null,
   "metadata": {},
   "outputs": [],
   "source": [
    "df = pd.DataFrame({'NYC':[3,np.nan,7,9,6],\n",
    "                  'SF':[4,3,8,7,15],\n",
    "                  'CHI':[4,np.nan,np.nan,14,6],\n",
    "                  'MIA':[3, 9,12,8,9]}, index = ['Mon','Tue','Wed','Thu','Fri'])\n",
    "df"
   ]
  },
  {
   "cell_type": "code",
   "execution_count": null,
   "metadata": {
    "nbpresent": {
     "id": "0a47d10a-fb76-47aa-bd3b-22a423cc22dc"
    }
   },
   "outputs": [],
   "source": [
    "df3 = df.copy()\n",
    "df3"
   ]
  },
  {
   "cell_type": "code",
   "execution_count": null,
   "metadata": {
    "nbpresent": {
     "id": "be0de4f1-59c0-4a77-8d3f-fb031e515d2d"
    }
   },
   "outputs": [],
   "source": [
    "median = df3['SF'].median()\n",
    "median"
   ]
  },
  {
   "cell_type": "code",
   "execution_count": null,
   "metadata": {
    "nbpresent": {
     "id": "f8179dc0-d9c5-4672-ac6f-0f85c9b1b208"
    }
   },
   "outputs": [],
   "source": [
    "df3.fillna(value = median, inplace = True)\n",
    "df3"
   ]
  },
  {
   "cell_type": "code",
   "execution_count": null,
   "metadata": {
    "nbpresent": {
     "id": "a17a0a75-444a-45ad-a37c-49d9948b5021"
    }
   },
   "outputs": [],
   "source": [
    "df3.mode()"
   ]
  },
  {
   "cell_type": "markdown",
   "metadata": {
    "nbpresent": {
     "id": "a9b67126-8a45-4283-aa10-487a5b6f0d68"
    }
   },
   "source": [
    "But sometimes, the data isn't part of the table. Consider the scenario below. We know that the below tables contains names of female babies. But it's missing in our dataset. "
   ]
  },
  {
   "cell_type": "code",
   "execution_count": null,
   "metadata": {
    "nbpresent": {
     "id": "cacc51ce-efe1-4581-abe4-5ec41862a8b6"
    }
   },
   "outputs": [],
   "source": [
    "baby_names = {\n",
    "        'id': ['101', '102', '103', '104', '105'],\n",
    "        'first_name': ['Emma', 'Madison', 'Hannah', 'Grace', 'Emily']\n",
    "            }\n",
    "df_baby = pd.DataFrame(baby_names, columns = ['id', 'first_name'])\n",
    "df_baby"
   ]
  },
  {
   "cell_type": "code",
   "execution_count": null,
   "metadata": {
    "nbpresent": {
     "id": "7d7b7d72-b136-4bc4-99b7-c10ba7c1ecf7"
    }
   },
   "outputs": [],
   "source": [
    "df_baby.columns"
   ]
  },
  {
   "cell_type": "code",
   "execution_count": null,
   "metadata": {
    "collapsed": true,
    "nbpresent": {
     "id": "9337bb01-dd31-48ff-8956-67b998a5af2c"
    }
   },
   "outputs": [],
   "source": [
    "df_baby[\"gender\"] = \"F\""
   ]
  },
  {
   "cell_type": "code",
   "execution_count": null,
   "metadata": {
    "nbpresent": {
     "id": "e5128420-525f-4d27-875f-8e1ae04ec8c1"
    }
   },
   "outputs": [],
   "source": [
    "df_baby"
   ]
  },
  {
   "cell_type": "code",
   "execution_count": null,
   "metadata": {
    "collapsed": true,
    "nbpresent": {
     "id": "0fb00da6-48c8-4b64-9b34-6b43889df957"
    }
   },
   "outputs": [],
   "source": [
    "df_baby['gender'] = 0"
   ]
  },
  {
   "cell_type": "code",
   "execution_count": null,
   "metadata": {
    "nbpresent": {
     "id": "0a47d12a-5fbd-4c97-9c2c-63c1ae160c53"
    }
   },
   "outputs": [],
   "source": [
    "df_baby"
   ]
  },
  {
   "cell_type": "markdown",
   "metadata": {
    "nbpresent": {
     "id": "c765f1ed-6b51-4e73-8455-008df053bfa4"
    }
   },
   "source": [
    "## Interpolation\n",
    "Read up more on the `interpolate` function [here](http://pandas.pydata.org/pandas-docs/stable/generated/pandas.Series.interpolate.html) and [here](http://pandas.pydata.org/pandas-docs/version/0.16.2/generated/pandas.DataFrame.interpolate.html)"
   ]
  },
  {
   "cell_type": "code",
   "execution_count": null,
   "metadata": {
    "nbpresent": {
     "id": "8d0b6391-5906-45b4-9e7d-550c3032fd0a"
    }
   },
   "outputs": [],
   "source": [
    "df = pd.read_csv(\"data/cafe_sales2015.csv\")\n",
    "df"
   ]
  },
  {
   "cell_type": "code",
   "execution_count": null,
   "metadata": {
    "nbpresent": {
     "id": "05c975ef-ec96-4bf2-b982-d6dbda7f1349"
    }
   },
   "outputs": [],
   "source": [
    "df[\"Date\"].head()"
   ]
  },
  {
   "cell_type": "code",
   "execution_count": null,
   "metadata": {
    "collapsed": true,
    "nbpresent": {
     "id": "bd96fea2-7bdf-4da6-a774-0637abd569a9"
    }
   },
   "outputs": [],
   "source": [
    "df[\"Date\"] = pd.to_datetime(df[\"Date\"])"
   ]
  },
  {
   "cell_type": "code",
   "execution_count": null,
   "metadata": {
    "collapsed": true,
    "nbpresent": {
     "id": "6293b245-2f1d-4168-972a-7f6f61d7042b"
    }
   },
   "outputs": [],
   "source": [
    "df.set_index([\"Date\"], inplace = True)"
   ]
  },
  {
   "cell_type": "code",
   "execution_count": null,
   "metadata": {
    "nbpresent": {
     "id": "f1ad7fd5-8c58-438c-91f7-e7b22dc2622d"
    }
   },
   "outputs": [],
   "source": [
    "df.head()"
   ]
  },
  {
   "cell_type": "code",
   "execution_count": null,
   "metadata": {
    "nbpresent": {
     "id": "6ca4c4d1-1494-4531-b3dc-9306fe0522f8"
    }
   },
   "outputs": [],
   "source": [
    "df.tail()"
   ]
  },
  {
   "cell_type": "code",
   "execution_count": null,
   "metadata": {
    "nbpresent": {
     "id": "5eb3396f-42bc-4c1c-8ffb-92c6dfcf4a01"
    }
   },
   "outputs": [],
   "source": [
    "df.head(3)"
   ]
  },
  {
   "cell_type": "code",
   "execution_count": null,
   "metadata": {
    "nbpresent": {
     "id": "b4af36dc-c162-41d2-b000-7930b6145361"
    }
   },
   "outputs": [],
   "source": [
    "df.describe()"
   ]
  },
  {
   "cell_type": "code",
   "execution_count": null,
   "metadata": {
    "collapsed": true,
    "nbpresent": {
     "id": "80e0e7c4-8544-4802-8de8-dbc5390285fc"
    }
   },
   "outputs": [],
   "source": [
    "%matplotlib inline\n",
    "import matplotlib.pyplot as plt\n",
    "plt.rcParams[\"figure.figsize\"] = (20,5)"
   ]
  },
  {
   "cell_type": "code",
   "execution_count": null,
   "metadata": {
    "nbpresent": {
     "id": "68291db0-e606-4b1b-9725-5029214f1d15"
    }
   },
   "outputs": [],
   "source": [
    "df.plot(kind=\"line\")"
   ]
  },
  {
   "cell_type": "code",
   "execution_count": null,
   "metadata": {
    "nbpresent": {
     "id": "3ba43a8c-d61c-4c0c-913c-6f3597a7d60a"
    }
   },
   "outputs": [],
   "source": [
    "df[\"Water\"].plot(kind=\"line\")"
   ]
  },
  {
   "cell_type": "code",
   "execution_count": null,
   "metadata": {
    "collapsed": true,
    "nbpresent": {
     "id": "7a906440-187f-4e55-ba7f-4f996f8f1315"
    }
   },
   "outputs": [],
   "source": [
    "df.interpolate(method = \"linear\", inplace = True)"
   ]
  },
  {
   "cell_type": "code",
   "execution_count": null,
   "metadata": {
    "nbpresent": {
     "id": "1793be7f-8f01-403d-ad48-38223d39bc55"
    }
   },
   "outputs": [],
   "source": [
    "df.head(5)"
   ]
  },
  {
   "cell_type": "code",
   "execution_count": null,
   "metadata": {
    "nbpresent": {
     "id": "b41b6870-6dfa-4c00-bf4f-6c18b4046d08"
    }
   },
   "outputs": [],
   "source": [
    "df.interpolate().count()"
   ]
  },
  {
   "cell_type": "code",
   "execution_count": null,
   "metadata": {
    "nbpresent": {
     "id": "26bf5dc5-40d5-43ca-bc77-3e85c119c459"
    }
   },
   "outputs": [],
   "source": [
    "df[[\"Latte\", \"Water\"]].plot(kind=\"line\")"
   ]
  },
  {
   "cell_type": "markdown",
   "metadata": {
    "nbpresent": {
     "id": "30af2416-ff26-4fee-bc24-50b3ba67b6ec"
    }
   },
   "source": [
    "Keep in mind though, that these are at best approximations. "
   ]
  },
  {
   "cell_type": "markdown",
   "metadata": {
    "nbpresent": {
     "id": "9137b465-9664-4d78-b75b-ec6bdd18c96a"
    }
   },
   "source": [
    "## A Quick Detour into some Data Viz\n",
    "Install **Vincent** by running the following line in your command line:\n",
    "\n",
    "Python 2.x: `pip install vincent` <br>\n",
    "Python 3.x: `pip3 install vincent` "
   ]
  },
  {
   "cell_type": "code",
   "execution_count": null,
   "metadata": {
    "nbpresent": {
     "id": "de0947cc-f904-4036-8ac1-70db65a89192"
    }
   },
   "outputs": [],
   "source": [
    "import vincent\n",
    "vincent.core.initialize_notebook()"
   ]
  },
  {
   "cell_type": "code",
   "execution_count": null,
   "metadata": {
    "nbpresent": {
     "id": "b667f3f9-87b5-41c1-b8e0-04181ab8f4d4"
    }
   },
   "outputs": [],
   "source": [
    "line = vincent.Line(df)\n",
    "line.axis_titles(x='Date', y='Amount')"
   ]
  },
  {
   "cell_type": "code",
   "execution_count": null,
   "metadata": {
    "nbpresent": {
     "id": "92bd2340-0541-4c47-afc7-dd03f81e12ab"
    }
   },
   "outputs": [],
   "source": [
    "line = vincent.Line(df[[\"Latte\", \"Water\"]])\n",
    "line.axis_titles(x='Date', y='Amount')"
   ]
  },
  {
   "cell_type": "code",
   "execution_count": null,
   "metadata": {
    "nbpresent": {
     "id": "b6293a65-cc53-4fc5-9e22-d08ada18eff3"
    }
   },
   "outputs": [],
   "source": [
    "stacked = vincent.StackedArea(df)\n",
    "stacked.axis_titles(x='Date', y='Amount')\n",
    "stacked.legend(title='Cafe Sales')\n",
    "stacked.colors(brew='Spectral')"
   ]
  },
  {
   "cell_type": "markdown",
   "metadata": {
    "nbpresent": {
     "id": "f9119326-46ef-4cfe-94c1-ad3a5fdacf2f"
    }
   },
   "source": [
    "Read about using the Vincent package [here](https://vincent.readthedocs.io/en/latest/quickstart.html). \n",
    "\n",
    "The latest update to Matplotlib, V 2.0.0 has really improved the quality of the graphics, but it's still not quite production ready, while on the positive side, it is stable and has a large community of people who use it. Niche packages like Vincent can produce some amazing graphics right out of the box with minimal tweaking, but they may not be very mature. Nevertheless, as Data Scientists, it's good to learn about new packages, especially those that help you communicate your results to a non-technical audience. If people don't understand what you do, they won't think what you do is important!"
   ]
  },
  {
   "cell_type": "markdown",
   "metadata": {
    "collapsed": true,
    "nbpresent": {
     "id": "5328ac3e-2e28-4334-bd78-9ee516a9aec2"
    }
   },
   "source": [
    "# Merge, Join, Concatenate"
   ]
  },
  {
   "cell_type": "markdown",
   "metadata": {
    "nbpresent": {
     "id": "0adc2f67-ce9b-4f5d-80b3-1c8747c0f40d"
    }
   },
   "source": [
    "<img src=\"images/sql-joins.png\">\n",
    "Image Source: http://www.datapine.com/blog/sql-joins-and-data-analysis-using-sql/"
   ]
  },
  {
   "cell_type": "markdown",
   "metadata": {
    "nbpresent": {
     "id": "f5906b7b-4ca6-482a-b555-b061193459fd"
    }
   },
   "source": [
    "## Merge"
   ]
  },
  {
   "cell_type": "code",
   "execution_count": null,
   "metadata": {
    "nbpresent": {
     "id": "13b996a2-1c01-4763-97f6-935e74d27470"
    }
   },
   "outputs": [],
   "source": [
    "customers = {\n",
    "        'customer_id': ['101', '102', '103', '104', '105'],\n",
    "        'first_name': ['Tony', 'Silvio', 'Paulie', 'Corrado', 'Christopher'], \n",
    "        'last_name': ['Soprano', 'Dante', 'Gualtieri', 'Soprano', 'Moltisanti']}\n",
    "df_1 = pd.DataFrame(customers, columns = ['customer_id', 'first_name', 'last_name'])\n",
    "df_1"
   ]
  },
  {
   "cell_type": "code",
   "execution_count": null,
   "metadata": {
    "nbpresent": {
     "id": "0bfdaf14-270c-470d-9866-b111d6d4427a"
    }
   },
   "outputs": [],
   "source": [
    "orders = {\n",
    "        'customer_id': ['101', '104', '105', '108', '111'],\n",
    "        'order_date': ['2015-01-01', '2015-01-08', '2015-01-19', '2015-02-10', '2015-02-11'], \n",
    "        'order_value': ['10000', '25000', '1100', '5000', '4400']}\n",
    "df_2 = pd.DataFrame(orders, columns = ['customer_id', 'order_date', 'order_value'])\n",
    "df_2"
   ]
  },
  {
   "cell_type": "code",
   "execution_count": null,
   "metadata": {
    "nbpresent": {
     "id": "1d604624-7c4b-4849-81fd-362f0a0c09d9"
    }
   },
   "outputs": [],
   "source": [
    "pd.merge(df_1, df_2, how = 'inner', on = 'customer_id')"
   ]
  },
  {
   "cell_type": "code",
   "execution_count": null,
   "metadata": {
    "nbpresent": {
     "id": "2b5df7e8-ca3d-4030-aa1e-291d60c1e0dd"
    }
   },
   "outputs": [],
   "source": [
    "pd.merge(df_1, df_2, how = 'left', on = 'customer_id')"
   ]
  },
  {
   "cell_type": "code",
   "execution_count": null,
   "metadata": {
    "nbpresent": {
     "id": "ff694813-65c7-4eff-a864-130f0e020061"
    }
   },
   "outputs": [],
   "source": [
    "pd.merge(df_1, df_2, how = 'right', on = 'customer_id')"
   ]
  },
  {
   "cell_type": "code",
   "execution_count": null,
   "metadata": {
    "nbpresent": {
     "id": "a02b88c2-54aa-4dfb-9b53-324aaddb6036"
    }
   },
   "outputs": [],
   "source": [
    "pd.merge(df_1, df_2, how = 'outer', on = 'customer_id')"
   ]
  },
  {
   "cell_type": "markdown",
   "metadata": {
    "nbpresent": {
     "id": "dd69cf18-38ef-44c3-9f4e-0bfb06fc4031"
    }
   },
   "source": [
    "## Join"
   ]
  },
  {
   "cell_type": "code",
   "execution_count": null,
   "metadata": {
    "nbpresent": {
     "id": "d603ab57-f091-42fc-8fd4-27488f04ba4b"
    }
   },
   "outputs": [],
   "source": [
    "customers = {\n",
    "        'customer_id': ['101', '102', '103', '104', '105'],\n",
    "        'first_name': ['Tony', 'Silvio', 'Paulie', 'Corrado', 'Christopher'], \n",
    "        'last_name': ['Soprano', 'Dante', 'Gualtieri', 'Soprano', 'Moltisanti']}\n",
    "customers"
   ]
  },
  {
   "cell_type": "code",
   "execution_count": null,
   "metadata": {
    "nbpresent": {
     "id": "28826fda-a72a-4832-976f-a56c15d23dc3"
    }
   },
   "outputs": [],
   "source": [
    "orders = {\n",
    "        'customer_id': ['101', '104', '105', '108', '111'],\n",
    "        'order_date': ['2015-01-01', '2015-01-08', '2015-01-19', '2015-02-10', '2015-02-11'], \n",
    "        'order_value': ['10000', '25000', '1100', '5000', '4400']}\n",
    "orders"
   ]
  },
  {
   "cell_type": "code",
   "execution_count": null,
   "metadata": {
    "collapsed": true,
    "nbpresent": {
     "id": "98fa3ead-f245-4c96-8614-c7821b6a93c6"
    }
   },
   "outputs": [],
   "source": [
    "df1_new = pd.DataFrame.from_dict(customers, orient='columns', dtype=None)"
   ]
  },
  {
   "cell_type": "code",
   "execution_count": null,
   "metadata": {
    "nbpresent": {
     "id": "cd08b652-0c31-4438-ad4d-7f970a6e7331"
    }
   },
   "outputs": [],
   "source": [
    "df1_new"
   ]
  },
  {
   "cell_type": "code",
   "execution_count": null,
   "metadata": {
    "nbpresent": {
     "id": "d4a69ef8-bf52-4e89-81d9-7e7815f72e8b"
    }
   },
   "outputs": [],
   "source": [
    "df1_new = df1_new.set_index('customer_id')\n",
    "df1_new"
   ]
  },
  {
   "cell_type": "code",
   "execution_count": null,
   "metadata": {
    "nbpresent": {
     "id": "66c560d5-0f8d-417e-9112-a27857eb7e6e"
    }
   },
   "outputs": [],
   "source": [
    "df2_new = pd.DataFrame.from_dict(orders, orient='columns', dtype=None)\n",
    "df2_new"
   ]
  },
  {
   "cell_type": "code",
   "execution_count": null,
   "metadata": {
    "nbpresent": {
     "id": "f0cd7fa7-ba63-43f7-b369-e1f7ba3663de"
    }
   },
   "outputs": [],
   "source": [
    "df2_new = df2_new.set_index('customer_id')\n",
    "df2_new"
   ]
  },
  {
   "cell_type": "code",
   "execution_count": null,
   "metadata": {
    "nbpresent": {
     "id": "96b15bbc-03c9-4371-9165-317fd39057bd"
    }
   },
   "outputs": [],
   "source": [
    "df1_new.join(df2_new,how = \"inner\")"
   ]
  },
  {
   "cell_type": "code",
   "execution_count": null,
   "metadata": {
    "nbpresent": {
     "id": "bd75ad63-f4ab-4588-b566-bcd9f8e7d3d7"
    }
   },
   "outputs": [],
   "source": [
    "df1_new.join(df2_new,how = \"outer\")"
   ]
  },
  {
   "cell_type": "code",
   "execution_count": null,
   "metadata": {
    "nbpresent": {
     "id": "7ad00214-dd63-45a4-b14f-6abc09cb9551"
    }
   },
   "outputs": [],
   "source": [
    "df1_new.join(df2_new,how = \"left\")"
   ]
  },
  {
   "cell_type": "code",
   "execution_count": null,
   "metadata": {
    "nbpresent": {
     "id": "d2e2bccc-dcdc-4390-acab-a005db08d47b"
    }
   },
   "outputs": [],
   "source": [
    "df1_new.join(df2_new,how = \"right\")"
   ]
  },
  {
   "cell_type": "code",
   "execution_count": null,
   "metadata": {
    "nbpresent": {
     "id": "f6813dd4-a45a-4226-aa4a-e102920fe1f2"
    }
   },
   "outputs": [],
   "source": [
    "# Alternate Way : I don't recommend this\n",
    "df_1.join(df_2, on = \"customer_id\", lsuffix='_l', rsuffix='_r')"
   ]
  },
  {
   "cell_type": "markdown",
   "metadata": {
    "nbpresent": {
     "id": "c8632aac-740c-42ee-a706-402750d71f26"
    }
   },
   "source": [
    "## Concatenate"
   ]
  },
  {
   "cell_type": "code",
   "execution_count": null,
   "metadata": {},
   "outputs": [],
   "source": [
    "customers = {\n",
    "        'customer_id': ['101', '102', '103', '104', '105'],\n",
    "        'first_name': ['Tony', 'Silvio', 'Paulie', 'Corrado', 'Christopher'], \n",
    "        'last_name': ['Soprano', 'Dante', 'Gualtieri', 'Soprano', 'Moltisanti']}\n",
    "df_1 = pd.DataFrame(customers, columns = ['customer_id', 'first_name', 'last_name'])\n",
    "df_1"
   ]
  },
  {
   "cell_type": "code",
   "execution_count": null,
   "metadata": {},
   "outputs": [],
   "source": [
    "orders = {\n",
    "        'customer_id': ['101', '104', '105', '108', '111'],\n",
    "        'order_date': ['2015-01-01', '2015-01-08', '2015-01-19', '2015-02-10', '2015-02-11'], \n",
    "        'order_value': ['10000', '25000', '1100', '5000', '4400']}\n",
    "df_2 = pd.DataFrame(orders, columns = ['customer_id', 'order_date', 'order_value'])\n",
    "df_2"
   ]
  },
  {
   "cell_type": "code",
   "execution_count": null,
   "metadata": {
    "nbpresent": {
     "id": "254e9665-6b3b-418c-8e21-c13b308847be"
    },
    "scrolled": true
   },
   "outputs": [],
   "source": [
    "pd.concat([df_1,df_2])"
   ]
  },
  {
   "cell_type": "code",
   "execution_count": null,
   "metadata": {},
   "outputs": [],
   "source": [
    "pd.concat([df_1,df_2],axis=0)"
   ]
  },
  {
   "cell_type": "code",
   "execution_count": null,
   "metadata": {},
   "outputs": [],
   "source": [
    "pd.concat([df_1,df_2],axis=1)"
   ]
  },
  {
   "cell_type": "markdown",
   "metadata": {},
   "source": [
    "One final resource on why you would want to perform these operations in Pandas - and evidence on how fast it really is! http://wesmckinney.com/blog/high-performance-database-joins-with-pandas-dataframe-more-benchmarks/"
   ]
  },
  {
   "cell_type": "markdown",
   "metadata": {
    "nbpresent": {
     "id": "c2619df9-2b21-4b11-b98b-025a2df0c592"
    }
   },
   "source": [
    "# Grouping, a.k.a. split-apply-combine\n",
    "While analysing data, a Data Scientist has to very often perform aggregations, perform transformation ops like standardising data, and filter through the dataset to look at only relevant samples.\n",
    "\n",
    "This is what the `groupby` function is primarily used for. \n",
    "Read more [here](http://pandas.pydata.org/pandas-docs/stable/groupby.html#groupby)."
   ]
  },
  {
   "cell_type": "code",
   "execution_count": null,
   "metadata": {
    "collapsed": true
   },
   "outputs": [],
   "source": [
    "import pandas as pd\n",
    "import numpy as np\n",
    "%matplotlib inline\n",
    "import matplotlib.pyplot as plt\n",
    "import seaborn as sns\n",
    "plt.rcParams[\"figure.figsize\"] = (15,7) "
   ]
  },
  {
   "cell_type": "code",
   "execution_count": null,
   "metadata": {
    "ExecuteTime": {
     "end_time": "2017-02-26T14:48:37.470962",
     "start_time": "2017-02-26T14:48:37.205305"
    },
    "nbpresent": {
     "id": "62f418b2-f058-4d60-afda-dd4f9ba7f92f"
    }
   },
   "outputs": [],
   "source": [
    "paintball = {'Team': ['Super Ducks','Super Ducks', 'Super Ducks', 'Super Ducks', 'Super Ducks', 'Bobcats', 'Bobcats', 'Bobcats', 'Bobcats', 'Tigers', 'Tigers', 'Tigers', 'Tigers','Tigers','Tigers'], \n",
    "        'Name': ['Tony', 'Antonio', 'Felipe', 'Ryan', 'Mario', 'Sergio', 'Tanaka', 'Anderson', 'Joe', 'Floyd', 'Manny', 'Chris', 'Junior', 'George','Brock'],\n",
    "        'Kills': ['1', '1', '1', '4', '3', '2', '2', '2','5', '1', '1', '7', '4','8','5'],    \n",
    "        'Shots Fired Before': [17, 19, 22, 8, 13, 85, 64, 49, 74, 14, 20, 24,13,31,37],\n",
    "        'Shots Fired After': [41, 73, 57, 30, 74, 37, 28, 40, 43, 18, 19, 21,13,32,39]}\n",
    "df = pd.DataFrame(paintball, columns = ['Team', 'Name', 'Shots Fired Before', 'Shots Fired After','Kills'])\n",
    "df"
   ]
  },
  {
   "cell_type": "code",
   "execution_count": null,
   "metadata": {
    "ExecuteTime": {
     "end_time": "2017-02-26T14:48:40.075726",
     "start_time": "2017-02-26T14:48:39.843762"
    },
    "nbpresent": {
     "id": "3d4b6d9f-61a5-4f31-adcd-db9380e6ed40"
    }
   },
   "outputs": [],
   "source": [
    "df.groupby('Team').mean()"
   ]
  },
  {
   "cell_type": "code",
   "execution_count": null,
   "metadata": {
    "ExecuteTime": {
     "end_time": "2017-02-26T14:48:42.502605",
     "start_time": "2017-02-26T14:48:42.441746"
    },
    "nbpresent": {
     "id": "03371795-e0dd-44b1-b0a3-35b86bc81cfd"
    }
   },
   "outputs": [],
   "source": [
    "byteam = df.groupby('Team')\n",
    "byteam.count()"
   ]
  },
  {
   "cell_type": "code",
   "execution_count": null,
   "metadata": {
    "ExecuteTime": {
     "end_time": "2017-02-26T14:48:45.334314",
     "start_time": "2017-02-26T14:48:44.865263"
    },
    "nbpresent": {
     "id": "ec9ef177-006f-4557-9ed3-663dc31e3c66"
    }
   },
   "outputs": [],
   "source": [
    "byteam.describe()"
   ]
  },
  {
   "cell_type": "code",
   "execution_count": null,
   "metadata": {
    "ExecuteTime": {
     "end_time": "2017-02-26T14:48:45.601657",
     "start_time": "2017-02-26T14:48:45.488787"
    },
    "nbpresent": {
     "id": "f3a5bbbc-60ce-4212-ac62-97ace4326789"
    }
   },
   "outputs": [],
   "source": [
    "byteam.describe().transpose()['Bobcats']"
   ]
  },
  {
   "cell_type": "code",
   "execution_count": null,
   "metadata": {
    "ExecuteTime": {
     "end_time": "2017-02-26T14:48:45.881426",
     "start_time": "2017-02-26T14:48:45.857383"
    },
    "nbpresent": {
     "id": "a4056cfd-c428-4afb-802d-d88b3df7668f"
    }
   },
   "outputs": [],
   "source": [
    "Team_Before = df[['Shots Fired Before']].groupby(df['Team']).mean()\n",
    "Team_After = df[['Shots Fired After']].groupby(df['Team']).mean()"
   ]
  },
  {
   "cell_type": "code",
   "execution_count": null,
   "metadata": {},
   "outputs": [],
   "source": [
    "Team_Before"
   ]
  },
  {
   "cell_type": "code",
   "execution_count": null,
   "metadata": {},
   "outputs": [],
   "source": [
    "Team_After"
   ]
  },
  {
   "cell_type": "code",
   "execution_count": null,
   "metadata": {
    "scrolled": true
   },
   "outputs": [],
   "source": [
    "Team_Before.join(Team_After)"
   ]
  },
  {
   "cell_type": "code",
   "execution_count": null,
   "metadata": {},
   "outputs": [],
   "source": [
    "plt.style.use('ggplot')\n",
    "plt.rcParams[\"figure.figsize\"] = (15,7) \n",
    "Team_Before.join(Team_After).plot(kind=\"Bar\")"
   ]
  },
  {
   "cell_type": "markdown",
   "metadata": {},
   "source": [
    "Cool graph, but can we improve it, visually speaking? Yes of course we can! Let's look at some of the styles available within Matplotlib."
   ]
  },
  {
   "cell_type": "code",
   "execution_count": null,
   "metadata": {
    "ExecuteTime": {
     "end_time": "2017-02-26T14:23:18.437448",
     "start_time": "2017-02-26T14:23:18.128669"
    },
    "nbpresent": {
     "id": "66484237-8432-42e0-a617-0a9138c0f7cd"
    },
    "scrolled": false
   },
   "outputs": [],
   "source": [
    "plt.style.available"
   ]
  },
  {
   "cell_type": "markdown",
   "metadata": {},
   "source": [
    "Personally I am quite partial to `ggplot` and `seaborn`, but not so much to `fivethirtyeight`. Let's try these."
   ]
  },
  {
   "cell_type": "code",
   "execution_count": null,
   "metadata": {
    "ExecuteTime": {
     "end_time": "2017-02-26T19:45:34.183218",
     "start_time": "2017-02-26T19:45:33.267250"
    },
    "nbpresent": {
     "id": "2e9b10da-21ed-4834-a119-efeec2834aa6"
    }
   },
   "outputs": [],
   "source": [
    "plt.style.use('ggplot')\n",
    "plt.rcParams[\"figure.figsize\"] = (15,7) \n",
    "Team_Before.join(Team_After).plot(kind=\"Bar\")"
   ]
  },
  {
   "cell_type": "markdown",
   "metadata": {},
   "source": [
    "\n",
    "What about `fivethirtyeight`?"
   ]
  },
  {
   "cell_type": "code",
   "execution_count": null,
   "metadata": {
    "ExecuteTime": {
     "end_time": "2017-02-26T19:45:08.227844",
     "start_time": "2017-02-26T19:45:07.649528"
    }
   },
   "outputs": [],
   "source": [
    "plt.style.use('fivethirtyeight')\n",
    "plt.rcParams[\"figure.figsize\"] = (15,7) \n",
    "Team_Before.join(Team_After).plot(kind=\"Bar\")"
   ]
  },
  {
   "cell_type": "markdown",
   "metadata": {},
   "source": [
    "And `seaborn`. Note that `seaborn` is a visualisation library that works with Matplotlib. You can mimic the style without actually using it."
   ]
  },
  {
   "cell_type": "code",
   "execution_count": null,
   "metadata": {
    "ExecuteTime": {
     "end_time": "2017-02-26T19:44:54.545885",
     "start_time": "2017-02-26T19:44:53.278739"
    }
   },
   "outputs": [],
   "source": [
    "plt.style.use('seaborn')\n",
    "plt.rcParams[\"figure.figsize\"] = (15,7) \n",
    "Team_Before.join(Team_After).plot(kind=\"Bar\")"
   ]
  },
  {
   "cell_type": "code",
   "execution_count": null,
   "metadata": {},
   "outputs": [],
   "source": [
    "plt.rcParams.update(plt.rcParamsDefault)\n",
    "plt.style.use('seaborn-poster')\n",
    "plt.rcParams[\"figure.figsize\"] = (15,7) \n",
    "Team_Before.join(Team_After).plot(kind=\"Bar\")"
   ]
  },
  {
   "cell_type": "code",
   "execution_count": null,
   "metadata": {
    "nbpresent": {
     "id": "ee332501-d189-4e68-b951-7db8dba40034"
    }
   },
   "outputs": [],
   "source": [
    "pd.crosstab(df[\"Team\"], df[\"Kills\"], margins = True)"
   ]
  },
  {
   "cell_type": "code",
   "execution_count": null,
   "metadata": {
    "nbpresent": {
     "id": "aec54470-7baf-40c5-b8c1-0b6d641667ac"
    }
   },
   "outputs": [],
   "source": [
    "plt.rcParams.update(plt.rcParamsDefault)\n",
    "%matplotlib inline\n",
    "plt.rcParams[\"figure.figsize\"] = (15,7)\n",
    "plt.style.use('seaborn-deep')\n",
    "df.groupby('Kills').mean().plot(kind=\"bar\")"
   ]
  },
  {
   "cell_type": "markdown",
   "metadata": {
    "nbpresent": {
     "id": "207532ed-708e-4b54-9877-c5731a47a540"
    }
   },
   "source": [
    "## Apply\n",
    "We can use the apply function to perform an operation over an axis in a dataframe."
   ]
  },
  {
   "cell_type": "code",
   "execution_count": null,
   "metadata": {
    "collapsed": true
   },
   "outputs": [],
   "source": [
    "import pandas as pd\n",
    "import numpy as np"
   ]
  },
  {
   "cell_type": "code",
   "execution_count": null,
   "metadata": {
    "nbpresent": {
     "id": "e5365613-4b2f-4f32-8056-bce5f2cea4d5"
    }
   },
   "outputs": [],
   "source": [
    "df = pd.read_csv(\"data/cafe_sales2015.csv\")\n",
    "df.head()"
   ]
  },
  {
   "cell_type": "code",
   "execution_count": null,
   "metadata": {
    "collapsed": true,
    "nbpresent": {
     "id": "88df7871-b7a7-4749-aa97-bb1581aa6b9f"
    }
   },
   "outputs": [],
   "source": [
    "df[\"Date\"] = pd.to_datetime(df[\"Date\"])\n",
    "df.set_index([\"Date\"], inplace = True)\n",
    "df.interpolate(method = \"linear\", inplace = True)"
   ]
  },
  {
   "cell_type": "code",
   "execution_count": null,
   "metadata": {},
   "outputs": [],
   "source": [
    "df.head()"
   ]
  },
  {
   "cell_type": "code",
   "execution_count": null,
   "metadata": {
    "nbpresent": {
     "id": "739b608b-0c34-4bde-b37f-c0fb3b8e8d88"
    }
   },
   "outputs": [],
   "source": [
    "#print(df.apply(np.cumsum))\n",
    "df.apply(np.average)"
   ]
  },
  {
   "cell_type": "code",
   "execution_count": null,
   "metadata": {
    "nbpresent": {
     "id": "14e9efaa-104b-434f-902d-cfccabbe54a3"
    }
   },
   "outputs": [],
   "source": [
    "df.apply(lambda x: x.max() - x.min())"
   ]
  },
  {
   "cell_type": "code",
   "execution_count": null,
   "metadata": {
    "nbpresent": {
     "id": "b0c96794-253d-47e7-a324-ce854f51796f"
    },
    "scrolled": true
   },
   "outputs": [],
   "source": [
    "# What columns have missing values?\n",
    "df.apply(lambda x: sum(x.isnull()),axis=0)"
   ]
  },
  {
   "cell_type": "code",
   "execution_count": null,
   "metadata": {
    "nbpresent": {
     "id": "64038693-d1c7-422d-a3b6-52514889c6a6"
    }
   },
   "outputs": [],
   "source": [
    "# Using Apply to find missing values\n",
    "# Obviously don't do this for datasets with thousands or millions of rows!\n",
    "empty = df.apply(lambda col: pd.isnull(col))\n",
    "empty"
   ]
  },
  {
   "cell_type": "markdown",
   "metadata": {
    "nbpresent": {
     "id": "84653ba0-900b-4611-98bc-51ef45be2dc6"
    }
   },
   "source": [
    "## Map\n",
    "The map function iterates over each element of a series."
   ]
  },
  {
   "cell_type": "code",
   "execution_count": null,
   "metadata": {
    "collapsed": true
   },
   "outputs": [],
   "source": [
    "import pandas as pd\n",
    "import numpy as np"
   ]
  },
  {
   "cell_type": "code",
   "execution_count": null,
   "metadata": {
    "nbpresent": {
     "id": "10ccca49-51de-452a-b78c-046f488e9fa5"
    }
   },
   "outputs": [],
   "source": [
    "df = pd.read_csv(\"data/cafe_sales2015.csv\")\n",
    "df.head()"
   ]
  },
  {
   "cell_type": "code",
   "execution_count": null,
   "metadata": {
    "collapsed": true,
    "nbpresent": {
     "id": "acefb0cb-ac53-41c5-add3-fcc7fa22ca33"
    }
   },
   "outputs": [],
   "source": [
    "df[\"Latte\"] = df[\"Latte\"].map(lambda x: x+2)"
   ]
  },
  {
   "cell_type": "code",
   "execution_count": null,
   "metadata": {
    "nbpresent": {
     "id": "96a217c3-e6cd-46c6-9526-cc046327c636"
    }
   },
   "outputs": [],
   "source": [
    "df.head()"
   ]
  },
  {
   "cell_type": "code",
   "execution_count": null,
   "metadata": {
    "collapsed": true,
    "nbpresent": {
     "id": "d1472b24-e37e-4353-ab5b-166b86f5bf3f"
    }
   },
   "outputs": [],
   "source": [
    "df.interpolate(method = \"linear\", inplace = True)\n",
    "df[\"Water\"] = df[\"Water\"].map(lambda x: x-1 if (x>0) else 0)"
   ]
  },
  {
   "cell_type": "code",
   "execution_count": null,
   "metadata": {
    "nbpresent": {
     "id": "804c38bc-a798-4a3b-b0ff-9ec71cefdb94"
    }
   },
   "outputs": [],
   "source": [
    "df.head()"
   ]
  },
  {
   "cell_type": "markdown",
   "metadata": {
    "nbpresent": {
     "id": "6590b826-8ed5-4f0b-8117-f8437cdd09f4"
    }
   },
   "source": [
    "## ApplyMap"
   ]
  },
  {
   "cell_type": "code",
   "execution_count": null,
   "metadata": {
    "collapsed": true
   },
   "outputs": [],
   "source": [
    "import pandas as pd\n",
    "import numpy as np"
   ]
  },
  {
   "cell_type": "code",
   "execution_count": null,
   "metadata": {},
   "outputs": [],
   "source": [
    "df = pd.read_csv(\"data/cafe_sales2015.csv\")\n",
    "df.head()"
   ]
  },
  {
   "cell_type": "code",
   "execution_count": null,
   "metadata": {
    "collapsed": true,
    "nbpresent": {
     "id": "73c6d9c8-31e5-4c6e-b85f-6849423837c6"
    }
   },
   "outputs": [],
   "source": [
    "def to_int(x):\n",
    "    if type(x) is float:\n",
    "        x = int(x)\n",
    "        return x \n",
    "    else:\n",
    "        return x"
   ]
  },
  {
   "cell_type": "code",
   "execution_count": null,
   "metadata": {
    "nbpresent": {
     "id": "82919e66-546a-41c6-8b12-a9ccb2065172"
    }
   },
   "outputs": [],
   "source": [
    "df.interpolate(method = \"linear\", inplace = True)\n",
    "df.applymap(to_int).head()"
   ]
  },
  {
   "cell_type": "markdown",
   "metadata": {},
   "source": [
    "Further Reading<br>\n",
    "[Wes McKinney's amazing book](http://amzn.to/2n2pH4f) covers this issue. Refer to Page 132.\n"
   ]
  },
  {
   "cell_type": "markdown",
   "metadata": {},
   "source": [
    "# Pivot Tables\n",
    "Pivot tables are summarisation tables that help the user sort, count, total or average the data available in a dataset. If you have used Excel, you will be very familiar with them. If not, let's look at it from a fresh Pandas perspective.\n",
    "\n",
    "Typically, there are four parameters, but you don't always have to specify every one of them, as we will see in the examples below.\n",
    "\n",
    "* `index`: An array of the dataset that will used as indices to our new reshaped and aggregated DataFrame\n",
    "* `columns`: An array of the dataset that will provide columns to the new DataFrame\n",
    "* `values`: These are the values we wish to aggregate in each cell.\n",
    "* `aggfunc`: The function we will use to perform the aggregation\n"
   ]
  },
  {
   "cell_type": "markdown",
   "metadata": {},
   "source": [
    "## Sales Reports"
   ]
  },
  {
   "cell_type": "code",
   "execution_count": null,
   "metadata": {
    "collapsed": true
   },
   "outputs": [],
   "source": [
    "import pandas as pd\n",
    "import numpy as np"
   ]
  },
  {
   "cell_type": "code",
   "execution_count": null,
   "metadata": {},
   "outputs": [],
   "source": [
    "# The 'xlrd' module gets imported automatically, if not, install it with 'pip install xlrd'\n",
    "df = pd.read_excel(\"Data/bev-sales.xlsx\")\n",
    "df.head()"
   ]
  },
  {
   "cell_type": "code",
   "execution_count": null,
   "metadata": {},
   "outputs": [],
   "source": [
    "df.tail()"
   ]
  },
  {
   "cell_type": "code",
   "execution_count": null,
   "metadata": {},
   "outputs": [],
   "source": [
    "df.describe()"
   ]
  },
  {
   "cell_type": "code",
   "execution_count": null,
   "metadata": {},
   "outputs": [],
   "source": [
    "help(pd.pivot_table)"
   ]
  },
  {
   "cell_type": "code",
   "execution_count": null,
   "metadata": {},
   "outputs": [],
   "source": [
    "df.head()"
   ]
  },
  {
   "cell_type": "code",
   "execution_count": null,
   "metadata": {
    "scrolled": false
   },
   "outputs": [],
   "source": [
    "pd.pivot_table(df,index=[\"Sales Exec\"],values=[\"Revenue\"],aggfunc=\"sum\")"
   ]
  },
  {
   "cell_type": "code",
   "execution_count": null,
   "metadata": {
    "collapsed": true
   },
   "outputs": [],
   "source": [
    "%matplotlib inline\n",
    "import matplotlib.pyplot as plt"
   ]
  },
  {
   "cell_type": "code",
   "execution_count": null,
   "metadata": {},
   "outputs": [],
   "source": [
    "pd.pivot_table(df, index=[\"Sales Exec\"],values=[\"Revenue\"],aggfunc=\"sum\").plot(kind=\"bar\")"
   ]
  },
  {
   "cell_type": "code",
   "execution_count": null,
   "metadata": {},
   "outputs": [],
   "source": [
    "pd.pivot_table(df,index=[\"Sales Exec\"],values=[\"Revenue\"],aggfunc=\"mean\")"
   ]
  },
  {
   "cell_type": "code",
   "execution_count": null,
   "metadata": {},
   "outputs": [],
   "source": [
    "pd.pivot_table(df, index=[\"Sales Exec\", \"Item\"], values=[\"Revenue\"], aggfunc=\"sum\")"
   ]
  },
  {
   "cell_type": "code",
   "execution_count": null,
   "metadata": {},
   "outputs": [],
   "source": [
    "pd.pivot_table(df,index=[\"Sales Exec\"],values=[\"Revenue\"],aggfunc=[np.sum])"
   ]
  },
  {
   "cell_type": "code",
   "execution_count": null,
   "metadata": {},
   "outputs": [],
   "source": [
    "pd.pivot_table(df,index=[\"Sales Exec\"],values=[\"Units sold\", \"Revenue\"],aggfunc=[np.sum])"
   ]
  },
  {
   "cell_type": "code",
   "execution_count": null,
   "metadata": {},
   "outputs": [],
   "source": [
    "%matplotlib inline\n",
    "import matplotlib.pyplot as plt\n",
    "plt.style.use('seaborn')\n",
    "plt.rcParams[\"figure.figsize\"] = (15,7)\n",
    "\n",
    "\n",
    "pd.pivot_table(df,index=[\"Sales Exec\", \"Item\"],values=[\"Revenue\"],aggfunc=[np.sum]).plot(kind=\"bar\")\n",
    "plt.title('January Sales Report')"
   ]
  },
  {
   "cell_type": "code",
   "execution_count": null,
   "metadata": {},
   "outputs": [],
   "source": [
    "pd.pivot_table(df,index=[\"Sales Exec\", \"Item\"],values=[\"Units sold\", \"Revenue\"],\n",
    "               columns=[\"Price per Unit\"], aggfunc=\"sum\", margins = True)"
   ]
  },
  {
   "cell_type": "markdown",
   "metadata": {},
   "source": [
    "## Tips"
   ]
  },
  {
   "cell_type": "code",
   "execution_count": null,
   "metadata": {},
   "outputs": [],
   "source": [
    "df = pd.read_csv(\"Data/tips.csv\")\n",
    "df.head()"
   ]
  },
  {
   "cell_type": "code",
   "execution_count": null,
   "metadata": {
    "collapsed": true
   },
   "outputs": [],
   "source": [
    "df[\"tip_pc\"] = df[\"tip\"] / df[\"total_bill\"]"
   ]
  },
  {
   "cell_type": "code",
   "execution_count": null,
   "metadata": {},
   "outputs": [],
   "source": [
    "df.head()"
   ]
  },
  {
   "cell_type": "code",
   "execution_count": null,
   "metadata": {},
   "outputs": [],
   "source": [
    "pd.pivot_table(df,index=[\"sex\"], values = [\"tip_pc\"], aggfunc=\"mean\")"
   ]
  },
  {
   "cell_type": "code",
   "execution_count": null,
   "metadata": {},
   "outputs": [],
   "source": [
    "pd.pivot_table(df, index = [\"smoker\", \"sex\"], values = [\"tip_pc\"], aggfunc = \"mean\")"
   ]
  },
  {
   "cell_type": "code",
   "execution_count": null,
   "metadata": {},
   "outputs": [],
   "source": [
    "pd.pivot_table(df,index=[\"sex\"], values = [\"total_bill\",\"tip\"], aggfunc=\"sum\")"
   ]
  },
  {
   "cell_type": "markdown",
   "metadata": {},
   "source": [
    "## Bada Bing!"
   ]
  },
  {
   "cell_type": "code",
   "execution_count": null,
   "metadata": {
    "collapsed": true
   },
   "outputs": [],
   "source": [
    "import pandas as pd\n",
    "import numpy as np\n",
    "%matplotlib inline\n",
    "import matplotlib.pyplot as plt"
   ]
  },
  {
   "cell_type": "code",
   "execution_count": null,
   "metadata": {},
   "outputs": [],
   "source": [
    "df = pd.read_excel(\"Data/Sopranos/sopranos-killings.xlsx\")\n",
    "df.head()"
   ]
  },
  {
   "cell_type": "code",
   "execution_count": null,
   "metadata": {},
   "outputs": [],
   "source": [
    "pd.pivot_table(df,index=[\"Cause of Death\"],values = [\"Season\"], aggfunc=\"first\")"
   ]
  },
  {
   "cell_type": "code",
   "execution_count": null,
   "metadata": {},
   "outputs": [],
   "source": [
    "pd.pivot_table(df,index=[\"Cause of Death\"],values = [\"Season\"], aggfunc=\"count\", margins=True)"
   ]
  },
  {
   "cell_type": "code",
   "execution_count": null,
   "metadata": {},
   "outputs": [],
   "source": [
    "whacked = pd.pivot_table(df,index=[\"Cause of Death\"],values = [\"Season\"], aggfunc=\"count\")\n",
    "whacked"
   ]
  },
  {
   "cell_type": "code",
   "execution_count": null,
   "metadata": {},
   "outputs": [],
   "source": [
    "plt.style.available"
   ]
  },
  {
   "cell_type": "code",
   "execution_count": null,
   "metadata": {},
   "outputs": [],
   "source": [
    "plt.rcParams.update(plt.rcParamsDefault)\n",
    "%matplotlib inline\n",
    "plt.style.use('seaborn-deep')\n",
    "import matplotlib.pyplot as plt\n",
    "\n",
    "plt.rcParams[\"figure.figsize\"] = (15,7)\n",
    "whacked.plot(kind = \"bar\", legend=None)\n",
    "plt.title('How People Died on The Sopranos')"
   ]
  },
  {
   "cell_type": "code",
   "execution_count": null,
   "metadata": {},
   "outputs": [],
   "source": [
    "with plt.style.context('ggplot', after_reset=True):\n",
    "    %matplotlib inline\n",
    "    import matplotlib.pyplot as plt\n",
    "    plt.rcParams[\"figure.figsize\"] = (15,7)\n",
    "    whacked.plot(kind = \"bar\", legend=None)\n",
    "    plt.title('How People Died on The Sopranos')"
   ]
  },
  {
   "cell_type": "code",
   "execution_count": null,
   "metadata": {
    "collapsed": true
   },
   "outputs": [],
   "source": [
    "killer = pd.pivot_table(df,index=[\"Killer\"],values = [\"Season\"], aggfunc=\"count\")"
   ]
  },
  {
   "cell_type": "code",
   "execution_count": null,
   "metadata": {},
   "outputs": [],
   "source": [
    "killer = killer.sort_values(by=[\"Season\"], ascending = False)\n",
    "killer"
   ]
  },
  {
   "cell_type": "code",
   "execution_count": null,
   "metadata": {},
   "outputs": [],
   "source": [
    "plt.rcParams.update(plt.rcParamsDefault)\n",
    "plt.style.use('ggplot')\n",
    "plt.rcParams[\"figure.figsize\"] = (15,7)\n",
    "\n",
    "killer[:10].plot(kind = \"bar\", legend=None)\n",
    "plt.title('Top 10 Killers')\n"
   ]
  },
  {
   "cell_type": "markdown",
   "metadata": {
    "nbpresent": {
     "id": "bf69e146-2733-4d63-9b0a-2554f9bc8ecc"
    }
   },
   "source": [
    "# Basic Statistical Operations/Explorations"
   ]
  },
  {
   "cell_type": "code",
   "execution_count": 1,
   "metadata": {
    "ExecuteTime": {
     "end_time": "2017-02-27T22:59:21.433681",
     "start_time": "2017-02-27T22:59:16.530467"
    },
    "collapsed": true
   },
   "outputs": [],
   "source": [
    "import pandas as pd\n",
    "import numpy as np"
   ]
  },
  {
   "cell_type": "code",
   "execution_count": 2,
   "metadata": {
    "ExecuteTime": {
     "end_time": "2017-02-27T22:59:21.869310",
     "start_time": "2017-02-27T22:59:21.437886"
    },
    "collapsed": true
   },
   "outputs": [],
   "source": [
    "df = pd.read_csv(\"data/cafe_sales2015.csv\")\n",
    "df[\"Date\"] = pd.to_datetime(df[\"Date\"])\n",
    "df.set_index([\"Date\"], inplace = True)\n",
    "df.interpolate(method = \"linear\", inplace = True)"
   ]
  },
  {
   "cell_type": "code",
   "execution_count": 3,
   "metadata": {
    "ExecuteTime": {
     "end_time": "2017-02-27T22:59:27.771386",
     "start_time": "2017-02-27T22:59:27.684760"
    },
    "nbpresent": {
     "id": "1fdc3e23-5fbd-40c7-82f9-25e6ed4f1fc2"
    }
   },
   "outputs": [
    {
     "data": {
      "text/html": [
       "<div>\n",
       "<table border=\"1\" class=\"dataframe\">\n",
       "  <thead>\n",
       "    <tr style=\"text-align: right;\">\n",
       "      <th></th>\n",
       "      <th>Latte</th>\n",
       "      <th>Cappuccino</th>\n",
       "      <th>Red Bull</th>\n",
       "      <th>Water</th>\n",
       "    </tr>\n",
       "    <tr>\n",
       "      <th>Date</th>\n",
       "      <th></th>\n",
       "      <th></th>\n",
       "      <th></th>\n",
       "      <th></th>\n",
       "    </tr>\n",
       "  </thead>\n",
       "  <tbody>\n",
       "    <tr>\n",
       "      <th>2015-01-01</th>\n",
       "      <td>36.0</td>\n",
       "      <td>50</td>\n",
       "      <td>27.0</td>\n",
       "      <td>14.0</td>\n",
       "    </tr>\n",
       "    <tr>\n",
       "      <th>2015-01-02</th>\n",
       "      <td>53.0</td>\n",
       "      <td>73</td>\n",
       "      <td>0.0</td>\n",
       "      <td>2.0</td>\n",
       "    </tr>\n",
       "    <tr>\n",
       "      <th>2015-01-03</th>\n",
       "      <td>33.0</td>\n",
       "      <td>74</td>\n",
       "      <td>9.0</td>\n",
       "      <td>0.0</td>\n",
       "    </tr>\n",
       "    <tr>\n",
       "      <th>2015-01-04</th>\n",
       "      <td>45.0</td>\n",
       "      <td>42</td>\n",
       "      <td>30.0</td>\n",
       "      <td>24.0</td>\n",
       "    </tr>\n",
       "    <tr>\n",
       "      <th>2015-01-05</th>\n",
       "      <td>96.0</td>\n",
       "      <td>20</td>\n",
       "      <td>33.0</td>\n",
       "      <td>15.0</td>\n",
       "    </tr>\n",
       "  </tbody>\n",
       "</table>\n",
       "</div>"
      ],
      "text/plain": [
       "            Latte  Cappuccino  Red Bull  Water\n",
       "Date                                          \n",
       "2015-01-01   36.0          50      27.0   14.0\n",
       "2015-01-02   53.0          73       0.0    2.0\n",
       "2015-01-03   33.0          74       9.0    0.0\n",
       "2015-01-04   45.0          42      30.0   24.0\n",
       "2015-01-05   96.0          20      33.0   15.0"
      ]
     },
     "execution_count": 3,
     "metadata": {},
     "output_type": "execute_result"
    }
   ],
   "source": [
    "df.head()"
   ]
  },
  {
   "cell_type": "code",
   "execution_count": 4,
   "metadata": {
    "ExecuteTime": {
     "end_time": "2017-02-27T22:59:28.823285",
     "start_time": "2017-02-27T22:59:28.796682"
    },
    "nbpresent": {
     "id": "623ad1be-cee5-4326-9229-3250b5c71712"
    }
   },
   "outputs": [
    {
     "data": {
      "text/html": [
       "<div>\n",
       "<table border=\"1\" class=\"dataframe\">\n",
       "  <thead>\n",
       "    <tr style=\"text-align: right;\">\n",
       "      <th></th>\n",
       "      <th>Latte</th>\n",
       "      <th>Cappuccino</th>\n",
       "      <th>Red Bull</th>\n",
       "      <th>Water</th>\n",
       "    </tr>\n",
       "    <tr>\n",
       "      <th>Date</th>\n",
       "      <th></th>\n",
       "      <th></th>\n",
       "      <th></th>\n",
       "      <th></th>\n",
       "    </tr>\n",
       "  </thead>\n",
       "  <tbody>\n",
       "    <tr>\n",
       "      <th>2015-01-26</th>\n",
       "      <td>73.0</td>\n",
       "      <td>32</td>\n",
       "      <td>20.0</td>\n",
       "      <td>20.0</td>\n",
       "    </tr>\n",
       "    <tr>\n",
       "      <th>2015-01-27</th>\n",
       "      <td>30.0</td>\n",
       "      <td>75</td>\n",
       "      <td>16.0</td>\n",
       "      <td>49.0</td>\n",
       "    </tr>\n",
       "    <tr>\n",
       "      <th>2015-01-28</th>\n",
       "      <td>55.0</td>\n",
       "      <td>82</td>\n",
       "      <td>31.0</td>\n",
       "      <td>40.0</td>\n",
       "    </tr>\n",
       "    <tr>\n",
       "      <th>2015-01-29</th>\n",
       "      <td>37.0</td>\n",
       "      <td>59</td>\n",
       "      <td>50.0</td>\n",
       "      <td>30.0</td>\n",
       "    </tr>\n",
       "    <tr>\n",
       "      <th>2015-01-30</th>\n",
       "      <td>37.0</td>\n",
       "      <td>99</td>\n",
       "      <td>47.0</td>\n",
       "      <td>9.0</td>\n",
       "    </tr>\n",
       "  </tbody>\n",
       "</table>\n",
       "</div>"
      ],
      "text/plain": [
       "            Latte  Cappuccino  Red Bull  Water\n",
       "Date                                          \n",
       "2015-01-26   73.0          32      20.0   20.0\n",
       "2015-01-27   30.0          75      16.0   49.0\n",
       "2015-01-28   55.0          82      31.0   40.0\n",
       "2015-01-29   37.0          59      50.0   30.0\n",
       "2015-01-30   37.0          99      47.0    9.0"
      ]
     },
     "execution_count": 4,
     "metadata": {},
     "output_type": "execute_result"
    }
   ],
   "source": [
    "df.tail()"
   ]
  },
  {
   "cell_type": "code",
   "execution_count": 5,
   "metadata": {
    "ExecuteTime": {
     "end_time": "2017-02-27T22:59:30.916050",
     "start_time": "2017-02-27T22:59:30.824490"
    },
    "nbpresent": {
     "id": "2d36d28f-08c0-4fe1-988b-3407bc991118"
    }
   },
   "outputs": [
    {
     "data": {
      "text/html": [
       "<div>\n",
       "<table border=\"1\" class=\"dataframe\">\n",
       "  <thead>\n",
       "    <tr style=\"text-align: right;\">\n",
       "      <th></th>\n",
       "      <th>Latte</th>\n",
       "      <th>Cappuccino</th>\n",
       "      <th>Red Bull</th>\n",
       "      <th>Water</th>\n",
       "    </tr>\n",
       "  </thead>\n",
       "  <tbody>\n",
       "    <tr>\n",
       "      <th>count</th>\n",
       "      <td>30.000000</td>\n",
       "      <td>30.000000</td>\n",
       "      <td>30.000000</td>\n",
       "      <td>30.000000</td>\n",
       "    </tr>\n",
       "    <tr>\n",
       "      <th>mean</th>\n",
       "      <td>47.800000</td>\n",
       "      <td>56.333333</td>\n",
       "      <td>26.333333</td>\n",
       "      <td>25.366667</td>\n",
       "    </tr>\n",
       "    <tr>\n",
       "      <th>std</th>\n",
       "      <td>26.990931</td>\n",
       "      <td>26.526933</td>\n",
       "      <td>14.816890</td>\n",
       "      <td>16.206072</td>\n",
       "    </tr>\n",
       "    <tr>\n",
       "      <th>min</th>\n",
       "      <td>1.000000</td>\n",
       "      <td>1.000000</td>\n",
       "      <td>0.000000</td>\n",
       "      <td>0.000000</td>\n",
       "    </tr>\n",
       "    <tr>\n",
       "      <th>25%</th>\n",
       "      <td>30.250000</td>\n",
       "      <td>43.500000</td>\n",
       "      <td>16.500000</td>\n",
       "      <td>13.250000</td>\n",
       "    </tr>\n",
       "    <tr>\n",
       "      <th>50%</th>\n",
       "      <td>43.000000</td>\n",
       "      <td>55.000000</td>\n",
       "      <td>27.000000</td>\n",
       "      <td>20.750000</td>\n",
       "    </tr>\n",
       "    <tr>\n",
       "      <th>75%</th>\n",
       "      <td>69.000000</td>\n",
       "      <td>74.750000</td>\n",
       "      <td>37.000000</td>\n",
       "      <td>40.750000</td>\n",
       "    </tr>\n",
       "    <tr>\n",
       "      <th>max</th>\n",
       "      <td>99.000000</td>\n",
       "      <td>99.000000</td>\n",
       "      <td>50.000000</td>\n",
       "      <td>49.000000</td>\n",
       "    </tr>\n",
       "  </tbody>\n",
       "</table>\n",
       "</div>"
      ],
      "text/plain": [
       "           Latte  Cappuccino   Red Bull      Water\n",
       "count  30.000000   30.000000  30.000000  30.000000\n",
       "mean   47.800000   56.333333  26.333333  25.366667\n",
       "std    26.990931   26.526933  14.816890  16.206072\n",
       "min     1.000000    1.000000   0.000000   0.000000\n",
       "25%    30.250000   43.500000  16.500000  13.250000\n",
       "50%    43.000000   55.000000  27.000000  20.750000\n",
       "75%    69.000000   74.750000  37.000000  40.750000\n",
       "max    99.000000   99.000000  50.000000  49.000000"
      ]
     },
     "execution_count": 5,
     "metadata": {},
     "output_type": "execute_result"
    }
   ],
   "source": [
    "df.describe()"
   ]
  },
  {
   "cell_type": "code",
   "execution_count": 6,
   "metadata": {
    "ExecuteTime": {
     "end_time": "2017-02-27T22:59:31.707052",
     "start_time": "2017-02-27T22:59:31.642602"
    },
    "nbpresent": {
     "id": "27ed9613-378c-48c1-89f7-1e8baed9f316"
    }
   },
   "outputs": [
    {
     "name": "stdout",
     "output_type": "stream",
     "text": [
      "Mean\n",
      " Latte         47.800000\n",
      "Cappuccino    56.333333\n",
      "Red Bull      26.333333\n",
      "Water         25.366667\n",
      "dtype: float64\n",
      "\n",
      "\n",
      "Median\n",
      " Latte         43.00\n",
      "Cappuccino    55.00\n",
      "Red Bull      27.00\n",
      "Water         20.75\n",
      "dtype: float64\n",
      "\n",
      "\n",
      "Mode\n",
      "    Latte  Cappuccino  Red Bull  Water\n",
      "0   21.0        50.0      50.0    2.0\n",
      "1   37.0        52.0       NaN   20.0\n",
      "2   73.0        99.0       NaN   39.0\n",
      "3    NaN         NaN       NaN   40.0\n",
      "4    NaN         NaN       NaN   45.0\n",
      "5    NaN         NaN       NaN   46.0\n"
     ]
    }
   ],
   "source": [
    "print(\"Mean\\n\", df.mean())\n",
    "print(\"\\n\\nMedian\\n\", df.median())\n",
    "print(\"\\n\\nMode\\n\", df.mode())"
   ]
  },
  {
   "cell_type": "code",
   "execution_count": 7,
   "metadata": {
    "ExecuteTime": {
     "end_time": "2017-02-27T22:59:36.354295",
     "start_time": "2017-02-27T22:59:36.327661"
    },
    "nbpresent": {
     "id": "49a0c30a-3540-46f4-8668-9f6b76ebe22d"
    }
   },
   "outputs": [
    {
     "name": "stdout",
     "output_type": "stream",
     "text": [
      "The Maximum value is:\n",
      " Latte         99.0\n",
      "Cappuccino    99.0\n",
      "Red Bull      50.0\n",
      "Water         49.0\n",
      "dtype: float64\n",
      "\n",
      "\n",
      "The Minimum value is:\n",
      " Latte         1.0\n",
      "Cappuccino    1.0\n",
      "Red Bull      0.0\n",
      "Water         0.0\n",
      "dtype: float64\n",
      "\n",
      "\n",
      "Kurtosis:\n",
      " Latte        -0.723402\n",
      "Cappuccino   -0.540181\n",
      "Red Bull     -0.844065\n",
      "Water        -1.460348\n",
      "dtype: float64\n"
     ]
    }
   ],
   "source": [
    "print(\"The Maximum value is:\\n\",df.max())\n",
    "print(\"\\n\\nThe Minimum value is:\\n\",df.min())\n",
    "print(\"\\n\\nKurtosis:\\n\",df.kurtosis())"
   ]
  },
  {
   "cell_type": "code",
   "execution_count": null,
   "metadata": {
    "collapsed": true
   },
   "outputs": [],
   "source": []
  }
 ],
 "metadata": {
  "anaconda-cloud": {},
  "kernelspec": {
   "display_name": "Python 3",
   "language": "python",
   "name": "python3"
  },
  "language_info": {
   "codemirror_mode": {
    "name": "ipython",
    "version": 3
   },
   "file_extension": ".py",
   "mimetype": "text/x-python",
   "name": "python",
   "nbconvert_exporter": "python",
   "pygments_lexer": "ipython3",
   "version": "3.7.1"
  },
  "nbpresent": {
   "slides": {
    "01d06bbc-be8b-49a1-818f-0a73f1e84cca": {
     "id": "01d06bbc-be8b-49a1-818f-0a73f1e84cca",
     "prev": "431d60fe-fad3-4efa-b4fa-6ebbb92e6512",
     "regions": {
      "e9eecb58-4cb5-47b4-b8ee-739ced1efb17": {
       "attrs": {
        "height": 0.8,
        "width": 0.8,
        "x": 0.1,
        "y": 0.1
       },
       "content": {
        "cell": "17e14165-cd17-4211-96ba-515593a8656f",
        "part": "whole"
       },
       "id": "e9eecb58-4cb5-47b4-b8ee-739ced1efb17"
      }
     }
    },
    "068726a6-5429-48c5-af26-ebf155d588cb": {
     "id": "068726a6-5429-48c5-af26-ebf155d588cb",
     "prev": "b2e98f9a-afb8-49d4-a5d1-f215d2f04f89",
     "regions": {
      "075e4035-d305-4424-acc3-c4318f85878e": {
       "attrs": {
        "height": 0.8,
        "width": 0.8,
        "x": 0.1,
        "y": 0.1
       },
       "content": {
        "cell": "65283336-23e1-4bc8-a47f-bdf6c3193c67",
        "part": "whole"
       },
       "id": "075e4035-d305-4424-acc3-c4318f85878e"
      }
     }
    },
    "07a48364-d573-497a-bfd0-48ed87c9a491": {
     "id": "07a48364-d573-497a-bfd0-48ed87c9a491",
     "prev": "73dc4203-0d9f-41f7-9ad9-0a90a622238c",
     "regions": {
      "ec3fb853-2e05-4d14-8b4e-e728c108798f": {
       "attrs": {
        "height": 0.8,
        "width": 0.8,
        "x": 0.1,
        "y": 0.1
       },
       "content": {
        "cell": "4d17f54c-9824-4629-8985-05cc409a7b03",
        "part": "whole"
       },
       "id": "ec3fb853-2e05-4d14-8b4e-e728c108798f"
      }
     }
    },
    "08060b46-632f-47fc-915b-4388f4c1ce4d": {
     "id": "08060b46-632f-47fc-915b-4388f4c1ce4d",
     "prev": "69de65fe-eb06-4cdc-9b9f-7b5e436a07b5",
     "regions": {
      "841448e5-1196-41bb-ae12-9bee52a0253e": {
       "attrs": {
        "height": 0.8,
        "width": 0.8,
        "x": 0.1,
        "y": 0.1
       },
       "content": {
        "cell": "7de97fa8-78c0-494f-86ac-41c1d3637919",
        "part": "whole"
       },
       "id": "841448e5-1196-41bb-ae12-9bee52a0253e"
      }
     }
    },
    "0842e37b-4864-42c9-9491-f7e9ed876479": {
     "id": "0842e37b-4864-42c9-9491-f7e9ed876479",
     "prev": "32053d82-3989-4e65-b1ce-9b8cf956f595",
     "regions": {
      "4ef2019b-9662-4d45-b914-be89ac888485": {
       "attrs": {
        "height": 0.8,
        "width": 0.8,
        "x": 0.1,
        "y": 0.1
       },
       "content": {
        "cell": "5f1de393-7b1a-44d2-96d6-c59e20c987b6",
        "part": "whole"
       },
       "id": "4ef2019b-9662-4d45-b914-be89ac888485"
      }
     }
    },
    "08799f5c-0df5-493b-bc80-8d356a09a38e": {
     "id": "08799f5c-0df5-493b-bc80-8d356a09a38e",
     "prev": "9f1d655e-429f-4127-93a4-92f9006b4176",
     "regions": {
      "1ce7f5c9-a65c-4bc4-9b95-6bd3cb8d6bae": {
       "attrs": {
        "height": 0.8,
        "width": 0.8,
        "x": 0.1,
        "y": 0.1
       },
       "content": {
        "cell": "e2732095-7141-4778-908e-4dfb00bceb9d",
        "part": "whole"
       },
       "id": "1ce7f5c9-a65c-4bc4-9b95-6bd3cb8d6bae"
      }
     }
    },
    "08eb4783-c769-455c-9873-ba6af24041dd": {
     "id": "08eb4783-c769-455c-9873-ba6af24041dd",
     "prev": "770ed0d4-c10e-48f3-8653-416ca176e3e8",
     "regions": {
      "96bed682-bb7c-4aba-8924-50a56dfcdfa7": {
       "attrs": {
        "height": 0.8,
        "width": 0.8,
        "x": 0.1,
        "y": 0.1
       },
       "content": {
        "cell": "68291db0-e606-4b1b-9725-5029214f1d15",
        "part": "whole"
       },
       "id": "96bed682-bb7c-4aba-8924-50a56dfcdfa7"
      }
     }
    },
    "09bfeda1-4fd1-4260-9587-f69e6c046ea0": {
     "id": "09bfeda1-4fd1-4260-9587-f69e6c046ea0",
     "prev": "78e95976-285c-4802-b8a4-b2e61d9d5f9a",
     "regions": {
      "6bdd6c8b-5b0d-40f0-8d1a-2b3c289620ab": {
       "attrs": {
        "height": 0.8,
        "width": 0.8,
        "x": 0.1,
        "y": 0.1
       },
       "content": {
        "cell": "3e4ed6d6-6d56-4533-9734-3b2810b3fee7",
        "part": "whole"
       },
       "id": "6bdd6c8b-5b0d-40f0-8d1a-2b3c289620ab"
      }
     }
    },
    "0a3c65b8-a63f-4bbc-96e1-d3884a6de858": {
     "id": "0a3c65b8-a63f-4bbc-96e1-d3884a6de858",
     "prev": "27d6fe3a-1603-4c4a-b289-4ae59df07f7f",
     "regions": {
      "a7372d0f-d75b-4a2e-9327-90e3865799e2": {
       "attrs": {
        "height": 0.8,
        "width": 0.8,
        "x": 0.1,
        "y": 0.1
       },
       "content": {
        "cell": "d4f8cc0a-d63f-442a-88fe-5fe77d466944",
        "part": "whole"
       },
       "id": "a7372d0f-d75b-4a2e-9327-90e3865799e2"
      }
     }
    },
    "0d49512a-9170-4c34-90b1-fe691975d275": {
     "id": "0d49512a-9170-4c34-90b1-fe691975d275",
     "prev": "4c4452a8-c3e3-4fbc-bf94-05a101103b6d",
     "regions": {
      "2affab04-dac9-44c9-a8ec-216c128622b8": {
       "attrs": {
        "height": 0.8,
        "width": 0.8,
        "x": 0.1,
        "y": 0.1
       },
       "content": {
        "cell": "d4a69ef8-bf52-4e89-81d9-7e7815f72e8b",
        "part": "whole"
       },
       "id": "2affab04-dac9-44c9-a8ec-216c128622b8"
      }
     }
    },
    "0e59c6b6-93d4-4d9b-821e-82d9dad2a63b": {
     "id": "0e59c6b6-93d4-4d9b-821e-82d9dad2a63b",
     "prev": "a0fb0da7-f1b0-4d62-8668-3c9efa4201a6",
     "regions": {
      "0c8990a4-c602-486e-8616-a6bdd9d7a304": {
       "attrs": {
        "height": 0.8,
        "width": 0.8,
        "x": 0.1,
        "y": 0.1
       },
       "content": {
        "cell": "0859d563-0a93-4a4d-bf5c-78079a3e4563",
        "part": "whole"
       },
       "id": "0c8990a4-c602-486e-8616-a6bdd9d7a304"
      }
     }
    },
    "116ee525-27f8-4902-bfd7-cbc4ebd045dc": {
     "id": "116ee525-27f8-4902-bfd7-cbc4ebd045dc",
     "prev": "08060b46-632f-47fc-915b-4388f4c1ce4d",
     "regions": {
      "adfc7f37-364b-4602-b5e4-2ff0c1c6716e": {
       "attrs": {
        "height": 0.8,
        "width": 0.8,
        "x": 0.1,
        "y": 0.1
       },
       "content": {
        "cell": "17b36360-ee87-4353-a91b-886e4b6b9e21",
        "part": "whole"
       },
       "id": "adfc7f37-364b-4602-b5e4-2ff0c1c6716e"
      }
     }
    },
    "157b6867-156b-48d7-a5a8-df91e761d810": {
     "id": "157b6867-156b-48d7-a5a8-df91e761d810",
     "prev": "0a3c65b8-a63f-4bbc-96e1-d3884a6de858",
     "regions": {
      "41a6b8bc-5423-47f9-a351-28ee263f28be": {
       "attrs": {
        "height": 0.8,
        "width": 0.8,
        "x": 0.1,
        "y": 0.1
       },
       "content": {
        "cell": "122560b6-7790-4b52-acce-9508a76d55cf",
        "part": "whole"
       },
       "id": "41a6b8bc-5423-47f9-a351-28ee263f28be"
      }
     }
    },
    "15ab1354-2148-4cbe-a9a1-a8c84ed66cba": {
     "id": "15ab1354-2148-4cbe-a9a1-a8c84ed66cba",
     "prev": "ccae361e-c044-4e13-8a6e-9192d35f6e9a",
     "regions": {
      "786a3213-91b2-41ac-a4d5-d08350cfa3d2": {
       "attrs": {
        "height": 0.8,
        "width": 0.8,
        "x": 0.1,
        "y": 0.1
       },
       "content": {
        "cell": "f6813dd4-a45a-4226-aa4a-e102920fe1f2",
        "part": "whole"
       },
       "id": "786a3213-91b2-41ac-a4d5-d08350cfa3d2"
      }
     }
    },
    "16c691e9-a611-4e69-8c19-d553416c2771": {
     "id": "16c691e9-a611-4e69-8c19-d553416c2771",
     "prev": "c5f471cc-cf0e-4739-b739-5764602cf65b",
     "regions": {
      "c804f4e4-e9c6-4e00-b81b-a727a6a5aed1": {
       "attrs": {
        "height": 0.8,
        "width": 0.8,
        "x": 0.1,
        "y": 0.1
       },
       "content": {
        "cell": "4fc33cb2-9a8f-4ef3-b359-0f625ec32fb8",
        "part": "whole"
       },
       "id": "c804f4e4-e9c6-4e00-b81b-a727a6a5aed1"
      }
     }
    },
    "1745b63c-d85c-4f56-bb6d-89cf3ee964bc": {
     "id": "1745b63c-d85c-4f56-bb6d-89cf3ee964bc",
     "prev": "d7e3474d-0c42-446f-855d-a7880b74d88f",
     "regions": {
      "1a1667e2-8897-4751-b7cb-310993a98490": {
       "attrs": {
        "height": 0.8,
        "width": 0.8,
        "x": 0.1,
        "y": 0.1
       },
       "content": {
        "cell": "7941b52a-5691-426f-b3cb-f9940a9b9324",
        "part": "whole"
       },
       "id": "1a1667e2-8897-4751-b7cb-310993a98490"
      }
     }
    },
    "18c35ff1-57d1-4573-bc48-33a48dc45f96": {
     "id": "18c35ff1-57d1-4573-bc48-33a48dc45f96",
     "prev": "c078468a-4c6c-4bdf-82b2-a703974da6c1",
     "regions": {
      "4db6f0bc-c5a7-42f7-b227-257a5ebea3a4": {
       "attrs": {
        "height": 0.8,
        "width": 0.8,
        "x": 0.1,
        "y": 0.1
       },
       "content": {
        "cell": "d603ab57-f091-42fc-8fd4-27488f04ba4b",
        "part": "whole"
       },
       "id": "4db6f0bc-c5a7-42f7-b227-257a5ebea3a4"
      }
     }
    },
    "1956739d-1f48-484b-8a90-31c4446f9cbe": {
     "id": "1956739d-1f48-484b-8a90-31c4446f9cbe",
     "prev": "1bed4940-062a-4a09-b2d7-45167346dd09",
     "regions": {
      "65a10d83-21d3-481e-9971-bd0fd1be86f2": {
       "attrs": {
        "height": 0.8,
        "width": 0.8,
        "x": 0.1,
        "y": 0.1
       },
       "content": {
        "cell": "43ad91f2-2ce4-4cde-aaa8-a309e11d8a27",
        "part": "whole"
       },
       "id": "65a10d83-21d3-481e-9971-bd0fd1be86f2"
      }
     }
    },
    "198dcb31-9d07-4d15-b8c3-f3afc7ea52d6": {
     "id": "198dcb31-9d07-4d15-b8c3-f3afc7ea52d6",
     "prev": "8813b935-60f7-4be3-8b49-5824ce13ec52",
     "regions": {
      "d3611855-4442-4268-8f98-631a64d461db": {
       "attrs": {
        "height": 0.8,
        "width": 0.8,
        "x": 0.1,
        "y": 0.1
       },
       "content": {
        "cell": "b3b78dfd-66ac-4ba3-b90f-43b90cae07f8",
        "part": "whole"
       },
       "id": "d3611855-4442-4268-8f98-631a64d461db"
      }
     }
    },
    "1a678a28-1cde-4f8c-aa6f-48c0f77ea0df": {
     "id": "1a678a28-1cde-4f8c-aa6f-48c0f77ea0df",
     "prev": "492c2d8d-a7e6-4239-b494-1efce66a371c",
     "regions": {
      "2bdad62d-c6e9-4ab2-9119-6c4c51a84096": {
       "attrs": {
        "height": 0.8,
        "width": 0.8,
        "x": 0.1,
        "y": 0.1
       },
       "content": {
        "cell": "0cec665f-780d-461c-becf-c2b5cdeb36aa",
        "part": "whole"
       },
       "id": "2bdad62d-c6e9-4ab2-9119-6c4c51a84096"
      }
     }
    },
    "1a8d2008-9963-4965-8891-e2f1264353e3": {
     "id": "1a8d2008-9963-4965-8891-e2f1264353e3",
     "prev": "88ec83a3-ded7-4455-832b-70cf60869903",
     "regions": {
      "d1d648ec-134f-4579-bf2a-0232edab1063": {
       "attrs": {
        "height": 0.8,
        "width": 0.8,
        "x": 0.1,
        "y": 0.1
       },
       "content": {
        "cell": "47749c9f-f970-4c2b-9bdb-c2785c24077b",
        "part": "whole"
       },
       "id": "d1d648ec-134f-4579-bf2a-0232edab1063"
      }
     }
    },
    "1b44dd6a-cf52-4a24-9e23-d22884548b2b": {
     "id": "1b44dd6a-cf52-4a24-9e23-d22884548b2b",
     "prev": "6e345c25-bb66-4b3a-a467-8949358691d3",
     "regions": {
      "ddbc664e-29bc-44c6-970d-daf7bef9bdc1": {
       "attrs": {
        "height": 0.8,
        "width": 0.8,
        "x": 0.1,
        "y": 0.1
       },
       "content": {
        "cell": "efb7e405-1168-42eb-b711-ee7d51f5c8dc",
        "part": "whole"
       },
       "id": "ddbc664e-29bc-44c6-970d-daf7bef9bdc1"
      }
     }
    },
    "1bd582f0-d7aa-428b-bfa8-49c556d34ca5": {
     "id": "1bd582f0-d7aa-428b-bfa8-49c556d34ca5",
     "prev": "5b6faada-e8b7-4c43-9ee0-bfe83e624b3e",
     "regions": {
      "26a8fd08-7588-4019-a3d1-47f62b9fd790": {
       "attrs": {
        "height": 0.8,
        "width": 0.8,
        "x": 0.1,
        "y": 0.1
       },
       "content": {
        "cell": "a4056cfd-c428-4afb-802d-d88b3df7668f",
        "part": "whole"
       },
       "id": "26a8fd08-7588-4019-a3d1-47f62b9fd790"
      }
     }
    },
    "1bed4940-062a-4a09-b2d7-45167346dd09": {
     "id": "1bed4940-062a-4a09-b2d7-45167346dd09",
     "prev": "f2a4778d-88b3-4aa6-9459-0a8ac2e01381",
     "regions": {
      "4e322054-0999-48c4-b059-5d3bed3268f6": {
       "attrs": {
        "height": 0.8,
        "width": 0.8,
        "x": 0.1,
        "y": 0.1
       },
       "content": {
        "cell": "be3c9ffb-5f5e-41b1-8bf2-67a3953850cf",
        "part": "whole"
       },
       "id": "4e322054-0999-48c4-b059-5d3bed3268f6"
      }
     }
    },
    "1cb56984-13ea-4c80-840d-a3477056369b": {
     "id": "1cb56984-13ea-4c80-840d-a3477056369b",
     "prev": "6ed141b8-eef5-4dab-a3c4-9cbe9f6611ae",
     "regions": {
      "26338848-85a8-45c3-b7f5-46a0afd4581f": {
       "attrs": {
        "height": 0.8,
        "width": 0.8,
        "x": 0.1,
        "y": 0.1
       },
       "content": {
        "cell": "a17a0a75-444a-45ad-a37c-49d9948b5021",
        "part": "whole"
       },
       "id": "26338848-85a8-45c3-b7f5-46a0afd4581f"
      }
     }
    },
    "1d3951de-5d65-4049-9de9-26b1955e8d97": {
     "id": "1d3951de-5d65-4049-9de9-26b1955e8d97",
     "prev": "7ed72992-6bec-47e3-ba75-dc82040b514b",
     "regions": {
      "065ec3c7-2f39-42c8-9c4d-7fdd2e137287": {
       "attrs": {
        "height": 0.8,
        "width": 0.8,
        "x": 0.1,
        "y": 0.1
       },
       "content": {
        "cell": "9137b465-9664-4d78-b75b-ec6bdd18c96a",
        "part": "whole"
       },
       "id": "065ec3c7-2f39-42c8-9c4d-7fdd2e137287"
      }
     }
    },
    "1fabe770-1851-4044-a886-c9d7c604a517": {
     "id": "1fabe770-1851-4044-a886-c9d7c604a517",
     "prev": "068726a6-5429-48c5-af26-ebf155d588cb",
     "regions": {
      "c92af064-825b-4bc8-a4ed-3541ac4a2c1b": {
       "attrs": {
        "height": 0.8,
        "width": 0.8,
        "x": 0.1,
        "y": 0.1
       },
       "content": {
        "cell": "0a47d10a-fb76-47aa-bd3b-22a423cc22dc",
        "part": "whole"
       },
       "id": "c92af064-825b-4bc8-a4ed-3541ac4a2c1b"
      }
     }
    },
    "2126957c-686d-4b78-bb76-5c64d1394ca6": {
     "id": "2126957c-686d-4b78-bb76-5c64d1394ca6",
     "prev": "964ebce0-83c8-4a60-bca8-7b6df326c7da",
     "regions": {
      "91a2a9d0-a853-4544-b4d0-3e5409cb2030": {
       "attrs": {
        "height": 0.8,
        "width": 0.8,
        "x": 0.1,
        "y": 0.1
       },
       "content": {
        "cell": "2af0b6ac-0bac-4921-afd2-7b079d30f1cd",
        "part": "whole"
       },
       "id": "91a2a9d0-a853-4544-b4d0-3e5409cb2030"
      }
     }
    },
    "214d324c-4421-4453-934e-ecc99a3c70c1": {
     "id": "214d324c-4421-4453-934e-ecc99a3c70c1",
     "prev": "53d4a81e-22bd-457d-9f38-a549b12bf635",
     "regions": {
      "9f57b1e6-344d-4cb8-9c89-e1e20314f5fe": {
       "attrs": {
        "height": 0.8,
        "width": 0.8,
        "x": 0.1,
        "y": 0.1
       },
       "content": {
        "cell": "acefb0cb-ac53-41c5-add3-fcc7fa22ca33",
        "part": "whole"
       },
       "id": "9f57b1e6-344d-4cb8-9c89-e1e20314f5fe"
      }
     }
    },
    "21a8b2ac-0305-44e0-a05b-a6f659e1dccc": {
     "id": "21a8b2ac-0305-44e0-a05b-a6f659e1dccc",
     "prev": "bf60e95f-848d-465e-a7dd-3e179eb868d8",
     "regions": {
      "16130b60-ca35-4c69-96b5-090654cc73dd": {
       "attrs": {
        "height": 0.8,
        "width": 0.8,
        "x": 0.1,
        "y": 0.1
       },
       "content": {
        "cell": "05c975ef-ec96-4bf2-b982-d6dbda7f1349",
        "part": "whole"
       },
       "id": "16130b60-ca35-4c69-96b5-090654cc73dd"
      }
     }
    },
    "2720695b-62b0-4d1f-8cf7-9fc1133b89b4": {
     "id": "2720695b-62b0-4d1f-8cf7-9fc1133b89b4",
     "prev": "15ab1354-2148-4cbe-a9a1-a8c84ed66cba",
     "regions": {
      "72b0a27e-4e33-431b-91d7-e5d51e55fcd9": {
       "attrs": {
        "height": 0.8,
        "width": 0.8,
        "x": 0.1,
        "y": 0.1
       },
       "content": {
        "cell": "c8632aac-740c-42ee-a706-402750d71f26",
        "part": "whole"
       },
       "id": "72b0a27e-4e33-431b-91d7-e5d51e55fcd9"
      }
     }
    },
    "27d6fe3a-1603-4c4a-b289-4ae59df07f7f": {
     "id": "27d6fe3a-1603-4c4a-b289-4ae59df07f7f",
     "prev": "5f910eeb-b937-4ebc-a248-db94327e70eb",
     "regions": {
      "52486fc0-ef93-4603-bc9e-3578e8fa2e1d": {
       "attrs": {
        "height": 0.8,
        "width": 0.8,
        "x": 0.1,
        "y": 0.1
       },
       "content": {
        "cell": "079af998-bfec-4d9e-b2cb-5ade6443e663",
        "part": "whole"
       },
       "id": "52486fc0-ef93-4603-bc9e-3578e8fa2e1d"
      }
     }
    },
    "28bf5a79-ff9d-46db-a9df-63ce779be3c9": {
     "id": "28bf5a79-ff9d-46db-a9df-63ce779be3c9",
     "prev": "9d53ba4b-189f-40a2-809e-4995d285273d",
     "regions": {
      "5e22dda3-458b-410e-8d9b-81ae3f9c7ea6": {
       "attrs": {
        "height": 0.8,
        "width": 0.8,
        "x": 0.1,
        "y": 0.1
       },
       "content": {
        "cell": "9dccca1b-019f-4f92-9e47-c00703b69b9c",
        "part": "whole"
       },
       "id": "5e22dda3-458b-410e-8d9b-81ae3f9c7ea6"
      }
     }
    },
    "2907ba63-3d55-4616-b999-d4cb12e3a195": {
     "id": "2907ba63-3d55-4616-b999-d4cb12e3a195",
     "prev": "18c35ff1-57d1-4573-bc48-33a48dc45f96",
     "regions": {
      "8e1e9f65-59a6-41b2-814c-29ff52300456": {
       "attrs": {
        "height": 0.8,
        "width": 0.8,
        "x": 0.1,
        "y": 0.1
       },
       "content": {
        "cell": "28826fda-a72a-4832-976f-a56c15d23dc3",
        "part": "whole"
       },
       "id": "8e1e9f65-59a6-41b2-814c-29ff52300456"
      }
     }
    },
    "2afe6a78-7508-4da5-9141-82282c029657": {
     "id": "2afe6a78-7508-4da5-9141-82282c029657",
     "prev": "1956739d-1f48-484b-8a90-31c4446f9cbe",
     "regions": {
      "8dcb2c48-6893-4d5f-8885-2c3466fa1e5f": {
       "attrs": {
        "height": 0.8,
        "width": 0.8,
        "x": 0.1,
        "y": 0.1
       },
       "content": {
        "cell": "e7565a1a-ee8e-4867-a78e-b5eefcbbb56b",
        "part": "whole"
       },
       "id": "8dcb2c48-6893-4d5f-8885-2c3466fa1e5f"
      }
     }
    },
    "2b139a20-32d2-494f-acdf-9b1f299b1eb6": {
     "id": "2b139a20-32d2-494f-acdf-9b1f299b1eb6",
     "prev": "439e675b-a5f3-4a04-9d97-7792a4604df0",
     "regions": {
      "a6fbb1b7-64e4-4764-8b30-9403ac001403": {
       "attrs": {
        "height": 0.8,
        "width": 0.8,
        "x": 0.1,
        "y": 0.1
       },
       "content": {
        "cell": "c14c3399-d9b0-4600-a63d-ac66efe9b74b",
        "part": "whole"
       },
       "id": "a6fbb1b7-64e4-4764-8b30-9403ac001403"
      }
     }
    },
    "2b3c9e70-85ca-4881-9df0-be6cd92f5d3c": {
     "id": "2b3c9e70-85ca-4881-9df0-be6cd92f5d3c",
     "prev": "2720695b-62b0-4d1f-8cf7-9fc1133b89b4",
     "regions": {
      "4333adac-e7f8-4b61-8923-1b2a9a5c7b2d": {
       "attrs": {
        "height": 0.8,
        "width": 0.8,
        "x": 0.1,
        "y": 0.1
       },
       "content": {
        "cell": "254e9665-6b3b-418c-8e21-c13b308847be",
        "part": "whole"
       },
       "id": "4333adac-e7f8-4b61-8923-1b2a9a5c7b2d"
      }
     }
    },
    "2b9c682e-4c9c-4bbb-a489-8a7dfcf72115": {
     "id": "2b9c682e-4c9c-4bbb-a489-8a7dfcf72115",
     "prev": "d8a4a668-86ba-470d-bb7a-df8740709c35",
     "regions": {
      "d4816cbb-363e-46b1-a917-53dea4ed5c73": {
       "attrs": {
        "height": 0.8,
        "width": 0.8,
        "x": 0.1,
        "y": 0.1
       },
       "content": {
        "cell": "603c388b-bc15-4c56-9d07-b2f47660ddf7",
        "part": "whole"
       },
       "id": "d4816cbb-363e-46b1-a917-53dea4ed5c73"
      }
     }
    },
    "2c4ed016-a2a3-485a-80d1-70710975dd5e": {
     "id": "2c4ed016-a2a3-485a-80d1-70710975dd5e",
     "prev": "0842e37b-4864-42c9-9491-f7e9ed876479",
     "regions": {
      "0c122a04-25ff-4a50-a603-2c37171ef7e1": {
       "attrs": {
        "height": 0.8,
        "width": 0.8,
        "x": 0.1,
        "y": 0.1
       },
       "content": {
        "cell": "ceb4f5ac-1db7-4038-a682-56f312a0f468",
        "part": "whole"
       },
       "id": "0c122a04-25ff-4a50-a603-2c37171ef7e1"
      }
     }
    },
    "2d779af7-af47-4801-8bd7-df59ba3f24b7": {
     "id": "2d779af7-af47-4801-8bd7-df59ba3f24b7",
     "prev": "66658ab8-7dc9-4288-8acd-7b1706a9c560",
     "regions": {
      "223cf573-9473-4549-ac28-b05a15df13a9": {
       "attrs": {
        "height": 0.8,
        "width": 0.8,
        "x": 0.1,
        "y": 0.1
       },
       "content": {
        "cell": "82919e66-546a-41c6-8b12-a9ccb2065172",
        "part": "whole"
       },
       "id": "223cf573-9473-4549-ac28-b05a15df13a9"
      }
     }
    },
    "2e13a442-b600-4a7a-b68f-3646d0953780": {
     "id": "2e13a442-b600-4a7a-b68f-3646d0953780",
     "prev": "7a198b00-3156-4a1b-800c-46980cfea960",
     "regions": {
      "a3ed6080-cced-4baa-b54e-5b3b92ec318d": {
       "attrs": {
        "height": 0.8,
        "width": 0.8,
        "x": 0.1,
        "y": 0.1
       },
       "content": {
        "cell": "623ad1be-cee5-4326-9229-3250b5c71712",
        "part": "whole"
       },
       "id": "a3ed6080-cced-4baa-b54e-5b3b92ec318d"
      }
     }
    },
    "2f3a7d38-82ef-49bf-a1a8-3065b0e5fc30": {
     "id": "2f3a7d38-82ef-49bf-a1a8-3065b0e5fc30",
     "prev": "ab0d111f-0399-4e70-85fd-c3da7fcfa6e8",
     "regions": {
      "0326a7fd-c378-481d-aaf0-08a39570e2aa": {
       "attrs": {
        "height": 0.8,
        "width": 0.8,
        "x": 0.1,
        "y": 0.1
       },
       "content": {
        "cell": "d6f34412-fa57-4f77-9d76-dee9cf9fc00a",
        "part": "whole"
       },
       "id": "0326a7fd-c378-481d-aaf0-08a39570e2aa"
      }
     }
    },
    "31870918-3b54-460f-9c08-f336086e38fb": {
     "id": "31870918-3b54-460f-9c08-f336086e38fb",
     "prev": "28bf5a79-ff9d-46db-a9df-63ce779be3c9",
     "regions": {
      "9cd82930-1d11-4ade-92c5-f13ed09e0c9a": {
       "attrs": {
        "height": 0.8,
        "width": 0.8,
        "x": 0.1,
        "y": 0.1
       },
       "content": {
        "cell": "aa8b2bba-22ad-4ecf-b825-412762f0ad30",
        "part": "whole"
       },
       "id": "9cd82930-1d11-4ade-92c5-f13ed09e0c9a"
      }
     }
    },
    "32053d82-3989-4e65-b1ce-9b8cf956f595": {
     "id": "32053d82-3989-4e65-b1ce-9b8cf956f595",
     "prev": "ed117f04-0a2e-47e3-843c-e17ba64f0088",
     "regions": {
      "e7fa7af4-1d4f-4749-b448-8dc1345f3b4f": {
       "attrs": {
        "height": 0.8,
        "width": 0.8,
        "x": 0.1,
        "y": 0.1
       },
       "content": {
        "cell": "9fc14b38-24ca-4e97-be13-df770b0620ce",
        "part": "whole"
       },
       "id": "e7fa7af4-1d4f-4749-b448-8dc1345f3b4f"
      }
     }
    },
    "3475106a-a3c0-4f63-8e00-ff65a53643fa": {
     "id": "3475106a-a3c0-4f63-8e00-ff65a53643fa",
     "prev": "5019207d-3e58-4b01-a1b6-2119b8e86184",
     "regions": {
      "7f2fdff5-f379-49fd-8149-a163aa661360": {
       "attrs": {
        "height": 0.8,
        "width": 0.8,
        "x": 0.1,
        "y": 0.1
       },
       "content": {
        "cell": "027c1e32-ad4a-4d3e-a35a-607c2860ea0c",
        "part": "whole"
       },
       "id": "7f2fdff5-f379-49fd-8149-a163aa661360"
      }
     }
    },
    "3512183c-ccc5-43d2-887e-690f29a96d5f": {
     "id": "3512183c-ccc5-43d2-887e-690f29a96d5f",
     "prev": "01d06bbc-be8b-49a1-818f-0a73f1e84cca",
     "regions": {
      "fd21d8d6-c661-4069-875c-bcafbf3faa21": {
       "attrs": {
        "height": 0.8,
        "width": 0.8,
        "x": 0.1,
        "y": 0.1
       },
       "content": {
        "cell": "f6df925b-1bbb-4a86-8545-0d9486ff7558",
        "part": "whole"
       },
       "id": "fd21d8d6-c661-4069-875c-bcafbf3faa21"
      }
     }
    },
    "382f82c3-55e4-4072-ab07-d386bd36a7f2": {
     "id": "382f82c3-55e4-4072-ab07-d386bd36a7f2",
     "prev": "53debbb5-0fac-4c38-8d7f-9ecf976c1ec8",
     "regions": {
      "1919ef11-8e0e-44ca-b908-c039d14af8c6": {
       "attrs": {
        "height": 0.8,
        "width": 0.8,
        "x": 0.1,
        "y": 0.1
       },
       "content": {
        "cell": "49a0c30a-3540-46f4-8668-9f6b76ebe22d",
        "part": "whole"
       },
       "id": "1919ef11-8e0e-44ca-b908-c039d14af8c6"
      }
     }
    },
    "3b6ef559-e5f4-420a-97de-58b02854f550": {
     "id": "3b6ef559-e5f4-420a-97de-58b02854f550",
     "prev": "b160a95a-03e0-4e49-8c5b-4cf17ca095fd",
     "regions": {
      "a2fd742d-0e2e-45d0-b9f1-ba13f172eeb4": {
       "attrs": {
        "height": 0.8,
        "width": 0.8,
        "x": 0.1,
        "y": 0.1
       },
       "content": {
        "cell": "3e15520e-d866-4916-94bc-d8c245e80df0",
        "part": "whole"
       },
       "id": "a2fd742d-0e2e-45d0-b9f1-ba13f172eeb4"
      }
     }
    },
    "3e7712b9-1447-4c2f-8e80-b057d86e00d5": {
     "id": "3e7712b9-1447-4c2f-8e80-b057d86e00d5",
     "prev": "bf822ce0-33bf-4091-bd2b-21fe92cd2adf",
     "regions": {
      "4bf874a8-2a14-4972-97a9-f4cf11f11065": {
       "attrs": {
        "height": 0.8,
        "width": 0.8,
        "x": 0.1,
        "y": 0.1
       },
       "content": {
        "cell": "853eead7-afe3-4094-a645-d318f2062fb2",
        "part": "whole"
       },
       "id": "4bf874a8-2a14-4972-97a9-f4cf11f11065"
      }
     }
    },
    "3ee2b42e-bb1c-435c-b4fb-71e6be5fbebe": {
     "id": "3ee2b42e-bb1c-435c-b4fb-71e6be5fbebe",
     "prev": "2c4ed016-a2a3-485a-80d1-70710975dd5e",
     "regions": {
      "237b6bfd-de76-4663-ae67-cf6baca87f0e": {
       "attrs": {
        "height": 0.8,
        "width": 0.8,
        "x": 0.1,
        "y": 0.1
       },
       "content": {
        "cell": "4d5596ac-2fd9-4162-9fcf-231d9de18fe8",
        "part": "whole"
       },
       "id": "237b6bfd-de76-4663-ae67-cf6baca87f0e"
      }
     }
    },
    "40f979d9-4d69-4943-8beb-c5568141dd85": {
     "id": "40f979d9-4d69-4943-8beb-c5568141dd85",
     "prev": "6400f998-7ee9-4fbc-a9a9-58bbcf7cfc4e",
     "regions": {
      "3cb5d833-90f1-495a-a4cb-f734050c5999": {
       "attrs": {
        "height": 0.8,
        "width": 0.8,
        "x": 0.1,
        "y": 0.1
       },
       "content": {
        "cell": "0a47d12a-5fbd-4c97-9c2c-63c1ae160c53",
        "part": "whole"
       },
       "id": "3cb5d833-90f1-495a-a4cb-f734050c5999"
      }
     }
    },
    "42459419-5460-43ba-9207-1faed13af20e": {
     "id": "42459419-5460-43ba-9207-1faed13af20e",
     "prev": "2b3c9e70-85ca-4881-9df0-be6cd92f5d3c",
     "regions": {
      "50f52b5d-7ba8-4828-a34b-d4640186d3ed": {
       "attrs": {
        "height": 0.8,
        "width": 0.8,
        "x": 0.1,
        "y": 0.1
       },
       "content": {
        "cell": "c2619df9-2b21-4b11-b98b-025a2df0c592",
        "part": "whole"
       },
       "id": "50f52b5d-7ba8-4828-a34b-d4640186d3ed"
      }
     }
    },
    "42a73f2d-f2f6-4887-b18b-322bb7005494": {
     "id": "42a73f2d-f2f6-4887-b18b-322bb7005494",
     "prev": "f2ed197b-aab1-451c-a9c5-08dc6707b50c",
     "regions": {
      "ae56150a-385f-474b-ba76-effece0084a1": {
       "attrs": {
        "height": 0.8,
        "width": 0.8,
        "x": 0.1,
        "y": 0.1
       },
       "content": {
        "cell": "ff702860-d5b4-4028-8c32-108351446ba9",
        "part": "whole"
       },
       "id": "ae56150a-385f-474b-ba76-effece0084a1"
      }
     }
    },
    "431d60fe-fad3-4efa-b4fa-6ebbb92e6512": {
     "id": "431d60fe-fad3-4efa-b4fa-6ebbb92e6512",
     "prev": "2b9c682e-4c9c-4bbb-a489-8a7dfcf72115",
     "regions": {
      "f21430a3-6b8d-49ab-99a4-96530c7f576d": {
       "attrs": {
        "height": 0.8,
        "width": 0.8,
        "x": 0.1,
        "y": 0.1
       },
       "content": {
        "cell": "e69c5511-2b15-436a-8685-23147a7bbc3e",
        "part": "whole"
       },
       "id": "f21430a3-6b8d-49ab-99a4-96530c7f576d"
      }
     }
    },
    "439e675b-a5f3-4a04-9d97-7792a4604df0": {
     "id": "439e675b-a5f3-4a04-9d97-7792a4604df0",
     "prev": "1b44dd6a-cf52-4a24-9e23-d22884548b2b",
     "regions": {
      "c508c015-0637-4b80-9148-6461886834e0": {
       "attrs": {
        "height": 0.8,
        "width": 0.8,
        "x": 0.1,
        "y": 0.1
       },
       "content": {
        "cell": "dd25fd3f-44ce-4037-840c-86fdf96a4aaf",
        "part": "whole"
       },
       "id": "c508c015-0637-4b80-9148-6461886834e0"
      }
     }
    },
    "4414a488-1a80-4b72-84e4-4aab7fc21279": {
     "id": "4414a488-1a80-4b72-84e4-4aab7fc21279",
     "prev": "1fabe770-1851-4044-a886-c9d7c604a517",
     "regions": {
      "37fd90bf-fa62-40c8-9266-9ac4c2732464": {
       "attrs": {
        "height": 0.8,
        "width": 0.8,
        "x": 0.1,
        "y": 0.1
       },
       "content": {
        "cell": "39d787ab-475d-4370-a5eb-9a7563617002",
        "part": "whole"
       },
       "id": "37fd90bf-fa62-40c8-9266-9ac4c2732464"
      }
     }
    },
    "4500369c-f202-41f5-9ad8-3888c4f9c3e4": {
     "id": "4500369c-f202-41f5-9ad8-3888c4f9c3e4",
     "prev": "bf374587-260f-4a6f-8121-8a9fbf21cfc9",
     "regions": {
      "76a7ee43-56df-4443-85f3-172651abd4ed": {
       "attrs": {
        "height": 0.8,
        "width": 0.8,
        "x": 0.1,
        "y": 0.1
       },
       "content": {
        "cell": "a76978c5-0dbd-4561-bf62-3f714f58bb3b",
        "part": "whole"
       },
       "id": "76a7ee43-56df-4443-85f3-172651abd4ed"
      }
     }
    },
    "4784d690-21eb-44c1-a446-507cf0dc1442": {
     "id": "4784d690-21eb-44c1-a446-507cf0dc1442",
     "prev": "4e68f719-7d94-48e1-9285-7eb43cd8fc3b",
     "regions": {
      "e47ceef3-41da-47b1-a000-3c3336ac0232": {
       "attrs": {
        "height": 0.8,
        "width": 0.8,
        "x": 0.1,
        "y": 0.1
       },
       "content": {
        "cell": "9337bb01-dd31-48ff-8956-67b998a5af2c",
        "part": "whole"
       },
       "id": "e47ceef3-41da-47b1-a000-3c3336ac0232"
      }
     }
    },
    "47c45953-7969-4414-8c6d-dea79b5faaa4": {
     "id": "47c45953-7969-4414-8c6d-dea79b5faaa4",
     "prev": "dd307d17-6faf-46dc-8917-eb460a3d2c98",
     "regions": {
      "9a463eb3-161f-4cec-ade1-883a66016991": {
       "attrs": {
        "height": 0.8,
        "width": 0.8,
        "x": 0.1,
        "y": 0.1
       },
       "content": {
        "cell": "739b608b-0c34-4bde-b37f-c0fb3b8e8d88",
        "part": "whole"
       },
       "id": "9a463eb3-161f-4cec-ade1-883a66016991"
      }
     }
    },
    "492c2d8d-a7e6-4239-b494-1efce66a371c": {
     "id": "492c2d8d-a7e6-4239-b494-1efce66a371c",
     "prev": "b559ec2a-65b1-4d42-9f85-618e73be5bc3",
     "regions": {
      "0fe22a6e-9632-45a4-a60c-450994da57e8": {
       "attrs": {
        "height": 0.8,
        "width": 0.8,
        "x": 0.1,
        "y": 0.1
       },
       "content": {
        "cell": "7da8442e-dcc6-402d-85b6-63ceafc8656f",
        "part": "whole"
       },
       "id": "0fe22a6e-9632-45a4-a60c-450994da57e8"
      }
     }
    },
    "49a4d991-8e22-414d-937c-7fc000834d4d": {
     "id": "49a4d991-8e22-414d-937c-7fc000834d4d",
     "prev": "e63ce30c-a782-4ad7-b39d-51000de367c2",
     "regions": {
      "0480fb92-d025-44bd-8083-1a1275aa745f": {
       "attrs": {
        "height": 0.8,
        "width": 0.8,
        "x": 0.1,
        "y": 0.1
       },
       "content": {
        "cell": "6293b245-2f1d-4168-972a-7f6f61d7042b",
        "part": "whole"
       },
       "id": "0480fb92-d025-44bd-8083-1a1275aa745f"
      }
     }
    },
    "4c4452a8-c3e3-4fbc-bf94-05a101103b6d": {
     "id": "4c4452a8-c3e3-4fbc-bf94-05a101103b6d",
     "prev": "c89c6737-ad39-498d-b6c7-b4327745a02e",
     "regions": {
      "25e5eaf6-3ae6-4146-9235-2c0fb0380e6c": {
       "attrs": {
        "height": 0.8,
        "width": 0.8,
        "x": 0.1,
        "y": 0.1
       },
       "content": {
        "cell": "cd08b652-0c31-4438-ad4d-7f970a6e7331",
        "part": "whole"
       },
       "id": "25e5eaf6-3ae6-4146-9235-2c0fb0380e6c"
      }
     }
    },
    "4cba7543-2927-48b6-aafb-cd5d0d73828f": {
     "id": "4cba7543-2927-48b6-aafb-cd5d0d73828f",
     "prev": "198dcb31-9d07-4d15-b8c3-f3afc7ea52d6",
     "regions": {
      "2e14fccc-4b55-4d69-b69d-5330e548d2b7": {
       "attrs": {
        "height": 0.8,
        "width": 0.8,
        "x": 0.1,
        "y": 0.1
       },
       "content": {
        "cell": "ec275451-0682-4e58-8d7d-5f5b02fc2e2d",
        "part": "whole"
       },
       "id": "2e14fccc-4b55-4d69-b69d-5330e548d2b7"
      }
     }
    },
    "4e68f719-7d94-48e1-9285-7eb43cd8fc3b": {
     "id": "4e68f719-7d94-48e1-9285-7eb43cd8fc3b",
     "prev": "a1f3c7fe-e63b-4ba7-9597-e76cca7b358b",
     "regions": {
      "5be4427a-f0f9-4287-9799-f000ecf85b90": {
       "attrs": {
        "height": 0.8,
        "width": 0.8,
        "x": 0.1,
        "y": 0.1
       },
       "content": {
        "cell": "7d7b7d72-b136-4bc4-99b7-c10ba7c1ecf7",
        "part": "whole"
       },
       "id": "5be4427a-f0f9-4287-9799-f000ecf85b90"
      }
     }
    },
    "4ecc0154-77ed-4b8f-b05b-2e9326a576f2": {
     "id": "4ecc0154-77ed-4b8f-b05b-2e9326a576f2",
     "prev": "116ee525-27f8-4902-bfd7-cbc4ebd045dc",
     "regions": {
      "a87a1869-2656-4f15-ab84-77c6c88751a9": {
       "attrs": {
        "height": 0.8,
        "width": 0.8,
        "x": 0.1,
        "y": 0.1
       },
       "content": {
        "cell": "56c33dc4-29c4-465f-a36d-19d8958847af",
        "part": "whole"
       },
       "id": "a87a1869-2656-4f15-ab84-77c6c88751a9"
      }
     }
    },
    "5019207d-3e58-4b01-a1b6-2119b8e86184": {
     "id": "5019207d-3e58-4b01-a1b6-2119b8e86184",
     "prev": "62b29e8e-5157-43d8-9d70-68911eb225f4",
     "regions": {
      "f1847650-d32b-49b3-ba00-7012b3d79e2a": {
       "attrs": {
        "height": 0.8,
        "width": 0.8,
        "x": 0.1,
        "y": 0.1
       },
       "content": {
        "cell": "40391191-ba04-4374-9279-699e4c435449",
        "part": "whole"
       },
       "id": "f1847650-d32b-49b3-ba00-7012b3d79e2a"
      }
     }
    },
    "51546b6f-a002-4cdb-aa84-a39721d2593e": {
     "id": "51546b6f-a002-4cdb-aa84-a39721d2593e",
     "prev": "a1c6fe6e-d87a-48db-9cfa-fd4b8327ba94",
     "regions": {
      "e26b3303-efb2-4774-b34d-091a93053f65": {
       "attrs": {
        "height": 0.8,
        "width": 0.8,
        "x": 0.1,
        "y": 0.1
       },
       "content": {
        "cell": "b097dce8-6ae2-431f-a16a-cbcc64ac980d",
        "part": "whole"
       },
       "id": "e26b3303-efb2-4774-b34d-091a93053f65"
      }
     }
    },
    "518d5369-8f3f-4ba9-93d2-41bd57bec863": {
     "id": "518d5369-8f3f-4ba9-93d2-41bd57bec863",
     "prev": "a0483ed2-da21-4281-9077-a24ba87c8d37",
     "regions": {
      "5bd56cf1-4774-4f35-b1b0-d0516b2e4e5f": {
       "attrs": {
        "height": 0.8,
        "width": 0.8,
        "x": 0.1,
        "y": 0.1
       },
       "content": {
        "cell": "b6e15cac-eb0b-45cd-b4dd-3b40c23cd59d",
        "part": "whole"
       },
       "id": "5bd56cf1-4774-4f35-b1b0-d0516b2e4e5f"
      }
     }
    },
    "529733b4-1600-4179-bf26-b4481cd7b713": {
     "id": "529733b4-1600-4179-bf26-b4481cd7b713",
     "prev": "f93fda01-aac5-443f-ba53-a5251e08c289",
     "regions": {
      "141b8d36-2b46-4339-9c40-5671add0b229": {
       "attrs": {
        "height": 0.8,
        "width": 0.8,
        "x": 0.1,
        "y": 0.1
       },
       "content": {
        "cell": "b83bdc5b-7393-4503-a871-cf405563ed67",
        "part": "whole"
       },
       "id": "141b8d36-2b46-4339-9c40-5671add0b229"
      }
     }
    },
    "530a2dcf-c283-4a2e-830c-7b2844845eab": {
     "id": "530a2dcf-c283-4a2e-830c-7b2844845eab",
     "prev": "fbd47e92-d8aa-48d4-8072-7f1b2d6cc688",
     "regions": {
      "22c1e048-3083-461a-b9c5-80364d92a607": {
       "attrs": {
        "height": 0.8,
        "width": 0.8,
        "x": 0.1,
        "y": 0.1
       },
       "content": {
        "cell": "b4af36dc-c162-41d2-b000-7930b6145361",
        "part": "whole"
       },
       "id": "22c1e048-3083-461a-b9c5-80364d92a607"
      }
     }
    },
    "53d4a81e-22bd-457d-9f38-a549b12bf635": {
     "id": "53d4a81e-22bd-457d-9f38-a549b12bf635",
     "prev": "565c0e02-1ba7-4ff9-82d0-013f3961f1d4",
     "regions": {
      "bc4cbc2c-07ae-4340-8133-cb4885aa15ac": {
       "attrs": {
        "height": 0.8,
        "width": 0.8,
        "x": 0.1,
        "y": 0.1
       },
       "content": {
        "cell": "10ccca49-51de-452a-b78c-046f488e9fa5",
        "part": "whole"
       },
       "id": "bc4cbc2c-07ae-4340-8133-cb4885aa15ac"
      }
     }
    },
    "53debbb5-0fac-4c38-8d7f-9ecf976c1ec8": {
     "id": "53debbb5-0fac-4c38-8d7f-9ecf976c1ec8",
     "prev": "cf9af88f-23ca-4a53-a8ec-508082d0db17",
     "regions": {
      "f4e2cba2-ad8a-4891-a760-96f63e5facee": {
       "attrs": {
        "height": 0.8,
        "width": 0.8,
        "x": 0.1,
        "y": 0.1
       },
       "content": {
        "cell": "27ed9613-378c-48c1-89f7-1e8baed9f316",
        "part": "whole"
       },
       "id": "f4e2cba2-ad8a-4891-a760-96f63e5facee"
      }
     }
    },
    "565c0e02-1ba7-4ff9-82d0-013f3961f1d4": {
     "id": "565c0e02-1ba7-4ff9-82d0-013f3961f1d4",
     "prev": "f4a71178-3774-4725-8538-e4983a278247",
     "regions": {
      "3b1c24f4-f689-418b-b129-595941ebba04": {
       "attrs": {
        "height": 0.8,
        "width": 0.8,
        "x": 0.1,
        "y": 0.1
       },
       "content": {
        "cell": "84653ba0-900b-4611-98bc-51ef45be2dc6",
        "part": "whole"
       },
       "id": "3b1c24f4-f689-418b-b129-595941ebba04"
      }
     }
    },
    "56ba8476-a2d5-4b96-acca-a90c6b5bc41c": {
     "id": "56ba8476-a2d5-4b96-acca-a90c6b5bc41c",
     "prev": "6d3aa342-e529-4617-84d7-92a7778598ac",
     "regions": {
      "cc6fe924-d862-4a16-8302-0a071cedf2a2": {
       "attrs": {
        "height": 0.8,
        "width": 0.8,
        "x": 0.1,
        "y": 0.1
       },
       "content": {
        "cell": "804c38bc-a798-4a3b-b0ff-9ec71cefdb94",
        "part": "whole"
       },
       "id": "cc6fe924-d862-4a16-8302-0a071cedf2a2"
      }
     }
    },
    "5747bead-b501-4608-985b-2beaebeac070": {
     "id": "5747bead-b501-4608-985b-2beaebeac070",
     "prev": "0d49512a-9170-4c34-90b1-fe691975d275",
     "regions": {
      "fa54c720-6ecc-4428-9834-3b8e62896853": {
       "attrs": {
        "height": 0.8,
        "width": 0.8,
        "x": 0.1,
        "y": 0.1
       },
       "content": {
        "cell": "66c560d5-0f8d-417e-9112-a27857eb7e6e",
        "part": "whole"
       },
       "id": "fa54c720-6ecc-4428-9834-3b8e62896853"
      }
     }
    },
    "59d574b8-84b6-4b7e-bc2c-9360a07b26fa": {
     "id": "59d574b8-84b6-4b7e-bc2c-9360a07b26fa",
     "prev": "1745b63c-d85c-4f56-bb6d-89cf3ee964bc",
     "regions": {
      "a83c6c1b-c15c-4032-8344-35408a1a8f66": {
       "attrs": {
        "height": 0.8,
        "width": 0.8,
        "x": 0.1,
        "y": 0.1
       },
       "content": {
        "cell": "aa429ed3-b2af-48bd-baf5-366fea7881ed",
        "part": "whole"
       },
       "id": "a83c6c1b-c15c-4032-8344-35408a1a8f66"
      }
     }
    },
    "5b6faada-e8b7-4c43-9ee0-bfe83e624b3e": {
     "id": "5b6faada-e8b7-4c43-9ee0-bfe83e624b3e",
     "prev": "7f5f7d79-373a-4c1c-b77e-55aeb96f95fb",
     "regions": {
      "b16d4229-ecf1-4304-a82c-43f876d89b57": {
       "attrs": {
        "height": 0.8,
        "width": 0.8,
        "x": 0.1,
        "y": 0.1
       },
       "content": {
        "cell": "f3a5bbbc-60ce-4212-ac62-97ace4326789",
        "part": "whole"
       },
       "id": "b16d4229-ecf1-4304-a82c-43f876d89b57"
      }
     }
    },
    "5c31e507-c610-4592-adb6-90abad7c8381": {
     "id": "5c31e507-c610-4592-adb6-90abad7c8381",
     "prev": "49a4d991-8e22-414d-937c-7fc000834d4d",
     "regions": {
      "aed951ec-d0ab-431f-92f9-1097988f7822": {
       "attrs": {
        "height": 0.8,
        "width": 0.8,
        "x": 0.1,
        "y": 0.1
       },
       "content": {
        "cell": "f1ad7fd5-8c58-438c-91f7-e7b22dc2622d",
        "part": "whole"
       },
       "id": "aed951ec-d0ab-431f-92f9-1097988f7822"
      }
     }
    },
    "5ca937e4-e030-4c92-a6fd-c08267ee075d": {
     "id": "5ca937e4-e030-4c92-a6fd-c08267ee075d",
     "prev": "4784d690-21eb-44c1-a446-507cf0dc1442",
     "regions": {
      "346d0997-a0aa-4174-8c5a-85e57ae278a6": {
       "attrs": {
        "height": 0.8,
        "width": 0.8,
        "x": 0.1,
        "y": 0.1
       },
       "content": {
        "cell": "e5128420-525f-4d27-875f-8e1ae04ec8c1",
        "part": "whole"
       },
       "id": "346d0997-a0aa-4174-8c5a-85e57ae278a6"
      }
     }
    },
    "5d104dd8-93f7-4dbe-895a-ef2bcfdb50f6": {
     "id": "5d104dd8-93f7-4dbe-895a-ef2bcfdb50f6",
     "prev": "6bb6dc3b-2d80-49d9-ac02-98c2123b33b1",
     "regions": {
      "b70258ca-60b5-4cd7-8a0f-9ad00987d4a9": {
       "attrs": {
        "height": 0.8,
        "width": 0.8,
        "x": 0.1,
        "y": 0.1
       },
       "content": {
        "cell": "2b5df7e8-ca3d-4030-aa1e-291d60c1e0dd",
        "part": "whole"
       },
       "id": "b70258ca-60b5-4cd7-8a0f-9ad00987d4a9"
      }
     }
    },
    "5e6b91c7-6144-4659-ba33-6679842efe7d": {
     "id": "5e6b91c7-6144-4659-ba33-6679842efe7d",
     "prev": "8a639316-e9da-41fe-a61f-07ef5a029e9f",
     "regions": {
      "669670c4-5b44-4d00-b5cb-a36ee3eb9f6a": {
       "attrs": {
        "height": 0.8,
        "width": 0.8,
        "x": 0.1,
        "y": 0.1
       },
       "content": {
        "cell": "a02b88c2-54aa-4dfb-9b53-324aaddb6036",
        "part": "whole"
       },
       "id": "669670c4-5b44-4d00-b5cb-a36ee3eb9f6a"
      }
     }
    },
    "5f910eeb-b937-4ebc-a248-db94327e70eb": {
     "id": "5f910eeb-b937-4ebc-a248-db94327e70eb",
     "prev": "70c4254e-92f2-41b2-b04f-80d6e37ddc56",
     "regions": {
      "5c70d9f3-fbca-48ec-9315-df278b54dc45": {
       "attrs": {
        "height": 0.8,
        "width": 0.8,
        "x": 0.1,
        "y": 0.1
       },
       "content": {
        "cell": "132a40d8-5246-4e6a-8ace-a52b558a903d",
        "part": "whole"
       },
       "id": "5c70d9f3-fbca-48ec-9315-df278b54dc45"
      }
     }
    },
    "612666e2-b643-4597-a29e-0464b205bac5": {
     "id": "612666e2-b643-4597-a29e-0464b205bac5",
     "prev": "ea3d2d50-a46a-4f79-b149-6539f030abff",
     "regions": {
      "cabdaa6a-84f4-46ff-bbb7-b20dd832dfae": {
       "attrs": {
        "height": 0.8,
        "width": 0.8,
        "x": 0.1,
        "y": 0.1
       },
       "content": {
        "cell": "f5906b7b-4ca6-482a-b555-b061193459fd",
        "part": "whole"
       },
       "id": "cabdaa6a-84f4-46ff-bbb7-b20dd832dfae"
      }
     }
    },
    "62766d5d-a790-4b6e-babe-5775180bb71e": {
     "id": "62766d5d-a790-4b6e-babe-5775180bb71e",
     "prev": "5c31e507-c610-4592-adb6-90abad7c8381",
     "regions": {
      "21a2d0ff-69ca-4fd9-b3e7-a1d5083623a2": {
       "attrs": {
        "height": 0.8,
        "width": 0.8,
        "x": 0.1,
        "y": 0.1
       },
       "content": {
        "cell": "6ca4c4d1-1494-4531-b3dc-9306fe0522f8",
        "part": "whole"
       },
       "id": "21a2d0ff-69ca-4fd9-b3e7-a1d5083623a2"
      }
     }
    },
    "62b29e8e-5157-43d8-9d70-68911eb225f4": {
     "id": "62b29e8e-5157-43d8-9d70-68911eb225f4",
     "prev": "08799f5c-0df5-493b-bc80-8d356a09a38e",
     "regions": {
      "0c27092f-0e6d-4d4b-86d0-79152810722a": {
       "attrs": {
        "height": 0.8,
        "width": 0.8,
        "x": 0.1,
        "y": 0.1
       },
       "content": {
        "cell": "a0832597-1d1b-45f9-8f48-8dde7733310e",
        "part": "whole"
       },
       "id": "0c27092f-0e6d-4d4b-86d0-79152810722a"
      }
     }
    },
    "6400f998-7ee9-4fbc-a9a9-58bbcf7cfc4e": {
     "id": "6400f998-7ee9-4fbc-a9a9-58bbcf7cfc4e",
     "prev": "5ca937e4-e030-4c92-a6fd-c08267ee075d",
     "regions": {
      "4504ec98-7e2a-4608-9e5f-dda4f992b2ab": {
       "attrs": {
        "height": 0.8,
        "width": 0.8,
        "x": 0.1,
        "y": 0.1
       },
       "content": {
        "cell": "0fb00da6-48c8-4b64-9b34-6b43889df957",
        "part": "whole"
       },
       "id": "4504ec98-7e2a-4608-9e5f-dda4f992b2ab"
      }
     }
    },
    "64cb6fe6-3667-4f0a-ba9e-3f6bc3a18085": {
     "id": "64cb6fe6-3667-4f0a-ba9e-3f6bc3a18085",
     "prev": "b2345776-8c3e-4144-87c4-45d87f5398d4",
     "regions": {
      "cd76fc72-3476-4b2b-af28-c68f529417ba": {
       "attrs": {
        "height": 0.8,
        "width": 0.8,
        "x": 0.1,
        "y": 0.1
       },
       "content": {
        "cell": "b0c96794-253d-47e7-a324-ce854f51796f",
        "part": "whole"
       },
       "id": "cd76fc72-3476-4b2b-af28-c68f529417ba"
      }
     }
    },
    "66214944-91e1-4bb5-b767-e560bbd7a7dc": {
     "id": "66214944-91e1-4bb5-b767-e560bbd7a7dc",
     "prev": "df09c2d3-d3c4-4c0f-a250-0d11e401e4eb",
     "regions": {
      "6226e1bf-1ddb-4f54-8e73-ac7463c7a73e": {
       "attrs": {
        "height": 0.8,
        "width": 0.8,
        "x": 0.1,
        "y": 0.1
       },
       "content": {
        "cell": "f88836f9-7b1a-4db6-970b-f8253dc103e7",
        "part": "whole"
       },
       "id": "6226e1bf-1ddb-4f54-8e73-ac7463c7a73e"
      }
     }
    },
    "6626e5d9-a78a-4456-b639-81fb403b9bcc": {
     "id": "6626e5d9-a78a-4456-b639-81fb403b9bcc",
     "prev": "a8791401-1aab-4659-8663-23da2a1b82c1",
     "regions": {
      "0c55e6a6-09d6-4f67-a49d-d025f2828981": {
       "attrs": {
        "height": 0.8,
        "width": 0.8,
        "x": 0.1,
        "y": 0.1
       },
       "content": {
        "cell": "aec54470-7baf-40c5-b8c1-0b6d641667ac",
        "part": "whole"
       },
       "id": "0c55e6a6-09d6-4f67-a49d-d025f2828981"
      }
     }
    },
    "66658ab8-7dc9-4288-8acd-7b1706a9c560": {
     "id": "66658ab8-7dc9-4288-8acd-7b1706a9c560",
     "prev": "80f5a10c-f099-4174-a7d3-17425ef7aa45",
     "regions": {
      "921bacfc-0dc6-48bd-950f-aaec623ad876": {
       "attrs": {
        "height": 0.8,
        "width": 0.8,
        "x": 0.1,
        "y": 0.1
       },
       "content": {
        "cell": "73c6d9c8-31e5-4c6e-b85f-6849423837c6",
        "part": "whole"
       },
       "id": "921bacfc-0dc6-48bd-950f-aaec623ad876"
      }
     }
    },
    "693bae87-ef1d-43c8-bd5b-13f85848933b": {
     "id": "693bae87-ef1d-43c8-bd5b-13f85848933b",
     "prev": "7223eee3-b101-4345-8171-d9e22dc0c2f3",
     "regions": {
      "708c2567-201c-4e58-8a48-4e730d16809f": {
       "attrs": {
        "height": 0.8,
        "width": 0.8,
        "x": 0.1,
        "y": 0.1
       },
       "content": {
        "cell": "26bf5dc5-40d5-43ca-bc77-3e85c119c459",
        "part": "whole"
       },
       "id": "708c2567-201c-4e58-8a48-4e730d16809f"
      }
     }
    },
    "69de65fe-eb06-4cdc-9b9f-7b5e436a07b5": {
     "id": "69de65fe-eb06-4cdc-9b9f-7b5e436a07b5",
     "prev": "d07f7ab1-42c5-41df-b421-d16eea8fa91e",
     "regions": {
      "aaf5ae21-bf68-4bda-b75c-3c6c9661d6a7": {
       "attrs": {
        "height": 0.8,
        "width": 0.8,
        "x": 0.1,
        "y": 0.1
       },
       "content": {
        "cell": "c3bdfa01-5f90-4d5d-a688-441c57689b0f",
        "part": "whole"
       },
       "id": "aaf5ae21-bf68-4bda-b75c-3c6c9661d6a7"
      }
     }
    },
    "6b2677d4-188d-41a3-9119-5d1f933ac043": {
     "id": "6b2677d4-188d-41a3-9119-5d1f933ac043",
     "prev": "a243bbe6-0b15-4d23-8794-513d83d26f50",
     "regions": {
      "a9afc39e-1ec9-4e9d-ad67-b7d417b9e004": {
       "attrs": {
        "height": 0.8,
        "width": 0.8,
        "x": 0.1,
        "y": 0.1
       },
       "content": {
        "cell": "ee1dfb47-f023-439f-b3b3-ad29ce12a4c5",
        "part": "whole"
       },
       "id": "a9afc39e-1ec9-4e9d-ad67-b7d417b9e004"
      }
     }
    },
    "6bb6dc3b-2d80-49d9-ac02-98c2123b33b1": {
     "id": "6bb6dc3b-2d80-49d9-ac02-98c2123b33b1",
     "prev": "ee491348-21a8-4873-9fc8-12eaa2185701",
     "regions": {
      "a1ca173d-0bae-4b7e-8252-039af6ec0fa2": {
       "attrs": {
        "height": 0.8,
        "width": 0.8,
        "x": 0.1,
        "y": 0.1
       },
       "content": {
        "cell": "1d604624-7c4b-4849-81fd-362f0a0c09d9",
        "part": "whole"
       },
       "id": "a1ca173d-0bae-4b7e-8252-039af6ec0fa2"
      }
     }
    },
    "6d3aa342-e529-4617-84d7-92a7778598ac": {
     "id": "6d3aa342-e529-4617-84d7-92a7778598ac",
     "prev": "b241bad1-bb8d-4b15-a1c7-d47b39488578",
     "regions": {
      "cee35abb-c164-40c9-aaa1-2c80157767bc": {
       "attrs": {
        "height": 0.8,
        "width": 0.8,
        "x": 0.1,
        "y": 0.1
       },
       "content": {
        "cell": "d1472b24-e37e-4353-ab5b-166b86f5bf3f",
        "part": "whole"
       },
       "id": "cee35abb-c164-40c9-aaa1-2c80157767bc"
      }
     }
    },
    "6dc48835-c8db-4d5c-b439-9e09404b43df": {
     "id": "6dc48835-c8db-4d5c-b439-9e09404b43df",
     "prev": "d1a398c2-1183-42e0-9cdc-45de0aa57f3d",
     "regions": {
      "88013d4d-ac96-41c1-b06d-c7df7dca30d6": {
       "attrs": {
        "height": 0.8,
        "width": 0.8,
        "x": 0.1,
        "y": 0.1
       },
       "content": {
        "cell": "c1f8d6db-992c-4d38-b764-35433e00942e",
        "part": "whole"
       },
       "id": "88013d4d-ac96-41c1-b06d-c7df7dca30d6"
      }
     }
    },
    "6e345c25-bb66-4b3a-a467-8949358691d3": {
     "id": "6e345c25-bb66-4b3a-a467-8949358691d3",
     "prev": "4cba7543-2927-48b6-aafb-cd5d0d73828f",
     "regions": {
      "268ed94d-0fbb-48d9-94d4-56547286b2ba": {
       "attrs": {
        "height": 0.8,
        "width": 0.8,
        "x": 0.1,
        "y": 0.1
       },
       "content": {
        "cell": "6d4343d4-2619-4cc6-b577-684bc1fe4014",
        "part": "whole"
       },
       "id": "268ed94d-0fbb-48d9-94d4-56547286b2ba"
      }
     }
    },
    "6ed141b8-eef5-4dab-a3c4-9cbe9f6611ae": {
     "id": "6ed141b8-eef5-4dab-a3c4-9cbe9f6611ae",
     "prev": "861f8556-2abe-4188-bd98-59756153f56a",
     "regions": {
      "205d3d5c-93cd-49f5-a767-b2523a1fb28b": {
       "attrs": {
        "height": 0.8,
        "width": 0.8,
        "x": 0.1,
        "y": 0.1
       },
       "content": {
        "cell": "f8179dc0-d9c5-4672-ac6f-0f85c9b1b208",
        "part": "whole"
       },
       "id": "205d3d5c-93cd-49f5-a767-b2523a1fb28b"
      }
     }
    },
    "6f4b335c-9a5b-4482-93ac-94ddb872d672": {
     "id": "6f4b335c-9a5b-4482-93ac-94ddb872d672",
     "prev": "3ee2b42e-bb1c-435c-b4fb-71e6be5fbebe",
     "regions": {
      "ad0ccb83-13cd-4a96-9b4d-6930a1c22291": {
       "attrs": {
        "height": 0.8,
        "width": 0.8,
        "x": 0.1,
        "y": 0.1
       },
       "content": {
        "cell": "94fc4310-7648-49a0-b495-c8efbfb4ebdb",
        "part": "whole"
       },
       "id": "ad0ccb83-13cd-4a96-9b4d-6930a1c22291"
      }
     }
    },
    "70c4254e-92f2-41b2-b04f-80d6e37ddc56": {
     "id": "70c4254e-92f2-41b2-b04f-80d6e37ddc56",
     "prev": "e3b891c2-2ab2-4825-bd0b-7fd0a16a4c4a",
     "regions": {
      "767ef2fb-a63c-4da8-be91-2f3c8faa77c2": {
       "attrs": {
        "height": 0.8,
        "width": 0.8,
        "x": 0.1,
        "y": 0.1
       },
       "content": {
        "cell": "911fc495-29c6-4d7f-bd9f-6f9573e818fd",
        "part": "whole"
       },
       "id": "767ef2fb-a63c-4da8-be91-2f3c8faa77c2"
      }
     }
    },
    "7223eee3-b101-4345-8171-d9e22dc0c2f3": {
     "id": "7223eee3-b101-4345-8171-d9e22dc0c2f3",
     "prev": "a4abf88b-b6cd-4312-b6f5-5afa84265a41",
     "regions": {
      "f35b0a6b-d2a6-4cbc-8485-64489ddade25": {
       "attrs": {
        "height": 0.8,
        "width": 0.8,
        "x": 0.1,
        "y": 0.1
       },
       "content": {
        "cell": "b41b6870-6dfa-4c00-bf4f-6c18b4046d08",
        "part": "whole"
       },
       "id": "f35b0a6b-d2a6-4cbc-8485-64489ddade25"
      }
     }
    },
    "73dc4203-0d9f-41f7-9ad9-0a90a622238c": {
     "id": "73dc4203-0d9f-41f7-9ad9-0a90a622238c",
     "prev": "59d574b8-84b6-4b7e-bc2c-9360a07b26fa",
     "regions": {
      "21053b7a-ef62-43f7-8a80-65b8998e6ccf": {
       "attrs": {
        "height": 0.8,
        "width": 0.8,
        "x": 0.1,
        "y": 0.1
       },
       "content": {
        "cell": "70cf4e0b-4ecf-45bc-8ff5-b554de88f4c7",
        "part": "whole"
       },
       "id": "21053b7a-ef62-43f7-8a80-65b8998e6ccf"
      }
     }
    },
    "7594b516-2325-41e9-91e3-e1d8be3b8e66": {
     "id": "7594b516-2325-41e9-91e3-e1d8be3b8e66",
     "prev": "c549ab6c-d360-4883-9545-e3d39c8f6288",
     "regions": {
      "0e1621b0-ac1c-499a-878f-2c3a419b4fbb": {
       "attrs": {
        "height": 0.8,
        "width": 0.8,
        "x": 0.1,
        "y": 0.1
       },
       "content": {
        "cell": "95fe5e87-a829-476e-8a47-cb0e48676081",
        "part": "whole"
       },
       "id": "0e1621b0-ac1c-499a-878f-2c3a419b4fbb"
      }
     }
    },
    "763a90ea-612c-40ed-b77a-c6ad6863bcd8": {
     "id": "763a90ea-612c-40ed-b77a-c6ad6863bcd8",
     "prev": "b71ccae4-18e3-40c7-930a-d0bfdef3ecec",
     "regions": {
      "c81c2812-05bb-45ce-ade2-ff30e1b5c30e": {
       "attrs": {
        "height": 0.8,
        "width": 0.8,
        "x": 0.1,
        "y": 0.1
       },
       "content": {
        "cell": "96b15bbc-03c9-4371-9165-317fd39057bd",
        "part": "whole"
       },
       "id": "c81c2812-05bb-45ce-ade2-ff30e1b5c30e"
      }
     }
    },
    "770ed0d4-c10e-48f3-8653-416ca176e3e8": {
     "id": "770ed0d4-c10e-48f3-8653-416ca176e3e8",
     "prev": "530a2dcf-c283-4a2e-830c-7b2844845eab",
     "regions": {
      "2b338d6a-69f0-4e86-ad82-38f29b3fc4bc": {
       "attrs": {
        "height": 0.8,
        "width": 0.8,
        "x": 0.1,
        "y": 0.1
       },
       "content": {
        "cell": "80e0e7c4-8544-4802-8de8-dbc5390285fc",
        "part": "whole"
       },
       "id": "2b338d6a-69f0-4e86-ad82-38f29b3fc4bc"
      }
     }
    },
    "78e95976-285c-4802-b8a4-b2e61d9d5f9a": {
     "id": "78e95976-285c-4802-b8a4-b2e61d9d5f9a",
     "prev": "66214944-91e1-4bb5-b767-e560bbd7a7dc",
     "regions": {
      "a256ab63-81a2-4900-a353-4bd00788eeaf": {
       "attrs": {
        "height": 0.8,
        "width": 0.8,
        "x": 0.1,
        "y": 0.1
       },
       "content": {
        "cell": "f58ee987-1e64-44ef-b379-41e8875f6843",
        "part": "whole"
       },
       "id": "a256ab63-81a2-4900-a353-4bd00788eeaf"
      }
     }
    },
    "7a198b00-3156-4a1b-800c-46980cfea960": {
     "id": "7a198b00-3156-4a1b-800c-46980cfea960",
     "prev": "996bb04e-e1a9-43f9-a4a4-3612acb57a46",
     "regions": {
      "391a6e9b-fe26-41b6-8d58-7f4f30bf3e50": {
       "attrs": {
        "height": 0.8,
        "width": 0.8,
        "x": 0.1,
        "y": 0.1
       },
       "content": {
        "cell": "1fdc3e23-5fbd-40c7-82f9-25e6ed4f1fc2",
        "part": "whole"
       },
       "id": "391a6e9b-fe26-41b6-8d58-7f4f30bf3e50"
      }
     }
    },
    "7b86af1f-2fda-4fe8-884a-cc4ac362a8e3": {
     "id": "7b86af1f-2fda-4fe8-884a-cc4ac362a8e3",
     "prev": "b79daec1-1a12-40d8-af9a-34e2c9f91abc",
     "regions": {
      "6f2498e9-24bc-4065-9558-cb90696b03f9": {
       "attrs": {
        "height": 0.8,
        "width": 0.8,
        "x": 0.1,
        "y": 0.1
       },
       "content": {
        "cell": "b667f3f9-87b5-41c1-b8e0-04181ab8f4d4",
        "part": "whole"
       },
       "id": "6f2498e9-24bc-4065-9558-cb90696b03f9"
      }
     }
    },
    "7ed72992-6bec-47e3-ba75-dc82040b514b": {
     "id": "7ed72992-6bec-47e3-ba75-dc82040b514b",
     "prev": "693bae87-ef1d-43c8-bd5b-13f85848933b",
     "regions": {
      "ad8f5d32-0c86-48f8-9377-696885f5df7c": {
       "attrs": {
        "height": 0.8,
        "width": 0.8,
        "x": 0.1,
        "y": 0.1
       },
       "content": {
        "cell": "30af2416-ff26-4fee-bc24-50b3ba67b6ec",
        "part": "whole"
       },
       "id": "ad8f5d32-0c86-48f8-9377-696885f5df7c"
      }
     }
    },
    "7f570faf-c403-4bb4-b2bd-17048ec5d480": {
     "id": "7f570faf-c403-4bb4-b2bd-17048ec5d480",
     "prev": "9ac57e94-d1c8-4084-b952-e35116b517c0",
     "regions": {
      "659d8d94-a020-4594-8306-5478139b67f5": {
       "attrs": {
        "height": 0.8,
        "width": 0.8,
        "x": 0.1,
        "y": 0.1
       },
       "content": {
        "cell": "2653432a-364c-4202-9a5a-10ddbbe854f3",
        "part": "whole"
       },
       "id": "659d8d94-a020-4594-8306-5478139b67f5"
      }
     }
    },
    "7f5f7d79-373a-4c1c-b77e-55aeb96f95fb": {
     "id": "7f5f7d79-373a-4c1c-b77e-55aeb96f95fb",
     "prev": "880bf74f-203f-4a2d-ad4d-e2fd22f86138",
     "regions": {
      "ac3729cc-618f-4b12-b399-0db901a312ae": {
       "attrs": {
        "height": 0.8,
        "width": 0.8,
        "x": 0.1,
        "y": 0.1
       },
       "content": {
        "cell": "ec9ef177-006f-4557-9ed3-663dc31e3c66",
        "part": "whole"
       },
       "id": "ac3729cc-618f-4b12-b399-0db901a312ae"
      }
     }
    },
    "80f5a10c-f099-4174-a7d3-17425ef7aa45": {
     "id": "80f5a10c-f099-4174-a7d3-17425ef7aa45",
     "prev": "c00f47e5-addc-4a80-9029-4b6f3f71696e",
     "regions": {
      "a4b63efe-eabb-480f-843a-43bdf6e3f4d5": {
       "attrs": {
        "height": 0.8,
        "width": 0.8,
        "x": 0.1,
        "y": 0.1
       },
       "content": {
        "cell": "e0847a92-2d2d-441e-9747-66aba4e63909",
        "part": "whole"
       },
       "id": "a4b63efe-eabb-480f-843a-43bdf6e3f4d5"
      }
     }
    },
    "845e7113-a68d-4e21-8ed7-829dfda9baa4": {
     "id": "845e7113-a68d-4e21-8ed7-829dfda9baa4",
     "prev": "8f2a26f3-4201-407b-97bb-cae2a370b420",
     "regions": {
      "b1849bf3-a5be-4151-bda6-7e5951ec7c1e": {
       "attrs": {
        "height": 0.8,
        "width": 0.8,
        "x": 0.1,
        "y": 0.1
       },
       "content": {
        "cell": "79573862-7a9b-4574-9f0a-b650fcd44a13",
        "part": "whole"
       },
       "id": "b1849bf3-a5be-4151-bda6-7e5951ec7c1e"
      }
     }
    },
    "861f8556-2abe-4188-bd98-59756153f56a": {
     "id": "861f8556-2abe-4188-bd98-59756153f56a",
     "prev": "4414a488-1a80-4b72-84e4-4aab7fc21279",
     "regions": {
      "614c8cbe-7d73-47ea-8780-25e29607f2f3": {
       "attrs": {
        "height": 0.8,
        "width": 0.8,
        "x": 0.1,
        "y": 0.1
       },
       "content": {
        "cell": "be0de4f1-59c0-4a77-8d3f-fb031e515d2d",
        "part": "whole"
       },
       "id": "614c8cbe-7d73-47ea-8780-25e29607f2f3"
      }
     }
    },
    "880bf74f-203f-4a2d-ad4d-e2fd22f86138": {
     "id": "880bf74f-203f-4a2d-ad4d-e2fd22f86138",
     "prev": "b553fd33-88e8-4685-84c6-f24244748dab",
     "regions": {
      "52aa816e-c9b8-4924-81bc-92f7abd0b686": {
       "attrs": {
        "height": 0.8,
        "width": 0.8,
        "x": 0.1,
        "y": 0.1
       },
       "content": {
        "cell": "03371795-e0dd-44b1-b0a3-35b86bc81cfd",
        "part": "whole"
       },
       "id": "52aa816e-c9b8-4924-81bc-92f7abd0b686"
      }
     }
    },
    "8813b935-60f7-4be3-8b49-5824ce13ec52": {
     "id": "8813b935-60f7-4be3-8b49-5824ce13ec52",
     "prev": "f5eedb8c-7511-4944-bf6c-2b8cd5be9ba5",
     "regions": {
      "5d5ce203-138d-452e-93ad-90a881bd52b1": {
       "attrs": {
        "height": 0.8,
        "width": 0.8,
        "x": 0.1,
        "y": 0.1
       },
       "content": {
        "cell": "e33e650c-e343-4769-a15e-6b70cff9ed32",
        "part": "whole"
       },
       "id": "5d5ce203-138d-452e-93ad-90a881bd52b1"
      }
     }
    },
    "88ec83a3-ded7-4455-832b-70cf60869903": {
     "id": "88ec83a3-ded7-4455-832b-70cf60869903",
     "prev": "c67596a9-71b8-480c-956e-9403f13133a8",
     "regions": {
      "62e6cc5f-3908-41f7-8aae-4696232bd5b7": {
       "attrs": {
        "height": 0.8,
        "width": 0.8,
        "x": 0.1,
        "y": 0.1
       },
       "content": {
        "cell": "8dd88349-1f8e-41c0-8ecc-7c09dc800411",
        "part": "whole"
       },
       "id": "62e6cc5f-3908-41f7-8aae-4696232bd5b7"
      }
     }
    },
    "8953c4f4-fe74-4300-8cd2-4d7228d80df2": {
     "id": "8953c4f4-fe74-4300-8cd2-4d7228d80df2",
     "prev": "94d93487-44fd-4fbc-9b57-c2b169b24cd6",
     "regions": {
      "8d5cec69-43be-48df-b296-19516ce65a41": {
       "attrs": {
        "height": 0.8,
        "width": 0.8,
        "x": 0.1,
        "y": 0.1
       },
       "content": {
        "cell": "6a363285-750c-4494-90f4-f485a43d9d09",
        "part": "whole"
       },
       "id": "8d5cec69-43be-48df-b296-19516ce65a41"
      }
     }
    },
    "89bfc4e6-301b-4e11-a371-12a1b5ebf150": {
     "id": "89bfc4e6-301b-4e11-a371-12a1b5ebf150",
     "prev": "9e6f70cd-1da1-4777-b64b-e1c2c6dd273e",
     "regions": {
      "0755783f-33b0-4c0c-8d4f-c9a0039f5d23": {
       "attrs": {
        "height": 0.8,
        "width": 0.8,
        "x": 0.1,
        "y": 0.1
       },
       "content": {
        "cell": "a580fcff-74d6-493b-8d50-0218c77707c1",
        "part": "whole"
       },
       "id": "0755783f-33b0-4c0c-8d4f-c9a0039f5d23"
      }
     }
    },
    "8a639316-e9da-41fe-a61f-07ef5a029e9f": {
     "id": "8a639316-e9da-41fe-a61f-07ef5a029e9f",
     "prev": "5d104dd8-93f7-4dbe-895a-ef2bcfdb50f6",
     "regions": {
      "4f1e1193-ac24-49c2-9885-33975a8dd308": {
       "attrs": {
        "height": 0.8,
        "width": 0.8,
        "x": 0.1,
        "y": 0.1
       },
       "content": {
        "cell": "ff694813-65c7-4eff-a864-130f0e020061",
        "part": "whole"
       },
       "id": "4f1e1193-ac24-49c2-9885-33975a8dd308"
      }
     }
    },
    "8ee2e253-3e14-4abc-ac03-7e154755931d": {
     "id": "8ee2e253-3e14-4abc-ac03-7e154755931d",
     "prev": "c326b35b-a6f6-4c32-a0fa-13323f345f5d",
     "regions": {
      "22093068-03b6-4ad8-b444-e833fa5b2581": {
       "attrs": {
        "height": 0.8,
        "width": 0.8,
        "x": 0.1,
        "y": 0.1
       },
       "content": {
        "cell": "66484237-8432-42e0-a617-0a9138c0f7cd",
        "part": "whole"
       },
       "id": "22093068-03b6-4ad8-b444-e833fa5b2581"
      }
     }
    },
    "8f2a26f3-4201-407b-97bb-cae2a370b420": {
     "id": "8f2a26f3-4201-407b-97bb-cae2a370b420",
     "prev": "157b6867-156b-48d7-a5a8-df91e761d810",
     "regions": {
      "a50a02e1-d326-426b-94d9-64db3187b398": {
       "attrs": {
        "height": 0.8,
        "width": 0.8,
        "x": 0.1,
        "y": 0.1
       },
       "content": {
        "cell": "a8ab869b-df63-4207-ac3d-76367c60b639",
        "part": "whole"
       },
       "id": "a50a02e1-d326-426b-94d9-64db3187b398"
      }
     }
    },
    "8f88a697-0a83-4945-bec0-79dfa38b6988": {
     "id": "8f88a697-0a83-4945-bec0-79dfa38b6988",
     "prev": "cf9b4f9c-7c46-4c40-bcf4-ad7d513e7a7b",
     "regions": {
      "7f80a961-70f9-4cba-b557-c822b734f669": {
       "attrs": {
        "height": 0.8,
        "width": 0.8,
        "x": 0.1,
        "y": 0.1
       },
       "content": {
        "cell": "2e9b10da-21ed-4834-a119-efeec2834aa6",
        "part": "whole"
       },
       "id": "7f80a961-70f9-4cba-b557-c822b734f669"
      }
     }
    },
    "9329a1c5-bad3-41fd-b04b-99914fb06f16": {
     "id": "9329a1c5-bad3-41fd-b04b-99914fb06f16",
     "prev": "09bfeda1-4fd1-4260-9587-f69e6c046ea0",
     "regions": {
      "06c4030c-cf77-4d2f-a3bc-6c3b58b6fe05": {
       "attrs": {
        "height": 0.8,
        "width": 0.8,
        "x": 0.1,
        "y": 0.1
       },
       "content": {
        "cell": "6d520b8e-79df-405f-8e9f-ab0cd0ad4757",
        "part": "whole"
       },
       "id": "06c4030c-cf77-4d2f-a3bc-6c3b58b6fe05"
      }
     }
    },
    "94d93487-44fd-4fbc-9b57-c2b169b24cd6": {
     "id": "94d93487-44fd-4fbc-9b57-c2b169b24cd6",
     "prev": "b12ba789-5849-44dc-8983-ab87b38ac80c",
     "regions": {
      "610f283f-f139-45c5-99a4-913a78e0cab0": {
       "attrs": {
        "height": 0.8,
        "width": 0.8,
        "x": 0.1,
        "y": 0.1
       },
       "content": {
        "cell": "61a2770e-7d51-4045-90c0-dc46a0e00594",
        "part": "whole"
       },
       "id": "610f283f-f139-45c5-99a4-913a78e0cab0"
      }
     }
    },
    "950bc92b-1c6c-4869-a429-b48847ae7027": {
     "id": "950bc92b-1c6c-4869-a429-b48847ae7027",
     "prev": "c3ab7085-5978-4e97-98c3-6381c2eb2363",
     "regions": {
      "018979a5-a7a8-4e2e-87f9-aad7506d14d3": {
       "attrs": {
        "height": 0.8,
        "width": 0.8,
        "x": 0.1,
        "y": 0.1
       },
       "content": {
        "cell": "b5bdd9fc-9fa0-4dfe-a249-9d19e0e2f2c2",
        "part": "whole"
       },
       "id": "018979a5-a7a8-4e2e-87f9-aad7506d14d3"
      }
     }
    },
    "9582233b-c3b9-420d-b9d5-b5692f91678b": {
     "id": "9582233b-c3b9-420d-b9d5-b5692f91678b",
     "prev": "fd5bff16-d0e8-4102-9099-aa38247ea07a",
     "regions": {
      "bfb84d3d-f0d9-48d3-b6e4-ec342bd141ac": {
       "attrs": {
        "height": 0.8,
        "width": 0.8,
        "x": 0.1,
        "y": 0.1
       },
       "content": {
        "cell": "fb009875-af26-4d32-8f5e-e2633e661b09",
        "part": "whole"
       },
       "id": "bfb84d3d-f0d9-48d3-b6e4-ec342bd141ac"
      }
     }
    },
    "959ae0eb-56ef-4faf-8285-b087e04f5e82": {
     "id": "959ae0eb-56ef-4faf-8285-b087e04f5e82",
     "prev": "529733b4-1600-4179-bf26-b4481cd7b713",
     "regions": {
      "9024d8aa-baa8-4ac7-bf3d-f5c5d0ef95f3": {
       "attrs": {
        "height": 0.8,
        "width": 0.8,
        "x": 0.1,
        "y": 0.1
       },
       "content": {
        "cell": "3ef906d6-aaa3-4df4-92b0-912b769ec69c",
        "part": "whole"
       },
       "id": "9024d8aa-baa8-4ac7-bf3d-f5c5d0ef95f3"
      }
     }
    },
    "959d1603-98b0-4787-8cbe-a61ec71f0554": {
     "id": "959d1603-98b0-4787-8cbe-a61ec71f0554",
     "prev": "9680ecbd-08c1-45c0-ac67-dd9d17b3b475",
     "regions": {
      "a979ec19-d6dd-4338-acb1-e81b303ab124": {
       "attrs": {
        "height": 0.8,
        "width": 0.8,
        "x": 0.1,
        "y": 0.1
       },
       "content": {
        "cell": "e5365613-4b2f-4f32-8056-bce5f2cea4d5",
        "part": "whole"
       },
       "id": "a979ec19-d6dd-4338-acb1-e81b303ab124"
      }
     }
    },
    "964ebce0-83c8-4a60-bca8-7b6df326c7da": {
     "id": "964ebce0-83c8-4a60-bca8-7b6df326c7da",
     "prev": "c59269e8-2238-4edc-8de6-9995008ae120",
     "regions": {
      "a51f6967-2e04-4e97-a319-4104555e9c16": {
       "attrs": {
        "height": 0.8,
        "width": 0.8,
        "x": 0.1,
        "y": 0.1
       },
       "content": {
        "cell": "1aceb83c-24da-420a-a7d1-be678130ca99",
        "part": "whole"
       },
       "id": "a51f6967-2e04-4e97-a319-4104555e9c16"
      }
     }
    },
    "9680ecbd-08c1-45c0-ac67-dd9d17b3b475": {
     "id": "9680ecbd-08c1-45c0-ac67-dd9d17b3b475",
     "prev": "b1f38e06-8a34-4d98-a567-c9e97060d3d8",
     "regions": {
      "bcde4dd4-263b-4219-8ff8-10edd5b337a5": {
       "attrs": {
        "height": 0.8,
        "width": 0.8,
        "x": 0.1,
        "y": 0.1
       },
       "content": {
        "cell": "207532ed-708e-4b54-9877-c5731a47a540",
        "part": "whole"
       },
       "id": "bcde4dd4-263b-4219-8ff8-10edd5b337a5"
      }
     }
    },
    "972378dc-ce84-4d9e-bbb3-39758509cea4": {
     "id": "972378dc-ce84-4d9e-bbb3-39758509cea4",
     "prev": "6626e5d9-a78a-4456-b639-81fb403b9bcc",
     "regions": {
      "865eafbf-0c33-4f8f-96c4-ca56524c4a8e": {
       "attrs": {
        "height": 0.8,
        "width": 0.8,
        "x": 0.1,
        "y": 0.1
       },
       "content": {
        "cell": "50c7381e-5360-45de-b5cc-70b9089d72bd",
        "part": "whole"
       },
       "id": "865eafbf-0c33-4f8f-96c4-ca56524c4a8e"
      }
     }
    },
    "98236484-fe9a-4511-9b20-f814edebd2af": {
     "id": "98236484-fe9a-4511-9b20-f814edebd2af",
     "prev": "cdcc4ddf-d1bd-4683-ba3f-2d5686fd5e31",
     "regions": {
      "5ec3042f-4ebb-484f-ba11-1b0cf95fdf8b": {
       "attrs": {
        "height": 0.8,
        "width": 0.8,
        "x": 0.1,
        "y": 0.1
       },
       "content": {
        "cell": "5094aff1-f064-4ae2-b542-e48e9650cbfc",
        "part": "whole"
       },
       "id": "5ec3042f-4ebb-484f-ba11-1b0cf95fdf8b"
      }
     }
    },
    "996bb04e-e1a9-43f9-a4a4-3612acb57a46": {
     "id": "996bb04e-e1a9-43f9-a4a4-3612acb57a46",
     "prev": "2d779af7-af47-4801-8bd7-df59ba3f24b7",
     "regions": {
      "93ac952f-ac49-40dc-854d-b1916924d010": {
       "attrs": {
        "height": 0.8,
        "width": 0.8,
        "x": 0.1,
        "y": 0.1
       },
       "content": {
        "cell": "bf69e146-2733-4d63-9b0a-2554f9bc8ecc",
        "part": "whole"
       },
       "id": "93ac952f-ac49-40dc-854d-b1916924d010"
      }
     }
    },
    "9ac57e94-d1c8-4084-b952-e35116b517c0": {
     "id": "9ac57e94-d1c8-4084-b952-e35116b517c0",
     "prev": "89bfc4e6-301b-4e11-a371-12a1b5ebf150",
     "regions": {
      "50813f07-f8c6-40bf-bb58-f943ccb61e21": {
       "attrs": {
        "height": 0.8,
        "width": 0.8,
        "x": 0.1,
        "y": 0.1
       },
       "content": {
        "cell": "08a0e148-1e6c-413e-a025-03d02da11df1",
        "part": "whole"
       },
       "id": "50813f07-f8c6-40bf-bb58-f943ccb61e21"
      }
     }
    },
    "9d53ba4b-189f-40a2-809e-4995d285273d": {
     "id": "9d53ba4b-189f-40a2-809e-4995d285273d",
     "prev": "e98fb236-c859-4f44-a8f1-3c17b819f1bc",
     "regions": {
      "c98760ba-77f6-4df5-8970-d4f89fe3cd68": {
       "attrs": {
        "height": 0.8,
        "width": 0.8,
        "x": 0.1,
        "y": 0.1
       },
       "content": {
        "cell": "18912969-322d-4ad3-b70b-743b3dfb6c53",
        "part": "whole"
       },
       "id": "c98760ba-77f6-4df5-8970-d4f89fe3cd68"
      }
     }
    },
    "9e18c418-cd00-49ce-a7c8-408ba8ac3544": {
     "id": "9e18c418-cd00-49ce-a7c8-408ba8ac3544",
     "prev": "f442d0c7-909e-478f-9f73-7bd94e0f4e1d",
     "regions": {
      "91297dc5-73c1-40e4-8768-788e1ce3be22": {
       "attrs": {
        "height": 0.8,
        "width": 0.8,
        "x": 0.1,
        "y": 0.1
       },
       "content": {
        "cell": "f9c639ef-dca6-4e2d-a6ce-5e1994ee5e77",
        "part": "whole"
       },
       "id": "91297dc5-73c1-40e4-8768-788e1ce3be22"
      }
     }
    },
    "9e6f70cd-1da1-4777-b64b-e1c2c6dd273e": {
     "id": "9e6f70cd-1da1-4777-b64b-e1c2c6dd273e",
     "prev": "b978d022-9563-48ea-b904-89d1fad287d8",
     "regions": {
      "8a40f16d-8bf6-4db6-8bf9-5ee001e6d723": {
       "attrs": {
        "height": 0.8,
        "width": 0.8,
        "x": 0.1,
        "y": 0.1
       },
       "content": {
        "cell": "74f45e15-5ae6-4f1b-ae68-20ac7616f707",
        "part": "whole"
       },
       "id": "8a40f16d-8bf6-4db6-8bf9-5ee001e6d723"
      }
     }
    },
    "9f1d655e-429f-4127-93a4-92f9006b4176": {
     "id": "9f1d655e-429f-4127-93a4-92f9006b4176",
     "prev": "4ecc0154-77ed-4b8f-b05b-2e9326a576f2",
     "regions": {
      "f4917aec-7e41-4a7b-a4d6-167e4e21a576": {
       "attrs": {
        "height": 0.8,
        "width": 0.8,
        "x": 0.1,
        "y": 0.1
       },
       "content": {
        "cell": "987f3103-c382-4c68-ab5f-d391ed91b75c",
        "part": "whole"
       },
       "id": "f4917aec-7e41-4a7b-a4d6-167e4e21a576"
      }
     }
    },
    "9fecb355-b504-4247-994c-0111f30de978": {
     "id": "9fecb355-b504-4247-994c-0111f30de978",
     "prev": "51546b6f-a002-4cdb-aa84-a39721d2593e",
     "regions": {
      "6ab2a65a-f70d-488d-a672-2163034c10c4": {
       "attrs": {
        "height": 0.8,
        "width": 0.8,
        "x": 0.1,
        "y": 0.1
       },
       "content": {
        "cell": "430b5458-c659-4708-8ad0-e99bd5a80d7b",
        "part": "whole"
       },
       "id": "6ab2a65a-f70d-488d-a672-2163034c10c4"
      }
     }
    },
    "a0483ed2-da21-4281-9077-a24ba87c8d37": {
     "id": "a0483ed2-da21-4281-9077-a24ba87c8d37",
     "prev": "9582233b-c3b9-420d-b9d5-b5692f91678b",
     "regions": {
      "0fe5fbff-327f-4fc9-9895-7b4f5651b23e": {
       "attrs": {
        "height": 0.8,
        "width": 0.8,
        "x": 0.1,
        "y": 0.1
       },
       "content": {
        "cell": "2750e9c3-3097-43b1-bffd-e47c29cb37c6",
        "part": "whole"
       },
       "id": "0fe5fbff-327f-4fc9-9895-7b4f5651b23e"
      }
     }
    },
    "a0d1443a-34dd-4608-ab67-591ff0c3586e": {
     "id": "a0d1443a-34dd-4608-ab67-591ff0c3586e",
     "prev": "e32da28d-9a54-42af-b1c7-38b46b7a1331",
     "regions": {
      "f5d853ed-8b82-4fac-9398-389f07568d09": {
       "attrs": {
        "height": 0.8,
        "width": 0.8,
        "x": 0.1,
        "y": 0.1
       },
       "content": {
        "cell": "901f2b42-a597-4e4b-9b24-da5159c08e31",
        "part": "whole"
       },
       "id": "f5d853ed-8b82-4fac-9398-389f07568d09"
      }
     }
    },
    "a0fb0da7-f1b0-4d62-8668-3c9efa4201a6": {
     "id": "a0fb0da7-f1b0-4d62-8668-3c9efa4201a6",
     "prev": "98236484-fe9a-4511-9b20-f814edebd2af",
     "regions": {
      "15119b41-0ed2-433c-9453-d17665e66a2d": {
       "attrs": {
        "height": 0.8,
        "width": 0.8,
        "x": 0.1,
        "y": 0.1
       },
       "content": {
        "cell": "f40c4ad1-87a0-4ae1-9730-0353fd4a27b7",
        "part": "whole"
       },
       "id": "15119b41-0ed2-433c-9453-d17665e66a2d"
      }
     }
    },
    "a1c6fe6e-d87a-48db-9cfa-fd4b8327ba94": {
     "id": "a1c6fe6e-d87a-48db-9cfa-fd4b8327ba94",
     "prev": "e29a4172-a93b-4175-82ee-073c748010b6",
     "regions": {
      "85489256-6d65-4e6b-b5ee-da2ade92bf64": {
       "attrs": {
        "height": 0.8,
        "width": 0.8,
        "x": 0.1,
        "y": 0.1
       },
       "content": {
        "cell": "d21e5ba4-7d5a-43f5-ad63-685d4092d50f",
        "part": "whole"
       },
       "id": "85489256-6d65-4e6b-b5ee-da2ade92bf64"
      }
     }
    },
    "a1f3c7fe-e63b-4ba7-9597-e76cca7b358b": {
     "id": "a1f3c7fe-e63b-4ba7-9597-e76cca7b358b",
     "prev": "bf870958-ffa1-4a4b-a23c-9cc1af8f0a44",
     "regions": {
      "628010e2-bd75-444b-a460-cef0c33f1fc9": {
       "attrs": {
        "height": 0.8,
        "width": 0.8,
        "x": 0.1,
        "y": 0.1
       },
       "content": {
        "cell": "cacc51ce-efe1-4581-abe4-5ec41862a8b6",
        "part": "whole"
       },
       "id": "628010e2-bd75-444b-a460-cef0c33f1fc9"
      }
     }
    },
    "a243bbe6-0b15-4d23-8794-513d83d26f50": {
     "id": "a243bbe6-0b15-4d23-8794-513d83d26f50",
     "prev": "b2983040-4c07-4574-a138-5d9513cfcdcb",
     "regions": {
      "724193d8-8f73-4dd8-a1ed-051463137e29": {
       "attrs": {
        "height": 0.8,
        "width": 0.8,
        "x": 0.1,
        "y": 0.1
       },
       "content": {
        "cell": "9a972e37-cbe4-4561-8b8e-0df8ada434b5",
        "part": "whole"
       },
       "id": "724193d8-8f73-4dd8-a1ed-051463137e29"
      }
     }
    },
    "a4abf88b-b6cd-4312-b6f5-5afa84265a41": {
     "id": "a4abf88b-b6cd-4312-b6f5-5afa84265a41",
     "prev": "b36476e7-524e-40c1-9f53-74e65ecd715a",
     "regions": {
      "3a44ea9f-b339-4e39-80ca-6962ff7433dd": {
       "attrs": {
        "height": 0.8,
        "width": 0.8,
        "x": 0.1,
        "y": 0.1
       },
       "content": {
        "cell": "1793be7f-8f01-403d-ad48-38223d39bc55",
        "part": "whole"
       },
       "id": "3a44ea9f-b339-4e39-80ca-6962ff7433dd"
      }
     }
    },
    "a58e3eb9-fd3d-49f2-8748-5942c9807e5b": {
     "id": "a58e3eb9-fd3d-49f2-8748-5942c9807e5b",
     "prev": "7f570faf-c403-4bb4-b2bd-17048ec5d480",
     "regions": {
      "8319ee2e-8496-4dec-9e8b-63230f9f7029": {
       "attrs": {
        "height": 0.8,
        "width": 0.8,
        "x": 0.1,
        "y": 0.1
       },
       "content": {
        "cell": "0ad65efe-58fb-4e20-871e-f461b08ebd5c",
        "part": "whole"
       },
       "id": "8319ee2e-8496-4dec-9e8b-63230f9f7029"
      }
     }
    },
    "a8791401-1aab-4659-8663-23da2a1b82c1": {
     "id": "a8791401-1aab-4659-8663-23da2a1b82c1",
     "prev": "8f88a697-0a83-4945-bec0-79dfa38b6988",
     "regions": {
      "1a59fd0a-0c01-4557-8d5e-43dff15ddc3a": {
       "attrs": {
        "height": 0.8,
        "width": 0.8,
        "x": 0.1,
        "y": 0.1
       },
       "content": {
        "cell": "ee332501-d189-4e68-b951-7db8dba40034",
        "part": "whole"
       },
       "id": "1a59fd0a-0c01-4557-8d5e-43dff15ddc3a"
      }
     }
    },
    "ab0d111f-0399-4e70-85fd-c3da7fcfa6e8": {
     "id": "ab0d111f-0399-4e70-85fd-c3da7fcfa6e8",
     "prev": "950bc92b-1c6c-4869-a429-b48847ae7027",
     "regions": {
      "d438ebcb-e39e-4f36-a3d0-4e3f6bf50927": {
       "attrs": {
        "height": 0.8,
        "width": 0.8,
        "x": 0.1,
        "y": 0.1
       },
       "content": {
        "cell": "8268cc6a-5a31-43ec-b97c-d50bac3e1d50",
        "part": "whole"
       },
       "id": "d438ebcb-e39e-4f36-a3d0-4e3f6bf50927"
      }
     }
    },
    "ab51dd24-0908-4979-93e8-6801fffd5b94": {
     "id": "ab51dd24-0908-4979-93e8-6801fffd5b94",
     "prev": "959ae0eb-56ef-4faf-8285-b087e04f5e82",
     "regions": {
      "4c289ed6-f339-4c4c-b282-2b4c7557957f": {
       "attrs": {
        "height": 0.8,
        "width": 0.8,
        "x": 0.1,
        "y": 0.1
       },
       "content": {
        "cell": "8765693f-d7b7-41e6-a7b4-260653458d51",
        "part": "whole"
       },
       "id": "4c289ed6-f339-4c4c-b282-2b4c7557957f"
      }
     }
    },
    "b0ada1c3-d972-485a-adac-e32729155994": {
     "id": "b0ada1c3-d972-485a-adac-e32729155994",
     "prev": "08eb4783-c769-455c-9873-ba6af24041dd",
     "regions": {
      "fc79edae-e698-4e41-8db4-c8fa7dd42e43": {
       "attrs": {
        "height": 0.8,
        "width": 0.8,
        "x": 0.1,
        "y": 0.1
       },
       "content": {
        "cell": "3ba43a8c-d61c-4c0c-913c-6f3597a7d60a",
        "part": "whole"
       },
       "id": "fc79edae-e698-4e41-8db4-c8fa7dd42e43"
      }
     }
    },
    "b0fcc08f-79c9-4341-b472-c772f579a3af": {
     "id": "b0fcc08f-79c9-4341-b472-c772f579a3af",
     "prev": "612666e2-b643-4597-a29e-0464b205bac5",
     "regions": {
      "87f79519-c442-4e0e-b3e8-e58b27dacad1": {
       "attrs": {
        "height": 0.8,
        "width": 0.8,
        "x": 0.1,
        "y": 0.1
       },
       "content": {
        "cell": "13b996a2-1c01-4763-97f6-935e74d27470",
        "part": "whole"
       },
       "id": "87f79519-c442-4e0e-b3e8-e58b27dacad1"
      }
     }
    },
    "b12ba789-5849-44dc-8983-ab87b38ac80c": {
     "id": "b12ba789-5849-44dc-8983-ab87b38ac80c",
     "prev": "ffb83a36-0e3c-461b-b60e-989ec4d41745",
     "regions": {
      "266a79ce-90d9-4c3c-8a9f-d3b33439d58a": {
       "attrs": {
        "height": 0.8,
        "width": 0.8,
        "x": 0.1,
        "y": 0.1
       },
       "content": {
        "cell": "26bc276d-5226-4a3f-9a55-212c4f7b28d9",
        "part": "whole"
       },
       "id": "266a79ce-90d9-4c3c-8a9f-d3b33439d58a"
      }
     }
    },
    "b1603566-971c-4116-9076-ac9562372a4d": {
     "id": "b1603566-971c-4116-9076-ac9562372a4d",
     "prev": "fb083be3-6569-429a-a621-979059a68871",
     "regions": {
      "36355d50-8ccd-4269-bb6b-eb6762496a53": {
       "attrs": {
        "height": 0.8,
        "width": 0.8,
        "x": 0.1,
        "y": 0.1
       },
       "content": {
        "cell": "7ad00214-dd63-45a4-b14f-6abc09cb9551",
        "part": "whole"
       },
       "id": "36355d50-8ccd-4269-bb6b-eb6762496a53"
      }
     }
    },
    "b160a95a-03e0-4e49-8c5b-4cf17ca095fd": {
     "id": "b160a95a-03e0-4e49-8c5b-4cf17ca095fd",
     "prev": "2f3a7d38-82ef-49bf-a1a8-3065b0e5fc30",
     "regions": {
      "26981890-3fe4-4783-b357-51a4ba0abb00": {
       "attrs": {
        "height": 0.8,
        "width": 0.8,
        "x": 0.1,
        "y": 0.1
       },
       "content": {
        "cell": "38c334bf-3534-4cfb-9059-038d642e3f0c",
        "part": "whole"
       },
       "id": "26981890-3fe4-4783-b357-51a4ba0abb00"
      }
     }
    },
    "b1f38e06-8a34-4d98-a567-c9e97060d3d8": {
     "id": "b1f38e06-8a34-4d98-a567-c9e97060d3d8",
     "prev": "972378dc-ce84-4d9e-bbb3-39758509cea4",
     "regions": {
      "832770e9-0782-41fa-90f7-8aa08c26a65b": {
       "attrs": {
        "height": 0.8,
        "width": 0.8,
        "x": 0.1,
        "y": 0.1
       },
       "content": {
        "cell": "f4562b1c-1aa4-4531-a123-d3c367d9b322",
        "part": "whole"
       },
       "id": "832770e9-0782-41fa-90f7-8aa08c26a65b"
      }
     }
    },
    "b2345776-8c3e-4144-87c4-45d87f5398d4": {
     "id": "b2345776-8c3e-4144-87c4-45d87f5398d4",
     "prev": "47c45953-7969-4414-8c6d-dea79b5faaa4",
     "regions": {
      "d13adbe0-01ff-4bf7-9b34-8daf9b4c7d2d": {
       "attrs": {
        "height": 0.8,
        "width": 0.8,
        "x": 0.1,
        "y": 0.1
       },
       "content": {
        "cell": "14e9efaa-104b-434f-902d-cfccabbe54a3",
        "part": "whole"
       },
       "id": "d13adbe0-01ff-4bf7-9b34-8daf9b4c7d2d"
      }
     }
    },
    "b241bad1-bb8d-4b15-a1c7-d47b39488578": {
     "id": "b241bad1-bb8d-4b15-a1c7-d47b39488578",
     "prev": "214d324c-4421-4453-934e-ecc99a3c70c1",
     "regions": {
      "417e9775-c4c2-4d22-abfe-d2a06c78b6e1": {
       "attrs": {
        "height": 0.8,
        "width": 0.8,
        "x": 0.1,
        "y": 0.1
       },
       "content": {
        "cell": "96a217c3-e6cd-46c6-9526-cc046327c636",
        "part": "whole"
       },
       "id": "417e9775-c4c2-4d22-abfe-d2a06c78b6e1"
      }
     }
    },
    "b2983040-4c07-4574-a138-5d9513cfcdcb": {
     "id": "b2983040-4c07-4574-a138-5d9513cfcdcb",
     "prev": "de768986-83fa-463a-b88b-08ff46c52296",
     "regions": {
      "c42b9dcc-68c2-4866-bc7f-b247d6487583": {
       "attrs": {
        "height": 0.8,
        "width": 0.8,
        "x": 0.1,
        "y": 0.1
       },
       "content": {
        "cell": "cb7303d4-8afa-4972-93d4-5ca8d3e709dc",
        "part": "whole"
       },
       "id": "c42b9dcc-68c2-4866-bc7f-b247d6487583"
      }
     }
    },
    "b2e98f9a-afb8-49d4-a5d1-f215d2f04f89": {
     "id": "b2e98f9a-afb8-49d4-a5d1-f215d2f04f89",
     "prev": "9329a1c5-bad3-41fd-b04b-99914fb06f16",
     "regions": {
      "47eb6df7-3b41-4d80-b372-3d90d43d4036": {
       "attrs": {
        "height": 0.8,
        "width": 0.8,
        "x": 0.1,
        "y": 0.1
       },
       "content": {
        "cell": "68809483-8283-4adb-9454-80f8d16a221c",
        "part": "whole"
       },
       "id": "47eb6df7-3b41-4d80-b372-3d90d43d4036"
      }
     }
    },
    "b36476e7-524e-40c1-9f53-74e65ecd715a": {
     "id": "b36476e7-524e-40c1-9f53-74e65ecd715a",
     "prev": "b0ada1c3-d972-485a-adac-e32729155994",
     "regions": {
      "b920f22a-458c-4154-b794-7193146025fd": {
       "attrs": {
        "height": 0.8,
        "width": 0.8,
        "x": 0.1,
        "y": 0.1
       },
       "content": {
        "cell": "7a906440-187f-4e55-ba7f-4f996f8f1315",
        "part": "whole"
       },
       "id": "b920f22a-458c-4154-b794-7193146025fd"
      }
     }
    },
    "b3c49f08-d834-4326-96d7-beccb4a23566": {
     "id": "b3c49f08-d834-4326-96d7-beccb4a23566",
     "prev": "9e18c418-cd00-49ce-a7c8-408ba8ac3544",
     "regions": {
      "25ae15e9-a547-4ae0-b05d-96a72339f089": {
       "attrs": {
        "height": 0.8,
        "width": 0.8,
        "x": 0.1,
        "y": 0.1
       },
       "content": {
        "cell": "2620662d-4306-404f-89d8-1d31856f7c9b",
        "part": "whole"
       },
       "id": "25ae15e9-a547-4ae0-b05d-96a72339f089"
      }
     }
    },
    "b553fd33-88e8-4685-84c6-f24244748dab": {
     "id": "b553fd33-88e8-4685-84c6-f24244748dab",
     "prev": "fb3c2e19-77e1-4069-a529-2930373574aa",
     "regions": {
      "bd9799b8-cb26-4b90-a6fa-80a4f3054be8": {
       "attrs": {
        "height": 0.8,
        "width": 0.8,
        "x": 0.1,
        "y": 0.1
       },
       "content": {
        "cell": "3d4b6d9f-61a5-4f31-adcd-db9380e6ed40",
        "part": "whole"
       },
       "id": "bd9799b8-cb26-4b90-a6fa-80a4f3054be8"
      }
     }
    },
    "b559ec2a-65b1-4d42-9f85-618e73be5bc3": {
     "id": "b559ec2a-65b1-4d42-9f85-618e73be5bc3",
     "prev": "6b2677d4-188d-41a3-9119-5d1f933ac043",
     "regions": {
      "a2a0d784-5c0a-4ba3-bacb-df828e0514ab": {
       "attrs": {
        "height": 0.8,
        "width": 0.8,
        "x": 0.1,
        "y": 0.1
       },
       "content": {
        "cell": "f2186795-b8ac-46fb-8791-b7fd168d9b53",
        "part": "whole"
       },
       "id": "a2a0d784-5c0a-4ba3-bacb-df828e0514ab"
      }
     }
    },
    "b71ccae4-18e3-40c7-930a-d0bfdef3ecec": {
     "id": "b71ccae4-18e3-40c7-930a-d0bfdef3ecec",
     "prev": "5747bead-b501-4608-985b-2beaebeac070",
     "regions": {
      "927d47dd-765f-4cbe-b1b3-70766670fd70": {
       "attrs": {
        "height": 0.8,
        "width": 0.8,
        "x": 0.1,
        "y": 0.1
       },
       "content": {
        "cell": "f0cd7fa7-ba63-43f7-b369-e1f7ba3663de",
        "part": "whole"
       },
       "id": "927d47dd-765f-4cbe-b1b3-70766670fd70"
      }
     }
    },
    "b756aa7a-f5eb-4da6-b93b-8ac30d62bd48": {
     "id": "b756aa7a-f5eb-4da6-b93b-8ac30d62bd48",
     "prev": "bcad2f91-2859-408b-93d1-c8436b7ee05d",
     "regions": {
      "0beeca63-b368-402c-82bd-b8068cb160be": {
       "attrs": {
        "height": 0.8,
        "width": 0.8,
        "x": 0.1,
        "y": 0.1
       },
       "content": {
        "cell": "5328ac3e-2e28-4334-bd78-9ee516a9aec2",
        "part": "whole"
       },
       "id": "0beeca63-b368-402c-82bd-b8068cb160be"
      }
     }
    },
    "b79daec1-1a12-40d8-af9a-34e2c9f91abc": {
     "id": "b79daec1-1a12-40d8-af9a-34e2c9f91abc",
     "prev": "1d3951de-5d65-4049-9de9-26b1955e8d97",
     "regions": {
      "e0ba8510-98c2-42d1-ae3f-db6ef8c63aa7": {
       "attrs": {
        "height": 0.8,
        "width": 0.8,
        "x": 0.1,
        "y": 0.1
       },
       "content": {
        "cell": "de0947cc-f904-4036-8ac1-70db65a89192",
        "part": "whole"
       },
       "id": "e0ba8510-98c2-42d1-ae3f-db6ef8c63aa7"
      }
     }
    },
    "b978d022-9563-48ea-b904-89d1fad287d8": {
     "id": "b978d022-9563-48ea-b904-89d1fad287d8",
     "prev": "c7b77453-cd40-464f-bc10-3d2e22d032e5",
     "regions": {
      "0d8b528d-0d91-4aba-92ba-64445d01eb00": {
       "attrs": {
        "height": 0.8,
        "width": 0.8,
        "x": 0.1,
        "y": 0.1
       },
       "content": {
        "cell": "c542935f-2ed0-4a67-8346-52b3958ca93a",
        "part": "whole"
       },
       "id": "0d8b528d-0d91-4aba-92ba-64445d01eb00"
      }
     }
    },
    "baea4f48-d134-4528-b5ee-f2b35683a94d": {
     "id": "baea4f48-d134-4528-b5ee-f2b35683a94d",
     "prev": "40f979d9-4d69-4943-8beb-c5568141dd85",
     "regions": {
      "330140c0-96e2-4583-bea8-31d88510a072": {
       "attrs": {
        "height": 0.8,
        "width": 0.8,
        "x": 0.1,
        "y": 0.1
       },
       "content": {
        "cell": "c765f1ed-6b51-4e73-8455-008df053bfa4",
        "part": "whole"
       },
       "id": "330140c0-96e2-4583-bea8-31d88510a072"
      }
     }
    },
    "bcad2f91-2859-408b-93d1-c8436b7ee05d": {
     "id": "bcad2f91-2859-408b-93d1-c8436b7ee05d",
     "prev": "d372279f-7800-48fa-a793-171358c190e6",
     "regions": {
      "116bb051-1c1c-4bf6-8204-fb84e3846ff2": {
       "attrs": {
        "height": 0.8,
        "width": 0.8,
        "x": 0.1,
        "y": 0.1
       },
       "content": {
        "cell": "f9119326-46ef-4cfe-94c1-ad3a5fdacf2f",
        "part": "whole"
       },
       "id": "116bb051-1c1c-4bf6-8204-fb84e3846ff2"
      }
     }
    },
    "bf374587-260f-4a6f-8121-8a9fbf21cfc9": {
     "id": "bf374587-260f-4a6f-8121-8a9fbf21cfc9",
     "prev": "7b86af1f-2fda-4fe8-884a-cc4ac362a8e3",
     "regions": {
      "f3815ad0-7f72-49c7-99f5-f106bc23f10b": {
       "attrs": {
        "height": 0.8,
        "width": 0.8,
        "x": 0.1,
        "y": 0.1
       },
       "content": {
        "cell": "92bd2340-0541-4c47-afc7-dd03f81e12ab",
        "part": "whole"
       },
       "id": "f3815ad0-7f72-49c7-99f5-f106bc23f10b"
      }
     }
    },
    "bf60e95f-848d-465e-a7dd-3e179eb868d8": {
     "id": "bf60e95f-848d-465e-a7dd-3e179eb868d8",
     "prev": "baea4f48-d134-4528-b5ee-f2b35683a94d",
     "regions": {
      "5e45f88d-73a2-412e-b7df-428ba6fe33f6": {
       "attrs": {
        "height": 0.8,
        "width": 0.8,
        "x": 0.1,
        "y": 0.1
       },
       "content": {
        "cell": "8d0b6391-5906-45b4-9e7d-550c3032fd0a",
        "part": "whole"
       },
       "id": "5e45f88d-73a2-412e-b7df-428ba6fe33f6"
      }
     }
    },
    "bf822ce0-33bf-4091-bd2b-21fe92cd2adf": {
     "id": "bf822ce0-33bf-4091-bd2b-21fe92cd2adf",
     "prev": "ab51dd24-0908-4979-93e8-6801fffd5b94",
     "regions": {
      "6f93e82a-1153-4aa6-8c86-c976a2df7da2": {
       "attrs": {
        "height": 0.8,
        "width": 0.8,
        "x": 0.1,
        "y": 0.1
       },
       "content": {
        "cell": "7af77f7f-efa8-410d-ade5-a6c42f315bbd",
        "part": "whole"
       },
       "id": "6f93e82a-1153-4aa6-8c86-c976a2df7da2"
      }
     }
    },
    "bf870958-ffa1-4a4b-a23c-9cc1af8f0a44": {
     "id": "bf870958-ffa1-4a4b-a23c-9cc1af8f0a44",
     "prev": "1cb56984-13ea-4c80-840d-a3477056369b",
     "regions": {
      "b466ae59-1c61-40fc-8934-a07337234ea0": {
       "attrs": {
        "height": 0.8,
        "width": 0.8,
        "x": 0.1,
        "y": 0.1
       },
       "content": {
        "cell": "a9b67126-8a45-4283-aa10-487a5b6f0d68",
        "part": "whole"
       },
       "id": "b466ae59-1c61-40fc-8934-a07337234ea0"
      }
     }
    },
    "c00f47e5-addc-4a80-9029-4b6f3f71696e": {
     "id": "c00f47e5-addc-4a80-9029-4b6f3f71696e",
     "prev": "56ba8476-a2d5-4b96-acca-a90c6b5bc41c",
     "regions": {
      "9967991b-349d-4e50-b6d8-a5773180d920": {
       "attrs": {
        "height": 0.8,
        "width": 0.8,
        "x": 0.1,
        "y": 0.1
       },
       "content": {
        "cell": "6590b826-8ed5-4f0b-8117-f8437cdd09f4",
        "part": "whole"
       },
       "id": "9967991b-349d-4e50-b6d8-a5773180d920"
      }
     }
    },
    "c078468a-4c6c-4bdf-82b2-a703974da6c1": {
     "id": "c078468a-4c6c-4bdf-82b2-a703974da6c1",
     "prev": "5e6b91c7-6144-4659-ba33-6679842efe7d",
     "regions": {
      "9f88aad8-0661-4135-86f9-1890d423a1ab": {
       "attrs": {
        "height": 0.8,
        "width": 0.8,
        "x": 0.1,
        "y": 0.1
       },
       "content": {
        "cell": "dd69cf18-38ef-44c3-9f4e-0bfb06fc4031",
        "part": "whole"
       },
       "id": "9f88aad8-0661-4135-86f9-1890d423a1ab"
      }
     }
    },
    "c326b35b-a6f6-4c32-a0fa-13323f345f5d": {
     "id": "c326b35b-a6f6-4c32-a0fa-13323f345f5d",
     "prev": "382f82c3-55e4-4072-ab07-d386bd36a7f2",
     "regions": {
      "3dbeb3f1-cc1d-47e7-9622-9ebf0acac3f7": {
       "attrs": {
        "height": 0.8,
        "width": 0.8,
        "x": 0.1,
        "y": 0.1
       },
       "content": {
        "cell": "92fe084e-d11e-4f8f-88e3-97b2d52f373a",
        "part": "whole"
       },
       "id": "3dbeb3f1-cc1d-47e7-9622-9ebf0acac3f7"
      }
     }
    },
    "c3ab7085-5978-4e97-98c3-6381c2eb2363": {
     "id": "c3ab7085-5978-4e97-98c3-6381c2eb2363",
     "prev": "ea922b7c-288d-4520-8e58-813db979d2e3",
     "regions": {
      "d432db1a-9c75-4910-82e7-fc578af4ec56": {
       "attrs": {
        "height": 0.8,
        "width": 0.8,
        "x": 0.1,
        "y": 0.1
       },
       "content": {
        "cell": "9cdcdb8a-a465-4c53-a364-6f2de7b6fd7c",
        "part": "whole"
       },
       "id": "d432db1a-9c75-4910-82e7-fc578af4ec56"
      }
     }
    },
    "c549ab6c-d360-4883-9545-e3d39c8f6288": {
     "id": "c549ab6c-d360-4883-9545-e3d39c8f6288",
     "prev": "9fecb355-b504-4247-994c-0111f30de978",
     "regions": {
      "7bf6d845-61a0-4d44-a70b-49dfed203185": {
       "attrs": {
        "height": 0.8,
        "width": 0.8,
        "x": 0.1,
        "y": 0.1
       },
       "content": {
        "cell": "fd681d14-473b-48ef-9ab7-712dd83c2b35",
        "part": "whole"
       },
       "id": "7bf6d845-61a0-4d44-a70b-49dfed203185"
      }
     }
    },
    "c59269e8-2238-4edc-8de6-9995008ae120": {
     "id": "c59269e8-2238-4edc-8de6-9995008ae120",
     "prev": "d34b32c1-56ba-410c-baad-c6f7ad086ead",
     "regions": {
      "68bb9df2-fb16-499c-ab12-f4755f1347d3": {
       "attrs": {
        "height": 0.8,
        "width": 0.8,
        "x": 0.1,
        "y": 0.1
       },
       "content": {
        "cell": "a2690ea0-c771-4922-9a7b-16b2045e4a22",
        "part": "whole"
       },
       "id": "68bb9df2-fb16-499c-ab12-f4755f1347d3"
      }
     }
    },
    "c5f471cc-cf0e-4739-b739-5764602cf65b": {
     "id": "c5f471cc-cf0e-4739-b739-5764602cf65b",
     "prev": "d24dc1f1-6a02-4e16-a00d-6f4e214bb0d1",
     "regions": {
      "ad097066-087a-4a39-a319-72855681d5f5": {
       "attrs": {
        "height": 0.8,
        "width": 0.8,
        "x": 0.1,
        "y": 0.1
       },
       "content": {
        "cell": "32221652-1bfc-4091-badb-9879463a17dd",
        "part": "whole"
       },
       "id": "ad097066-087a-4a39-a319-72855681d5f5"
      }
     }
    },
    "c67596a9-71b8-480c-956e-9403f13133a8": {
     "id": "c67596a9-71b8-480c-956e-9403f13133a8",
     "prev": "1a678a28-1cde-4f8c-aa6f-48c0f77ea0df",
     "regions": {
      "3ee1688b-19c8-4686-a3c8-94719c2ed0bb": {
       "attrs": {
        "height": 0.8,
        "width": 0.8,
        "x": 0.1,
        "y": 0.1
       },
       "content": {
        "cell": "240965c7-6827-4f1d-b8fa-584e7c2b30c4",
        "part": "whole"
       },
       "id": "3ee1688b-19c8-4686-a3c8-94719c2ed0bb"
      }
     }
    },
    "c7b77453-cd40-464f-bc10-3d2e22d032e5": {
     "id": "c7b77453-cd40-464f-bc10-3d2e22d032e5",
     "prev": "1a8d2008-9963-4965-8891-e2f1264353e3",
     "regions": {
      "dcdc59d0-f661-45af-ab55-34a7dbeecc79": {
       "attrs": {
        "height": 0.8,
        "width": 0.8,
        "x": 0.1,
        "y": 0.1
       },
       "content": {
        "cell": "164278f2-d27d-4a30-8564-f57ef704dd6a",
        "part": "whole"
       },
       "id": "dcdc59d0-f661-45af-ab55-34a7dbeecc79"
      }
     }
    },
    "c89c6737-ad39-498d-b6c7-b4327745a02e": {
     "id": "c89c6737-ad39-498d-b6c7-b4327745a02e",
     "prev": "2907ba63-3d55-4616-b999-d4cb12e3a195",
     "regions": {
      "7a0e0eb7-6049-4ef7-8e3d-1c640cb5398d": {
       "attrs": {
        "height": 0.8,
        "width": 0.8,
        "x": 0.1,
        "y": 0.1
       },
       "content": {
        "cell": "98fa3ead-f245-4c96-8614-c7821b6a93c6",
        "part": "whole"
       },
       "id": "7a0e0eb7-6049-4ef7-8e3d-1c640cb5398d"
      }
     }
    },
    "ccae361e-c044-4e13-8a6e-9192d35f6e9a": {
     "id": "ccae361e-c044-4e13-8a6e-9192d35f6e9a",
     "prev": "b1603566-971c-4116-9076-ac9562372a4d",
     "regions": {
      "d6372be5-fee6-4eb6-8709-0fafb336073b": {
       "attrs": {
        "height": 0.8,
        "width": 0.8,
        "x": 0.1,
        "y": 0.1
       },
       "content": {
        "cell": "d2e2bccc-dcdc-4390-acab-a005db08d47b",
        "part": "whole"
       },
       "id": "d6372be5-fee6-4eb6-8709-0fafb336073b"
      }
     }
    },
    "cdcc4ddf-d1bd-4683-ba3f-2d5686fd5e31": {
     "id": "cdcc4ddf-d1bd-4683-ba3f-2d5686fd5e31",
     "prev": "a0d1443a-34dd-4608-ab67-591ff0c3586e",
     "regions": {
      "f54f96c7-45ec-4587-bf52-2bd3bc87a78b": {
       "attrs": {
        "height": 0.8,
        "width": 0.8,
        "x": 0.1,
        "y": 0.1
       },
       "content": {
        "cell": "d5fac765-e07c-484f-af3f-ce2abd108e9c",
        "part": "whole"
       },
       "id": "f54f96c7-45ec-4587-bf52-2bd3bc87a78b"
      }
     }
    },
    "cf9af88f-23ca-4a53-a8ec-508082d0db17": {
     "id": "cf9af88f-23ca-4a53-a8ec-508082d0db17",
     "prev": "2e13a442-b600-4a7a-b68f-3646d0953780",
     "regions": {
      "932c7be8-57b9-4679-9ba5-6080e47b4716": {
       "attrs": {
        "height": 0.8,
        "width": 0.8,
        "x": 0.1,
        "y": 0.1
       },
       "content": {
        "cell": "2d36d28f-08c0-4fe1-988b-3407bc991118",
        "part": "whole"
       },
       "id": "932c7be8-57b9-4679-9ba5-6080e47b4716"
      }
     }
    },
    "cf9b4f9c-7c46-4c40-bcf4-ad7d513e7a7b": {
     "id": "cf9b4f9c-7c46-4c40-bcf4-ad7d513e7a7b",
     "prev": "1bd582f0-d7aa-428b-bfa8-49c556d34ca5",
     "regions": {
      "704f861c-9586-44c4-b248-ebc86616f764": {
       "attrs": {
        "height": 0.8,
        "width": 0.8,
        "x": 0.1,
        "y": 0.1
       },
       "content": {
        "cell": "bf87f5dd-f3d6-4ad8-8241-5c85c9971d5b",
        "part": "whole"
       },
       "id": "704f861c-9586-44c4-b248-ebc86616f764"
      }
     }
    },
    "d07f7ab1-42c5-41df-b421-d16eea8fa91e": {
     "id": "d07f7ab1-42c5-41df-b421-d16eea8fa91e",
     "prev": "16c691e9-a611-4e69-8c19-d553416c2771",
     "regions": {
      "821bbc16-f7b9-4718-92c8-5d85b856a41e": {
       "attrs": {
        "height": 0.8,
        "width": 0.8,
        "x": 0.1,
        "y": 0.1
       },
       "content": {
        "cell": "f5e9e3b3-abd6-4e24-96e7-a2560587631f",
        "part": "whole"
       },
       "id": "821bbc16-f7b9-4718-92c8-5d85b856a41e"
      }
     }
    },
    "d1a398c2-1183-42e0-9cdc-45de0aa57f3d": {
     "id": "d1a398c2-1183-42e0-9cdc-45de0aa57f3d",
     "prev": "2126957c-686d-4b78-bb76-5c64d1394ca6",
     "regions": {
      "6eb64814-ffd9-4471-aea3-352d1fa17467": {
       "attrs": {
        "height": 0.8,
        "width": 0.8,
        "x": 0.1,
        "y": 0.1
       },
       "content": {
        "cell": "089db10e-2db4-4205-81ae-15b50d4f8867",
        "part": "whole"
       },
       "id": "6eb64814-ffd9-4471-aea3-352d1fa17467"
      }
     }
    },
    "d24dc1f1-6a02-4e16-a00d-6f4e214bb0d1": {
     "id": "d24dc1f1-6a02-4e16-a00d-6f4e214bb0d1",
     "prev": "a58e3eb9-fd3d-49f2-8748-5942c9807e5b",
     "regions": {
      "aff3c927-1269-4f5a-b59f-5524cda3d0ce": {
       "attrs": {
        "height": 0.8,
        "width": 0.8,
        "x": 0.1,
        "y": 0.1
       },
       "content": {
        "cell": "75ed364f-c2cb-4446-8a50-7a4dfcd7d601",
        "part": "whole"
       },
       "id": "aff3c927-1269-4f5a-b59f-5524cda3d0ce"
      }
     }
    },
    "d34b32c1-56ba-410c-baad-c6f7ad086ead": {
     "id": "d34b32c1-56ba-410c-baad-c6f7ad086ead",
     "prev": "2b139a20-32d2-494f-acdf-9b1f299b1eb6",
     "regions": {
      "f9fcc7ec-757b-4cc6-a9a0-d6ce587c4e02": {
       "attrs": {
        "height": 0.8,
        "width": 0.8,
        "x": 0.1,
        "y": 0.1
       },
       "content": {
        "cell": "e480ed11-1409-40e7-a620-f2d5c5fd4ced",
        "part": "whole"
       },
       "id": "f9fcc7ec-757b-4cc6-a9a0-d6ce587c4e02"
      }
     }
    },
    "d372279f-7800-48fa-a793-171358c190e6": {
     "id": "d372279f-7800-48fa-a793-171358c190e6",
     "prev": "4500369c-f202-41f5-9ad8-3888c4f9c3e4",
     "regions": {
      "fd309e5b-eca1-4a97-9195-83585c8bebfd": {
       "attrs": {
        "height": 0.8,
        "width": 0.8,
        "x": 0.1,
        "y": 0.1
       },
       "content": {
        "cell": "b6293a65-cc53-4fc5-9e22-d08ada18eff3",
        "part": "whole"
       },
       "id": "fd309e5b-eca1-4a97-9195-83585c8bebfd"
      }
     }
    },
    "d7e3474d-0c42-446f-855d-a7880b74d88f": {
     "id": "d7e3474d-0c42-446f-855d-a7880b74d88f",
     "prev": "2afe6a78-7508-4da5-9141-82282c029657",
     "regions": {
      "1d96bf6e-a0ea-4948-9a12-07860e2aae92": {
       "attrs": {
        "height": 0.8,
        "width": 0.8,
        "x": 0.1,
        "y": 0.1
       },
       "content": {
        "cell": "5659864e-2653-4aa8-8a08-58f73c809ac5",
        "part": "whole"
       },
       "id": "1d96bf6e-a0ea-4948-9a12-07860e2aae92"
      }
     }
    },
    "d8a4a668-86ba-470d-bb7a-df8740709c35": {
     "id": "d8a4a668-86ba-470d-bb7a-df8740709c35",
     "prev": "6dc48835-c8db-4d5c-b439-9e09404b43df",
     "regions": {
      "c34bca53-d9e4-491b-b4bf-c1c45a869734": {
       "attrs": {
        "height": 0.8,
        "width": 0.8,
        "x": 0.1,
        "y": 0.1
       },
       "content": {
        "cell": "4de06592-8a53-4939-8858-c3418932d319",
        "part": "whole"
       },
       "id": "c34bca53-d9e4-491b-b4bf-c1c45a869734"
      }
     }
    },
    "dd307d17-6faf-46dc-8917-eb460a3d2c98": {
     "id": "dd307d17-6faf-46dc-8917-eb460a3d2c98",
     "prev": "959d1603-98b0-4787-8cbe-a61ec71f0554",
     "regions": {
      "59ece414-5572-408a-8ee8-8dc8e5b9a6ae": {
       "attrs": {
        "height": 0.8,
        "width": 0.8,
        "x": 0.1,
        "y": 0.1
       },
       "content": {
        "cell": "88df7871-b7a7-4749-aa97-bb1581aa6b9f",
        "part": "whole"
       },
       "id": "59ece414-5572-408a-8ee8-8dc8e5b9a6ae"
      }
     }
    },
    "de768986-83fa-463a-b88b-08ff46c52296": {
     "id": "de768986-83fa-463a-b88b-08ff46c52296",
     "prev": "845e7113-a68d-4e21-8ed7-829dfda9baa4",
     "regions": {
      "097873a7-5c94-47ab-9466-a1f22fc34f90": {
       "attrs": {
        "height": 0.8,
        "width": 0.8,
        "x": 0.1,
        "y": 0.1
       },
       "content": {
        "cell": "bd275eec-72b1-4a7e-a9a4-1c35f7b0fddd",
        "part": "whole"
       },
       "id": "097873a7-5c94-47ab-9466-a1f22fc34f90"
      }
     }
    },
    "df09c2d3-d3c4-4c0f-a250-0d11e401e4eb": {
     "id": "df09c2d3-d3c4-4c0f-a250-0d11e401e4eb",
     "prev": "8953c4f4-fe74-4300-8cd2-4d7228d80df2",
     "regions": {
      "a4652039-fa9e-4be0-819b-ff34779ae925": {
       "attrs": {
        "height": 0.8,
        "width": 0.8,
        "x": 0.1,
        "y": 0.1
       },
       "content": {
        "cell": "5b2a66fb-fe90-4844-b3c7-8c81cf07e518",
        "part": "whole"
       },
       "id": "a4652039-fa9e-4be0-819b-ff34779ae925"
      }
     }
    },
    "e29a4172-a93b-4175-82ee-073c748010b6": {
     "id": "e29a4172-a93b-4175-82ee-073c748010b6",
     "prev": "b3c49f08-d834-4326-96d7-beccb4a23566",
     "regions": {
      "833075d0-ac71-4894-bea3-29a2847e1701": {
       "attrs": {
        "height": 0.8,
        "width": 0.8,
        "x": 0.1,
        "y": 0.1
       },
       "content": {
        "cell": "189ea975-ed87-49b6-a726-d98c400320a7",
        "part": "whole"
       },
       "id": "833075d0-ac71-4894-bea3-29a2847e1701"
      }
     }
    },
    "e30dcffa-026a-41c8-ae4c-4918e1d4d523": {
     "id": "e30dcffa-026a-41c8-ae4c-4918e1d4d523",
     "prev": "3e7712b9-1447-4c2f-8e80-b057d86e00d5",
     "regions": {
      "bec17de2-5aba-4162-b30c-023f731a58ce": {
       "attrs": {
        "height": 0.8,
        "width": 0.8,
        "x": 0.1,
        "y": 0.1
       },
       "content": {
        "cell": "ad5fbdc7-cedc-461d-8dd9-183a7527faaa",
        "part": "whole"
       },
       "id": "bec17de2-5aba-4162-b30c-023f731a58ce"
      }
     }
    },
    "e32da28d-9a54-42af-b1c7-38b46b7a1331": {
     "id": "e32da28d-9a54-42af-b1c7-38b46b7a1331",
     "prev": "7594b516-2325-41e9-91e3-e1d8be3b8e66",
     "regions": {
      "962b81cb-84cd-48ba-8515-9df4e16c26cc": {
       "attrs": {
        "height": 0.8,
        "width": 0.8,
        "x": 0.1,
        "y": 0.1
       },
       "content": {
        "cell": "bf7ccfaa-a7af-4eb1-894d-7a8d24c81325",
        "part": "whole"
       },
       "id": "962b81cb-84cd-48ba-8515-9df4e16c26cc"
      }
     }
    },
    "e3b891c2-2ab2-4825-bd0b-7fd0a16a4c4a": {
     "id": "e3b891c2-2ab2-4825-bd0b-7fd0a16a4c4a",
     "prev": "42a73f2d-f2f6-4887-b18b-322bb7005494",
     "regions": {
      "8b0f9337-faee-4931-b4fc-72fbff2ecfa0": {
       "attrs": {
        "height": 0.8,
        "width": 0.8,
        "x": 0.1,
        "y": 0.1
       },
       "content": {
        "cell": "cb51d48e-fa5a-41d6-8ce1-9c5be742a1eb",
        "part": "whole"
       },
       "id": "8b0f9337-faee-4931-b4fc-72fbff2ecfa0"
      }
     }
    },
    "e63ce30c-a782-4ad7-b39d-51000de367c2": {
     "id": "e63ce30c-a782-4ad7-b39d-51000de367c2",
     "prev": "21a8b2ac-0305-44e0-a05b-a6f659e1dccc",
     "regions": {
      "891f7503-4e8e-4b5a-85bb-23671f852014": {
       "attrs": {
        "height": 0.8,
        "width": 0.8,
        "x": 0.1,
        "y": 0.1
       },
       "content": {
        "cell": "bd96fea2-7bdf-4da6-a774-0637abd569a9",
        "part": "whole"
       },
       "id": "891f7503-4e8e-4b5a-85bb-23671f852014"
      }
     }
    },
    "e98fb236-c859-4f44-a8f1-3c17b819f1bc": {
     "id": "e98fb236-c859-4f44-a8f1-3c17b819f1bc",
     "prev": "6f4b335c-9a5b-4482-93ac-94ddb872d672",
     "regions": {
      "105c9c38-83e8-4f62-86c2-7f635cae3b9f": {
       "attrs": {
        "height": 0.8,
        "width": 0.8,
        "x": 0.1,
        "y": 0.1
       },
       "content": {
        "cell": "4f0059c2-d133-4eee-b6ef-93b48e6b3423",
        "part": "whole"
       },
       "id": "105c9c38-83e8-4f62-86c2-7f635cae3b9f"
      }
     }
    },
    "ea3d2d50-a46a-4f79-b149-6539f030abff": {
     "id": "ea3d2d50-a46a-4f79-b149-6539f030abff",
     "prev": "b756aa7a-f5eb-4da6-b93b-8ac30d62bd48",
     "regions": {
      "9ba9a28b-86a7-41a8-8891-c56f8c421c2c": {
       "attrs": {
        "height": 0.8,
        "width": 0.8,
        "x": 0.1,
        "y": 0.1
       },
       "content": {
        "cell": "0adc2f67-ce9b-4f5d-80b3-1c8747c0f40d",
        "part": "whole"
       },
       "id": "9ba9a28b-86a7-41a8-8891-c56f8c421c2c"
      }
     }
    },
    "ea922b7c-288d-4520-8e58-813db979d2e3": {
     "id": "ea922b7c-288d-4520-8e58-813db979d2e3",
     "prev": "518d5369-8f3f-4ba9-93d2-41bd57bec863",
     "regions": {
      "9c50820c-37b3-4972-aa7c-a59719fb5c3c": {
       "attrs": {
        "height": 0.8,
        "width": 0.8,
        "x": 0.1,
        "y": 0.1
       },
       "content": {
        "cell": "2ccb1972-71b1-44b2-b60a-89fbe3671a48",
        "part": "whole"
       },
       "id": "9c50820c-37b3-4972-aa7c-a59719fb5c3c"
      }
     }
    },
    "ed117f04-0a2e-47e3-843c-e17ba64f0088": {
     "id": "ed117f04-0a2e-47e3-843c-e17ba64f0088",
     "prev": "e30dcffa-026a-41c8-ae4c-4918e1d4d523",
     "regions": {
      "4a1c5cab-3711-417c-ac28-5a2118da866a": {
       "attrs": {
        "height": 0.8,
        "width": 0.8,
        "x": 0.1,
        "y": 0.1
       },
       "content": {
        "cell": "3561b385-f876-4756-9c44-fc3c04dc64c9",
        "part": "whole"
       },
       "id": "4a1c5cab-3711-417c-ac28-5a2118da866a"
      }
     }
    },
    "ee491348-21a8-4873-9fc8-12eaa2185701": {
     "id": "ee491348-21a8-4873-9fc8-12eaa2185701",
     "prev": "b0fcc08f-79c9-4341-b472-c772f579a3af",
     "regions": {
      "e41300e8-efea-4fb1-9a03-c357dea4ae37": {
       "attrs": {
        "height": 0.8,
        "width": 0.8,
        "x": 0.1,
        "y": 0.1
       },
       "content": {
        "cell": "0bfdaf14-270c-470d-9866-b111d6d4427a",
        "part": "whole"
       },
       "id": "e41300e8-efea-4fb1-9a03-c357dea4ae37"
      }
     }
    },
    "f2a4778d-88b3-4aa6-9459-0a8ac2e01381": {
     "id": "f2a4778d-88b3-4aa6-9459-0a8ac2e01381",
     "prev": "3b6ef559-e5f4-420a-97de-58b02854f550",
     "regions": {
      "9b3267c7-c9d9-4ed0-bfd8-9f6d22143ed6": {
       "attrs": {
        "height": 0.8,
        "width": 0.8,
        "x": 0.1,
        "y": 0.1
       },
       "content": {
        "cell": "cbf62ad3-d8ff-4a4a-8f07-4d9e81b6877c",
        "part": "whole"
       },
       "id": "9b3267c7-c9d9-4ed0-bfd8-9f6d22143ed6"
      }
     }
    },
    "f2ed197b-aab1-451c-a9c5-08dc6707b50c": {
     "id": "f2ed197b-aab1-451c-a9c5-08dc6707b50c",
     "prev": null,
     "regions": {
      "67839203-5751-433f-9c8a-b210e889626d": {
       "attrs": {
        "height": 0.8,
        "width": 0.8,
        "x": 0.1,
        "y": 0.1
       },
       "content": {
        "cell": "fa818c5d-9472-47f7-b67b-e362a5bd6cf2",
        "part": "whole"
       },
       "id": "67839203-5751-433f-9c8a-b210e889626d"
      }
     }
    },
    "f442d0c7-909e-478f-9f73-7bd94e0f4e1d": {
     "id": "f442d0c7-909e-478f-9f73-7bd94e0f4e1d",
     "prev": "07a48364-d573-497a-bfd0-48ed87c9a491",
     "regions": {
      "41d18aea-2a79-44b7-ab4c-e01e3dc8b370": {
       "attrs": {
        "height": 0.8,
        "width": 0.8,
        "x": 0.1,
        "y": 0.1
       },
       "content": {
        "cell": "b4e45340-31dd-41e7-8fe2-a350d4f8c8d0",
        "part": "whole"
       },
       "id": "41d18aea-2a79-44b7-ab4c-e01e3dc8b370"
      }
     }
    },
    "f4a71178-3774-4725-8538-e4983a278247": {
     "id": "f4a71178-3774-4725-8538-e4983a278247",
     "prev": "64cb6fe6-3667-4f0a-ba9e-3f6bc3a18085",
     "regions": {
      "658982ae-0513-42a0-b6d2-51e718d4c96a": {
       "attrs": {
        "height": 0.8,
        "width": 0.8,
        "x": 0.1,
        "y": 0.1
       },
       "content": {
        "cell": "64038693-d1c7-422d-a3b6-52514889c6a6",
        "part": "whole"
       },
       "id": "658982ae-0513-42a0-b6d2-51e718d4c96a"
      }
     }
    },
    "f5eedb8c-7511-4944-bf6c-2b8cd5be9ba5": {
     "id": "f5eedb8c-7511-4944-bf6c-2b8cd5be9ba5",
     "prev": "31870918-3b54-460f-9c08-f336086e38fb",
     "regions": {
      "5c42e2a6-3808-4585-a80f-5c6635c96973": {
       "attrs": {
        "height": 0.8,
        "width": 0.8,
        "x": 0.1,
        "y": 0.1
       },
       "content": {
        "cell": "fb2b081c-45fa-400b-8613-045f1e1e73d9",
        "part": "whole"
       },
       "id": "5c42e2a6-3808-4585-a80f-5c6635c96973"
      }
     }
    },
    "f93fda01-aac5-443f-ba53-a5251e08c289": {
     "id": "f93fda01-aac5-443f-ba53-a5251e08c289",
     "prev": "0e59c6b6-93d4-4d9b-821e-82d9dad2a63b",
     "regions": {
      "3e36e555-581d-4f4e-a4a0-224eeb103516": {
       "attrs": {
        "height": 0.8,
        "width": 0.8,
        "x": 0.1,
        "y": 0.1
       },
       "content": {
        "cell": "99cf1f76-7169-473b-8c8f-260018d73905",
        "part": "whole"
       },
       "id": "3e36e555-581d-4f4e-a4a0-224eeb103516"
      }
     }
    },
    "fb083be3-6569-429a-a621-979059a68871": {
     "id": "fb083be3-6569-429a-a621-979059a68871",
     "prev": "763a90ea-612c-40ed-b77a-c6ad6863bcd8",
     "regions": {
      "38973034-94e2-44c3-b378-05be739c39e1": {
       "attrs": {
        "height": 0.8,
        "width": 0.8,
        "x": 0.1,
        "y": 0.1
       },
       "content": {
        "cell": "bd75ad63-f4ab-4588-b566-bcd9f8e7d3d7",
        "part": "whole"
       },
       "id": "38973034-94e2-44c3-b378-05be739c39e1"
      }
     }
    },
    "fb3c2e19-77e1-4069-a529-2930373574aa": {
     "id": "fb3c2e19-77e1-4069-a529-2930373574aa",
     "prev": "42459419-5460-43ba-9207-1faed13af20e",
     "regions": {
      "7bb22387-5106-423d-8911-c2aa0cd69559": {
       "attrs": {
        "height": 0.8,
        "width": 0.8,
        "x": 0.1,
        "y": 0.1
       },
       "content": {
        "cell": "62f418b2-f058-4d60-afda-dd4f9ba7f92f",
        "part": "whole"
       },
       "id": "7bb22387-5106-423d-8911-c2aa0cd69559"
      }
     }
    },
    "fbd47e92-d8aa-48d4-8072-7f1b2d6cc688": {
     "id": "fbd47e92-d8aa-48d4-8072-7f1b2d6cc688",
     "prev": "62766d5d-a790-4b6e-babe-5775180bb71e",
     "regions": {
      "3123ac43-ca8d-4085-80c7-aae87b915ba1": {
       "attrs": {
        "height": 0.8,
        "width": 0.8,
        "x": 0.1,
        "y": 0.1
       },
       "content": {
        "cell": "5eb3396f-42bc-4c1c-8ffb-92c6dfcf4a01",
        "part": "whole"
       },
       "id": "3123ac43-ca8d-4085-80c7-aae87b915ba1"
      }
     }
    },
    "fd5bff16-d0e8-4102-9099-aa38247ea07a": {
     "id": "fd5bff16-d0e8-4102-9099-aa38247ea07a",
     "prev": "fec10d5c-4444-4de6-b317-9d1563933dff",
     "regions": {
      "bd34d01f-6c55-412f-97e1-ab31effe578a": {
       "attrs": {
        "height": 0.8,
        "width": 0.8,
        "x": 0.1,
        "y": 0.1
       },
       "content": {
        "cell": "bb19c42d-7c11-476d-9218-613425fa08ed",
        "part": "whole"
       },
       "id": "bd34d01f-6c55-412f-97e1-ab31effe578a"
      }
     }
    },
    "fec10d5c-4444-4de6-b317-9d1563933dff": {
     "id": "fec10d5c-4444-4de6-b317-9d1563933dff",
     "prev": "3475106a-a3c0-4f63-8e00-ff65a53643fa",
     "regions": {
      "d9060331-5015-4d5d-afe7-fae9b8c1b0b5": {
       "attrs": {
        "height": 0.8,
        "width": 0.8,
        "x": 0.1,
        "y": 0.1
       },
       "content": {
        "cell": "38add6cf-1e97-4d59-a0d6-30759d5e8c35",
        "part": "whole"
       },
       "id": "d9060331-5015-4d5d-afe7-fae9b8c1b0b5"
      }
     }
    },
    "ffb83a36-0e3c-461b-b60e-989ec4d41745": {
     "id": "ffb83a36-0e3c-461b-b60e-989ec4d41745",
     "prev": "3512183c-ccc5-43d2-887e-690f29a96d5f",
     "regions": {
      "0593d85a-8705-4ea9-95ff-0a56d5be9cf5": {
       "attrs": {
        "height": 0.8,
        "width": 0.8,
        "x": 0.1,
        "y": 0.1
       },
       "content": {
        "cell": "7a064d90-951c-43f4-88f5-ec11e2b490da",
        "part": "whole"
       },
       "id": "0593d85a-8705-4ea9-95ff-0a56d5be9cf5"
      }
     }
    }
   },
   "themes": {}
  },
  "toc": {
   "base_numbering": 1,
   "nav_menu": {
    "height": "512px",
    "width": "252px"
   },
   "number_sections": true,
   "sideBar": true,
   "skip_h1_title": false,
   "title_cell": "Table of Contents",
   "title_sidebar": "Contents",
   "toc_cell": true,
   "toc_position": {
    "height": "720px",
    "left": "0px",
    "right": "1228px",
    "top": "106px",
    "width": "222px"
   },
   "toc_section_display": "block",
   "toc_window_display": true
  }
 },
 "nbformat": 4,
 "nbformat_minor": 2
}
