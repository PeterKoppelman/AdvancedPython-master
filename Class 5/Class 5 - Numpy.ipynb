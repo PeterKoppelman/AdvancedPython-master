{
 "cells": [
  {
   "cell_type": "markdown",
   "metadata": {
    "toc": true
   },
   "source": [
    "<h1>Table of Contents<span class=\"tocSkip\"></span></h1>\n",
    "<div class=\"toc\"><ul class=\"toc-item\"><li><span><a href=\"#Introduction-to-NumPy\" data-toc-modified-id=\"Introduction-to-NumPy-1\"><span class=\"toc-item-num\">1&nbsp;&nbsp;</span>Introduction to NumPy</a></span></li><li><span><a href=\"#Creating-Arrays\" data-toc-modified-id=\"Creating-Arrays-2\"><span class=\"toc-item-num\">2&nbsp;&nbsp;</span>Creating Arrays</a></span><ul class=\"toc-item\"><li><span><a href=\"#Built-in-methods-to-generate-an-array\" data-toc-modified-id=\"Built-in-methods-to-generate-an-array-2.1\"><span class=\"toc-item-num\">2.1&nbsp;&nbsp;</span>Built-in methods to generate an array</a></span><ul class=\"toc-item\"><li><span><a href=\"#Randint\" data-toc-modified-id=\"Randint-2.1.1\"><span class=\"toc-item-num\">2.1.1&nbsp;&nbsp;</span>Randint</a></span></li><li><span><a href=\"#Random-Array-with-a-Uniform-Distribution\" data-toc-modified-id=\"Random-Array-with-a-Uniform-Distribution-2.1.2\"><span class=\"toc-item-num\">2.1.2&nbsp;&nbsp;</span>Random Array with a Uniform Distribution</a></span></li><li><span><a href=\"#Random-Array-with-Standard-Normal-Distribution\" data-toc-modified-id=\"Random-Array-with-Standard-Normal-Distribution-2.1.3\"><span class=\"toc-item-num\">2.1.3&nbsp;&nbsp;</span>Random Array with Standard Normal Distribution</a></span></li><li><span><a href=\"#Array-of-Zeroes\" data-toc-modified-id=\"Array-of-Zeroes-2.1.4\"><span class=\"toc-item-num\">2.1.4&nbsp;&nbsp;</span>Array of Zeroes</a></span></li><li><span><a href=\"#Array-of-Ones\" data-toc-modified-id=\"Array-of-Ones-2.1.5\"><span class=\"toc-item-num\">2.1.5&nbsp;&nbsp;</span>Array of Ones</a></span></li><li><span><a href=\"#Identity-Matrix\" data-toc-modified-id=\"Identity-Matrix-2.1.6\"><span class=\"toc-item-num\">2.1.6&nbsp;&nbsp;</span>Identity Matrix</a></span></li><li><span><a href=\"#Linspace\" data-toc-modified-id=\"Linspace-2.1.7\"><span class=\"toc-item-num\">2.1.7&nbsp;&nbsp;</span>Linspace</a></span></li></ul></li></ul></li><li><span><a href=\"#Quick-Operations-on-Numpy-Arrays\" data-toc-modified-id=\"Quick-Operations-on-Numpy-Arrays-3\"><span class=\"toc-item-num\">3&nbsp;&nbsp;</span>Quick Operations on Numpy Arrays</a></span><ul class=\"toc-item\"><li><span><a href=\"#Selecting-Values\" data-toc-modified-id=\"Selecting-Values-3.1\"><span class=\"toc-item-num\">3.1&nbsp;&nbsp;</span>Selecting Values</a></span></li></ul></li><li><span><a href=\"#Indexing-2D-Matrices\" data-toc-modified-id=\"Indexing-2D-Matrices-4\"><span class=\"toc-item-num\">4&nbsp;&nbsp;</span>Indexing 2D Matrices</a></span><ul class=\"toc-item\"><li><span><a href=\"#Exercise\" data-toc-modified-id=\"Exercise-4.1\"><span class=\"toc-item-num\">4.1&nbsp;&nbsp;</span>Exercise</a></span></li><li><span><a href=\"#Exercise\" data-toc-modified-id=\"Exercise-4.2\"><span class=\"toc-item-num\">4.2&nbsp;&nbsp;</span>Exercise</a></span></li><li><span><a href=\"#Exercise\" data-toc-modified-id=\"Exercise-4.3\"><span class=\"toc-item-num\">4.3&nbsp;&nbsp;</span>Exercise</a></span></li><li><span><a href=\"#Exercise\" data-toc-modified-id=\"Exercise-4.4\"><span class=\"toc-item-num\">4.4&nbsp;&nbsp;</span>Exercise</a></span></li><li><span><a href=\"#Exercise\" data-toc-modified-id=\"Exercise-4.5\"><span class=\"toc-item-num\">4.5&nbsp;&nbsp;</span>Exercise</a></span></li></ul></li><li><span><a href=\"#Fancy-Indexing\" data-toc-modified-id=\"Fancy-Indexing-5\"><span class=\"toc-item-num\">5&nbsp;&nbsp;</span>Fancy Indexing</a></span><ul class=\"toc-item\"><li><span><a href=\"#Method-1:-Boolean-Masks\" data-toc-modified-id=\"Method-1:-Boolean-Masks-5.1\"><span class=\"toc-item-num\">5.1&nbsp;&nbsp;</span>Method 1: Boolean Masks</a></span></li><li><span><a href=\"#Method-2:-Indexing-with-Array-of-Integers\" data-toc-modified-id=\"Method-2:-Indexing-with-Array-of-Integers-5.2\"><span class=\"toc-item-num\">5.2&nbsp;&nbsp;</span>Method 2: Indexing with Array of Integers</a></span></li><li><span><a href=\"#Take\" data-toc-modified-id=\"Take-5.3\"><span class=\"toc-item-num\">5.3&nbsp;&nbsp;</span>Take</a></span></li><li><span><a href=\"#Broadcasting\" data-toc-modified-id=\"Broadcasting-5.4\"><span class=\"toc-item-num\">5.4&nbsp;&nbsp;</span>Broadcasting</a></span><ul class=\"toc-item\"><li><span><a href=\"#Broadcasting-Rule\" data-toc-modified-id=\"Broadcasting-Rule-5.4.1\"><span class=\"toc-item-num\">5.4.1&nbsp;&nbsp;</span>Broadcasting Rule</a></span></li></ul></li></ul></li><li><span><a href=\"#Other-Array-Operations\" data-toc-modified-id=\"Other-Array-Operations-6\"><span class=\"toc-item-num\">6&nbsp;&nbsp;</span>Other Array Operations</a></span><ul class=\"toc-item\"><li><ul class=\"toc-item\"><li><span><a href=\"#Copying-Arrays\" data-toc-modified-id=\"Copying-Arrays-6.0.1\"><span class=\"toc-item-num\">6.0.1&nbsp;&nbsp;</span>Copying Arrays</a></span></li><li><span><a href=\"#Squaring-Arrays\" data-toc-modified-id=\"Squaring-Arrays-6.0.2\"><span class=\"toc-item-num\">6.0.2&nbsp;&nbsp;</span>Squaring Arrays</a></span></li><li><span><a href=\"#Square-Roots\" data-toc-modified-id=\"Square-Roots-6.0.3\"><span class=\"toc-item-num\">6.0.3&nbsp;&nbsp;</span>Square Roots</a></span></li></ul></li></ul></li></ul></div>"
   ]
  },
  {
   "cell_type": "markdown",
   "metadata": {},
   "source": [
    "# Introduction to NumPy\n",
    "From NumPy's [website](http://numpy.org) we have the following description:<br>\n",
    "\n",
    ">NumPy is the fundamental package for scientific computing with Python. It contains among other things:\n",
    "\n",
    ">* a powerful N-dimensional array object\n",
    "* sophisticated (broadcasting) functions\n",
    "* tools for integrating C/C++ and Fortran code\n",
    "* useful linear algebra, Fourier transform, and random number capabilities <br>\n",
    "\n",
    ">Besides its obvious scientific uses, NumPy can also be used as an efficient multi-dimensional container of generic data. Arbitrary data-types can be defined. This allows NumPy to seamlessly and speedily integrate with a wide variety of databases.\n",
    "\n",
    "You can think of Numpy as standard Python lists on steroids! \n",
    "<img src=\"images/roids.jpg\"> <br><br>"
   ]
  },
  {
   "cell_type": "markdown",
   "metadata": {
    "collapsed": true
   },
   "source": [
    "There are a few reasons why **Numpy is so much faster than lists**:\n",
    "* Numpy's underlying code is written in C\n",
    "* The contents of Numpy's arrays are homogenous, i.e., all of of the same `type`\n",
    "* Numpy's arrays have a smaller memory footprint\n",
    "\n",
    "And since a Data Scientist is always learning, here's an excellent resource on Arrays - [scipy array tip sheet](http://pages.physics.cornell.edu/~myers/teaching/ComputationalMethods/python/arrays.html)"
   ]
  },
  {
   "cell_type": "markdown",
   "metadata": {},
   "source": [
    "# Creating Arrays\n",
    "Arrays contain uniform data type, with an arbitrary number of dimensions. What's a dimension? It's just a big word to denote how many levels deep the array goes. <br>\n",
    "Dimensions are nothing more than lists inside lists inside lists...<br>\n",
    "<img src=\"images/inception.jpg\">\n",
    "\n",
    "As we saw earlier with Matplotlib, there are some conventions for importing Numpy too."
   ]
  },
  {
   "cell_type": "code",
   "execution_count": 1,
   "metadata": {
    "ExecuteTime": {
     "end_time": "2019-03-01T00:40:42.807144Z",
     "start_time": "2019-03-01T00:40:42.745557Z"
    }
   },
   "outputs": [],
   "source": [
    "import numpy as np"
   ]
  },
  {
   "cell_type": "code",
   "execution_count": 2,
   "metadata": {
    "ExecuteTime": {
     "end_time": "2019-03-01T00:41:37.035745Z",
     "start_time": "2019-03-01T00:41:37.031013Z"
    }
   },
   "outputs": [
    {
     "name": "stdout",
     "output_type": "stream",
     "text": [
      "a is of type: <class 'numpy.ndarray'>\n",
      "dimension of a: 1\n"
     ]
    }
   ],
   "source": [
    "# Create an array with the statement np.array\n",
    "a = np.array([1,2,3,4])\n",
    "print('a is of type:', type(a))\n",
    "print('dimension of a:', a.ndim) # To find the dimension of 'a'"
   ]
  },
  {
   "cell_type": "code",
   "execution_count": 3,
   "metadata": {
    "ExecuteTime": {
     "end_time": "2019-03-01T00:42:54.065643Z",
     "start_time": "2019-03-01T00:42:54.056362Z"
    }
   },
   "outputs": [
    {
     "data": {
      "text/plain": [
       "1"
      ]
     },
     "execution_count": 3,
     "metadata": {},
     "output_type": "execute_result"
    }
   ],
   "source": [
    "arr1 = np.array([1,2,3,4])\n",
    "arr1.ndim"
   ]
  },
  {
   "cell_type": "code",
   "execution_count": 4,
   "metadata": {
    "ExecuteTime": {
     "end_time": "2019-03-01T00:42:56.673246Z",
     "start_time": "2019-03-01T00:42:56.667640Z"
    }
   },
   "outputs": [
    {
     "data": {
      "text/plain": [
       "2"
      ]
     },
     "execution_count": 4,
     "metadata": {},
     "output_type": "execute_result"
    }
   ],
   "source": [
    "arr2 = np.array([[1,2],[2,3],[3,4],[4,5]])\n",
    "arr2.ndim"
   ]
  },
  {
   "cell_type": "code",
   "execution_count": 5,
   "metadata": {
    "ExecuteTime": {
     "end_time": "2019-03-01T00:43:38.799873Z",
     "start_time": "2019-03-01T00:43:38.793761Z"
    }
   },
   "outputs": [
    {
     "data": {
      "text/plain": [
       "3"
      ]
     },
     "execution_count": 5,
     "metadata": {},
     "output_type": "execute_result"
    }
   ],
   "source": [
    "# Doesn't make a difference to a computer how you represent it,\n",
    "# but if humans are going to read your code, this might be useful\n",
    "arr3 = np.array([[[1,2],[2,3]],\n",
    "                 [[2,3],[3,4]],\n",
    "                 [[4,5],[5,6]],\n",
    "                 [[6,7],[7,8]]\n",
    "                ])\n",
    "arr3.ndim"
   ]
  },
  {
   "cell_type": "code",
   "execution_count": 6,
   "metadata": {
    "ExecuteTime": {
     "end_time": "2019-03-01T00:43:46.683994Z",
     "start_time": "2019-03-01T00:43:46.677643Z"
    }
   },
   "outputs": [
    {
     "data": {
      "text/plain": [
       "2"
      ]
     },
     "execution_count": 6,
     "metadata": {},
     "output_type": "execute_result"
    }
   ],
   "source": [
    "arr4 = np.array([[ 0,  1,  2,  3,  4], \n",
    "                 [ 5,  6,  7,  8,  9], \n",
    "                 [10, 11, 12, 13, 14]])\n",
    "arr4.ndim"
   ]
  },
  {
   "cell_type": "markdown",
   "metadata": {},
   "source": [
    "One easy to tell the number of dimensions - look at the number of square brackets at the beginning. [[ = 2 dimensions. [[[ = 3 dimensions. <br>\n",
    "Remember, dimensions are nothing more than lists inside lists inside lists..."
   ]
  },
  {
   "cell_type": "markdown",
   "metadata": {},
   "source": [
    "Why use Numpy Arrays, and not just list? One reason right here."
   ]
  },
  {
   "cell_type": "code",
   "execution_count": 9,
   "metadata": {
    "ExecuteTime": {
     "end_time": "2019-03-01T00:46:27.360605Z",
     "start_time": "2019-03-01T00:46:27.351245Z"
    }
   },
   "outputs": [
    {
     "ename": "TypeError",
     "evalue": "can't multiply sequence by non-int of type 'list'",
     "output_type": "error",
     "traceback": [
      "\u001b[0;31m---------------------------------------------------------------------------\u001b[0m",
      "\u001b[0;31mTypeError\u001b[0m                                 Traceback (most recent call last)",
      "\u001b[0;32m<ipython-input-9-248c6acd996d>\u001b[0m in \u001b[0;36m<module>\u001b[0;34m\u001b[0m\n\u001b[1;32m      2\u001b[0m \u001b[0mb_list\u001b[0m \u001b[0;34m=\u001b[0m \u001b[0;34m[\u001b[0m\u001b[0;36m5\u001b[0m\u001b[0;34m,\u001b[0m\u001b[0;36m10\u001b[0m\u001b[0;34m,\u001b[0m\u001b[0;36m15\u001b[0m\u001b[0;34m,\u001b[0m\u001b[0;36m20\u001b[0m\u001b[0;34m,\u001b[0m\u001b[0;36m25\u001b[0m\u001b[0;34m]\u001b[0m\u001b[0;34m\u001b[0m\u001b[0;34m\u001b[0m\u001b[0m\n\u001b[1;32m      3\u001b[0m \u001b[0;31m# Multiplying these will give an error\u001b[0m\u001b[0;34m\u001b[0m\u001b[0;34m\u001b[0m\u001b[0;34m\u001b[0m\u001b[0m\n\u001b[0;32m----> 4\u001b[0;31m \u001b[0mprint\u001b[0m\u001b[0;34m(\u001b[0m\u001b[0ma_list\u001b[0m \u001b[0;34m*\u001b[0m \u001b[0mb_list\u001b[0m\u001b[0;34m)\u001b[0m\u001b[0;34m\u001b[0m\u001b[0;34m\u001b[0m\u001b[0m\n\u001b[0m",
      "\u001b[0;31mTypeError\u001b[0m: can't multiply sequence by non-int of type 'list'"
     ]
    }
   ],
   "source": [
    "a_list = [1,2,3,4,5]\n",
    "b_list = [5,10,15,20,25]\n",
    "# Multiplying these will give an error\n",
    "print(a_list * b_list)"
   ]
  },
  {
   "cell_type": "code",
   "execution_count": 10,
   "metadata": {
    "ExecuteTime": {
     "end_time": "2019-03-01T00:46:46.956208Z",
     "start_time": "2019-03-01T00:46:46.951263Z"
    }
   },
   "outputs": [
    {
     "name": "stdout",
     "output_type": "stream",
     "text": [
      "[  5  20  45  80 125]\n"
     ]
    }
   ],
   "source": [
    "a_list = np.array([1,2,3,4,5])\n",
    "b_list = np.array([5,10,15,20,25])\n",
    "print(a_list * b_list)"
   ]
  },
  {
   "cell_type": "markdown",
   "metadata": {},
   "source": [
    "Numpy allows for vectorisation, i.e. operations are applied to whole arrays instead of individual elements. To get the results of `a_list * b_list` using traditional python, you would have had to write a for loop. When dealing with millions or billions of lines of data, that can be inefficient. We will spend some more time on operations of this nature when we get to **Broadcasting**."
   ]
  },
  {
   "cell_type": "markdown",
   "metadata": {},
   "source": [
    "## Built-in methods to generate an array\n",
    "Numpy provides us many methods to generate numbers for our array."
   ]
  },
  {
   "cell_type": "code",
   "execution_count": 11,
   "metadata": {
    "ExecuteTime": {
     "end_time": "2019-03-01T00:48:14.052880Z",
     "start_time": "2019-03-01T00:48:14.047303Z"
    }
   },
   "outputs": [
    {
     "name": "stdout",
     "output_type": "stream",
     "text": [
      "[ 0  1  2  3  4  5  6  7  8  9 10 11 12 13 14 15]\n"
     ]
    }
   ],
   "source": [
    "arr1 = np.arange(16)\n",
    "print(arr1)"
   ]
  },
  {
   "cell_type": "markdown",
   "metadata": {},
   "source": [
    "We can even reshape these arrays into our desired shape. But remember, when we say desired shape, we are not speaking of circles or pentagons. Think square, reactangles, cubes and the like."
   ]
  },
  {
   "cell_type": "code",
   "execution_count": 12,
   "metadata": {
    "ExecuteTime": {
     "end_time": "2019-03-01T00:48:51.223249Z",
     "start_time": "2019-03-01T00:48:51.219022Z"
    }
   },
   "outputs": [
    {
     "data": {
      "text/plain": [
       "array([[ 0,  1,  2,  3],\n",
       "       [ 4,  5,  6,  7],\n",
       "       [ 8,  9, 10, 11],\n",
       "       [12, 13, 14, 15]])"
      ]
     },
     "execution_count": 12,
     "metadata": {},
     "output_type": "execute_result"
    }
   ],
   "source": [
    "arr1.reshape(4,4)"
   ]
  },
  {
   "cell_type": "code",
   "execution_count": 13,
   "metadata": {
    "ExecuteTime": {
     "end_time": "2019-03-01T00:49:04.008552Z",
     "start_time": "2019-03-01T00:49:04.004203Z"
    }
   },
   "outputs": [
    {
     "data": {
      "text/plain": [
       "array([[ 0,  1,  2,  3,  4,  5,  6,  7],\n",
       "       [ 8,  9, 10, 11, 12, 13, 14, 15]])"
      ]
     },
     "execution_count": 13,
     "metadata": {},
     "output_type": "execute_result"
    }
   ],
   "source": [
    "arr1.reshape(2,8)"
   ]
  },
  {
   "cell_type": "code",
   "execution_count": 14,
   "metadata": {
    "ExecuteTime": {
     "end_time": "2019-03-01T00:49:14.645068Z",
     "start_time": "2019-03-01T00:49:14.639038Z"
    }
   },
   "outputs": [
    {
     "data": {
      "text/plain": [
       "array([[ 0,  1],\n",
       "       [ 2,  3],\n",
       "       [ 4,  5],\n",
       "       [ 6,  7],\n",
       "       [ 8,  9],\n",
       "       [10, 11],\n",
       "       [12, 13],\n",
       "       [14, 15]])"
      ]
     },
     "execution_count": 14,
     "metadata": {},
     "output_type": "execute_result"
    }
   ],
   "source": [
    "arr1.reshape(8,2)"
   ]
  },
  {
   "cell_type": "code",
   "execution_count": 16,
   "metadata": {
    "ExecuteTime": {
     "end_time": "2019-03-01T00:49:22.599333Z",
     "start_time": "2019-03-01T00:49:22.593528Z"
    }
   },
   "outputs": [
    {
     "data": {
      "text/plain": [
       "array([[ 0],\n",
       "       [ 1],\n",
       "       [ 2],\n",
       "       [ 3],\n",
       "       [ 4],\n",
       "       [ 5],\n",
       "       [ 6],\n",
       "       [ 7],\n",
       "       [ 8],\n",
       "       [ 9],\n",
       "       [10],\n",
       "       [11],\n",
       "       [12],\n",
       "       [13],\n",
       "       [14],\n",
       "       [15]])"
      ]
     },
     "execution_count": 16,
     "metadata": {},
     "output_type": "execute_result"
    }
   ],
   "source": [
    "arr1.reshape(16,1)"
   ]
  },
  {
   "cell_type": "code",
   "execution_count": 15,
   "metadata": {
    "ExecuteTime": {
     "end_time": "2019-03-01T00:49:20.857111Z",
     "start_time": "2019-03-01T00:49:20.852467Z"
    }
   },
   "outputs": [
    {
     "data": {
      "text/plain": [
       "array([ 0,  1,  2,  3,  4,  5,  6,  7,  8,  9, 10, 11, 12, 13, 14, 15])"
      ]
     },
     "execution_count": 15,
     "metadata": {},
     "output_type": "execute_result"
    }
   ],
   "source": [
    "arr1"
   ]
  },
  {
   "cell_type": "markdown",
   "metadata": {},
   "source": [
    "The `arange` feature generates sequential series though. What if we want random numbers?<br><br>\n",
    "### Randint"
   ]
  },
  {
   "cell_type": "code",
   "execution_count": 17,
   "metadata": {
    "ExecuteTime": {
     "end_time": "2019-03-01T00:52:15.332108Z",
     "start_time": "2019-03-01T00:52:15.327640Z"
    }
   },
   "outputs": [
    {
     "name": "stdout",
     "output_type": "stream",
     "text": [
      "[102 435 860 270 106  71 700  20 614 121 466 214 330 458  87 372  99 871\n",
      " 663 130]\n"
     ]
    }
   ],
   "source": [
    "np.random.seed(42) \n",
    "rand_arr = np.random.randint(0,1000,20)\n",
    "print(rand_arr)"
   ]
  },
  {
   "cell_type": "markdown",
   "metadata": {},
   "source": [
    "Translating from Python to English, \"call the randint module from the random module of numpy, then select 20 numbers between 0 and 999 at random, and assign that to an array named rand_arr i.e. 0 is included, 1000 is excluded.\n",
    "<img src=\"images/simples.gif\"> <br><br>"
   ]
  },
  {
   "cell_type": "code",
   "execution_count": 18,
   "metadata": {
    "ExecuteTime": {
     "end_time": "2019-03-01T00:53:52.503290Z",
     "start_time": "2019-03-01T00:53:52.497042Z"
    },
    "scrolled": true
   },
   "outputs": [
    {
     "data": {
      "text/plain": [
       "array([[102, 435, 860, 270],\n",
       "       [106,  71, 700,  20],\n",
       "       [614, 121, 466, 214],\n",
       "       [330, 458,  87, 372],\n",
       "       [ 99, 871, 663, 130]])"
      ]
     },
     "execution_count": 18,
     "metadata": {},
     "output_type": "execute_result"
    }
   ],
   "source": [
    "rand_arr.reshape(5,4)"
   ]
  },
  {
   "cell_type": "code",
   "execution_count": 19,
   "metadata": {
    "ExecuteTime": {
     "end_time": "2019-03-01T00:54:01.563486Z",
     "start_time": "2019-03-01T00:54:01.557700Z"
    }
   },
   "outputs": [
    {
     "data": {
      "text/plain": [
       "array([[102, 435, 860, 270, 106],\n",
       "       [ 71, 700,  20, 614, 121],\n",
       "       [466, 214, 330, 458,  87],\n",
       "       [372,  99, 871, 663, 130]])"
      ]
     },
     "execution_count": 19,
     "metadata": {},
     "output_type": "execute_result"
    }
   ],
   "source": [
    "rand_arr.reshape(4,5)"
   ]
  },
  {
   "cell_type": "code",
   "execution_count": 20,
   "metadata": {
    "ExecuteTime": {
     "end_time": "2019-03-01T00:54:02.296607Z",
     "start_time": "2019-03-01T00:54:02.291963Z"
    }
   },
   "outputs": [
    {
     "data": {
      "text/plain": [
       "array([[102, 435, 860, 270, 106,  71, 700,  20, 614, 121],\n",
       "       [466, 214, 330, 458,  87, 372,  99, 871, 663, 130]])"
      ]
     },
     "execution_count": 20,
     "metadata": {},
     "output_type": "execute_result"
    }
   ],
   "source": [
    "rand_arr.reshape(2,10)"
   ]
  },
  {
   "cell_type": "markdown",
   "metadata": {},
   "source": [
    "Remember, the first number always represents the number of rows."
   ]
  },
  {
   "cell_type": "markdown",
   "metadata": {},
   "source": [
    "### Random Array with a Uniform Distribution\n",
    "From the official documentation:\n",
    "> Create an array of the given shape and populate it with random samples from a uniform distribution over [0, 1).\n",
    "\n",
    "A uniform distribution, is a distribution that has constant probability."
   ]
  },
  {
   "cell_type": "code",
   "execution_count": 24,
   "metadata": {
    "ExecuteTime": {
     "end_time": "2019-03-01T00:55:07.784642Z",
     "start_time": "2019-03-01T00:55:07.780005Z"
    }
   },
   "outputs": [
    {
     "data": {
      "text/plain": [
       "array([0.37454012, 0.95071431, 0.73199394, 0.59865848, 0.15601864])"
      ]
     },
     "execution_count": 24,
     "metadata": {},
     "output_type": "execute_result"
    }
   ],
   "source": [
    "np.random.seed(42) \n",
    "np.random.rand(5)"
   ]
  },
  {
   "cell_type": "code",
   "execution_count": 27,
   "metadata": {
    "ExecuteTime": {
     "end_time": "2019-03-01T00:55:52.113137Z",
     "start_time": "2019-03-01T00:55:52.106577Z"
    }
   },
   "outputs": [
    {
     "data": {
      "text/plain": [
       "array([[0.37454012, 0.95071431],\n",
       "       [0.73199394, 0.59865848],\n",
       "       [0.15601864, 0.15599452]])"
      ]
     },
     "execution_count": 27,
     "metadata": {},
     "output_type": "execute_result"
    }
   ],
   "source": [
    "np.random.seed(42) \n",
    "np.random.rand(3,2)"
   ]
  },
  {
   "cell_type": "markdown",
   "metadata": {},
   "source": [
    "### Random Array with Standard Normal Distribution\n",
    "From the official documentation:\n",
    "> Return a sample (or samples) from the “standard normal” distribution.\n",
    "\n",
    "> For random samples from $$N(\\mu, \\sigma^2)$$ use:  \n",
    "> sigma * np.random.randn(...) + mu\n",
    "\n",
    "Don't get scared by the formula - it's actually very simple, and we will cover this in brief later on in the mathematics section."
   ]
  },
  {
   "cell_type": "code",
   "execution_count": 29,
   "metadata": {
    "ExecuteTime": {
     "end_time": "2019-03-01T00:56:17.638878Z",
     "start_time": "2019-03-01T00:56:17.633392Z"
    }
   },
   "outputs": [
    {
     "data": {
      "text/plain": [
       "array([ 0.49671415, -0.1382643 ,  0.64768854,  1.52302986, -0.23415337])"
      ]
     },
     "execution_count": 29,
     "metadata": {},
     "output_type": "execute_result"
    }
   ],
   "source": [
    "np.random.seed(42) \n",
    "np.random.randn(5)"
   ]
  },
  {
   "cell_type": "markdown",
   "metadata": {},
   "source": [
    "### Array of Zeroes"
   ]
  },
  {
   "cell_type": "code",
   "execution_count": 30,
   "metadata": {
    "ExecuteTime": {
     "end_time": "2019-03-01T00:56:42.283247Z",
     "start_time": "2019-03-01T00:56:42.278942Z"
    }
   },
   "outputs": [
    {
     "data": {
      "text/plain": [
       "array([0., 0., 0., 0., 0., 0., 0., 0., 0., 0., 0., 0., 0., 0., 0., 0.])"
      ]
     },
     "execution_count": 30,
     "metadata": {},
     "output_type": "execute_result"
    }
   ],
   "source": [
    "np.zeros(16)"
   ]
  },
  {
   "cell_type": "code",
   "execution_count": 31,
   "metadata": {
    "ExecuteTime": {
     "end_time": "2019-03-01T00:56:46.953112Z",
     "start_time": "2019-03-01T00:56:46.948845Z"
    }
   },
   "outputs": [
    {
     "data": {
      "text/plain": [
       "array([[0., 0., 0., 0.],\n",
       "       [0., 0., 0., 0.],\n",
       "       [0., 0., 0., 0.],\n",
       "       [0., 0., 0., 0.]])"
      ]
     },
     "execution_count": 31,
     "metadata": {},
     "output_type": "execute_result"
    }
   ],
   "source": [
    "np.zeros((4,4))"
   ]
  },
  {
   "cell_type": "markdown",
   "metadata": {},
   "source": [
    "### Array of Ones"
   ]
  },
  {
   "cell_type": "code",
   "execution_count": 32,
   "metadata": {
    "ExecuteTime": {
     "end_time": "2019-03-01T00:57:01.835599Z",
     "start_time": "2019-03-01T00:57:01.830094Z"
    }
   },
   "outputs": [
    {
     "data": {
      "text/plain": [
       "array([1., 1., 1., 1., 1.])"
      ]
     },
     "execution_count": 32,
     "metadata": {},
     "output_type": "execute_result"
    }
   ],
   "source": [
    "np.ones(5)"
   ]
  },
  {
   "cell_type": "code",
   "execution_count": 33,
   "metadata": {
    "ExecuteTime": {
     "end_time": "2019-03-01T00:57:02.953748Z",
     "start_time": "2019-03-01T00:57:02.948772Z"
    }
   },
   "outputs": [
    {
     "data": {
      "text/plain": [
       "array([[1., 1., 1., 1.],\n",
       "       [1., 1., 1., 1.],\n",
       "       [1., 1., 1., 1.],\n",
       "       [1., 1., 1., 1.]])"
      ]
     },
     "execution_count": 33,
     "metadata": {},
     "output_type": "execute_result"
    }
   ],
   "source": [
    "np.ones((4,4))"
   ]
  },
  {
   "cell_type": "markdown",
   "metadata": {},
   "source": [
    "### Identity Matrix\n",
    "An identity matrix is a square matrix, with all the values on the diagonal equal to 1, and the remaining values equal to 0."
   ]
  },
  {
   "cell_type": "code",
   "execution_count": 36,
   "metadata": {
    "ExecuteTime": {
     "end_time": "2019-03-01T00:58:33.873207Z",
     "start_time": "2019-03-01T00:58:33.866518Z"
    }
   },
   "outputs": [
    {
     "data": {
      "text/plain": [
       "array([[1., 0., 0., 0., 0., 0., 0., 0., 0., 0.],\n",
       "       [0., 1., 0., 0., 0., 0., 0., 0., 0., 0.],\n",
       "       [0., 0., 1., 0., 0., 0., 0., 0., 0., 0.],\n",
       "       [0., 0., 0., 1., 0., 0., 0., 0., 0., 0.],\n",
       "       [0., 0., 0., 0., 1., 0., 0., 0., 0., 0.],\n",
       "       [0., 0., 0., 0., 0., 1., 0., 0., 0., 0.],\n",
       "       [0., 0., 0., 0., 0., 0., 1., 0., 0., 0.],\n",
       "       [0., 0., 0., 0., 0., 0., 0., 1., 0., 0.],\n",
       "       [0., 0., 0., 0., 0., 0., 0., 0., 1., 0.],\n",
       "       [0., 0., 0., 0., 0., 0., 0., 0., 0., 1.]])"
      ]
     },
     "execution_count": 36,
     "metadata": {},
     "output_type": "execute_result"
    }
   ],
   "source": [
    "np.eye(10)"
   ]
  },
  {
   "cell_type": "markdown",
   "metadata": {},
   "source": [
    "### Linspace\n",
    "From Numpy's official documentation:\n",
    "> Return evenly spaced numbers over a specified interval.\n",
    "\n",
    "> Returns num evenly spaced samples, calculated over the interval [start, stop].\n",
    "\n",
    "> The endpoint of the interval can optionally be excluded.\n",
    "\n",
    "Here's an interesting discussion on SO about when to use Linspace v range - https://stackoverflow.com/questions/5779270/linspace-vs-range"
   ]
  },
  {
   "cell_type": "code",
   "execution_count": 38,
   "metadata": {
    "ExecuteTime": {
     "end_time": "2019-03-01T00:59:58.254506Z",
     "start_time": "2019-03-01T00:59:58.247656Z"
    }
   },
   "outputs": [
    {
     "data": {
      "text/plain": [
       "array([-50.        , -48.98989899, -47.97979798, -46.96969697,\n",
       "       -45.95959596, -44.94949495, -43.93939394, -42.92929293,\n",
       "       -41.91919192, -40.90909091, -39.8989899 , -38.88888889,\n",
       "       -37.87878788, -36.86868687, -35.85858586, -34.84848485,\n",
       "       -33.83838384, -32.82828283, -31.81818182, -30.80808081,\n",
       "       -29.7979798 , -28.78787879, -27.77777778, -26.76767677,\n",
       "       -25.75757576, -24.74747475, -23.73737374, -22.72727273,\n",
       "       -21.71717172, -20.70707071, -19.6969697 , -18.68686869,\n",
       "       -17.67676768, -16.66666667, -15.65656566, -14.64646465,\n",
       "       -13.63636364, -12.62626263, -11.61616162, -10.60606061,\n",
       "        -9.5959596 ,  -8.58585859,  -7.57575758,  -6.56565657,\n",
       "        -5.55555556,  -4.54545455,  -3.53535354,  -2.52525253,\n",
       "        -1.51515152,  -0.50505051,   0.50505051,   1.51515152,\n",
       "         2.52525253,   3.53535354,   4.54545455,   5.55555556,\n",
       "         6.56565657,   7.57575758,   8.58585859,   9.5959596 ,\n",
       "        10.60606061,  11.61616162,  12.62626263,  13.63636364,\n",
       "        14.64646465,  15.65656566,  16.66666667,  17.67676768,\n",
       "        18.68686869,  19.6969697 ,  20.70707071,  21.71717172,\n",
       "        22.72727273,  23.73737374,  24.74747475,  25.75757576,\n",
       "        26.76767677,  27.77777778,  28.78787879,  29.7979798 ,\n",
       "        30.80808081,  31.81818182,  32.82828283,  33.83838384,\n",
       "        34.84848485,  35.85858586,  36.86868687,  37.87878788,\n",
       "        38.88888889,  39.8989899 ,  40.90909091,  41.91919192,\n",
       "        42.92929293,  43.93939394,  44.94949495,  45.95959596,\n",
       "        46.96969697,  47.97979798,  48.98989899,  50.        ])"
      ]
     },
     "execution_count": 38,
     "metadata": {},
     "output_type": "execute_result"
    }
   ],
   "source": [
    "# 5 evenly spaced numbers between -5 and 5\n",
    "np.linspace(-50,50,100)"
   ]
  },
  {
   "cell_type": "markdown",
   "metadata": {},
   "source": [
    "# Quick Operations on Numpy Arrays"
   ]
  },
  {
   "cell_type": "code",
   "execution_count": 40,
   "metadata": {
    "ExecuteTime": {
     "end_time": "2019-03-01T01:01:24.146547Z",
     "start_time": "2019-03-01T01:01:24.142740Z"
    }
   },
   "outputs": [],
   "source": [
    "import numpy as np\n",
    "np.random.seed(42) \n",
    "\n",
    "arr1 = np.random.randint(1,1000,100)\n",
    "arr1 = arr1.reshape(10,10)"
   ]
  },
  {
   "cell_type": "code",
   "execution_count": 41,
   "metadata": {
    "ExecuteTime": {
     "end_time": "2019-03-01T01:01:25.272292Z",
     "start_time": "2019-03-01T01:01:25.268435Z"
    }
   },
   "outputs": [
    {
     "data": {
      "text/plain": [
       "(10, 10)"
      ]
     },
     "execution_count": 41,
     "metadata": {},
     "output_type": "execute_result"
    }
   ],
   "source": [
    "arr1.shape"
   ]
  },
  {
   "cell_type": "code",
   "execution_count": 42,
   "metadata": {
    "ExecuteTime": {
     "end_time": "2019-03-01T01:01:34.090354Z",
     "start_time": "2019-03-01T01:01:34.086248Z"
    }
   },
   "outputs": [
    {
     "data": {
      "text/plain": [
       "array([[103, 436, 861, 271, 107,  72, 701,  21, 615, 122],\n",
       "       [467, 215, 331, 459,  88, 373, 100, 872, 664, 131],\n",
       "       [662, 309, 770, 344, 492, 414, 806, 386, 192, 956],\n",
       "       [277, 161, 460, 314,  22, 253, 748, 857, 561, 475],\n",
       "       [ 59, 511, 682, 476, 700, 976, 783, 190, 958, 687],\n",
       "       [958, 563, 876, 567, 244, 832, 505, 131, 485, 819],\n",
       "       [647,  21, 841, 167, 274, 388, 601, 316,  14, 242],\n",
       "       [777, 346, 565, 898, 340,  92, 367, 956, 455, 428],\n",
       "       [509, 776, 943,  35, 206,  81, 932, 562, 872, 388],\n",
       "       [  2, 390, 566, 106, 772, 822, 477, 703, 402, 730]])"
      ]
     },
     "execution_count": 42,
     "metadata": {},
     "output_type": "execute_result"
    }
   ],
   "source": [
    "arr1"
   ]
  },
  {
   "cell_type": "markdown",
   "metadata": {},
   "source": [
    "Now imagine this is just a small snippet of a large array with millions, or even billions of numbers. Does that sound crazy? Well, Data Scientist regularly work with large arrays of numbers. The Netflix Data Scientists for example, deal with a high dimensional sparse matrix. <br><br>\n",
    "For smaller datasets, let's say, number of people who boarded a particular flight every day for the past hundred days, we have a few useful tools to find the highest or lowest values, and their corresponding locations."
   ]
  },
  {
   "cell_type": "code",
   "execution_count": 43,
   "metadata": {
    "ExecuteTime": {
     "end_time": "2019-03-01T01:02:26.429563Z",
     "start_time": "2019-03-01T01:02:26.424284Z"
    }
   },
   "outputs": [
    {
     "data": {
      "text/plain": [
       "976"
      ]
     },
     "execution_count": 43,
     "metadata": {},
     "output_type": "execute_result"
    }
   ],
   "source": [
    "# Find the highest value in arr1\n",
    "arr1.max()"
   ]
  },
  {
   "cell_type": "code",
   "execution_count": 44,
   "metadata": {
    "ExecuteTime": {
     "end_time": "2019-03-01T01:02:32.509983Z",
     "start_time": "2019-03-01T01:02:32.505876Z"
    }
   },
   "outputs": [
    {
     "data": {
      "text/plain": [
       "2"
      ]
     },
     "execution_count": 44,
     "metadata": {},
     "output_type": "execute_result"
    }
   ],
   "source": [
    "# Find the lowest value in arr1\n",
    "arr1.min()"
   ]
  },
  {
   "cell_type": "code",
   "execution_count": 45,
   "metadata": {
    "ExecuteTime": {
     "end_time": "2019-03-01T01:02:48.091991Z",
     "start_time": "2019-03-01T01:02:48.087947Z"
    }
   },
   "outputs": [
    {
     "data": {
      "text/plain": [
       "45"
      ]
     },
     "execution_count": 45,
     "metadata": {},
     "output_type": "execute_result"
    }
   ],
   "source": [
    "# Find the location of the highest value in arr1\n",
    "arr1.argmax()"
   ]
  },
  {
   "cell_type": "markdown",
   "metadata": {},
   "source": [
    "Keep in mind that if we have duplicate entries, or multiple entries, only the first entry will be returned."
   ]
  },
  {
   "cell_type": "code",
   "execution_count": 46,
   "metadata": {
    "ExecuteTime": {
     "end_time": "2019-03-01T01:02:58.668696Z",
     "start_time": "2019-03-01T01:02:58.663879Z"
    }
   },
   "outputs": [
    {
     "data": {
      "text/plain": [
       "90"
      ]
     },
     "execution_count": 46,
     "metadata": {},
     "output_type": "execute_result"
    }
   ],
   "source": [
    "arr1.argmin()"
   ]
  },
  {
   "cell_type": "code",
   "execution_count": 47,
   "metadata": {
    "ExecuteTime": {
     "end_time": "2019-03-01T01:03:10.667633Z",
     "start_time": "2019-03-01T01:03:10.660279Z"
    }
   },
   "outputs": [
    {
     "data": {
      "text/plain": [
       "array([555, 161, 201, 957, 995, 269, 862, 815, 270, 455, 461, 726, 251,\n",
       "       701, 295, 724, 719, 748, 337, 878])"
      ]
     },
     "execution_count": 47,
     "metadata": {},
     "output_type": "execute_result"
    }
   ],
   "source": [
    "# From earlier\n",
    "rand_arr = np.random.randint(0,1000,20)\n",
    "rand_arr"
   ]
  },
  {
   "cell_type": "code",
   "execution_count": 48,
   "metadata": {
    "ExecuteTime": {
     "end_time": "2019-03-01T01:03:20.091722Z",
     "start_time": "2019-03-01T01:03:20.088047Z"
    }
   },
   "outputs": [],
   "source": [
    "rand_arr = rand_arr.reshape(4,5)"
   ]
  },
  {
   "cell_type": "code",
   "execution_count": 49,
   "metadata": {
    "ExecuteTime": {
     "end_time": "2019-03-01T01:03:21.375424Z",
     "start_time": "2019-03-01T01:03:21.371207Z"
    }
   },
   "outputs": [
    {
     "data": {
      "text/plain": [
       "(4, 5)"
      ]
     },
     "execution_count": 49,
     "metadata": {},
     "output_type": "execute_result"
    }
   ],
   "source": [
    "rand_arr.shape"
   ]
  },
  {
   "cell_type": "code",
   "execution_count": 50,
   "metadata": {
    "ExecuteTime": {
     "end_time": "2019-03-01T01:03:25.073015Z",
     "start_time": "2019-03-01T01:03:25.068700Z"
    }
   },
   "outputs": [
    {
     "data": {
      "text/plain": [
       "array([[555, 161, 201, 957, 995],\n",
       "       [269, 862, 815, 270, 455],\n",
       "       [461, 726, 251, 701, 295],\n",
       "       [724, 719, 748, 337, 878]])"
      ]
     },
     "execution_count": 50,
     "metadata": {},
     "output_type": "execute_result"
    }
   ],
   "source": [
    "rand_arr"
   ]
  },
  {
   "cell_type": "markdown",
   "metadata": {},
   "source": [
    "## Selecting Values"
   ]
  },
  {
   "cell_type": "markdown",
   "metadata": {},
   "source": [
    "Secret! You already know how to select values from a numpy array. "
   ]
  },
  {
   "cell_type": "code",
   "execution_count": 51,
   "metadata": {
    "ExecuteTime": {
     "end_time": "2019-03-01T01:04:59.552007Z",
     "start_time": "2019-03-01T01:04:59.547066Z"
    }
   },
   "outputs": [
    {
     "data": {
      "text/plain": [
       "array([1, 2, 3, 4, 5])"
      ]
     },
     "execution_count": 51,
     "metadata": {},
     "output_type": "execute_result"
    }
   ],
   "source": [
    "import numpy as np\n",
    "np.random.seed(42)\n",
    "\n",
    "arr1 = np.arange(1,6)\n",
    "arr1"
   ]
  },
  {
   "cell_type": "code",
   "execution_count": 52,
   "metadata": {
    "ExecuteTime": {
     "end_time": "2019-03-01T01:05:26.663235Z",
     "start_time": "2019-03-01T01:05:26.658649Z"
    }
   },
   "outputs": [
    {
     "data": {
      "text/plain": [
       "1"
      ]
     },
     "execution_count": 52,
     "metadata": {},
     "output_type": "execute_result"
    }
   ],
   "source": [
    "arr1[0]"
   ]
  },
  {
   "cell_type": "code",
   "execution_count": 53,
   "metadata": {
    "ExecuteTime": {
     "end_time": "2019-03-01T01:05:33.342381Z",
     "start_time": "2019-03-01T01:05:33.338110Z"
    }
   },
   "outputs": [
    {
     "data": {
      "text/plain": [
       "array([1, 2, 3])"
      ]
     },
     "execution_count": 53,
     "metadata": {},
     "output_type": "execute_result"
    }
   ],
   "source": [
    "arr1[0:3]"
   ]
  },
  {
   "cell_type": "code",
   "execution_count": 55,
   "metadata": {
    "ExecuteTime": {
     "end_time": "2019-03-01T01:05:54.787243Z",
     "start_time": "2019-03-01T01:05:54.782532Z"
    }
   },
   "outputs": [
    {
     "data": {
      "text/plain": [
       "5"
      ]
     },
     "execution_count": 55,
     "metadata": {},
     "output_type": "execute_result"
    }
   ],
   "source": [
    "arr1[-1]"
   ]
  },
  {
   "cell_type": "markdown",
   "metadata": {},
   "source": [
    "Remember our old friend, lists?\n",
    "<img src=\"images/hello_friend.jpg\">\n",
    "\n",
    "And there you have it - you're already an expert in Numpy Indexing! And very soon, you will learn to be an expert at indexing 2D Matrices too."
   ]
  },
  {
   "cell_type": "markdown",
   "metadata": {},
   "source": [
    "# Indexing 2D Matrices"
   ]
  },
  {
   "cell_type": "code",
   "execution_count": 56,
   "metadata": {
    "ExecuteTime": {
     "end_time": "2019-03-01T01:06:14.125821Z",
     "start_time": "2019-03-01T01:06:14.119370Z"
    }
   },
   "outputs": [
    {
     "name": "stdout",
     "output_type": "stream",
     "text": [
      "[102 435 860 270 106  71 700  20 614 121 466 214 330 458  87 372  99 871\n",
      " 663 130]\n"
     ]
    }
   ],
   "source": [
    "import numpy as np\n",
    "np.random.seed(42)\n",
    "\n",
    "rand_arr = np.random.randint(0,1000,20)\n",
    "print(rand_arr)"
   ]
  },
  {
   "cell_type": "code",
   "execution_count": 57,
   "metadata": {
    "ExecuteTime": {
     "end_time": "2019-03-01T01:06:16.335928Z",
     "start_time": "2019-03-01T01:06:16.331774Z"
    }
   },
   "outputs": [
    {
     "data": {
      "text/plain": [
       "array([[102, 435, 860, 270],\n",
       "       [106,  71, 700,  20],\n",
       "       [614, 121, 466, 214],\n",
       "       [330, 458,  87, 372],\n",
       "       [ 99, 871, 663, 130]])"
      ]
     },
     "execution_count": 57,
     "metadata": {},
     "output_type": "execute_result"
    }
   ],
   "source": [
    "rand_arr = rand_arr.reshape(5,4)\n",
    "rand_arr"
   ]
  },
  {
   "cell_type": "code",
   "execution_count": 59,
   "metadata": {
    "ExecuteTime": {
     "end_time": "2019-03-01T01:07:20.084683Z",
     "start_time": "2019-03-01T01:07:20.080283Z"
    }
   },
   "outputs": [
    {
     "data": {
      "text/plain": [
       "array([102, 435, 860, 270])"
      ]
     },
     "execution_count": 59,
     "metadata": {},
     "output_type": "execute_result"
    }
   ],
   "source": [
    "rand_arr[0]"
   ]
  },
  {
   "cell_type": "code",
   "execution_count": 60,
   "metadata": {
    "ExecuteTime": {
     "end_time": "2019-03-01T01:07:22.064928Z",
     "start_time": "2019-03-01T01:07:22.060885Z"
    }
   },
   "outputs": [
    {
     "data": {
      "text/plain": [
       "array([106,  71, 700,  20])"
      ]
     },
     "execution_count": 60,
     "metadata": {},
     "output_type": "execute_result"
    }
   ],
   "source": [
    "rand_arr[1]"
   ]
  },
  {
   "cell_type": "code",
   "execution_count": 61,
   "metadata": {
    "ExecuteTime": {
     "end_time": "2019-03-01T01:07:39.619916Z",
     "start_time": "2019-03-01T01:07:39.615271Z"
    }
   },
   "outputs": [
    {
     "data": {
      "text/plain": [
       "270"
      ]
     },
     "execution_count": 61,
     "metadata": {},
     "output_type": "execute_result"
    }
   ],
   "source": [
    "rand_arr[0][-1]"
   ]
  },
  {
   "cell_type": "code",
   "execution_count": 62,
   "metadata": {
    "ExecuteTime": {
     "end_time": "2019-03-01T01:07:44.264528Z",
     "start_time": "2019-03-01T01:07:44.260350Z"
    }
   },
   "outputs": [
    {
     "data": {
      "text/plain": [
       "270"
      ]
     },
     "execution_count": 62,
     "metadata": {},
     "output_type": "execute_result"
    }
   ],
   "source": [
    "# Another way to write the same thing\n",
    "rand_arr[0,-1]"
   ]
  },
  {
   "cell_type": "markdown",
   "metadata": {},
   "source": [
    "**Remember, rows before columns. Always!**<br>\n",
    "How do we get entire rows, or snippets of values from rows?<br>\n",
    "Exactly the same as before. Nothing to worry about here!"
   ]
  },
  {
   "cell_type": "code",
   "execution_count": 63,
   "metadata": {
    "ExecuteTime": {
     "end_time": "2019-03-01T01:08:11.339528Z",
     "start_time": "2019-03-01T01:08:11.334355Z"
    }
   },
   "outputs": [
    {
     "data": {
      "text/plain": [
       "array([  1,   2,   3,   4,   5,   6,   7,   8,   9,  10,  11,  12,  13,\n",
       "        14,  15,  16,  17,  18,  19,  20,  21,  22,  23,  24,  25,  26,\n",
       "        27,  28,  29,  30,  31,  32,  33,  34,  35,  36,  37,  38,  39,\n",
       "        40,  41,  42,  43,  44,  45,  46,  47,  48,  49,  50,  51,  52,\n",
       "        53,  54,  55,  56,  57,  58,  59,  60,  61,  62,  63,  64,  65,\n",
       "        66,  67,  68,  69,  70,  71,  72,  73,  74,  75,  76,  77,  78,\n",
       "        79,  80,  81,  82,  83,  84,  85,  86,  87,  88,  89,  90,  91,\n",
       "        92,  93,  94,  95,  96,  97,  98,  99, 100])"
      ]
     },
     "execution_count": 63,
     "metadata": {},
     "output_type": "execute_result"
    }
   ],
   "source": [
    "import numpy as np\n",
    "np.random.seed(42)\n",
    "\n",
    "arr1 = np.arange(1,101)\n",
    "arr1"
   ]
  },
  {
   "cell_type": "code",
   "execution_count": 64,
   "metadata": {
    "ExecuteTime": {
     "end_time": "2019-03-01T01:08:17.363348Z",
     "start_time": "2019-03-01T01:08:17.358410Z"
    }
   },
   "outputs": [
    {
     "data": {
      "text/plain": [
       "array([[  1,   2,   3,   4,   5,   6,   7,   8,   9,  10],\n",
       "       [ 11,  12,  13,  14,  15,  16,  17,  18,  19,  20],\n",
       "       [ 21,  22,  23,  24,  25,  26,  27,  28,  29,  30],\n",
       "       [ 31,  32,  33,  34,  35,  36,  37,  38,  39,  40],\n",
       "       [ 41,  42,  43,  44,  45,  46,  47,  48,  49,  50],\n",
       "       [ 51,  52,  53,  54,  55,  56,  57,  58,  59,  60],\n",
       "       [ 61,  62,  63,  64,  65,  66,  67,  68,  69,  70],\n",
       "       [ 71,  72,  73,  74,  75,  76,  77,  78,  79,  80],\n",
       "       [ 81,  82,  83,  84,  85,  86,  87,  88,  89,  90],\n",
       "       [ 91,  92,  93,  94,  95,  96,  97,  98,  99, 100]])"
      ]
     },
     "execution_count": 64,
     "metadata": {},
     "output_type": "execute_result"
    }
   ],
   "source": [
    "arr1 = arr1.reshape(10,10)\n",
    "arr1"
   ]
  },
  {
   "cell_type": "markdown",
   "metadata": {},
   "source": [
    "## Exercise\n",
    "Select 26 to 30"
   ]
  },
  {
   "cell_type": "code",
   "execution_count": 65,
   "metadata": {
    "ExecuteTime": {
     "end_time": "2019-03-01T01:13:53.245468Z",
     "start_time": "2019-03-01T01:13:53.240403Z"
    }
   },
   "outputs": [
    {
     "data": {
      "text/plain": [
       "array([21, 22, 23, 24, 25, 26, 27, 28, 29, 30])"
      ]
     },
     "execution_count": 65,
     "metadata": {},
     "output_type": "execute_result"
    }
   ],
   "source": [
    "# Step 1 - Narrow down the row\n",
    "arr1[2] # 3rd row"
   ]
  },
  {
   "cell_type": "code",
   "execution_count": 66,
   "metadata": {
    "ExecuteTime": {
     "end_time": "2019-03-01T01:13:54.079416Z",
     "start_time": "2019-03-01T01:13:54.075212Z"
    }
   },
   "outputs": [
    {
     "data": {
      "text/plain": [
       "array([26, 27, 28, 29, 30])"
      ]
     },
     "execution_count": 66,
     "metadata": {},
     "output_type": "execute_result"
    }
   ],
   "source": [
    "# 26 is at index 5, we need all the numbers from thr 6th column onwards\n",
    "arr1[2,5:]"
   ]
  },
  {
   "cell_type": "markdown",
   "metadata": {},
   "source": [
    "## Exercise\n",
    "Select:<br>\n",
    "[71,  72,  73]<br>\n",
    "[81,  82,  83]<br>\n",
    "[91,  92,  93]"
   ]
  },
  {
   "cell_type": "code",
   "execution_count": null,
   "metadata": {
    "ExecuteTime": {
     "end_time": "2019-02-28T20:35:04.487291Z",
     "start_time": "2019-02-28T20:35:04.280Z"
    }
   },
   "outputs": [],
   "source": [
    "# Step 1: Identify the Row\n",
    "arr1[7:]"
   ]
  },
  {
   "cell_type": "code",
   "execution_count": null,
   "metadata": {
    "ExecuteTime": {
     "end_time": "2019-02-28T20:35:04.488720Z",
     "start_time": "2019-02-28T20:35:04.287Z"
    }
   },
   "outputs": [],
   "source": [
    "# Now we need the first three columns\n",
    "arr1[7:,:3]"
   ]
  },
  {
   "cell_type": "markdown",
   "metadata": {},
   "source": [
    "## Exercise\n",
    "Select: <br>\n",
    "[56,  57,  58,  59,  60]<br>\n",
    "[66,  67,  68,  69,  70]<br>\n",
    "[76,  77,  78,  79,  80]"
   ]
  },
  {
   "cell_type": "code",
   "execution_count": null,
   "metadata": {
    "ExecuteTime": {
     "end_time": "2019-02-28T20:35:04.490384Z",
     "start_time": "2019-02-28T20:35:04.318Z"
    }
   },
   "outputs": [],
   "source": [
    "# Your code here"
   ]
  },
  {
   "cell_type": "markdown",
   "metadata": {},
   "source": [
    "## Exercise\n",
    "Select:<br>\n",
    "[ 44,  45]<br>\n",
    "[ 54,  55]"
   ]
  },
  {
   "cell_type": "code",
   "execution_count": null,
   "metadata": {
    "ExecuteTime": {
     "end_time": "2019-02-28T20:35:04.492241Z",
     "start_time": "2019-02-28T20:35:04.326Z"
    }
   },
   "outputs": [],
   "source": [
    "# Your code here"
   ]
  },
  {
   "cell_type": "markdown",
   "metadata": {},
   "source": [
    "## Exercise\n",
    "Create atleast 4 challenges for yourself, so you can practice indexing."
   ]
  },
  {
   "cell_type": "code",
   "execution_count": null,
   "metadata": {
    "ExecuteTime": {
     "end_time": "2019-02-28T20:35:04.494176Z",
     "start_time": "2019-02-28T20:35:04.337Z"
    }
   },
   "outputs": [],
   "source": [
    "# Your code here"
   ]
  },
  {
   "cell_type": "markdown",
   "metadata": {},
   "source": [
    "# Fancy Indexing\n",
    "\n",
    "## Method 1: Boolean Masks\n",
    "While there are many ways to index, one of the more common methods that Data Scientists use will is Boolean Indexing. You can read more about indexing methods [here](https://docs.scipy.org/doc/numpy/user/basics.indexing.html#indexing).\n"
   ]
  },
  {
   "cell_type": "code",
   "execution_count": 68,
   "metadata": {
    "ExecuteTime": {
     "end_time": "2019-03-01T01:15:27.678568Z",
     "start_time": "2019-03-01T01:15:27.672179Z"
    }
   },
   "outputs": [
    {
     "data": {
      "text/plain": [
       "array([102, 435, 860, 270, 106,  71, 700,  20, 614, 121, 466, 214, 330,\n",
       "       458,  87, 372,  99, 871, 663, 130, 661, 308, 769, 343, 491, 413,\n",
       "       805, 385, 191, 955, 276, 160, 459, 313,  21, 252, 747, 856, 560,\n",
       "       474,  58, 510, 681, 475, 699, 975, 782, 189, 957, 686, 957, 562,\n",
       "       875, 566, 243, 831, 504, 130, 484, 818, 646,  20, 840, 166, 273,\n",
       "       387, 600, 315,  13, 241, 776, 345, 564, 897, 339,  91, 366, 955,\n",
       "       454, 427, 508, 775, 942,  34, 205,  80, 931, 561, 871, 387,   1,\n",
       "       389, 565, 105, 771, 821, 476, 702, 401, 729])"
      ]
     },
     "execution_count": 68,
     "metadata": {},
     "output_type": "execute_result"
    }
   ],
   "source": [
    "import numpy as np\n",
    "np.random.seed(42)\n",
    "\n",
    "arr1 = np.random.randint(0,1000,100)\n",
    "arr1"
   ]
  },
  {
   "cell_type": "code",
   "execution_count": 69,
   "metadata": {
    "ExecuteTime": {
     "end_time": "2019-03-01T01:16:02.303346Z",
     "start_time": "2019-03-01T01:16:02.298505Z"
    }
   },
   "outputs": [
    {
     "data": {
      "text/plain": [
       "array([False,  True,  True,  True, False, False,  True, False,  True,\n",
       "       False,  True,  True,  True,  True, False,  True, False,  True,\n",
       "        True, False,  True,  True,  True,  True,  True,  True,  True,\n",
       "        True,  True,  True,  True,  True,  True,  True, False,  True,\n",
       "        True,  True,  True,  True, False,  True,  True,  True,  True,\n",
       "        True,  True,  True,  True,  True,  True,  True,  True,  True,\n",
       "        True,  True,  True, False,  True,  True,  True, False,  True,\n",
       "        True,  True,  True,  True,  True, False,  True,  True,  True,\n",
       "        True,  True,  True, False,  True,  True,  True,  True,  True,\n",
       "        True,  True, False,  True, False,  True,  True,  True,  True,\n",
       "       False,  True,  True, False,  True,  True,  True,  True,  True,\n",
       "        True])"
      ]
     },
     "execution_count": 69,
     "metadata": {},
     "output_type": "execute_result"
    }
   ],
   "source": [
    "# We check what values are greater than 150\n",
    "arr1>150"
   ]
  },
  {
   "cell_type": "code",
   "execution_count": 70,
   "metadata": {
    "ExecuteTime": {
     "end_time": "2019-03-01T01:17:16.154464Z",
     "start_time": "2019-03-01T01:17:16.148944Z"
    }
   },
   "outputs": [
    {
     "data": {
      "text/plain": [
       "array([435, 860, 270, 700, 614, 466, 214, 330, 458, 372, 871, 663, 661,\n",
       "       308, 769, 343, 491, 413, 805, 385, 191, 955, 276, 160, 459, 313,\n",
       "       252, 747, 856, 560, 474, 510, 681, 475, 699, 975, 782, 189, 957,\n",
       "       686, 957, 562, 875, 566, 243, 831, 504, 484, 818, 646, 840, 166,\n",
       "       273, 387, 600, 315, 241, 776, 345, 564, 897, 339, 366, 955, 454,\n",
       "       427, 508, 775, 942, 205, 931, 561, 871, 387, 389, 565, 771, 821,\n",
       "       476, 702, 401, 729])"
      ]
     },
     "execution_count": 70,
     "metadata": {},
     "output_type": "execute_result"
    }
   ],
   "source": [
    "# Assign this operation to a variable x\n",
    "mask = arr1>150\n",
    "# Create a new array which subsets arr1 based on a boolean operation\n",
    "arr2 = arr1[mask]\n",
    "arr2"
   ]
  },
  {
   "cell_type": "code",
   "execution_count": 71,
   "metadata": {
    "ExecuteTime": {
     "end_time": "2019-03-01T01:18:32.776639Z",
     "start_time": "2019-03-01T01:18:32.772118Z"
    }
   },
   "outputs": [
    {
     "data": {
      "text/plain": [
       "(82,)"
      ]
     },
     "execution_count": 71,
     "metadata": {},
     "output_type": "execute_result"
    }
   ],
   "source": [
    "# Check the shape\n",
    "arr2.shape"
   ]
  },
  {
   "cell_type": "markdown",
   "metadata": {},
   "source": [
    "## Method 2: Indexing with Array of Integers\n",
    "Don't get intimidated by the big words - it just means indexing by using a Python list."
   ]
  },
  {
   "cell_type": "code",
   "execution_count": 73,
   "metadata": {
    "ExecuteTime": {
     "end_time": "2019-03-01T01:20:36.570755Z",
     "start_time": "2019-03-01T01:20:36.567654Z"
    }
   },
   "outputs": [],
   "source": [
    "list1 = [1,3,5,7]\n",
    "list2 = [2,4,6,8]"
   ]
  },
  {
   "cell_type": "code",
   "execution_count": 74,
   "metadata": {
    "ExecuteTime": {
     "end_time": "2019-03-01T01:20:43.925699Z",
     "start_time": "2019-03-01T01:20:43.918814Z"
    }
   },
   "outputs": [
    {
     "data": {
      "text/plain": [
       "array([  1,   2,   3,   4,   5,   6,   7,   8,   9,  10,  11,  12,  13,\n",
       "        14,  15,  16,  17,  18,  19,  20,  21,  22,  23,  24,  25,  26,\n",
       "        27,  28,  29,  30,  31,  32,  33,  34,  35,  36,  37,  38,  39,\n",
       "        40,  41,  42,  43,  44,  45,  46,  47,  48,  49,  50,  51,  52,\n",
       "        53,  54,  55,  56,  57,  58,  59,  60,  61,  62,  63,  64,  65,\n",
       "        66,  67,  68,  69,  70,  71,  72,  73,  74,  75,  76,  77,  78,\n",
       "        79,  80,  81,  82,  83,  84,  85,  86,  87,  88,  89,  90,  91,\n",
       "        92,  93,  94,  95,  96,  97,  98,  99, 100])"
      ]
     },
     "execution_count": 74,
     "metadata": {},
     "output_type": "execute_result"
    }
   ],
   "source": [
    "arr1 = np.arange(1,101)\n",
    "arr1"
   ]
  },
  {
   "cell_type": "code",
   "execution_count": 75,
   "metadata": {
    "ExecuteTime": {
     "end_time": "2019-03-01T01:21:24.630592Z",
     "start_time": "2019-03-01T01:21:24.626174Z"
    }
   },
   "outputs": [
    {
     "data": {
      "text/plain": [
       "array([2, 4, 6, 8])"
      ]
     },
     "execution_count": 75,
     "metadata": {},
     "output_type": "execute_result"
    }
   ],
   "source": [
    "arr_even = arr1[list1]\n",
    "arr_even"
   ]
  },
  {
   "cell_type": "code",
   "execution_count": 76,
   "metadata": {
    "ExecuteTime": {
     "end_time": "2019-03-01T01:22:51.702193Z",
     "start_time": "2019-03-01T01:22:51.697105Z"
    }
   },
   "outputs": [
    {
     "data": {
      "text/plain": [
       "array([2, 4, 6, 8])"
      ]
     },
     "execution_count": 76,
     "metadata": {},
     "output_type": "execute_result"
    }
   ],
   "source": [
    "# Alternatively\n",
    "arr_even = arr1[[1,3,5,7]]\n",
    "arr_even"
   ]
  },
  {
   "cell_type": "code",
   "execution_count": 77,
   "metadata": {
    "ExecuteTime": {
     "end_time": "2019-03-01T01:22:55.165930Z",
     "start_time": "2019-03-01T01:22:55.160361Z"
    }
   },
   "outputs": [
    {
     "data": {
      "text/plain": [
       "array([3, 5, 7, 9])"
      ]
     },
     "execution_count": 77,
     "metadata": {},
     "output_type": "execute_result"
    }
   ],
   "source": [
    "arr_odd = arr1[list2]\n",
    "arr_odd"
   ]
  },
  {
   "cell_type": "markdown",
   "metadata": {},
   "source": [
    "## Take\n",
    "This is similar to Fancy Indexing, but is arguably easier to use, atleast for me. I am sure you might develop a preference for this technique too. Additionally, Wes McKinney - the creator of Pandas, [reports](http://wesmckinney.com/blog/numpy-indexing-peculiarities/) that \"take\" is faster than \"fancy indexing\"."
   ]
  },
  {
   "cell_type": "code",
   "execution_count": 78,
   "metadata": {
    "ExecuteTime": {
     "end_time": "2019-03-01T01:23:46.291242Z",
     "start_time": "2019-03-01T01:23:46.286304Z"
    }
   },
   "outputs": [
    {
     "data": {
      "text/plain": [
       "array([  1,   2,   3,   4,   5,   6,   7,   8,   9,  10,  11,  12,  13,\n",
       "        14,  15,  16,  17,  18,  19,  20,  21,  22,  23,  24,  25,  26,\n",
       "        27,  28,  29,  30,  31,  32,  33,  34,  35,  36,  37,  38,  39,\n",
       "        40,  41,  42,  43,  44,  45,  46,  47,  48,  49,  50,  51,  52,\n",
       "        53,  54,  55,  56,  57,  58,  59,  60,  61,  62,  63,  64,  65,\n",
       "        66,  67,  68,  69,  70,  71,  72,  73,  74,  75,  76,  77,  78,\n",
       "        79,  80,  81,  82,  83,  84,  85,  86,  87,  88,  89,  90,  91,\n",
       "        92,  93,  94,  95,  96,  97,  98,  99, 100])"
      ]
     },
     "execution_count": 78,
     "metadata": {},
     "output_type": "execute_result"
    }
   ],
   "source": [
    "arr1 = np.arange(1,101)\n",
    "arr1"
   ]
  },
  {
   "cell_type": "code",
   "execution_count": 79,
   "metadata": {
    "ExecuteTime": {
     "end_time": "2019-03-01T01:24:17.524121Z",
     "start_time": "2019-03-01T01:24:17.518841Z"
    }
   },
   "outputs": [
    {
     "data": {
      "text/plain": [
       "array([  1,   3,   5,  11,  21,  81,  92,  98, 100])"
      ]
     },
     "execution_count": 79,
     "metadata": {},
     "output_type": "execute_result"
    }
   ],
   "source": [
    "indices = [0,2,4,10,20,80,91,97,99]\n",
    "np.take(arr1, indices)"
   ]
  },
  {
   "cell_type": "markdown",
   "metadata": {},
   "source": [
    "Works with Multi-Dimensional "
   ]
  },
  {
   "cell_type": "code",
   "execution_count": 80,
   "metadata": {
    "ExecuteTime": {
     "end_time": "2019-03-01T01:24:46.012902Z",
     "start_time": "2019-03-01T01:24:46.007715Z"
    }
   },
   "outputs": [
    {
     "data": {
      "text/plain": [
       "array([[ 1,  2],\n",
       "       [12, 19]])"
      ]
     },
     "execution_count": 80,
     "metadata": {},
     "output_type": "execute_result"
    }
   ],
   "source": [
    "np.take(arr1, [[0, 1], [11, 18]])"
   ]
  },
  {
   "cell_type": "markdown",
   "metadata": {},
   "source": [
    "## Broadcasting\n",
    "Broadcasting is a way for Numpy to work with arrays of different shapes.\n",
    "\n",
    "The easiest example to explain broadcasting would be to use a scalar value. What's a scalar? A quantity having only magnitutde, but not direction. Speed is a scalar, velocity is a vector. For our practical Numpy purposes, scalars are real numbers - 1,2,3,4.....\n",
    "\n",
    "Broadcasting is fast and efficient because all the underlying looping occurs in C, and happens on the fly without making copies of the data."
   ]
  },
  {
   "cell_type": "code",
   "execution_count": 81,
   "metadata": {
    "ExecuteTime": {
     "end_time": "2019-03-01T01:26:00.404301Z",
     "start_time": "2019-03-01T01:26:00.399140Z"
    }
   },
   "outputs": [
    {
     "name": "stdout",
     "output_type": "stream",
     "text": [
      "[ 1  2  3  4  5  6  7  8  9 10]\n"
     ]
    }
   ],
   "source": [
    "arr_1 = np.arange(1,11)\n",
    "print(arr_1)"
   ]
  },
  {
   "cell_type": "code",
   "execution_count": 86,
   "metadata": {
    "ExecuteTime": {
     "end_time": "2019-03-01T01:27:45.651015Z",
     "start_time": "2019-03-01T01:27:45.647430Z"
    },
    "scrolled": true
   },
   "outputs": [
    {
     "name": "stdout",
     "output_type": "stream",
     "text": [
      "[ 10  20  30  40  50  60  70  80  90 100]\n"
     ]
    }
   ],
   "source": [
    "print(arr_1 * 10)"
   ]
  },
  {
   "cell_type": "code",
   "execution_count": 83,
   "metadata": {
    "ExecuteTime": {
     "end_time": "2019-03-01T01:27:04.538187Z",
     "start_time": "2019-03-01T01:27:04.533457Z"
    }
   },
   "outputs": [
    {
     "data": {
      "text/plain": [
       "[1, 2, 3, 4, 5, 1, 2, 3, 4, 5, 1, 2, 3, 4, 5, 1, 2, 3, 4, 5, 1, 2, 3, 4, 5]"
      ]
     },
     "execution_count": 83,
     "metadata": {},
     "output_type": "execute_result"
    }
   ],
   "source": [
    "list1 = [1,2,3,4,5]\n",
    "list1*5"
   ]
  },
  {
   "cell_type": "markdown",
   "metadata": {},
   "source": [
    "Here we have broadcast 10 to all other elements in the array. Remember Vectorisation? Same principles!"
   ]
  },
  {
   "cell_type": "code",
   "execution_count": 87,
   "metadata": {
    "ExecuteTime": {
     "end_time": "2019-03-01T01:27:57.833028Z",
     "start_time": "2019-03-01T01:27:57.827366Z"
    }
   },
   "outputs": [
    {
     "data": {
      "text/plain": [
       "array([[3, 4],\n",
       "       [5, 6]])"
      ]
     },
     "execution_count": 87,
     "metadata": {},
     "output_type": "execute_result"
    }
   ],
   "source": [
    "arr_1 = np.array([[1,2],[3,4]])\n",
    "a = 2\n",
    "arr_1 + a"
   ]
  },
  {
   "cell_type": "markdown",
   "metadata": {},
   "source": [
    "### Broadcasting Rule\n",
    "What about arrays of different dimensions and/or sizes? Well, for that, we have the broadcasting rule.\n",
    "> In order to broadcast, the size of the trailing axes for both arrays in an operation must either be the same size or one of them must be one.\n",
    "\n",
    "Umm....\n",
    "\n",
    "<img src=\"images/english.jpg\"> \n",
    "Ok, let's not offend our friend Samuel Jackson here, so here's what it means in plain English."
   ]
  },
  {
   "cell_type": "code",
   "execution_count": 88,
   "metadata": {
    "ExecuteTime": {
     "end_time": "2019-03-01T01:29:00.128120Z",
     "start_time": "2019-03-01T01:29:00.123740Z"
    }
   },
   "outputs": [
    {
     "data": {
      "text/plain": [
       "array([ 1,  2,  3,  4,  5,  6,  7,  8,  9, 10, 11, 12])"
      ]
     },
     "execution_count": 88,
     "metadata": {},
     "output_type": "execute_result"
    }
   ],
   "source": [
    "arr1 = np.arange(1,13)\n",
    "arr1"
   ]
  },
  {
   "cell_type": "code",
   "execution_count": 89,
   "metadata": {
    "ExecuteTime": {
     "end_time": "2019-03-01T01:29:09.021842Z",
     "start_time": "2019-03-01T01:29:09.016769Z"
    }
   },
   "outputs": [
    {
     "data": {
      "text/plain": [
       "(12,)"
      ]
     },
     "execution_count": 89,
     "metadata": {},
     "output_type": "execute_result"
    }
   ],
   "source": [
    "arr1.shape"
   ]
  },
  {
   "cell_type": "code",
   "execution_count": 90,
   "metadata": {
    "ExecuteTime": {
     "end_time": "2019-03-01T01:29:13.876103Z",
     "start_time": "2019-03-01T01:29:13.872948Z"
    }
   },
   "outputs": [],
   "source": [
    "arr1 = arr1.reshape(4,3).astype('float')"
   ]
  },
  {
   "cell_type": "code",
   "execution_count": 91,
   "metadata": {
    "ExecuteTime": {
     "end_time": "2019-03-01T01:29:15.128670Z",
     "start_time": "2019-03-01T01:29:15.124611Z"
    }
   },
   "outputs": [
    {
     "data": {
      "text/plain": [
       "array([[ 1.,  2.,  3.],\n",
       "       [ 4.,  5.,  6.],\n",
       "       [ 7.,  8.,  9.],\n",
       "       [10., 11., 12.]])"
      ]
     },
     "execution_count": 91,
     "metadata": {},
     "output_type": "execute_result"
    }
   ],
   "source": [
    "arr1"
   ]
  },
  {
   "cell_type": "markdown",
   "metadata": {},
   "source": [
    "A quick digression, in case you are wondering, the `.astype('float')` was just a quick operation to convert integers to floats as you are already familiar with. If you want to find out what the data type of an element in a numpy array is, simply use the suffix `.dtype`"
   ]
  },
  {
   "cell_type": "code",
   "execution_count": 92,
   "metadata": {
    "ExecuteTime": {
     "end_time": "2019-03-01T01:29:23.571100Z",
     "start_time": "2019-03-01T01:29:23.566181Z"
    }
   },
   "outputs": [
    {
     "data": {
      "text/plain": [
       "dtype('float64')"
      ]
     },
     "execution_count": 92,
     "metadata": {},
     "output_type": "execute_result"
    }
   ],
   "source": [
    "arr1.dtype"
   ]
  },
  {
   "cell_type": "code",
   "execution_count": 93,
   "metadata": {
    "ExecuteTime": {
     "end_time": "2019-03-01T01:29:38.898861Z",
     "start_time": "2019-03-01T01:29:38.894006Z"
    }
   },
   "outputs": [
    {
     "name": "stdout",
     "output_type": "stream",
     "text": [
      "[1 2 3 4]\n",
      "arr_example is an int64\n",
      "arr_example is now a float64\n"
     ]
    }
   ],
   "source": [
    "arr_example = np.array([1,2,3,4])\n",
    "print(arr_example)\n",
    "print('arr_example is an',arr_example.dtype)\n",
    "arr_example = arr_example.astype('float')\n",
    "print('arr_example is now a',arr_example.dtype)"
   ]
  },
  {
   "cell_type": "markdown",
   "metadata": {},
   "source": [
    "Back to our array, arr1"
   ]
  },
  {
   "cell_type": "code",
   "execution_count": 94,
   "metadata": {
    "ExecuteTime": {
     "end_time": "2019-03-01T01:29:43.036846Z",
     "start_time": "2019-03-01T01:29:43.032161Z"
    }
   },
   "outputs": [
    {
     "data": {
      "text/plain": [
       "array([[ 1.,  2.,  3.],\n",
       "       [ 4.,  5.,  6.],\n",
       "       [ 7.,  8.,  9.],\n",
       "       [10., 11., 12.]])"
      ]
     },
     "execution_count": 94,
     "metadata": {},
     "output_type": "execute_result"
    }
   ],
   "source": [
    "arr1"
   ]
  },
  {
   "cell_type": "code",
   "execution_count": 95,
   "metadata": {
    "ExecuteTime": {
     "end_time": "2019-03-01T01:29:44.428899Z",
     "start_time": "2019-03-01T01:29:44.424952Z"
    }
   },
   "outputs": [
    {
     "data": {
      "text/plain": [
       "(4, 3)"
      ]
     },
     "execution_count": 95,
     "metadata": {},
     "output_type": "execute_result"
    }
   ],
   "source": [
    "arr1.shape"
   ]
  },
  {
   "cell_type": "code",
   "execution_count": 96,
   "metadata": {
    "ExecuteTime": {
     "end_time": "2019-03-01T01:29:50.765366Z",
     "start_time": "2019-03-01T01:29:50.761379Z"
    }
   },
   "outputs": [
    {
     "name": "stdout",
     "output_type": "stream",
     "text": [
      "[0. 1. 2.]\n",
      "(3,)\n"
     ]
    }
   ],
   "source": [
    "arr2 = np.array([0.0,1.0,2.0])\n",
    "print(arr2)\n",
    "print(arr2.shape)"
   ]
  },
  {
   "cell_type": "code",
   "execution_count": 97,
   "metadata": {
    "ExecuteTime": {
     "end_time": "2019-03-01T01:30:47.821676Z",
     "start_time": "2019-03-01T01:30:47.816756Z"
    }
   },
   "outputs": [
    {
     "data": {
      "text/plain": [
       "array([[ 1.,  3.,  5.],\n",
       "       [ 4.,  6.,  8.],\n",
       "       [ 7.,  9., 11.],\n",
       "       [10., 12., 14.]])"
      ]
     },
     "execution_count": 97,
     "metadata": {},
     "output_type": "execute_result"
    }
   ],
   "source": [
    "arr1 + arr2"
   ]
  },
  {
   "cell_type": "markdown",
   "metadata": {},
   "source": [
    "Do you see what happened here? Our row with 3 elements, was sequentially added to each 3-element row in arr1.\n",
    "\n",
    "The 1d array is represented as (3,), but think of it as simple a (3). The trailing axes have to match. So (4,3) and (3) match. What happens with it's (4,3) and (4)? It won't work! Let's prove it here."
   ]
  },
  {
   "cell_type": "code",
   "execution_count": 98,
   "metadata": {
    "ExecuteTime": {
     "end_time": "2019-03-01T01:32:10.378317Z",
     "start_time": "2019-03-01T01:32:10.371953Z"
    }
   },
   "outputs": [
    {
     "name": "stdout",
     "output_type": "stream",
     "text": [
      "[0. 1. 2. 3.]\n",
      "(4,)\n"
     ]
    }
   ],
   "source": [
    "arr3 = np.arange(0,4)\n",
    "arr3 = arr3.astype('float')\n",
    "print(arr3)\n",
    "print(arr3.shape)"
   ]
  },
  {
   "cell_type": "code",
   "execution_count": 99,
   "metadata": {
    "ExecuteTime": {
     "end_time": "2019-03-01T01:32:12.155647Z",
     "start_time": "2019-03-01T01:32:12.148602Z"
    }
   },
   "outputs": [
    {
     "ename": "ValueError",
     "evalue": "operands could not be broadcast together with shapes (4,3) (4,) ",
     "output_type": "error",
     "traceback": [
      "\u001b[0;31m---------------------------------------------------------------------------\u001b[0m",
      "\u001b[0;31mValueError\u001b[0m                                Traceback (most recent call last)",
      "\u001b[0;32m<ipython-input-99-0da074a37484>\u001b[0m in \u001b[0;36m<module>\u001b[0;34m\u001b[0m\n\u001b[1;32m      1\u001b[0m \u001b[0;31m# Let's generate our error\u001b[0m\u001b[0;34m\u001b[0m\u001b[0;34m\u001b[0m\u001b[0;34m\u001b[0m\u001b[0m\n\u001b[0;32m----> 2\u001b[0;31m \u001b[0marr1\u001b[0m \u001b[0;34m+\u001b[0m \u001b[0marr3\u001b[0m\u001b[0;34m\u001b[0m\u001b[0;34m\u001b[0m\u001b[0m\n\u001b[0m",
      "\u001b[0;31mValueError\u001b[0m: operands could not be broadcast together with shapes (4,3) (4,) "
     ]
    }
   ],
   "source": [
    "# Let's generate our error\n",
    "arr1 + arr3"
   ]
  },
  {
   "cell_type": "markdown",
   "metadata": {},
   "source": [
    "A final example now, with a (5,1) and (3) array. Read the rule once again - and it will be clear that the new array will be a 5X3 array. "
   ]
  },
  {
   "cell_type": "code",
   "execution_count": 100,
   "metadata": {
    "ExecuteTime": {
     "end_time": "2019-03-01T01:33:05.095182Z",
     "start_time": "2019-03-01T01:33:05.090812Z"
    }
   },
   "outputs": [
    {
     "data": {
      "text/plain": [
       "array([1, 2, 3, 4, 5])"
      ]
     },
     "execution_count": 100,
     "metadata": {},
     "output_type": "execute_result"
    }
   ],
   "source": [
    "arr4 = np.arange(1,6)\n",
    "arr4"
   ]
  },
  {
   "cell_type": "code",
   "execution_count": 101,
   "metadata": {
    "ExecuteTime": {
     "end_time": "2019-03-01T01:33:11.255030Z",
     "start_time": "2019-03-01T01:33:11.250236Z"
    }
   },
   "outputs": [
    {
     "data": {
      "text/plain": [
       "(5, 1)"
      ]
     },
     "execution_count": 101,
     "metadata": {},
     "output_type": "execute_result"
    }
   ],
   "source": [
    "arr4 = arr4.reshape(5,1).astype('float')\n",
    "arr4.shape"
   ]
  },
  {
   "cell_type": "code",
   "execution_count": 102,
   "metadata": {
    "ExecuteTime": {
     "end_time": "2019-03-01T01:33:12.577466Z",
     "start_time": "2019-03-01T01:33:12.571674Z"
    }
   },
   "outputs": [
    {
     "data": {
      "text/plain": [
       "array([0., 1., 2.])"
      ]
     },
     "execution_count": 102,
     "metadata": {},
     "output_type": "execute_result"
    }
   ],
   "source": [
    "arr2"
   ]
  },
  {
   "cell_type": "code",
   "execution_count": 103,
   "metadata": {
    "ExecuteTime": {
     "end_time": "2019-03-01T01:33:12.955516Z",
     "start_time": "2019-03-01T01:33:12.951643Z"
    }
   },
   "outputs": [
    {
     "data": {
      "text/plain": [
       "array([[ 0.,  1.,  2.],\n",
       "       [ 0.,  2.,  4.],\n",
       "       [ 0.,  3.,  6.],\n",
       "       [ 0.,  4.,  8.],\n",
       "       [ 0.,  5., 10.]])"
      ]
     },
     "execution_count": 103,
     "metadata": {},
     "output_type": "execute_result"
    }
   ],
   "source": [
    "arr4 * arr2"
   ]
  },
  {
   "cell_type": "markdown",
   "metadata": {},
   "source": [
    "# Other Array Operations"
   ]
  },
  {
   "cell_type": "markdown",
   "metadata": {},
   "source": [
    "So let's begin with some good news here. You have already performed some advanced algebraic operations! That's the power of numpy.\n",
    "\n",
    "Let's look at a few more operations now that come in quite handy."
   ]
  },
  {
   "cell_type": "markdown",
   "metadata": {},
   "source": [
    "### Copying Arrays"
   ]
  },
  {
   "cell_type": "code",
   "execution_count": 104,
   "metadata": {
    "ExecuteTime": {
     "end_time": "2019-03-01T01:33:34.869385Z",
     "start_time": "2019-03-01T01:33:34.864203Z"
    }
   },
   "outputs": [
    {
     "data": {
      "text/plain": [
       "array([[ 1,  2,  3,  4,  5],\n",
       "       [ 6,  7,  8,  9, 10],\n",
       "       [11, 12, 13, 14, 15],\n",
       "       [16, 17, 18, 19, 20]])"
      ]
     },
     "execution_count": 104,
     "metadata": {},
     "output_type": "execute_result"
    }
   ],
   "source": [
    "a1 = np.arange(1,21)\n",
    "a1 = a1.reshape(4,5)\n",
    "a1"
   ]
  },
  {
   "cell_type": "code",
   "execution_count": 108,
   "metadata": {
    "ExecuteTime": {
     "end_time": "2019-03-01T01:34:55.063901Z",
     "start_time": "2019-03-01T01:34:55.059516Z"
    }
   },
   "outputs": [
    {
     "data": {
      "text/plain": [
       "array([ 1,  6, 11, 16])"
      ]
     },
     "execution_count": 108,
     "metadata": {},
     "output_type": "execute_result"
    }
   ],
   "source": [
    "# Let's get the first column\n",
    "a1[:,0]"
   ]
  },
  {
   "cell_type": "code",
   "execution_count": 106,
   "metadata": {
    "ExecuteTime": {
     "end_time": "2019-03-01T01:34:13.147188Z",
     "start_time": "2019-03-01T01:34:13.141112Z"
    }
   },
   "outputs": [
    {
     "data": {
      "text/plain": [
       "array([ 1,  6, 11, 16])"
      ]
     },
     "execution_count": 106,
     "metadata": {},
     "output_type": "execute_result"
    }
   ],
   "source": [
    "# Assign to new array\n",
    "new_a1 = a1[:,0]\n",
    "new_a1"
   ]
  },
  {
   "cell_type": "code",
   "execution_count": 109,
   "metadata": {
    "ExecuteTime": {
     "end_time": "2019-03-01T01:35:16.868407Z",
     "start_time": "2019-03-01T01:35:16.862469Z"
    }
   },
   "outputs": [
    {
     "data": {
      "text/plain": [
       "array([42, 42, 42, 42])"
      ]
     },
     "execution_count": 109,
     "metadata": {},
     "output_type": "execute_result"
    }
   ],
   "source": [
    "# Recall that this is how you select all values\n",
    "new_a1[:] = 42\n",
    "new_a1"
   ]
  },
  {
   "cell_type": "markdown",
   "metadata": {},
   "source": [
    "So what happened to our original array? Let's find out."
   ]
  },
  {
   "cell_type": "code",
   "execution_count": null,
   "metadata": {
    "ExecuteTime": {
     "end_time": "2019-02-28T20:35:04.818010Z",
     "start_time": "2019-02-28T20:35:04.746Z"
    }
   },
   "outputs": [],
   "source": [
    "a1"
   ]
  },
  {
   "cell_type": "markdown",
   "metadata": {},
   "source": [
    "Why did that happen?! We never touched a1, and even went on to create a whole new array!\n",
    "\n",
    "This is because Numpy is very efficient in the way it uses memory. If you want a copy, be explicit, else Numpy will make changes to the original array too. Here's how you make a copy."
   ]
  },
  {
   "cell_type": "code",
   "execution_count": null,
   "metadata": {
    "ExecuteTime": {
     "end_time": "2019-02-28T20:35:04.818975Z",
     "start_time": "2019-02-28T20:35:04.757Z"
    }
   },
   "outputs": [],
   "source": [
    "a1_copy = a1.copy()\n",
    "a1_copy"
   ]
  },
  {
   "cell_type": "code",
   "execution_count": null,
   "metadata": {
    "ExecuteTime": {
     "end_time": "2019-02-28T20:35:04.820017Z",
     "start_time": "2019-02-28T20:35:04.765Z"
    }
   },
   "outputs": [],
   "source": [
    "a1_copy = np.arange(1,21)\n",
    "a1_copy = a1_copy.reshape(4,5)\n",
    "a1_copy"
   ]
  },
  {
   "cell_type": "code",
   "execution_count": null,
   "metadata": {
    "ExecuteTime": {
     "end_time": "2019-02-28T20:35:04.821239Z",
     "start_time": "2019-02-28T20:35:04.769Z"
    }
   },
   "outputs": [],
   "source": [
    "a1"
   ]
  },
  {
   "cell_type": "markdown",
   "metadata": {},
   "source": [
    "### Squaring Arrays"
   ]
  },
  {
   "cell_type": "code",
   "execution_count": null,
   "metadata": {
    "ExecuteTime": {
     "end_time": "2019-02-28T20:35:04.822274Z",
     "start_time": "2019-02-28T20:35:04.775Z"
    }
   },
   "outputs": [],
   "source": [
    "np.square(a1)"
   ]
  },
  {
   "cell_type": "markdown",
   "metadata": {},
   "source": [
    "### Square Roots"
   ]
  },
  {
   "cell_type": "code",
   "execution_count": null,
   "metadata": {
    "ExecuteTime": {
     "end_time": "2019-02-28T20:35:04.823329Z",
     "start_time": "2019-02-28T20:35:04.784Z"
    },
    "scrolled": false
   },
   "outputs": [],
   "source": [
    "np.sqrt(a1)"
   ]
  },
  {
   "cell_type": "code",
   "execution_count": null,
   "metadata": {},
   "outputs": [],
   "source": []
  }
 ],
 "metadata": {
  "kernelspec": {
   "display_name": "Python 3",
   "language": "python",
   "name": "python3"
  },
  "language_info": {
   "codemirror_mode": {
    "name": "ipython",
    "version": 3
   },
   "file_extension": ".py",
   "mimetype": "text/x-python",
   "name": "python",
   "nbconvert_exporter": "python",
   "pygments_lexer": "ipython3",
   "version": "3.7.1"
  },
  "toc": {
   "base_numbering": 1,
   "nav_menu": {},
   "number_sections": true,
   "sideBar": true,
   "skip_h1_title": false,
   "title_cell": "Table of Contents",
   "title_sidebar": "Contents",
   "toc_cell": true,
   "toc_position": {},
   "toc_section_display": true,
   "toc_window_display": false
  }
 },
 "nbformat": 4,
 "nbformat_minor": 2
}
